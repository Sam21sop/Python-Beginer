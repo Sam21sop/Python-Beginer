{
  "nbformat": 4,
  "nbformat_minor": 0,
  "metadata": {
    "colab": {
      "provenance": [],
      "collapsed_sections": [
        "KI5Rmi0A0wR9",
        "ytQC7GXKFimy",
        "KhFJ8M4YxdyJ",
        "GUnDE2Nno9DE",
        "8oVRukBY2Jlg",
        "afq5MLC3Dz3a",
        "NiIykUqP1NEO",
        "VKxImuyU3XMq"
      ],
      "toc_visible": true,
      "authorship_tag": "ABX9TyPuX8FWmgr4Tyr2h3D9AIhT"
    },
    "kernelspec": {
      "name": "python3",
      "display_name": "Python 3"
    },
    "language_info": {
      "name": "python"
    }
  },
  "cells": [
    {
      "cell_type": "markdown",
      "source": [
        "# Recurssion"
      ],
      "metadata": {
        "id": "KI5Rmi0A0wR9"
      }
    },
    {
      "cell_type": "markdown",
      "source": [
        "Factorial"
      ],
      "metadata": {
        "id": "wLIlsRUY1Lya"
      }
    },
    {
      "cell_type": "code",
      "execution_count": null,
      "metadata": {
        "id": "KgG_dmZE0oiP"
      },
      "outputs": [],
      "source": [
        "def factorial(n):\n",
        "  if n == 0:\n",
        "    return 1\n",
        "  return n * factorial(n-1)"
      ]
    },
    {
      "cell_type": "code",
      "source": [
        "factorial(5)"
      ],
      "metadata": {
        "colab": {
          "base_uri": "https://localhost:8080/"
        },
        "id": "_gnQX7t70vD2",
        "outputId": "6a445558-cdc0-4f1f-f296-872bcf1ea454"
      },
      "execution_count": null,
      "outputs": [
        {
          "output_type": "execute_result",
          "data": {
            "text/plain": [
              "120"
            ]
          },
          "metadata": {},
          "execution_count": 8
        }
      ]
    },
    {
      "cell_type": "markdown",
      "source": [
        "Sum of n natural number"
      ],
      "metadata": {
        "id": "Pld-xGiM3ixf"
      }
    },
    {
      "cell_type": "code",
      "source": [
        "def Nsum(n):\n",
        "  if n == 0:\n",
        "    return 0\n",
        "  return n + Nsum(n-1)"
      ],
      "metadata": {
        "id": "92H2z-p03VD9"
      },
      "execution_count": null,
      "outputs": []
    },
    {
      "cell_type": "code",
      "source": [
        "Nsum(5)"
      ],
      "metadata": {
        "colab": {
          "base_uri": "https://localhost:8080/"
        },
        "id": "zFS56rX18FZD",
        "outputId": "52b4856f-3a40-4e91-8e7e-191c49dfc730"
      },
      "execution_count": null,
      "outputs": [
        {
          "output_type": "execute_result",
          "data": {
            "text/plain": [
              "15"
            ]
          },
          "metadata": {},
          "execution_count": 10
        }
      ]
    },
    {
      "cell_type": "code",
      "source": [
        "Nsum(10)"
      ],
      "metadata": {
        "colab": {
          "base_uri": "https://localhost:8080/"
        },
        "id": "EYbb27pW8G7N",
        "outputId": "6cf4d94f-1532-4ed7-f664-c5a4a8010dc1"
      },
      "execution_count": null,
      "outputs": [
        {
          "output_type": "execute_result",
          "data": {
            "text/plain": [
              "55"
            ]
          },
          "metadata": {},
          "execution_count": 11
        }
      ]
    },
    {
      "cell_type": "markdown",
      "source": [
        "Calculate Power"
      ],
      "metadata": {
        "id": "VwD5zFrz86KF"
      }
    },
    {
      "cell_type": "code",
      "source": [
        "def power(x, n):\n",
        "  if n == 0:\n",
        "    return 1\n",
        "\n",
        "  return x * power(x, n-1)"
      ],
      "metadata": {
        "id": "KcZ8Ntqv8J-1"
      },
      "execution_count": null,
      "outputs": []
    },
    {
      "cell_type": "code",
      "source": [
        "power(3, 4)"
      ],
      "metadata": {
        "colab": {
          "base_uri": "https://localhost:8080/"
        },
        "id": "wAxozcqD9As9",
        "outputId": "38e83417-7e76-4209-bb82-e7813ced9a64"
      },
      "execution_count": null,
      "outputs": [
        {
          "output_type": "execute_result",
          "data": {
            "text/plain": [
              "81"
            ]
          },
          "metadata": {},
          "execution_count": 15
        }
      ]
    },
    {
      "cell_type": "markdown",
      "source": [
        "Count Number of Digit"
      ],
      "metadata": {
        "id": "kfFj0dgY_L-h"
      }
    },
    {
      "cell_type": "code",
      "source": [
        "def digitCount(n):\n",
        "  if n // 10 == 0:\n",
        "    return 1\n",
        "  return 1 + digitCount(n//10)"
      ],
      "metadata": {
        "id": "KE7x-Q999CIm"
      },
      "execution_count": null,
      "outputs": []
    },
    {
      "cell_type": "code",
      "source": [
        "digitCount(1234)"
      ],
      "metadata": {
        "colab": {
          "base_uri": "https://localhost:8080/"
        },
        "id": "sOg37Eox_w-n",
        "outputId": "e0c76bdc-55e1-4945-b4b4-bd2a6cd8eddd"
      },
      "execution_count": null,
      "outputs": [
        {
          "output_type": "execute_result",
          "data": {
            "text/plain": [
              "4"
            ]
          },
          "metadata": {},
          "execution_count": 19
        }
      ]
    },
    {
      "cell_type": "markdown",
      "source": [
        "Print N natural number"
      ],
      "metadata": {
        "id": "g_CroWdmCS9M"
      }
    },
    {
      "cell_type": "code",
      "source": [
        "#ascending order\n",
        "def naturalNumAsc(n):\n",
        "  if n == 0:\n",
        "    return\n",
        "\n",
        "  naturalNumAsc(n-1)\n",
        "  print(n)\n",
        "  return\n",
        "\n",
        "#descending order\n",
        "def naturalNumdec(n):\n",
        "  if n == 0:\n",
        "    return\n",
        "  print(n)\n",
        "  naturalNumdec(n-1)"
      ],
      "metadata": {
        "id": "Bjzm_8Yq_z1J"
      },
      "execution_count": null,
      "outputs": []
    },
    {
      "cell_type": "code",
      "source": [
        "# print(naturalNumAsc(10))\n",
        "# print(naturalNumdec(10))"
      ],
      "metadata": {
        "id": "1DAdUroTCkZD"
      },
      "execution_count": null,
      "outputs": []
    },
    {
      "cell_type": "markdown",
      "source": [
        "Print First N Natural Numbers"
      ],
      "metadata": {
        "id": "Uz7VoNgSHWvF"
      }
    },
    {
      "cell_type": "code",
      "source": [
        "def nNaturalNum(n):\n",
        "  if n > 0:\n",
        "    nNaturalNum(n - 1)\n",
        "    print(n , end=' ')"
      ],
      "metadata": {
        "id": "m6fhTGsODS9j"
      },
      "execution_count": null,
      "outputs": []
    },
    {
      "cell_type": "code",
      "source": [
        "print(nNaturalNum(10))\n",
        "nNaturalNum(10)"
      ],
      "metadata": {
        "colab": {
          "base_uri": "https://localhost:8080/"
        },
        "id": "KGXlQowYHnQY",
        "outputId": "c6008dba-dedd-485e-f0aa-f4fe467eea76"
      },
      "execution_count": null,
      "outputs": [
        {
          "output_type": "stream",
          "name": "stdout",
          "text": [
            "1 2 3 4 5 6 7 8 9 10 None\n",
            "1 2 3 4 5 6 7 8 9 10 "
          ]
        }
      ]
    },
    {
      "cell_type": "markdown",
      "source": [
        "Find the Nth Fibonachi number"
      ],
      "metadata": {
        "id": "xBt2QfZrJPEB"
      }
    },
    {
      "cell_type": "code",
      "source": [
        "def fibonachiSeries(n):\n",
        "  if n == 1 or n == 2:\n",
        "    return 1\n",
        "  return fibonachiSeries(n-1) + fibonachiSeries(n-2)"
      ],
      "metadata": {
        "id": "QTD2TyI4HuTN"
      },
      "execution_count": null,
      "outputs": []
    },
    {
      "cell_type": "code",
      "source": [
        "fibonachiSeries(6)"
      ],
      "metadata": {
        "colab": {
          "base_uri": "https://localhost:8080/"
        },
        "id": "tf8md47QLfA5",
        "outputId": "4fdb6496-16e4-4ad7-cf0e-27cbd4cae2a3"
      },
      "execution_count": null,
      "outputs": [
        {
          "output_type": "execute_result",
          "data": {
            "text/plain": [
              "8"
            ]
          },
          "metadata": {},
          "execution_count": 39
        }
      ]
    },
    {
      "cell_type": "code",
      "source": [
        "\n"
      ],
      "metadata": {
        "id": "IzeL1hFYLhbN"
      },
      "execution_count": null,
      "outputs": []
    },
    {
      "cell_type": "markdown",
      "source": [
        "# Test 4"
      ],
      "metadata": {
        "id": "uDMK2QshYuio"
      }
    },
    {
      "cell_type": "code",
      "source": [
        "def printArr():\n",
        "  n,m = input().split()\n",
        "  row = int(n)\n",
        "  col = int(m)\n",
        "  for i in range(row):\n",
        "      array = list(map(int, input().split()))\n",
        "      for j in range(col, 0, -1):\n",
        "        print(*array)\n",
        "      col -= 1\n"
      ],
      "metadata": {
        "id": "noyumeRBY0S7"
      },
      "execution_count": null,
      "outputs": []
    },
    {
      "cell_type": "code",
      "source": [
        "printArr()"
      ],
      "metadata": {
        "colab": {
          "base_uri": "https://localhost:8080/"
        },
        "id": "n9eBDqwMZKRa",
        "outputId": "2115734a-32ae-41c4-fa60-ac8d71507ef1"
      },
      "execution_count": null,
      "outputs": [
        {
          "output_type": "stream",
          "name": "stdout",
          "text": [
            "3 3\n",
            "1 2 3\n",
            "1 2 3\n",
            "1 2 3\n",
            "1 2 3\n",
            "4 5 6\n",
            "4 5 6\n",
            "4 5 6\n",
            "7 8 9\n",
            "7 8 9\n"
          ]
        }
      ]
    },
    {
      "cell_type": "code",
      "source": [
        "def can_split_array(A):\n",
        "    total_sum = sum(A)\n",
        "    if total_sum % 2 != 0:\n",
        "        return False\n",
        "\n",
        "    target_sum = total_sum // 2\n",
        "    n = len(A)\n",
        "\n",
        "    # Create a 2D table to store the subset sum information\n",
        "    dp = [[False] * (target_sum + 1) for _ in range(n + 1)]\n",
        "\n",
        "    # Initialize the base cases\n",
        "    for i in range(n + 1):\n",
        "        dp[i][0] = True\n",
        "\n",
        "    # Build the subset sum table\n",
        "    for i in range(1, n + 1):\n",
        "        for j in range(1, target_sum + 1):\n",
        "            if j >= A[i - 1]:\n",
        "                dp[i][j] = dp[i - 1][j] or dp[i - 1][j - A[i - 1]]\n",
        "            else:\n",
        "                dp[i][j] = dp[i - 1][j]\n",
        "\n",
        "    return dp[n][target_sum]\n",
        "\n",
        "# Example usage:\n",
        "array = [1, 4, 3]\n",
        "can_split = can_split_array(array)\n",
        "print(can_split)\n",
        "\n"
      ],
      "metadata": {
        "colab": {
          "base_uri": "https://localhost:8080/"
        },
        "id": "Xf4egOnJY9YI",
        "outputId": "4b921230-58b8-48a3-c5e4-6f8b8b4b90ae"
      },
      "execution_count": null,
      "outputs": [
        {
          "output_type": "stream",
          "name": "stdout",
          "text": [
            "True\n"
          ]
        }
      ]
    },
    {
      "cell_type": "code",
      "source": [
        "\n",
        "def split(A):\n",
        "    total_sum = sum(A)\n",
        "\n",
        "    # If the total sum is odd, it cannot be split into two equal parts\n",
        "    if total_sum % 2 != 0:\n",
        "        return False\n",
        "\n",
        "    target_sum = total_sum // 2\n",
        "\n",
        "    # Create a set to store the possible sums of subsets\n",
        "    possible_sums = set([0])\n",
        "\n",
        "    for num in A:\n",
        "        # Iterate through a copy of the set\n",
        "        for prev_sum in list(possible_sums):\n",
        "            new_sum = prev_sum + num\n",
        "            possible_sums.add(new_sum)\n",
        "            # If we find a subset sum equal to the target sum, we can split the array\n",
        "            if new_sum == target_sum:\n",
        "                return possible_sums #True\n",
        "\n",
        "    return possible_sums #False\n"
      ],
      "metadata": {
        "id": "JhDfh2d5hjn2"
      },
      "execution_count": null,
      "outputs": []
    },
    {
      "cell_type": "code",
      "source": [
        "array = [1, 5, 11, 5]\n",
        "can_split = can_split_array(array)\n",
        "print(can_split)"
      ],
      "metadata": {
        "id": "l2EVafUls6qb"
      },
      "execution_count": null,
      "outputs": []
    },
    {
      "cell_type": "markdown",
      "source": [
        "# Polynomial class"
      ],
      "metadata": {
        "id": "ytQC7GXKFimy"
      }
    },
    {
      "cell_type": "code",
      "source": [
        "class Polynomial:\n",
        "  #initialize class constructor\n",
        "  def __init__(self):\n",
        "      self.polyCoeff = list()\n",
        "      self.polyDeg = list()\n",
        "\n",
        "  # set coefficient\n",
        "  def setCoefficient(self, degree, coeff):\n",
        "      newPolyDeg = (len(self.polyDeg)+1) * [0]\n",
        "      newPolyCoeff = (len(self.polyCoeff)+1) * [0]\n",
        "      for i in range(len(self.polyDeg)):\n",
        "          newPolyDeg[i] = self.polyDeg[i]\n",
        "      newPolyDeg[len(newPolyDeg)-1] = degree\n",
        "      for i in range(len(self.polyCoeff)):\n",
        "          newPolyCoeff[i] = self.polyCoeff[i]\n",
        "      newPolyCoeff[len(newPolyCoeff)-1] = coeff\n",
        "      self.polyDeg = newPolyDeg\n",
        "      self.polyCoeff = newPolyCoeff\n",
        "      self.sort(self.polyDeg, self.polyCoeff)\n",
        "\n",
        "  def sort(self, arr1, arr2):\n",
        "      for i in range(len(arr1)-1):\n",
        "          for j in range(len(arr1)-i-1):\n",
        "              if arr1[j] > arr1[j+1]:\n",
        "                  arr1[j], arr1[j+1] = arr1[j+1], arr1[j]\n",
        "                  arr2[j], arr2[j+1] = arr2[j+1], arr2[j]\n",
        "\n",
        "  def printP(self):\n",
        "      for i in range(len(self.polyDeg)):\n",
        "          print(self.polyCoeff[i], \"x\", self.polyDeg[i], sep='', end=' ')\n",
        "\n",
        "  def add(self, p):\n",
        "      res = Polynomial()\n",
        "      i = 0\n",
        "      j = 0\n",
        "      while i < len(p.polyDeg) and j < len(self.polyDeg):\n",
        "          if p.polyDeg[i] < self.polyDeg[j]:\n",
        "              newDeg = (len(res.polyDeg)+1) * [0]\n",
        "              for k in range(len(res.polyDeg)):\n",
        "                  newDeg[k] = res.polyDeg[k]\n",
        "              newDeg[len(newDeg)-1] = p.polyDeg[i]\n",
        "              newCoeff = (len(res.polyCoeff)+1) * [0]\n",
        "              for k in range(len(res.polyCoeff)):\n",
        "                  newCoeff[k] = res.polyCoeff[k]\n",
        "              newCoeff[len(newCoeff)-1] = p.polyCoeff[i]\n",
        "              i += 1\n",
        "              res.polyDeg = newDeg\n",
        "              res.polyCoeff = newCoeff\n",
        "          elif p.polyDeg[i] > self.polyDeg[j]:\n",
        "              newDeg = (len(res.polyDeg)+1) * [0]\n",
        "              for k in range(len(res.polyDeg)):\n",
        "                  newDeg[k] = res.polyDeg[k]\n",
        "              newDeg[len(newDeg)-1] = self.polyDeg[j]\n",
        "              newCoeff = (len(res.polyCoeff)+1) * [0]\n",
        "              for k in range(len(res.polyCoeff)):\n",
        "                  newCoeff[k] = res.polyCoeff[k]\n",
        "              newCoeff[len(newCoeff)-1] = self.polyCoeff[j]\n",
        "              j += 1\n",
        "              res.polyDeg = newDeg\n",
        "              res.polyCoeff = newCoeff\n",
        "          else:\n",
        "              newDeg = (len(res.polyDeg)+1) * [0]\n",
        "              newCoeff = (len(res.polyCoeff)+1) * [0]\n",
        "              for k in range(len(res.polyDeg)):\n",
        "                  newDeg[k] = res.polyDeg[k]\n",
        "              for k in range(len(res.polyCoeff)):\n",
        "                  newCoeff[k] = res.polyCoeff[k]\n",
        "              newDeg[len(newDeg)-1] = p.polyDeg[i]\n",
        "              newCoeff[len(newCoeff)-1] = p.polyCoeff[i] + self.polyCoeff[j]\n",
        "              i += 1\n",
        "              j += 1\n",
        "              res.polyDeg = newDeg\n",
        "              res.polyCoeff = newCoeff\n",
        "      if i == len(p.polyDeg):\n",
        "          while j < len(self.polyDeg):\n",
        "              newDeg = (len(res.polyDeg)+1) * [0]\n",
        "              newCoeff = (len(res.polyCoeff)+1) * [0]\n",
        "              for l in range(len(res.polyDeg)):\n",
        "                  newDeg[l] = res.polyDeg[l]\n",
        "              for l in range(len(res.polyCoeff)):\n",
        "                  newCoeff[l] = res.polyCoeff[l]\n",
        "              newDeg[len(newDeg)-1] = self.polyDeg[j]\n",
        "              newCoeff[len(newCoeff)-1] = self.polyCoeff[j]\n",
        "              j += 1\n",
        "              res.polyDeg = newDeg\n",
        "              res.polyCoeff = newCoeff\n",
        "          self.sort(res.polyDeg, res.polyCoeff)\n",
        "          return res\n",
        "      else:\n",
        "          while i < len(p.polyDeg):\n",
        "              newDeg = (len(res.polyDeg)+1) * [0]\n",
        "              newCoeff = (len(res.polyCoeff)+1) * [0]\n",
        "              for l in range(len(res.polyDeg)):\n",
        "                  newDeg[l] = res.polyDeg[l]\n",
        "              for l in range(len(res.polyCoeff)):\n",
        "                  newCoeff[l] = res.polyCoeff[l]\n",
        "              newDeg[len(newDeg)-1] = p.polyDeg[i]\n",
        "              newCoeff[len(newCoeff)-1] = p.polyCoeff[i]\n",
        "              i += 1\n",
        "              res.polyDeg = newDeg\n",
        "              res.polyCoeff = newCoeff\n",
        "          self.sort(res.polyDeg, res.polyCoeff)\n",
        "          return res\n",
        "\n",
        "  def subtract(self, p):\n",
        "      res = Polynomial()\n",
        "      i = 0\n",
        "      j = 0\n",
        "      while i < len(p.polyDeg) and j < len(self.polyDeg):\n",
        "          if p.polyDeg[i] < self.polyDeg[j]:\n",
        "              newDeg = (len(res.polyDeg) + 1) * [0]\n",
        "              for k in range(len(res.polyDeg)):\n",
        "                  newDeg[k] = res.polyDeg[k]\n",
        "              newDeg[len(newDeg) - 1] = p.polyDeg[i]\n",
        "              newCoeff = (len(res.polyCoeff) + 1) * [0]\n",
        "              for k in range(len(res.polyCoeff)):\n",
        "                  newCoeff[k] = res.polyCoeff[k]\n",
        "              newCoeff[len(newCoeff) - 1] = -1 * p.polyCoeff[i]\n",
        "              i += 1\n",
        "              res.polyDeg = newDeg\n",
        "              res.polyCoeff = newCoeff\n",
        "          elif p.polyDeg[i] > self.polyDeg[j]:\n",
        "              newDeg = (len(res.polyDeg) + 1) * [0]\n",
        "              for k in range(len(res.polyDeg)):\n",
        "                  newDeg[k] = res.polyDeg[k]\n",
        "              newDeg[len(newDeg) - 1] = self.polyDeg[j]\n",
        "              newCoeff = (len(res.polyCoeff) + 1) * [0]\n",
        "              for k in range(len(res.polyCoeff)):\n",
        "                  newCoeff[k] = res.polyCoeff[k]\n",
        "              newCoeff[len(newCoeff) - 1] = self.polyCoeff[j]\n",
        "              j += 1\n",
        "              res.polyDeg = newDeg\n",
        "              res.polyCoeff = newCoeff\n",
        "          else:\n",
        "              newDeg = (len(res.polyDeg) + 1) * [0]\n",
        "              newCoeff = (len(res.polyCoeff) + 1) * [0]\n",
        "              for k in range(len(res.polyDeg)):\n",
        "                  newDeg[k] = res.polyDeg[k]\n",
        "              for k in range(len(res.polyCoeff)):\n",
        "                  newCoeff[k] = res.polyCoeff[k]\n",
        "              newDeg[len(newDeg) - 1] = p.polyDeg[i]\n",
        "              newCoeff[len(newCoeff) - 1] = self.polyCoeff[j] - p.polyCoeff[i]\n",
        "              i += 1\n",
        "              j += 1\n",
        "              res.polyDeg = newDeg\n",
        "              res.polyCoeff = newCoeff\n",
        "      if i == len(p.polyDeg):\n",
        "          while j < len(self.polyDeg):\n",
        "              newDeg = (len(res.polyDeg) + 1) * [0]\n",
        "              newCoeff = (len(res.polyCoeff) + 1) * [0]\n",
        "              for l in range(len(res.polyDeg)):\n",
        "                  newDeg[l] = res.polyDeg[l]\n",
        "              for l in range(len(res.polyCoeff)):\n",
        "                  newCoeff[l] = res.polyCoeff[l]\n",
        "              newDeg[len(newDeg) - 1] = self.polyDeg[j]\n",
        "              newCoeff[len(newCoeff) - 1] = self.polyCoeff[j]\n",
        "              j += 1\n",
        "              res.polyDeg = newDeg\n",
        "              res.polyCoeff = newCoeff\n",
        "          self.sort(res.polyDeg, res.polyCoeff)\n",
        "          return res\n",
        "      else:\n",
        "          while i < len(p.polyDeg):\n",
        "              newDeg = (len(res.polyDeg) + 1) * [0]\n",
        "              newCoeff = (len(res.polyCoeff) + 1) * [0]\n",
        "              for l in range(len(res.polyDeg)):\n",
        "                  newDeg[l] = res.polyDeg[l]\n",
        "              for l in range(len(res.polyCoeff)):\n",
        "                  newCoeff[l] = res.polyCoeff[l]\n",
        "              newDeg[len(newDeg) - 1] = p.polyDeg[i]\n",
        "              newCoeff[len(newCoeff) - 1] = -1 * p.polyCoeff[i]\n",
        "              i += 1\n",
        "              res.polyDeg = newDeg\n",
        "              res.polyCoeff = newCoeff\n",
        "          self.sort(res.polyDeg, res.polyCoeff)\n",
        "          return res\n",
        "\n",
        "  def multiply(self, p):\n",
        "      res = Polynomial()\n",
        "      newDeg = (len(p.polyDeg) * len(self.polyDeg)) * [0]\n",
        "      newCoeff = (len(p.polyCoeff) * len(self.polyCoeff)) * [0]\n",
        "      k = 0\n",
        "      for i in range(len(p.polyDeg)):\n",
        "          for j in range(len(self.polyDeg)):\n",
        "              newDeg[k] = p.polyDeg[i] + self.polyDeg[j];\n",
        "              newCoeff[k] = p.polyCoeff[i] * self.polyCoeff[j];\n",
        "              k += 1\n",
        "      self.sort(newDeg, newCoeff)\n",
        "      i = 0\n",
        "      while i < len(newDeg):\n",
        "          tempDeg = (len(res.polyDeg) + 1) * [0]\n",
        "          tempCoeff = (len(res.polyCoeff) + 1) * [0]\n",
        "          for k in range(len(res.polyDeg)):\n",
        "              tempDeg[k] = res.polyDeg[k]\n",
        "          tempDeg[len(tempDeg) - 1] = newDeg[i]\n",
        "          for k in range(len(res.polyCoeff)):\n",
        "              tempCoeff[k] = res.polyCoeff[k]\n",
        "          element = newDeg[i]\n",
        "          j = i\n",
        "          temp = 0\n",
        "          while j < len(newDeg) and element == newDeg[j]:\n",
        "              temp = temp + newCoeff[j]\n",
        "              j += 1\n",
        "          i = j\n",
        "          tempCoeff[len(tempCoeff) - 1] = temp\n",
        "          res.polyDeg = tempDeg\n",
        "          res.polyCoeff = tempCoeff\n",
        "      self.sort(res.polyDeg, res.polyCoeff)\n",
        "      return res\n",
        "\n"
      ],
      "metadata": {
        "id": "zkykJw3ds9bz"
      },
      "execution_count": null,
      "outputs": []
    },
    {
      "cell_type": "code",
      "source": [
        "# main\n",
        "m = int(input().strip())\n",
        "degree1 = [int(elem) for elem in list(input().strip().split())]\n",
        "coeff1 = [int(elem) for elem in list(input().strip().split())]\n",
        "\n",
        "n = int(input().strip())\n",
        "degree2 = [int(elem) for elem in list(input().strip().split())]\n",
        "coeff2 = [int(elem) for elem in list(input().strip().split())]\n",
        "\n",
        "\n",
        "choice = int(input().strip())\n",
        "first = Polynomial()\n",
        "for i in range(m):\n",
        "    first.setCoefficient(degree1[i], coeff1[i])\n",
        "\n",
        "second = Polynomial()\n",
        "for i in range(n):\n",
        "    second.setCoefficient(degree2[i], coeff2[i])\n",
        "\n",
        "result = Polynomial()\n",
        "if choice == 1:\n",
        "    result = first.add(second)\n",
        "    result.printP()\n",
        "elif choice == 2:\n",
        "    result = first.subtract(second)\n",
        "    result.printP()\n",
        "elif choice == 3:\n",
        "    result = first.multiply(second)\n",
        "    result.printP()"
      ],
      "metadata": {
        "id": "Nhva-stjFr65"
      },
      "execution_count": null,
      "outputs": []
    },
    {
      "cell_type": "code",
      "source": [
        "class Polynomial:\n",
        "    def __init__(self):\n",
        "        self.coefficients = {}\n",
        "\n",
        "    def setCoefficient(self, degree, coefficient):\n",
        "        self.coefficients[degree] = coefficient\n",
        "\n",
        "    def add(self, poly):\n",
        "        result = Polynomial()\n",
        "        for degree, coefficient in self.coefficients.items():\n",
        "            result.setCoefficient(degree, coefficient)\n",
        "        for degree, coefficient in poly.coefficients.items():\n",
        "            if degree in result.coefficients:\n",
        "                result.coefficients[degree] += coefficient\n",
        "            else:\n",
        "                result.setCoefficient(degree, coefficient)\n",
        "        return result\n",
        "\n",
        "    def subtract(self, poly):\n",
        "        result = Polynomial()\n",
        "        for degree, coefficient in self.coefficients.items():\n",
        "            result.setCoefficient(degree, coefficient)\n",
        "        for degree, coefficient in poly.coefficients.items():\n",
        "            if degree in result.coefficients:\n",
        "                result.coefficients[degree] -= coefficient\n",
        "            else:\n",
        "                result.setCoefficient(degree, -coefficient)\n",
        "        return result\n",
        "\n",
        "    def multiply(self, poly):\n",
        "        result = Polynomial()\n",
        "        for deg1, coef1 in self.coefficients.items():\n",
        "            for deg2, coef2 in poly.coefficients.items():\n",
        "                degree = deg1 + deg2\n",
        "                coefficient = coef1 * coef2\n",
        "                if degree in result.coefficients:\n",
        "                    result.coefficients[degree] += coefficient\n",
        "                else:\n",
        "                    result.setCoefficient(degree, coefficient)\n",
        "        return result\n",
        "\n",
        "    def print1(self):\n",
        "        sorted_degrees = sorted(self.coefficients.keys())\n",
        "        terms = []\n",
        "        for degree in sorted_degrees:\n",
        "            coefficient = self.coefficients[degree]\n",
        "            if coefficient != 0:\n",
        "                term = f\"{coefficient}x^{degree}\"\n",
        "                terms.append(term)\n",
        "        if len(terms) > 0:\n",
        "            print(\" + \".join(terms))\n",
        "        else:\n",
        "            print(\"0\")"
      ],
      "metadata": {
        "id": "CnbXIKTdLpkR"
      },
      "execution_count": null,
      "outputs": []
    },
    {
      "cell_type": "code",
      "source": [
        "#Main\n",
        "n1 = int(input())\n",
        "degrees1 = list(map(int, input().split()))\n",
        "coefficients1 = list(map(int, input().split()))\n",
        "\n",
        "n2 = int(input())\n",
        "degrees2 = list(map(int, input().split()))\n",
        "coefficients2 = list(map(int, input().split()))\n",
        "\n",
        "choice = int(input())\n",
        "\n",
        "# Creating Polynomial objects\n",
        "poly1 = Polynomial()\n",
        "for degree, coefficient in zip(degrees1, coefficients1):\n",
        "    poly1.setCoefficient(degree, coefficient)\n",
        "\n",
        "poly2 = Polynomial()\n",
        "for degree, coefficient in zip(degrees2, coefficients2):\n",
        "    poly2.setCoefficient(degree, coefficient)\n",
        "\n",
        "# Performing the desired operation based on the choice\n",
        "if choice == 1:\n",
        "    result = poly1.add(poly2)\n",
        "    result.print1()\n",
        "elif choice == 2:\n",
        "    result = poly1.subtract(poly2)\n",
        "    result.print1()\n",
        "elif choice == 3:\n",
        "    result = poly1.multiply(poly2)\n",
        "    result.print1()"
      ],
      "metadata": {
        "id": "dod7r1-ONnWC"
      },
      "execution_count": null,
      "outputs": []
    },
    {
      "cell_type": "code",
      "source": [
        "n = int(input())\n",
        "lst = [int(col) for col in input().split()]\n",
        "print(lst)"
      ],
      "metadata": {
        "colab": {
          "base_uri": "https://localhost:8080/"
        },
        "id": "9gG3-b4iNzsu",
        "outputId": "865688e0-ee38-417a-eed6-2f988e355653"
      },
      "execution_count": null,
      "outputs": [
        {
          "output_type": "stream",
          "name": "stdout",
          "text": [
            "4 \n",
            "1 2 3 4\n",
            "[1, 2, 3, 4]\n"
          ]
        }
      ]
    },
    {
      "cell_type": "code",
      "source": [
        "lst[2][2]"
      ],
      "metadata": {
        "colab": {
          "base_uri": "https://localhost:8080/"
        },
        "id": "cyiTw5K5OTU_",
        "outputId": "99ebbc5c-50bf-488a-ab3a-83f68f4ba447"
      },
      "execution_count": null,
      "outputs": [
        {
          "output_type": "execute_result",
          "data": {
            "text/plain": [
              "7"
            ]
          },
          "metadata": {},
          "execution_count": 2
        }
      ]
    },
    {
      "cell_type": "code",
      "source": [],
      "metadata": {
        "id": "QUz3wbYdOzfX"
      },
      "execution_count": null,
      "outputs": []
    },
    {
      "cell_type": "markdown",
      "source": [
        "# Reverse Queue"
      ],
      "metadata": {
        "id": "KhFJ8M4YxdyJ"
      }
    },
    {
      "cell_type": "code",
      "source": [
        "# Recursive function to dequeue and enqueue elements\n",
        "def reverse_recursively(queue):\n",
        "    if queue:\n",
        "        front_element = queue.pop(0)\n",
        "        reverse_recursively(queue)\n",
        "        queue.append(front_element)\n",
        "\n",
        "\n",
        "def reverse_queue(queue):\n",
        "    if not queue:\n",
        "        return\n",
        "    reverse_recursively(queue)\n",
        "\n",
        "\n",
        "if __name__ == \"__main__\":\n",
        "    my_queue = [1, 2, 3, 4, 5]\n",
        "    print(\"Original Queue:\", my_queue)\n",
        "    reverse_queue(my_queue)\n",
        "    print(\"Reversed Queue:\", my_queue)\n"
      ],
      "metadata": {
        "colab": {
          "base_uri": "https://localhost:8080/"
        },
        "id": "C0k1-H-hxi1E",
        "outputId": "6ee24a13-6402-4d83-d48f-31c6abcd9bac"
      },
      "execution_count": null,
      "outputs": [
        {
          "output_type": "stream",
          "name": "stdout",
          "text": [
            "Original Queue: [1, 2, 3, 4, 5]\n",
            "Reversed Queue: [5, 4, 3, 2, 1]\n"
          ]
        }
      ]
    },
    {
      "cell_type": "code",
      "source": [],
      "metadata": {
        "id": "WXuj_c8pxlaA"
      },
      "execution_count": null,
      "outputs": []
    },
    {
      "cell_type": "markdown",
      "source": [
        "# BST Class"
      ],
      "metadata": {
        "id": "GUnDE2Nno9DE"
      }
    },
    {
      "cell_type": "code",
      "source": [
        "class BST:\n",
        "    '''Binary Search Tree Class'''\n",
        "\n",
        "    def __init__(self):\n",
        "        self.data = None\n",
        "        self.left_child = None\n",
        "        self.right_child = None\n",
        "        self.numNodes = 0\n",
        "\n",
        "\n",
        "    def search(self, key):\n",
        "        '''Searching the key in the tree'''\n",
        "        if self.data == key:\n",
        "            return self.data\n",
        "        if key < self.data:\n",
        "            if self.left_child:\n",
        "                self.left_child.search(key)\n",
        "            else:\n",
        "                return -1\n",
        "        else:\n",
        "            if self.right_child:\n",
        "                self.right_child.search(key)\n",
        "            else:\n",
        "                return -1\n",
        "\n",
        "\n",
        "    def insert(self, key):\n",
        "        '''Insert key in the tree'''\n",
        "        if self.data is None:\n",
        "            self.data = key\n",
        "            return\n",
        "        elif self.data > key:\n",
        "            if self.left_child:\n",
        "                self.left_child.insert(key)\n",
        "            else:\n",
        "                self.left_child = BST(key)\n",
        "        elif self.data >= key:\n",
        "            if self.right_child:\n",
        "                self.right_child.insert(key)\n",
        "            else:\n",
        "                self.right_child = BST(key)\n",
        "\n",
        "\n",
        "    def preorder_traversal(self):\n",
        "        print(self.data)\n",
        "        if self.left_child:\n",
        "            self.left_child.preorder_traversal()\n",
        "        if self.right_child:\n",
        "            self.right_child.preorder_traversal()\n",
        "\n",
        "\n",
        "    def inorder_traversal(self):\n",
        "        if self.data is None:\n",
        "            return\n",
        "        if self.left_child:\n",
        "            self.left_child.inorder_traversal()\n",
        "        print(self.data)\n",
        "        if self.right_child:\n",
        "            self.right_child.inorder_traversal()\n",
        "\n",
        "\n",
        "    def postorder_traversal(self):\n",
        "        if self.data is None:\n",
        "            return\n",
        "        if self.left_child:\n",
        "            self.left_child.postorder_traversal()\n",
        "        if self.right_child:\n",
        "            self.right_child.postorder_traversal()\n",
        "\n",
        "    def delete(self, other):\n",
        "        if self.data is None:\n",
        "            return\n",
        "        if self.data > other:\n",
        "            if self.left_child:\n",
        "                self.left_child.delete(other)\n",
        "            else:\n",
        "                return\n",
        "        else:\n",
        "            if self.right_child:\n",
        "                self.right_child.delete(other)\n",
        "            else:\n",
        "                return\n",
        "\n",
        "\n",
        "    def _print_tree_recursively(self, node):\n",
        "        if node is None:\n",
        "            return\n",
        "\n",
        "        left_child = node.left.data if node.left else None\n",
        "        right_child = node.right.data if node.right else None\n",
        "\n",
        "        print(\"{0}:L:{1},R:{2}\".format(node.data, left_child, right_child))\n",
        "        self._print_tree_recursively(node.left)\n",
        "        self._print_tree_recursively(node.right)\n",
        "\n",
        "\n",
        "    def printTree(self):\n",
        "        self._print_tree_recursively(self.root)\n",
        "\n",
        "    def count(self):\n",
        "        return self.numNodes\n"
      ],
      "metadata": {
        "id": "qgAlwJ37pBQ4"
      },
      "execution_count": null,
      "outputs": []
    },
    {
      "cell_type": "code",
      "source": [
        "#inserting operation\n",
        "root = BST(10)\n",
        "lst = [6, 3, 1, 6, 98, 3, 7]\n",
        "for i in lst:\n",
        "root.insert(i)\n",
        "\n",
        "#searching operation\n",
        "num = int(input('Enter any key: '))\n",
        "root.search(num)\n",
        "\n",
        "#preorder traversal\n",
        "root.preorder_traversal()\n",
        "\n",
        "#in order Traversal\n",
        "root.inorder_traversal()\n",
        "\n",
        "#post order Traversal\n",
        "root.postorder_traversal()\n",
        "root.showTree()"
      ],
      "metadata": {
        "id": "wxOZe5Ia785s"
      },
      "execution_count": null,
      "outputs": []
    },
    {
      "cell_type": "code",
      "source": [
        "class BinaryTreeNond:\n",
        "    def __init__(self, data):\n",
        "        self.data = data\n",
        "        self.left_child = None\n",
        "        self.right_child = None\n",
        "\n",
        "\n",
        "\n",
        "class BST:\n",
        "    def __init__(self):\n",
        "        self.root = None\n",
        "        self.numCount = 0\n",
        "\n",
        "\n",
        "    def _insert(self, node, x):\n",
        "        if node is None:\n",
        "            return BinaryTreeNond(x)\n",
        "        if x >= node.data:\n",
        "            node.right_child = self._insert(node.right_child, x)\n",
        "        if x < node.data:\n",
        "            node.left_child = self._insert(node.left_child, x)\n"
      ],
      "metadata": {
        "id": "Ex4TfJHO-47O"
      },
      "execution_count": null,
      "outputs": []
    },
    {
      "cell_type": "code",
      "source": [
        "b = BST()\n",
        "q = int(input())\n",
        "while (q > 0) :\n",
        "    li = [int(ele) for ele in input().strip().split()]\n",
        "    choice = li[0]\n",
        "    q-=1\n",
        "    if choice == 1:\n",
        "        data = li[1]\n",
        "        b.insert(data)\n",
        "    elif choice == 2:\n",
        "        data = li[1]\n",
        "        b.delete(data)\n",
        "    elif choice == 3:\n",
        "        data = li[1]\n",
        "        ans = b.search(data)\n",
        "        if ans:\n",
        "            print('true')\n",
        "        else:\n",
        "            print('false')\n",
        "    else:\n",
        "        b.printTree()\n",
        "\n",
        "'''\n",
        "6\n",
        "1 2\n",
        "1 3\n",
        "1 1\n",
        "3 2\n",
        "2 2\n",
        "3 2\n",
        "'''"
      ],
      "metadata": {
        "id": "jQmx2bYv8WGB"
      },
      "execution_count": null,
      "outputs": []
    },
    {
      "cell_type": "code",
      "source": [
        "class TreeNode:\n",
        "    def __init__(self, data):\n",
        "        self.data = data\n",
        "        self.left = None\n",
        "        self.right = None\n",
        "\n",
        "class BST:\n",
        "    def __init__(self):\n",
        "        self.root = None\n",
        "\n",
        "    def insert(self, data):\n",
        "        self.root = self._insert(self.root, data)\n",
        "\n",
        "    def _insert(self, node, data):\n",
        "        if node is None:\n",
        "            return TreeNode(data)\n",
        "        if data < node.data:\n",
        "            node.left = self._insert(node.left, data)\n",
        "        else:\n",
        "            node.right = self._insert(node.right, data)\n",
        "        return node\n",
        "\n",
        "    def printTree(self):\n",
        "        self._printTree(self.root)\n",
        "\n",
        "    def _printTree(self, node):\n",
        "        if node is None:\n",
        "            return\n",
        "        print(f'{node.data}:') if node.left is None and node.right is None else print(f'{node.data}:', end='')\n",
        "        print(f'L:{node.left.data},', end='') if node.left else \"\"\n",
        "        print(f'R:{node.right.data}') if node.right else \"\"\n",
        "\n",
        "        # print(f\"{node.data}:L:{left_child_str},R:{right_child_str}\")\n",
        "\n",
        "        self._printTree(node.left)\n",
        "        self._printTree(node.right)\n",
        "\n",
        "# Example usage:\n",
        "if __name__ == \"__main__\":\n",
        "    bst = BST()\n",
        "    lst = [5, 3, 7, 2, 4, 6, 8]\n",
        "    for i in lst:\n",
        "        bst.insert(i)\n",
        "\n",
        "    bst.printTree()\n"
      ],
      "metadata": {
        "colab": {
          "base_uri": "https://localhost:8080/"
        },
        "id": "zxlsncM7kbZv",
        "outputId": "3cb59e0b-9a0e-41c0-9f10-f2e2b2df089d"
      },
      "execution_count": null,
      "outputs": [
        {
          "output_type": "stream",
          "name": "stdout",
          "text": [
            "5:L:3,R:7\n",
            "3:L:2,R:4\n",
            "2:\n",
            "4:\n",
            "7:L:6,R:8\n",
            "6:\n",
            "8:\n"
          ]
        }
      ]
    },
    {
      "cell_type": "markdown",
      "source": [
        "# Check isBST?\n"
      ],
      "metadata": {
        "id": "8oVRukBY2Jlg"
      }
    },
    {
      "cell_type": "code",
      "source": [
        "def isBST(root, min_range, max_range):\n",
        "    if not root:\n",
        "        return True\n",
        "    if root.data < min_range or root.data > max_range:\n",
        "        return False\n",
        "    is_left_within_range = isBST(root.left, min_range, root.data - 1)\n",
        "    is_right_within_range = isBST(root.right, root.data, max_range)\n",
        "    return is_left_within_range and is_right_within_range\n"
      ],
      "metadata": {
        "id": "x_Pj6Zkv2S3s"
      },
      "execution_count": null,
      "outputs": []
    },
    {
      "cell_type": "code",
      "source": [],
      "metadata": {
        "id": "r3sJUJ8nDzaa"
      },
      "execution_count": null,
      "outputs": []
    },
    {
      "cell_type": "markdown",
      "source": [
        "# GENERIC TREE DATA STRUCTURE"
      ],
      "metadata": {
        "id": "afq5MLC3Dz3a"
      }
    },
    {
      "cell_type": "code",
      "source": [
        "class TreeNode:\n",
        "    def __init__(self, data):\n",
        "        self.data = data\n",
        "        self.childrens = []"
      ],
      "metadata": {
        "id": "41MCOClz0nwt"
      },
      "execution_count": null,
      "outputs": []
    },
    {
      "cell_type": "markdown",
      "source": [
        "Generic Tree class and made connection between them"
      ],
      "metadata": {
        "id": "WRkWkg-NG2f7"
      }
    },
    {
      "cell_type": "code",
      "source": [
        "#build a tree from array/list\n",
        "def construct_tree(array, size):\n",
        "    root = None\n",
        "    stack = []\n",
        "    for i in range(0, size):\n",
        "        if array[i] == -1:\n",
        "            stack.pop()\n",
        "        else:\n",
        "            t = TreeNode(array[i])\n",
        "            if len(stack) > 0:\n",
        "                stack[-1].childrens.append(t)\n",
        "            else:\n",
        "                root = t\n",
        "            stack.append(t)\n",
        "    return root\n",
        "\n",
        "\n",
        "#print a tree in proper manner\n",
        "def show_tree(root):\n",
        "    #no need of base case\n",
        "\n",
        "    #this is special case\n",
        "    if root is None:\n",
        "        return\n",
        "\n",
        "    print('ROOT', root.data, end=':-> ')\n",
        "\n",
        "    for i in range(len(root.childrens)):\n",
        "        print(root.childrens[i].data, end=' ')\n",
        "\n",
        "    print() #this is for next line\n",
        "\n",
        "    for c in root.childrens:\n",
        "        show_tree(c)\n",
        "\n",
        "\n",
        "#find the number of node in the tree\n",
        "def count_nodes(root):\n",
        "    count = 1\n",
        "    for i in range(len(root.childrens)):\n",
        "        child_count = count_nodes(root.childrens[i])\n",
        "        count += child_count\n",
        "    return count\n",
        "\n",
        "\n",
        "#take input from user\n",
        "def take_input():\n",
        "    num = int(input())\n",
        "    if  num == 0:\n",
        "        return list(), 0\n",
        "    array = list(map(int, input().strip()))\n",
        "    return array, n\n",
        "\n",
        "#main()\n",
        "def main():\n",
        "    elements = input().split()\n",
        "    arr = [int(x) for x in elements]\n",
        "    root = construct_tree(arr, len(arr))\n",
        "    show_tree(root)\n",
        "\n",
        "\n",
        "############################# Utility Space #############################\n",
        "'''\n",
        "      0\n",
        "    / | \\\n",
        "   2  3  1\n",
        "     / \\\n",
        "    5   6\n",
        "'''\n",
        "if __name__ == '__main__':\n",
        "    main()\n"
      ],
      "metadata": {
        "id": "GLuJgkjaD4in"
      },
      "execution_count": null,
      "outputs": []
    },
    {
      "cell_type": "markdown",
      "source": [
        "Take Input Levelwise & Print Levelwise"
      ],
      "metadata": {
        "id": "2083xaIheHFO"
      }
    },
    {
      "cell_type": "code",
      "source": [
        "def buildTree(arr):\n",
        "    n = len(arr)\n",
        "    if n == 0:\n",
        "        return None\n",
        "    root = TreeNode(arr[0])\n",
        "    i = 1\n",
        "    queue = [root]\n",
        "    while len(queue) > 0 and i < n:\n",
        "        front = queue.pop(0)\n",
        "        numChildren = arr[i]\n",
        "        i += 1\n",
        "        for j in range(numChildren):\n",
        "            child = TreeNode(arr[i])\n",
        "            front.children.append(child)\n",
        "            queue.append(child)\n",
        "            i += 1\n",
        "    return root\n",
        "\n",
        "\n",
        "def printLevelWise(root):\n",
        "    if root is None:\n",
        "        return\n",
        "    queue = [root]\n",
        "    while queue:\n",
        "        level_size = len(queue)\n",
        "        for i in range(level_size):\n",
        "            node = queue.pop(0)\n",
        "            print(node.data, end=\" \")\n",
        "            for child in node.children:\n",
        "                queue.append(child)\n",
        "        print()\n",
        "\n",
        "\n",
        "# Sample Input\n",
        "arr = [10, 3, 20, 30, 40, 2, 40, 50, 0, 0, 0, 0]\n",
        "\n",
        "# Build the tree\n",
        "root = buildTree(arr)\n",
        "\n",
        "# Print in level-wise order\n",
        "printLevelWise(root)\n"
      ],
      "metadata": {
        "id": "itsHrUR03fKP"
      },
      "execution_count": null,
      "outputs": []
    },
    {
      "cell_type": "markdown",
      "source": [
        "Count the number of node greater than root node"
      ],
      "metadata": {
        "id": "iSkdIhhqrebi"
      }
    },
    {
      "cell_type": "code",
      "source": [
        "def buildTree(arr):\n",
        "    n = len(arr)\n",
        "    if n == 0:\n",
        "        return None\n",
        "    root = TreeNode(arr[0])\n",
        "    i = 1\n",
        "    queue = [root]\n",
        "\n",
        "    while len(queue) > 0 and i < n:\n",
        "        front = queue.pop(0)\n",
        "        numChildren = arr[i]\n",
        "        i += 1\n",
        "        for j in range(numChildren):\n",
        "            child = TreeNode(arr[i])\n",
        "            front.children.append(child)\n",
        "            queue.append(child)\n",
        "            i += 1\n",
        "    return root\n",
        "\n",
        "\n",
        "def countNodesGreaterThanX(root, x):\n",
        "    if root is None:\n",
        "        return 0\n",
        "    count = 0\n",
        "    if root.data > x:\n",
        "        count += 1\n",
        "    for child in root.children:\n",
        "        count += countNodesGreaterThanX(child, x)\n",
        "    return count\n",
        "\n",
        "\n",
        "# Input\n",
        "input_list = list(map(int, input().split()))\n",
        "x = input_list[0]\n",
        "arr = input_list[1:]\n",
        "\n",
        "# Build the tree\n",
        "root = buildTree(arr)\n",
        "\n",
        "# Find the number of nodes greater than x\n",
        "result = countNodesGreaterThanX(root, x)\n",
        "print(result)\n"
      ],
      "metadata": {
        "id": "o7mIE4rql4gj"
      },
      "execution_count": null,
      "outputs": []
    },
    {
      "cell_type": "markdown",
      "source": [
        "# Generic Tree Assignment"
      ],
      "metadata": {
        "id": "NiIykUqP1NEO"
      }
    },
    {
      "cell_type": "markdown",
      "source": [
        "Tree Node Class"
      ],
      "metadata": {
        "id": "uBdB2L0z1t6h"
      }
    },
    {
      "cell_type": "code",
      "source": [
        "class TreeNode:\n",
        "    def __inti__(self, data):\n",
        "        self.data = data\n",
        "        self.childrens = []"
      ],
      "metadata": {
        "id": "2Xq89mrt1kXC"
      },
      "execution_count": null,
      "outputs": []
    },
    {
      "cell_type": "markdown",
      "source": [
        "Build A Generic Tree Level Wise"
      ],
      "metadata": {
        "id": "oTHvVDeF1aoS"
      }
    },
    {
      "cell_type": "code",
      "source": [
        "def build_tree(array_list):\n",
        "    array_list_size = len(array_list)\n",
        "    if array_list_size == 0:\n",
        "        return\n",
        "    root = TreeNode(int(array_list[0]))\n",
        "    i = 1\n",
        "    queue = [root]\n",
        "    while len(queue) > 0 and i < array_list_size:\n",
        "        front = queue.pop(0)\n",
        "        child_count = int(array_list[i])\n",
        "        i += 1\n",
        "        for j in range(child_count):\n",
        "            temp = TreeNode(int(array_list[i+j]))\n",
        "            front.childrens.append(temp)\n",
        "            queue.append(temp)\n",
        "        i += child_count\n",
        "    return root"
      ],
      "metadata": {
        "id": "PVWR8T8t1WaN"
      },
      "execution_count": null,
      "outputs": []
    },
    {
      "cell_type": "markdown",
      "source": [
        "Print Tree Levelwise\n"
      ],
      "metadata": {
        "id": "xNChAUIN2BYi"
      }
    },
    {
      "cell_type": "code",
      "source": [
        "def printLevelWise(root):\n",
        "    if root is None:\n",
        "        return\n",
        "    queue = [root]\n",
        "    while queue:\n",
        "        level_size = len(queue)\n",
        "        for i in range(level_size):\n",
        "            node = queue.pop(0)\n",
        "            print(node.data, end=\" \")\n",
        "            for child in node.children:\n",
        "                queue.append(child)\n",
        "        print()"
      ],
      "metadata": {
        "id": "0huYZi4S1xqJ"
      },
      "execution_count": null,
      "outputs": []
    },
    {
      "cell_type": "markdown",
      "source": [
        "Check if generic tree contain element x"
      ],
      "metadata": {
        "id": "HrH8x7nLpjsX"
      }
    },
    {
      "cell_type": "code",
      "source": [
        "from sys import stdin, setrecursionlimit\n",
        "setrecursionlimit(10**7)\n",
        "\n",
        "def is_present(root, x):\n",
        "    if not root or not x:\n",
        "        return False\n",
        "    if root.data == int(x):\n",
        "        return True\n",
        "    for child in root.childrens:\n",
        "        if is_present(child, int(x)):\n",
        "            return True\n",
        "    return False"
      ],
      "metadata": {
        "id": "P4-IDCJS2NTU"
      },
      "execution_count": null,
      "outputs": []
    },
    {
      "cell_type": "markdown",
      "source": [
        "Main / Utility Function"
      ],
      "metadata": {
        "id": "uSlollKH2Zfy"
      }
    },
    {
      "cell_type": "code",
      "source": [
        "def main():\n",
        "    pass\n",
        "\n",
        "main()"
      ],
      "metadata": {
        "id": "7Vog9cuA2cTx"
      },
      "execution_count": null,
      "outputs": []
    },
    {
      "cell_type": "markdown",
      "source": [
        "# HashMap/Dictionary"
      ],
      "metadata": {
        "id": "VKxImuyU3XMq"
      }
    },
    {
      "cell_type": "code",
      "source": [],
      "metadata": {
        "id": "gSaeEaHG3cYq"
      },
      "execution_count": null,
      "outputs": []
    },
    {
      "cell_type": "code",
      "source": [],
      "metadata": {
        "id": "SIsRjfzDCP5z"
      },
      "execution_count": null,
      "outputs": []
    },
    {
      "cell_type": "code",
      "source": [],
      "metadata": {
        "id": "alwHdkSLCP2M"
      },
      "execution_count": null,
      "outputs": []
    },
    {
      "cell_type": "markdown",
      "source": [
        "# Priority Queue 1"
      ],
      "metadata": {
        "id": "nb96EEwxCRlK"
      }
    },
    {
      "cell_type": "code",
      "source": [
        "class Element:\n",
        "    def __init__(self, value, priority):\n",
        "        self.value = value\n",
        "        self.priority = priority\n",
        "\n",
        "\n",
        "class PriorityQueue:\n",
        "    def __init__(self):\n",
        "        self._heap = []\n",
        "\n",
        "\n",
        "    def getSize(self):\n",
        "        '''Get the size of heap'''\n",
        "        return len(self._heap)\n",
        "\n",
        "\n",
        "    def isEmpty(self):\n",
        "        '''Check heap is empty or not'''\n",
        "        if self.getSize() == 0:\n",
        "            return True\n",
        "        return False\n",
        "\n",
        "\n",
        "    def getMin(self):\n",
        "        '''Get the minimum element from heap'''\n",
        "        if self.isEmpty():\n",
        "            return\n",
        "        return self._heap[0].value\n",
        "\n",
        "\n",
        "    def insert(self, value, priority):\n",
        "        '''Insert element into heap acording their priority'''\n",
        "        #add element in the heap\n",
        "        element = Element(value, priority)\n",
        "        self._heap.append(element)\n",
        "\n",
        "        #find the child index and parent index\n",
        "        child_index = self.getSize()-1\n",
        "        parent_index = (child_index - 1) // 2\n",
        "\n",
        "        #up-heapify\n",
        "        while child_index > 0:\n",
        "            #check child node is less than\n",
        "            if self._heap[child_index].priority < self._heap[parent_index].priority:\n",
        "                #swap parent and child\n",
        "                self._heap[child_index], self._heap[parent_index] = self._heap[parent_index], self._heap[child_index]\n",
        "                #update indexes\n",
        "                child_index = parent_index\n",
        "                parent_index = (child_index - 1) // 2\n",
        "            else:\n",
        "                break\n",
        "\n",
        "\n",
        "    def removeMin(self):\n",
        "        pass"
      ],
      "metadata": {
        "id": "JWlySIv8CVa0"
      },
      "execution_count": null,
      "outputs": []
    },
    {
      "cell_type": "markdown",
      "source": [
        "Inplace Heap Sort"
      ],
      "metadata": {
        "id": "B04Gmxx3YtAM"
      }
    },
    {
      "cell_type": "code",
      "source": [
        "def heapify(arr, size, index):\n",
        "    largest = index\n",
        "    left_child = 2 * index + 1\n",
        "    right_child = 2 * index + 2\n",
        "\n",
        "    if left_child < size and arr[left_child] > arr[largest]:\n",
        "        largest = left_child\n",
        "    if right_child < size and arr[right_child] > arr[largest]:\n",
        "        largest = right_child\n",
        "    if largest != index:\n",
        "        arr[index], arr[largest] = arr[largest], arr[index]\n",
        "        heapify(arr, size,  largest)\n",
        "\n",
        "###############################################\n",
        "def heapSort(arr):\n",
        "\n",
        "    size = len(arr)\n",
        "\n",
        "    #build a Max heap\n",
        "    for i in range(size//2 - 1, -1, -1):\n",
        "        heapify(arr, size, i)\n",
        "\n",
        "    #extract element one by one from heap\n",
        "    for i in range(size-1, 0, -1):\n",
        "        arr[i], arr[0] = arr[0], arr[i]\n",
        "        heapify(arr, i, 0)\n",
        "\n",
        "###############################################\n",
        "\n",
        "n = input()\n",
        "arr = [int(ele) for ele in input().split()]\n",
        "heapSort(arr)\n",
        "for ele in arr[::-1]:\n",
        "    print(ele,end=' ')"
      ],
      "metadata": {
        "id": "8GrUSA-MCkYf",
        "colab": {
          "base_uri": "https://localhost:8080/"
        },
        "outputId": "c30775d5-0d49-4c77-ac4e-31b354b0dba0"
      },
      "execution_count": null,
      "outputs": [
        {
          "output_type": "stream",
          "name": "stdout",
          "text": [
            "5\n",
            "2 6 8 5 4 3\n",
            "8 6 5 4 3 2 "
          ]
        }
      ]
    },
    {
      "cell_type": "markdown",
      "source": [
        "Find the K Largest element"
      ],
      "metadata": {
        "id": "brwNmp-ef8EG"
      }
    },
    {
      "cell_type": "code",
      "source": [
        "import heapq\n",
        "\n",
        "#########################################\n",
        "def kLargest(lst, k):\n",
        "    min_heap = []\n",
        "\n",
        "    for num in lst:\n",
        "        if len(min_heap) < k:\n",
        "            heapq.heappush(min_heap, num)\n",
        "        else:\n",
        "            if num > min_heap[0]:\n",
        "                heapq.heappop(min_heap)\n",
        "                heapq.heappush(min_heap, num)\n",
        "    return sorted(min_heap)\n",
        "\n",
        "#########################################\n",
        "\n",
        "# Main Code\n",
        "n=int(input())\n",
        "lst=list(int(i) for i in input().strip().split(' '))\n",
        "k=int(input())\n",
        "ans=kLargest(lst, k)\n",
        "print(*ans, sep='\\n')"
      ],
      "metadata": {
        "colab": {
          "base_uri": "https://localhost:8080/"
        },
        "id": "PoHbjuzgaTvX",
        "outputId": "fa615e00-2505-4469-9fa4-02d3f4719585"
      },
      "execution_count": null,
      "outputs": [
        {
          "output_type": "stream",
          "name": "stdout",
          "text": [
            "13\n",
            "2 12 9 16 10 5 3 20 25 11 1 8 6 \n",
            "4\n",
            "12\n",
            "16\n",
            "20\n",
            "25\n"
          ]
        }
      ]
    },
    {
      "cell_type": "markdown",
      "source": [
        "Find K Smallest Elements"
      ],
      "metadata": {
        "id": "JDIX1H9gh6Tq"
      }
    },
    {
      "cell_type": "code",
      "source": [
        "import heapq\n",
        "\n",
        "###########################################\n",
        "def kSmallest(lst, k):\n",
        "    max_heap = []\n",
        "\n",
        "    for num in lst:\n",
        "        if len(max_heap) < k:\n",
        "            heapq.heappush(max_heap, -num)\n",
        "        else:\n",
        "            if -num > max_heap[0]:\n",
        "                heapq.heappop(max_heap)\n",
        "                heapq.heappush(max_heap, -num)\n",
        "    return [-num for num in max_heap]\n",
        "\n",
        "###########################################\n",
        "\n",
        "# Main\n",
        "n=int(input())\n",
        "lst=list(int(i) for i in input().strip().split(' '))\n",
        "k=int(input())\n",
        "ans=kSmallest(lst, k)\n",
        "ans.sort()\n",
        "print(*ans, sep=' ')\n"
      ],
      "metadata": {
        "colab": {
          "base_uri": "https://localhost:8080/"
        },
        "id": "1KQ6RKmwgEXa",
        "outputId": "67bb97cf-2a02-4a3c-ac9c-7782d68d9d37"
      },
      "execution_count": null,
      "outputs": [
        {
          "output_type": "stream",
          "name": "stdout",
          "text": [
            "4\n",
            "5 2 8 9\n",
            "2\n",
            "2 5\n"
          ]
        }
      ]
    },
    {
      "cell_type": "code",
      "source": [],
      "metadata": {
        "id": "IsbGasGPh5u_"
      },
      "execution_count": null,
      "outputs": []
    },
    {
      "cell_type": "markdown",
      "source": [
        "# Tries"
      ],
      "metadata": {
        "id": "wnq-ZjVE3zcx"
      }
    },
    {
      "cell_type": "code",
      "source": [
        "from typing import Tuple\n",
        "\n",
        "class TrieNode(object):\n",
        "    def __init__(self, char:str):\n",
        "        self.char = char\n",
        "        self.children = []\n",
        "        self.is_terminal = False\n",
        "        self.count = 1  #how many time this character appeared in the addition process"
      ],
      "metadata": {
        "id": "w9gb5XL131_j"
      },
      "execution_count": null,
      "outputs": []
    },
    {
      "cell_type": "code",
      "source": [
        "class Trie:\n",
        "    def __init__(self, root):\n",
        "        self.root = root\n",
        "\n",
        "    def add(self, word:str):\n",
        "        ''' Adding word in the tries DataStructure'''\n",
        "        for char in word:\n",
        "            found_in_child = False\n",
        "            for child in self.root.children:\n",
        "                if child.char == char:\n",
        "                    child.count += 1\n",
        "                    node = child\n",
        "                    found_in_child = True\n",
        "                    break\n",
        "            if not found_in_child:\n",
        "                new_root = TrieNode(char)\n",
        "                root.children.append(new_root)\n",
        "                root = new_root\n",
        "            root.isTerminal = True\n",
        "\n",
        "\n",
        "    def search(self, word:str):\n",
        "        pass\n",
        "\n",
        "    def remove(self, word:str):\n",
        "        pass\n",
        "\n",
        "\n",
        "def main():\n",
        "    root = TrieNode('\\0')\n",
        "    # print(root.char)\n",
        "\n",
        "main()"
      ],
      "metadata": {
        "id": "ptGI7poq36ji"
      },
      "execution_count": null,
      "outputs": []
    },
    {
      "cell_type": "code",
      "source": [
        "from sys import stdin\n",
        "class TrieNode():\n",
        "    def __init__(self, char='\\0'):\n",
        "        self.char = char\n",
        "        self.terminal = False\n",
        "        self.children = {}\n",
        "\n",
        "class Trie():\n",
        "    def __init__(self):\n",
        "        self.__root = TrieNode()\n",
        "        self.numWords = 0\n",
        "\n",
        "\n",
        "    def insertWord(self, word):\n",
        "        curr = self.__root\n",
        "        for char in word:\n",
        "            if char in curr.children:\n",
        "                curr = curr.children[char]\n",
        "            else:\n",
        "                curr.children[char] = TrieNode(char)\n",
        "                curr = curr.children[char]\n",
        "        curr.terminal = True\n",
        "        self.numWords = self.numWords + 1\n",
        "\n",
        "\n",
        "    def removeWord(self, word):\n",
        "        if(self.remove(self.__root, word)):\n",
        "            self.numWords = self.numWords - 1\n",
        "\n",
        "\n",
        "    def remove(self,root,word):\n",
        "        if (len(word) == 0):\n",
        "            if (root.terminal):\n",
        "                root.terminal = False\n",
        "                return True\n",
        "            else:\n",
        "                return False\n",
        "        child = TrieNode()\n",
        "        char = word[0]\n",
        "        if (root.children[char] != None) :\n",
        "            child = root.children[char]\n",
        "        else :\n",
        "            # Word not found\n",
        "            return False\n",
        "        ans = self.remove(child, word[1:])\n",
        "        # Remove child Node if it is useless\n",
        "        if (child.terminal == False):\n",
        "            for char in child.children:\n",
        "                if (char != None):\n",
        "                    return ans\n",
        "            del child\n",
        "            root.children[char] = None\n",
        "        return ans\n",
        "\n",
        "\n",
        "\n",
        "    def countWord(self):\n",
        "        # Write your code here\n",
        "        return self.numWords\n",
        "\n",
        "\n",
        "\n",
        "# Main\n",
        "t = Trie()\n",
        "inputs = stdin.readline().strip().split( )\n",
        "choice = int(inputs[0])\n",
        "if len(inputs)!=1:\n",
        "    word = inputs[1]\n",
        "while choice!=-1:\n",
        "    if choice==1:\n",
        "        t.insertWord(word)\n",
        "    if choice==2:\n",
        "        t.removeWord(word)\n",
        "    if choice==3:\n",
        "        print(t.countWord())\n",
        "    inputs = stdin.readline().strip().split( )\n",
        "    choice = int(inputs[0])\n",
        "    if len(inputs)!=1:\n",
        "        word = inputs[1]"
      ],
      "metadata": {
        "id": "rxwyQMTo6tVq",
        "colab": {
          "base_uri": "https://localhost:8080/",
          "height": 245
        },
        "outputId": "dc2f0884-ad92-4a0a-dab4-2c57205ae8d9"
      },
      "execution_count": null,
      "outputs": [
        {
          "output_type": "error",
          "ename": "IndexError",
          "evalue": "ignored",
          "traceback": [
            "\u001b[0;31m---------------------------------------------------------------------------\u001b[0m",
            "\u001b[0;31mIndexError\u001b[0m                                Traceback (most recent call last)",
            "\u001b[0;32m<ipython-input-2-78cdfdca39db>\u001b[0m in \u001b[0;36m<cell line: 66>\u001b[0;34m()\u001b[0m\n\u001b[1;32m     64\u001b[0m \u001b[0mt\u001b[0m \u001b[0;34m=\u001b[0m \u001b[0mTrie\u001b[0m\u001b[0;34m(\u001b[0m\u001b[0;34m)\u001b[0m\u001b[0;34m\u001b[0m\u001b[0;34m\u001b[0m\u001b[0m\n\u001b[1;32m     65\u001b[0m \u001b[0minputs\u001b[0m \u001b[0;34m=\u001b[0m \u001b[0mstdin\u001b[0m\u001b[0;34m.\u001b[0m\u001b[0mreadline\u001b[0m\u001b[0;34m(\u001b[0m\u001b[0;34m)\u001b[0m\u001b[0;34m.\u001b[0m\u001b[0mstrip\u001b[0m\u001b[0;34m(\u001b[0m\u001b[0;34m)\u001b[0m\u001b[0;34m.\u001b[0m\u001b[0msplit\u001b[0m\u001b[0;34m(\u001b[0m \u001b[0;34m)\u001b[0m\u001b[0;34m\u001b[0m\u001b[0;34m\u001b[0m\u001b[0m\n\u001b[0;32m---> 66\u001b[0;31m \u001b[0mchoice\u001b[0m \u001b[0;34m=\u001b[0m \u001b[0mint\u001b[0m\u001b[0;34m(\u001b[0m\u001b[0minputs\u001b[0m\u001b[0;34m[\u001b[0m\u001b[0;36m0\u001b[0m\u001b[0;34m]\u001b[0m\u001b[0;34m)\u001b[0m\u001b[0;34m\u001b[0m\u001b[0;34m\u001b[0m\u001b[0m\n\u001b[0m\u001b[1;32m     67\u001b[0m \u001b[0;32mif\u001b[0m \u001b[0mlen\u001b[0m\u001b[0;34m(\u001b[0m\u001b[0minputs\u001b[0m\u001b[0;34m)\u001b[0m\u001b[0;34m!=\u001b[0m\u001b[0;36m1\u001b[0m\u001b[0;34m:\u001b[0m\u001b[0;34m\u001b[0m\u001b[0;34m\u001b[0m\u001b[0m\n\u001b[1;32m     68\u001b[0m     \u001b[0mword\u001b[0m \u001b[0;34m=\u001b[0m \u001b[0minputs\u001b[0m\u001b[0;34m[\u001b[0m\u001b[0;36m1\u001b[0m\u001b[0;34m]\u001b[0m\u001b[0;34m\u001b[0m\u001b[0;34m\u001b[0m\u001b[0m\n",
            "\u001b[0;31mIndexError\u001b[0m: list index out of range"
          ]
        }
      ]
    },
    {
      "cell_type": "markdown",
      "source": [
        "# Recursion 3"
      ],
      "metadata": {
        "id": "hb9-0TRJDfVM"
      }
    },
    {
      "cell_type": "code",
      "source": [
        "def generate_subsequences(s, index, current_subsequence, subsequences):\n",
        "    if index == len(s):\n",
        "        subsequences.append(current_subsequence)\n",
        "        return\n",
        "\n",
        "    # Include the current character in the subsequence\n",
        "    generate_subsequences(s, index + 1, current_subsequence + s[index], subsequences)\n",
        "\n",
        "    # Exclude the current character from the subsequence\n",
        "    generate_subsequences(s, index + 1, current_subsequence, subsequences)\n",
        "\n",
        "def find_subsequences(s):\n",
        "    subsequences = []\n",
        "    generate_subsequences(s, 0, \"\", subsequences)\n",
        "    return subsequences[::-1]"
      ],
      "metadata": {
        "id": "MWL5Nf1VmwWS"
      },
      "execution_count": null,
      "outputs": []
    },
    {
      "cell_type": "markdown",
      "source": [
        "Print Subsequence"
      ],
      "metadata": {
        "id": "Zygr3dJp2srP"
      }
    },
    {
      "cell_type": "code",
      "source": [
        "def print_subsequence(input_str, str_so_far):\n",
        "    if len(input_str) == 0:\n",
        "        print(str_so_far)\n",
        "        return\n",
        "    small_output = input_str[1:]\n",
        "    print_subsequence(small_output, str_so_far)\n",
        "    print_subsequence(small_output, str_so_far + input_str[0])"
      ],
      "metadata": {
        "id": "wd34W8-O2vu2"
      },
      "execution_count": null,
      "outputs": []
    },
    {
      "cell_type": "markdown",
      "source": [
        "Return keypad code"
      ],
      "metadata": {
        "id": "u5mrAuUbuTEd"
      }
    },
    {
      "cell_type": "code",
      "source": [
        "keypad = {\n",
        "        '2': 'abc',\n",
        "        '3': 'def',\n",
        "        '4': 'ghi',\n",
        "        '5': 'jkl',\n",
        "        '6': 'mno',\n",
        "        '7': 'pqrs',\n",
        "        '8': 'tuv',\n",
        "        '9': 'wxyz' }\n",
        "\n",
        "def generate_combinations(digits, index, current_string, result):\n",
        "        if index == len(digits):\n",
        "            if current_string:\n",
        "                result.append(current_string)\n",
        "            return\n",
        "\n",
        "        current_digit = digits[index]\n",
        "        characters = keypad[current_digit]\n",
        "\n",
        "        for char in characters:\n",
        "            generate_combinations(digits, index + 1, current_string + char, result)\n",
        "\n",
        "def get_keypad_combinations(n):\n",
        "    if n == 0 or n == 1:\n",
        "        return []\n",
        "    digits = str(n)\n",
        "    result = []\n",
        "    generate_combinations(digits, 0, \"\", result)\n",
        "    return result"
      ],
      "metadata": {
        "id": "7X2jCXfbrxjJ"
      },
      "execution_count": null,
      "outputs": []
    },
    {
      "cell_type": "code",
      "source": [
        "def get_option(digit):\n",
        "    if digit == 2:\n",
        "        return \"abc\"\n",
        "    elif digit == 3:\n",
        "        return \"def\"\n",
        "    elif digit == 4:\n",
        "        return \"ghi\"\n",
        "    elif digit == 5:\n",
        "        return \"jkl\"\n",
        "    elif digit == 6:\n",
        "        return \"mno\"\n",
        "    elif digit == 7:\n",
        "        return \"pqrs\"\n",
        "    elif digit == 8:\n",
        "        return \"tuv\"\n",
        "    elif digit == 9:\n",
        "        return \"wxyz\"\n",
        "\n",
        "\n",
        "def generate_substring(input_num, string_so_far):\n",
        "    if input_num == 0:\n",
        "        print(string_so_far)\n",
        "        return\n",
        "    last_digit = input_num % 10\n",
        "    small_output = input_num // 10\n",
        "    option_last_digit = get_option(last_digit)\n",
        "    for i in range(len(option_last_digit)):\n",
        "        generate_substring(small_output, option_last_digit[i]+string_so_far)"
      ],
      "metadata": {
        "id": "5Ckrp17Q70lf"
      },
      "execution_count": null,
      "outputs": []
    },
    {
      "cell_type": "markdown",
      "source": [
        "Return Recursively and Print Recursively Factorial"
      ],
      "metadata": {
        "id": "D9ho__FzxxX2"
      }
    },
    {
      "cell_type": "code",
      "source": [
        "#Function return factorial\n",
        "def factorial(n):\n",
        "    if n==0 or n == 1:\n",
        "        return 1\n",
        "    return n * factorial(n-1)\n",
        "\n",
        "\n",
        "#function will print factorial\n",
        "def factorial1(num, ans=1):\n",
        "    if num == 0:\n",
        "        print(ans)\n",
        "        return\n",
        "    ans = ans * num\n",
        "    factorial1(num-1, ans)"
      ],
      "metadata": {
        "id": "PaVbv3oQwxNt"
      },
      "execution_count": null,
      "outputs": []
    },
    {
      "cell_type": "markdown",
      "source": [
        "Min in the array"
      ],
      "metadata": {
        "id": "N7ZGkKOF2cG1"
      }
    },
    {
      "cell_type": "code",
      "source": [
        "#function return the final result\n",
        "def return_min(array, start_index=0):\n",
        "    if start_index == len(array):\n",
        "        return float('inf')\n",
        "    min_small_array = return_min(array, start_index+1)\n",
        "    if array[start_index] < min_small_array:\n",
        "        return array[start_index]\n",
        "    else:\n",
        "        return min_small_array\n",
        "\n",
        "\n",
        "#function print the final result in itself\n",
        "def print_min(arr, start_index, min_so_far):\n",
        "    if start_index == len(arr):\n",
        "        print(min_so_far)\n",
        "        return\n",
        "    new_min = min_so_far\n",
        "    if arr[start_index] < new_min:\n",
        "        new_min = arr[start_index]\n",
        "    print_min(arr, start_index+1, new_min)"
      ],
      "metadata": {
        "id": "IPxIt1Q0yTdL"
      },
      "execution_count": null,
      "outputs": []
    },
    {
      "cell_type": "code",
      "source": [
        "def main():\n",
        "    #Return subsequence\n",
        "    input_string = \"abc\"\n",
        "    result = find_subsequences(input_string)\n",
        "    print(result)\n",
        "\n",
        "    #print Subsequences\n",
        "    s = input('Enter string: ')\n",
        "    print_subsequence(s, '')\n",
        "\n",
        "    #return keypad code\n",
        "    n = int(input())\n",
        "    output = get_keypad_combinations(n)\n",
        "    print(*output)\n",
        "\n",
        "    #return factorial\n",
        "    result = factorial(5)\n",
        "    print(result)\n",
        "\n",
        "    #print Factorial\n",
        "    # factorial1(5, 1)\n",
        "    factorial1(5)\n",
        "\n",
        "    #return min in the array\n",
        "    arr = [3, 4, 2, 1, 7, 8]\n",
        "    ans = return_min(arr)\n",
        "    print(ans)\n",
        "\n",
        "    #print the min in the array\n",
        "    print_min(arr, 0, float('inf'))\n",
        "\n",
        "    #print substring using recursion\n",
        "    n = int(input(\"Enter number: \"))\n",
        "    generate_substring(n, \"\")\n",
        "\n",
        "\n",
        "if __name__ == '__main__':\n",
        "    main()"
      ],
      "metadata": {
        "id": "ODyLyiCt5wLr"
      },
      "execution_count": null,
      "outputs": []
    },
    {
      "cell_type": "code",
      "source": [],
      "metadata": {
        "id": "O6sbrLDl4UAb"
      },
      "execution_count": null,
      "outputs": []
    },
    {
      "cell_type": "markdown",
      "source": [
        "# Dynamic Programming"
      ],
      "metadata": {
        "id": "lp6dp3dX551G"
      }
    },
    {
      "cell_type": "markdown",
      "source": [
        "Recursive fibonacci number"
      ],
      "metadata": {
        "id": "YV3cTgvf6Alj"
      }
    },
    {
      "cell_type": "code",
      "source": [
        "#Recursive\n",
        "def fibb_r(n):\n",
        "    dp = [-1] * (n+1)\n",
        "    if n == 0 or n == 1:\n",
        "        return n\n",
        "\n",
        "    if dp[n-1] == -1:\n",
        "        ans1 = fibb_r(n-1)\n",
        "        dp[n-1] = ans1\n",
        "    else:\n",
        "        ans1 = dp[n-1]\n",
        "\n",
        "    if dp[n-2] == -1:\n",
        "        ans2 = fibb_r(n-2)\n",
        "        dp[n-2] = ans2\n",
        "    else:\n",
        "        ans2 = dp[n-2]\n",
        "\n",
        "    return ans1 + ans2\n",
        "\n",
        "################################################################################\n",
        "\n",
        "#Iterative\n",
        "def fibb_i(n):\n",
        "    dp = [0, 1]\n",
        "    for i in range(2, n+1):\n",
        "        dp.append(dp[i-1] + dp[i-2])\n",
        "    return dp[n]"
      ],
      "metadata": {
        "id": "Uc_weVnO5_k9"
      },
      "execution_count": 16,
      "outputs": []
    },
    {
      "cell_type": "code",
      "source": [
        "def main():\n",
        "    #recursive\n",
        "    print(fibb_r(10))\n",
        "\n",
        "    #iterative\n",
        "    print(fibb_i(10))\n",
        "\n",
        "main()"
      ],
      "metadata": {
        "colab": {
          "base_uri": "https://localhost:8080/"
        },
        "id": "X5XLq3Ow8kSM",
        "outputId": "21ca5d07-0137-44db-e5db-622c507e3f9c"
      },
      "execution_count": 17,
      "outputs": [
        {
          "output_type": "stream",
          "name": "stdout",
          "text": [
            "55\n",
            "55\n"
          ]
        }
      ]
    },
    {
      "cell_type": "code",
      "source": [],
      "metadata": {
        "id": "945elPjs87B3"
      },
      "execution_count": null,
      "outputs": []
    }
  ]
}