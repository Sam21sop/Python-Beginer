{
  "nbformat": 4,
  "nbformat_minor": 0,
  "metadata": {
    "colab": {
      "provenance": [],
      "authorship_tag": "ABX9TyMWVSpHPLtlwuV7zF7qN28f",
      "include_colab_link": true
    },
    "kernelspec": {
      "name": "python3",
      "display_name": "Python 3"
    },
    "language_info": {
      "name": "python"
    }
  },
  "cells": [
    {
      "cell_type": "markdown",
      "metadata": {
        "id": "view-in-github",
        "colab_type": "text"
      },
      "source": [
        "<a href=\"https://colab.research.google.com/github/Sam21sop/Python-Basic-code/blob/main/Q%26A.ipynb\" target=\"_parent\"><img src=\"https://colab.research.google.com/assets/colab-badge.svg\" alt=\"Open In Colab\"/></a>"
      ]
    },
    {
      "cell_type": "markdown",
      "source": [
        "#Q1. Write a program to entere a number and display its hex and octal equivalent and its square root"
      ],
      "metadata": {
        "id": "eF5vo_dinvzy"
      }
    },
    {
      "cell_type": "code",
      "execution_count": null,
      "metadata": {
        "id": "tvnp0E0mnOHb"
      },
      "outputs": [],
      "source": [
        "num = int(input('Enter a number: '))\n",
        "\n",
        "print(f'Hexadecimal of {num} is: {hex(num)}')\n",
        "print(f'Octal of {num} is: {oct(num)}')\n",
        "print(f'Square Root of {num} is: {num ** 0.5}')"
      ]
    },
    {
      "cell_type": "markdown",
      "source": [
        "#Q2. Write a program to read and print values of variable of different data types"
      ],
      "metadata": {
        "id": "qg1b94ULpPld"
      }
    },
    {
      "cell_type": "code",
      "source": [
        "int_num = int(input('Enter a integer number: '))\n",
        "print(f'Number is: {int_num}, Type: {type(int_num)}')\n",
        "\n",
        "float_num = float(input('Enter a float number: '))\n",
        "print(f'Number is: {float_num}, Type: {type(float_num)}')\n",
        "\n",
        "s = input(\"Enter a string: \")\n",
        "print(f'String is: {s}, Type:{type(s)}')\n",
        "\n",
        "comx = complex(input('Enter a complex number: '))\n",
        "print(f'Complex number is: {comx}, Type: {type(comx)}')"
      ],
      "metadata": {
        "id": "fThwO0VHos2e"
      },
      "execution_count": null,
      "outputs": []
    },
    {
      "cell_type": "markdown",
      "source": [
        "#Q3. Write a program to calculate area of triangle using heron's formula."
      ],
      "metadata": {
        "id": "KGlVXTzh_eoa"
      }
    },
    {
      "cell_type": "code",
      "source": [
        "a = float(input('Enter 1st side of triangle: '))\n",
        "b = float(input('Enter 2nd side of triangle: '))\n",
        "c = float(input('Enter 3rd side of triangle: '))\n",
        "\n",
        "print(a, b, c)\n",
        "\n",
        "s = (a+b+c)/2\n",
        "area = (s * (s-a) * (s-b) * (s-c)) ** 0.5\n",
        "print(f'Area : {area: 4f}')"
      ],
      "metadata": {
        "id": "ncsW6yqg-IiV"
      },
      "execution_count": null,
      "outputs": []
    },
    {
      "cell_type": "markdown",
      "source": [
        "#Q4. Write a proogram to calculate the distance between two points."
      ],
      "metadata": {
        "id": "UW35jJ2GBMgQ"
      }
    },
    {
      "cell_type": "code",
      "source": [
        "x1 = float(input('Enter the x coordinate of 1st point: '))\n",
        "y1 = float(input('Enter the y coordinate of 1st point: '))\n",
        "x2 = float(input('Enter the x coordinate of 2nd point: '))\n",
        "y2 = float(input('Enter the y coordinate of 2nd point: '))\n",
        "\n",
        "distance = ((x2 - x1) ** 2 + (y2 - y1) ** 2 ) ** 0.5\n",
        "print(f'Distance : {distance:6f}')"
      ],
      "metadata": {
        "id": "oikwCy5XAo_0"
      },
      "execution_count": null,
      "outputs": []
    },
    {
      "cell_type": "markdown",
      "source": [
        "#Q5. Write a program to perform following operation\n",
        "##- addition\n",
        "##- substraction\n",
        "##- multiplication\n",
        "##- division\n",
        "##- modulo\n",
        "##- imteger divivsion\n",
        "\n",
        "#on two integer number"
      ],
      "metadata": {
        "id": "tlfukFrZC4Jr"
      }
    },
    {
      "cell_type": "code",
      "source": [
        "num1 = int(input('Enter a 1st number: '))\n",
        "num2 = int(input('Enter a 2nd number: '))\n",
        "\n",
        "#addition\n",
        "print(f'Addition of {num1} and {num2} is : {num1 + num2}')\n",
        "\n",
        "#subtraction\n",
        "print(f'Subtraction of {num1} and {num2} is : {num1 - num2}')\n",
        "\n",
        "#multiplication\n",
        "print(f'Multiplication of {num1} and {num2} is : {num1 * num2}')\n",
        "\n",
        "#division\n",
        "print(f'Division of {num1} and {num2} is : {num1 / num2}')\n",
        "\n",
        "#integer division or floor division\n",
        "print(f'integer/floor division of {num1} and {num2} is : {num1 // num2}')\n",
        "\n",
        "#modulo\n",
        "print(f'Modulo Division of {num1} and {num2} is : {num1 % num2}')"
      ],
      "metadata": {
        "id": "my2zeSTmChEi"
      },
      "execution_count": null,
      "outputs": []
    },
    {
      "cell_type": "markdown",
      "source": [
        "#Q6. Write a program to perform following operation\n",
        "##- addition\n",
        "##- substraction\n",
        "##- multiplication\n",
        "##- division\n",
        "##- modulo\n",
        "##- imteger divivsion\n",
        "\n",
        "#on two floating point numbers"
      ],
      "metadata": {
        "id": "KeHDABd8FKHJ"
      }
    },
    {
      "cell_type": "code",
      "source": [
        "num1 = float(input('Enter a 1st number: '))\n",
        "num2 = float(input('Enter a 2nd number: '))\n",
        "\n",
        "#addition\n",
        "print(f'Addition of {num1} and {num2} is : {num1 + num2}')\n",
        "\n",
        "#subtraction\n",
        "print(f'Subtraction of {num1} and {num2} is : {num1 - num2}')\n",
        "\n",
        "#multiplication\n",
        "print(f'Multiplication of {num1} and {num2} is : {num1 * num2}')\n",
        "\n",
        "#division\n",
        "print(f'Division of {num1} and {num2} is : {num1 / num2}')\n",
        "\n",
        "#integer division or floor division\n",
        "print(f'integer/floor division of {num1} and {num2} is : {num1 // num2}')\n",
        "\n",
        "#modulo\n",
        "print(f'Modulo Division of {num1} and {num2} is : {num1 % num2}')"
      ],
      "metadata": {
        "id": "h7P8eMT9D6-y"
      },
      "execution_count": null,
      "outputs": []
    },
    {
      "cell_type": "markdown",
      "source": [
        "#Q7. Write a program to demonstrate the use of relational operator."
      ],
      "metadata": {
        "id": "c9m2p07BF1HP"
      }
    },
    {
      "cell_type": "code",
      "source": [
        "x = 10\n",
        "y = 20\n",
        "\n",
        "#equal to\n",
        "print(f'{x} == {y}: {x == y}')\n",
        "\n",
        "#not equal\n",
        "print(f'{x} != {y}: {x != y}')\n",
        "\n",
        "#greater than\n",
        "print(f'{x} > {y}: {x > y}')\n",
        "\n",
        "#less than\n",
        "print(f'{x} < {y}: {x < y}')\n",
        "\n",
        "#greater equal\n",
        "print(f'{x} >= {y}: {x >= y}')\n",
        "\n",
        "#less equal\n",
        "print(f'{x} <= {y}: {x <= y}')"
      ],
      "metadata": {
        "id": "x3cQ__RZFXXP"
      },
      "execution_count": null,
      "outputs": []
    },
    {
      "cell_type": "markdown",
      "source": [
        "#Q8. Write a program to calculate the area of circle\n"
      ],
      "metadata": {
        "id": "yV766rZ9HvWD"
      }
    },
    {
      "cell_type": "code",
      "source": [
        "from math import pi\n",
        "\n",
        "radious = float(input('Enter the radious: '))\n",
        "area = pi * radious * radious\n",
        "circumference = 2 * pi * radious\n",
        "print(f'Area:{round(area, 2)}, CircumFerence:{round(circumference, 2)}')"
      ],
      "metadata": {
        "id": "EOpgqq3QHd3q"
      },
      "execution_count": null,
      "outputs": []
    },
    {
      "cell_type": "markdown",
      "source": [
        "#Q9. Write a program to print the digit at one's place of number."
      ],
      "metadata": {
        "id": "UyZMH3MbKufm"
      }
    },
    {
      "cell_type": "code",
      "source": [
        "num = int(input('Enter a number: '))\n",
        "digit_at_once_pos = num % 10\n",
        "print(f'The digit at once place of {num} is: {digit_at_once_pos}')"
      ],
      "metadata": {
        "id": "luknFSJ8Iq4I"
      },
      "execution_count": null,
      "outputs": []
    },
    {
      "cell_type": "markdown",
      "source": [
        "#Q10. Write a program to calculate average average of two numbers, print there deviation."
      ],
      "metadata": {
        "id": "YdJqVRDHLmY9"
      }
    },
    {
      "cell_type": "code",
      "source": [
        "num1 = int(input('Enter 1st number: '))\n",
        "num2 = int(input('Enter 2nd number: '))\n",
        "\n",
        "#average\n",
        "avg = (num1 + num2) / 2\n",
        "print(f'Average : {avg}')\n",
        "\n",
        "#deviation\n",
        "dev1 = num1 - avg\n",
        "dev2 = num2 - avg\n",
        "print(f'Deviation of 1st number : {dev1}')\n",
        "print(f'Deviation of 2nd number : {dev2}')"
      ],
      "metadata": {
        "id": "7YUfZHZHLdN7"
      },
      "execution_count": null,
      "outputs": []
    },
    {
      "cell_type": "markdown",
      "source": [
        "#Q11. Wite a program to convert fahrenheit to celsius."
      ],
      "metadata": {
        "id": "MYEsXWdRd5EI"
      }
    },
    {
      "cell_type": "code",
      "source": [
        "fah = float(input('Enter the temperature in Fehrenheit: '))\n",
        "cel = 0.56 * (fah-32)\n",
        "print(f'Temperature in degree celsius: {cel}')"
      ],
      "metadata": {
        "id": "k8mHVXWxMuzL",
        "colab": {
          "base_uri": "https://localhost:8080/"
        },
        "outputId": "5b0800b7-c0e5-4848-81f7-6c0f30102932"
      },
      "execution_count": null,
      "outputs": [
        {
          "output_type": "stream",
          "name": "stdout",
          "text": [
            "Enter the temperature in Fehrenheit: 104.3\n",
            "Temperature in degree celsius: 40.488\n"
          ]
        }
      ]
    },
    {
      "cell_type": "markdown",
      "source": [
        "#Q12. Write a program to calculate the total amount of money in the piggybank given the coins of Rs 10, 5, 2, 1"
      ],
      "metadata": {
        "id": "-PZz19s-fJ1B"
      }
    },
    {
      "cell_type": "code",
      "source": [
        "num10 = int(input('Enter the numberof 10rs coins in the piggybank: '))\n",
        "num5 = int(input('Enter the numberof 5rs coins in the piggybank: '))\n",
        "num2 = int(input('Enter the numberof 2rs coins in the piggybank: '))\n",
        "num1 = int(input('Enter the numberof 1rs coins in the piggybank: '))\n",
        "\n",
        "total_amount = (10*num10) + (5*num5) + (2*num2) + (1*num1)\n",
        "print(f'Total amount in piggybank is: {total_amount}')"
      ],
      "metadata": {
        "colab": {
          "base_uri": "https://localhost:8080/"
        },
        "id": "WA73r85-fBks",
        "outputId": "6aa1de52-b2a3-436b-f29d-d005fd6f99be"
      },
      "execution_count": null,
      "outputs": [
        {
          "output_type": "stream",
          "name": "stdout",
          "text": [
            "Enter the numberof 10rs coins in the piggybank: 6\n",
            "Enter the numberof 5rs coins in the piggybank: 10\n",
            "Enter the numberof 2rs coins in the piggybank: 15\n",
            "Enter the numberof 1rs coins in the piggybank: 20\n",
            "Total amount in piggybank is: 160\n"
          ]
        }
      ]
    },
    {
      "cell_type": "markdown",
      "source": [
        "#Q13. Write a program to calculate the bill amount fir an item given quantity sold, value, discount and tax"
      ],
      "metadata": {
        "id": "Kza77_3dg_p6"
      }
    },
    {
      "cell_type": "code",
      "source": [
        "qty = float(input('Enter the quantity of item sold: '))\n",
        "val = float(input('Enter the value of item: '))\n",
        "discount = float(input('Enter the discount percentage: '))\n",
        "tax = float(input('Enter the tax: '))\n",
        "amt = qty * val\n",
        "dis_amt = (amt * discount) / 100\n",
        "sub_total = amt - dis_amt\n",
        "tax_amt = (sub_total * tax) / 100\n",
        "total_amount = sub_total + tax_amt\n",
        "\n",
        "print('#'*15, 'BILL', '#'*15)\n",
        "\n",
        "print(f'Sold Quantity:               {qty}')\n",
        "print(f'Price per item:              {val}')\n",
        "\n",
        "print('   \\t\\t ------------------')\n",
        "\n",
        "print(f'Amount:                     {amt}')\n",
        "print(f'Discount:                   {discount}')\n",
        "\n",
        "print('   \\t\\t ------------------')\n",
        "\n",
        "print(f'Sub-Total:                  {sub_total}')\n",
        "print(f'Tax:                        {tax_amt}')\n",
        "\n",
        "print('   \\t\\t ------------------')\n",
        "\n",
        "print(f'Total amount to be paid:    {total_amount}')"
      ],
      "metadata": {
        "colab": {
          "base_uri": "https://localhost:8080/"
        },
        "id": "rnOjYSSeg4eq",
        "outputId": "d231ed7f-58c7-485a-f989-c4a65346d626"
      },
      "execution_count": null,
      "outputs": [
        {
          "output_type": "stream",
          "name": "stdout",
          "text": [
            "Enter the quantity of item sold: 80\n",
            "Enter the value of item: 100\n",
            "Enter the discount percentage: 10\n",
            "Enter the tax: 14\n",
            "############### BILL ###############\n",
            "Sold Quantity:               80.0\n",
            "Price per item:              100.0\n",
            "   \t\t ------------------\n",
            "Amount:                     8000.0\n",
            "Discount:                   10.0\n",
            "   \t\t ------------------\n",
            "Sub-Total:                  7200.0\n",
            "Tax:                        1008.0\n",
            "   \t\t ------------------\n",
            "Total amount to be paid:    8208.0\n"
          ]
        }
      ]
    },
    {
      "cell_type": "markdown",
      "source": [
        "#Q14. Write a program to calculate a student result based on two examineation, 1 sport event and 3 sctivity conducted. the weightage of activity =30 % , sport=20%, examination=50%."
      ],
      "metadata": {
        "id": "-7B-z34_mdOL"
      }
    },
    {
      "cell_type": "code",
      "source": [
        "activity_w = 30\n",
        "sport_w = 20\n",
        "examination_w = 50\n",
        "\n",
        "exam_total = 200\n",
        "activity_total = 60\n",
        "sport_total = 50\n",
        "\n",
        "exam_scor1 = int(input('Enter the mark in 1st examination (out of 100): '))\n",
        "exam_scor2 = int(input('Enter the mark in 2nd examination (out of 100): '))\n",
        "\n",
        "sport_score = int(input('Enter the obtain score in sport activity (out of 50): '))\n",
        "\n",
        "activity_score1 = int(input('Enter the mark in 1st activity (out of 20): '))\n",
        "activity_score2 = int(input('Enter the mark in 2nd activity (out of 20): '))\n",
        "activity_score3 = int(input('Enter the mark in 3rd activity (out of 20): '))\n",
        "\n",
        "exam_total_score = exam_scor1 + exam_scor2\n",
        "activity_total_score = activity_score1 + activity_score2 + activity_score3\n",
        "\n",
        "exam_per = float(exam_total_score * examination_w / exam_total)\n",
        "sport_per = float(sport_score * sport_w / sport_total)\n",
        "activity_per = float(activity_total * activity_w / activity_total)\n",
        "total_per = exam_per + sport_per + activity_per\n",
        "\n",
        "print('#'*18, 'Result', '#'*19)\n",
        "print(f'Total percentage in examination:      {exam_per}')\n",
        "print(f'Total percentage in sport:            {sport_per}')\n",
        "print(f'Total percentage in activity:         {activity_per}')\n",
        "print('-'*45)\n",
        "print(f'Total percentage in total percentage: {total_per}')"
      ],
      "metadata": {
        "colab": {
          "base_uri": "https://localhost:8080/"
        },
        "id": "3-WUQCOvlbtS",
        "outputId": "e49239e7-06b8-4a4b-c7ba-8e53fcf409d3"
      },
      "execution_count": null,
      "outputs": [
        {
          "output_type": "stream",
          "name": "stdout",
          "text": [
            "Enter the mark in 1st examination (out of 100): 19\n",
            "Enter the mark in 2nd examination (out of 100): 20\n",
            "Enter the obtain score in sport activity (out of 50): 50\n",
            "Enter the mark in 1st activity (out of 20): 20\n",
            "Enter the mark in 2nd activity (out of 20): 13\n",
            "Enter the mark in 3rd activity (out of 20): 10\n",
            "################## Result ###################\n",
            "Total percentage in examination:      9.75\n",
            "Total percentage in sport:            20.0\n",
            "Total percentage in activity:         30.0\n",
            "---------------------------------------------\n",
            "Total percentage in total percentage: 59.75\n"
          ]
        }
      ]
    },
    {
      "cell_type": "markdown",
      "source": [
        "#Q15. Write a program to convert a floating point number into the corresponding integer."
      ],
      "metadata": {
        "id": "_IiYOigWs_Cn"
      }
    },
    {
      "cell_type": "code",
      "source": [
        "a = float(input('Enter the floating point number: '))\n",
        "print(f'Befor converting: {a}, Type:{type(a)}')\n",
        "\n",
        "b = int(a)\n",
        "print(f'After converting: {b}, Type: {type(b)}')"
      ],
      "metadata": {
        "colab": {
          "base_uri": "https://localhost:8080/"
        },
        "id": "98KzLK5LrSH5",
        "outputId": "258b8cd5-6735-4943-8ff2-b8a67ebfbd31"
      },
      "execution_count": null,
      "outputs": [
        {
          "output_type": "stream",
          "name": "stdout",
          "text": [
            "Enter the floating point number: 67.80\n",
            "Befor converting: 67.8, Type:<class 'float'>\n",
            "after converting: 67, Type: <class 'int'>\n"
          ]
        }
      ]
    },
    {
      "cell_type": "markdown",
      "source": [
        "Q16. Write a program to convert an integer into the corresponding floating point number"
      ],
      "metadata": {
        "id": "V8kNctMQuNt1"
      }
    },
    {
      "cell_type": "code",
      "source": [
        "a = int(input('Enter the integer number: '))\n",
        "print(f'Befor converting: {a}, Type:{type(a)}')\n",
        "\n",
        "b = float(a)\n",
        "print(f'After converting: {b}, Type: {type(b)}')"
      ],
      "metadata": {
        "colab": {
          "base_uri": "https://localhost:8080/"
        },
        "id": "h-mvYnhVuAWV",
        "outputId": "0504748e-5c97-45ef-8bf2-826c24ab13f8"
      },
      "execution_count": null,
      "outputs": [
        {
          "output_type": "stream",
          "name": "stdout",
          "text": [
            "Enter the integer number: 123\n",
            "Befor converting: 123, Type:<class 'int'>\n",
            "After converting: 123.0, Type: <class 'float'>\n"
          ]
        }
      ]
    },
    {
      "cell_type": "markdown",
      "source": [
        "#Q17. Write a program to determine whether a person is eligible for vote.\n"
      ],
      "metadata": {
        "id": "6NAKKmQr9NWJ"
      }
    },
    {
      "cell_type": "code",
      "source": [
        "age = int(input('Enter age: '))\n",
        "if age >= 18:\n",
        "  print('You are eligible for vote.')"
      ],
      "metadata": {
        "id": "B9CgI2m8uoXb",
        "colab": {
          "base_uri": "https://localhost:8080/"
        },
        "outputId": "78b8fdb1-2cc1-4d3e-ea65-a4ed5d43376d"
      },
      "execution_count": null,
      "outputs": [
        {
          "output_type": "stream",
          "name": "stdout",
          "text": [
            "Enter age: 19\n",
            "You are eligible for vote.\n"
          ]
        }
      ]
    },
    {
      "cell_type": "markdown",
      "source": [
        "#Q18. Write a program to determine the character entered by the user."
      ],
      "metadata": {
        "id": "euyixVSY-U0X"
      }
    },
    {
      "cell_type": "code",
      "source": [
        "while True:\n",
        "  character = input('Enter something: ')\n",
        "  if character.isalpha():\n",
        "    print('User entered the character.')\n",
        "  elif character.isdigit():\n",
        "    print('User entered digit.')\n",
        "  elif character.isspace():\n",
        "    print('User enter space.')\n",
        "  else:\n",
        "    print('User enter special charcter.')\n",
        "    break"
      ],
      "metadata": {
        "colab": {
          "base_uri": "https://localhost:8080/"
        },
        "id": "SAVNeMMZ-L1G",
        "outputId": "1b2efbba-bcad-4087-dac7-65377f194882"
      },
      "execution_count": null,
      "outputs": [
        {
          "output_type": "stream",
          "name": "stdout",
          "text": [
            "Enter something: as\n",
            "User entered the character.\n",
            "Enter something: 12\n",
            "User entered digit.\n",
            "Enter something:    \n",
            "User enter space.\n",
            "Enter something: !@\n",
            "User enter special charcter.\n"
          ]
        }
      ]
    },
    {
      "cell_type": "markdown",
      "source": [
        "#Q19. Write a program to determine whether a person is eligible to vote or not if he/she is not eligible, then  display how many year are left to be eligible."
      ],
      "metadata": {
        "id": "B_DP2onb__UU"
      }
    },
    {
      "cell_type": "code",
      "source": [
        "while True:\n",
        "  age = int(input('Enter Your Age: '))\n",
        "  if age > 17:\n",
        "    print('You are eligible for vote.')\n",
        "  else:\n",
        "    year_rem = 18 - age\n",
        "    print(f'You have to wait for {year_rem} years to cast your vote')\n",
        "    break"
      ],
      "metadata": {
        "colab": {
          "base_uri": "https://localhost:8080/"
        },
        "id": "sqSXOof7_fZY",
        "outputId": "5f904512-62b2-411a-ab0c-d744e33e107f"
      },
      "execution_count": null,
      "outputs": [
        {
          "output_type": "stream",
          "name": "stdout",
          "text": [
            "Enter Your Age: 19\n",
            "You are eligible for vote.\n",
            "Enter Your Age: 20\n",
            "You are eligible for vote.\n",
            "Enter Your Age: 10\n",
            "You have to wait for 8 years to cast your vote\n"
          ]
        }
      ]
    },
    {
      "cell_type": "markdown",
      "source": [
        "#Q20. Write a program to find larger of two number."
      ],
      "metadata": {
        "id": "tpFcso0kBv9B"
      }
    },
    {
      "cell_type": "code",
      "source": [
        "i = 0\n",
        "while i < 2:\n",
        "  print(f'Case {i}:')\n",
        "  num1 = int(input('Enter the 1st number: '))\n",
        "  num2 = int(input('Enter the 2nd number: '))\n",
        "  if num1 > num2:\n",
        "    print(f'{num1} is larger than {num2}')\n",
        "  else:\n",
        "    print(f'{num2} is larger than {num2}')\n",
        "  i += 1"
      ],
      "metadata": {
        "colab": {
          "base_uri": "https://localhost:8080/"
        },
        "id": "Dc4_pi0jBayK",
        "outputId": "48ef1f09-a993-45ea-87f3-e68774c96165"
      },
      "execution_count": null,
      "outputs": [
        {
          "output_type": "stream",
          "name": "stdout",
          "text": [
            "Case 0:\n",
            "Enter the 1st number: 50\n",
            "Enter the 2nd number: 30\n",
            "50 is larger than 30\n",
            "Case 1:\n",
            "Enter the 1st number: 30\n",
            "Enter the 2nd number: 50\n",
            "50 is larger than 50\n"
          ]
        }
      ]
    },
    {
      "cell_type": "markdown",
      "source": [
        "#Q21 Write a program to find whether the given number is even or odd."
      ],
      "metadata": {
        "id": "SpOiPl4oDNDB"
      }
    },
    {
      "cell_type": "code",
      "source": [
        "i = 0\n",
        "while i < 2:\n",
        "  print(f'Case {i}:')\n",
        "  num = int(input('Enter a number: '))\n",
        "  if num % 2 == 0:\n",
        "    print(f'{num} is even.')\n",
        "  else:\n",
        "    print(f'{num} is odd.')\n",
        "  i += 1\n",
        "  print()"
      ],
      "metadata": {
        "colab": {
          "base_uri": "https://localhost:8080/"
        },
        "id": "PRVLQLTvCUVy",
        "outputId": "cd4c7ccc-fa82-4e2a-fd1f-3cde71e9fa0f"
      },
      "execution_count": null,
      "outputs": [
        {
          "output_type": "stream",
          "name": "stdout",
          "text": [
            "Case 0:\n",
            "Enter a number: 20\n",
            "20 is even.\n",
            "\n",
            "Case 1:\n",
            "Enter a number: 19\n",
            "19 is odd.\n",
            "\n"
          ]
        }
      ]
    },
    {
      "cell_type": "markdown",
      "source": [
        "#Q22. Write a program to entered any string/character. \n",
        "- if the entered character is an lowercase then convert it into uppercase,\n",
        "- if it is an uppercase charcater then convert it into lower case."
      ],
      "metadata": {
        "id": "O2uGK2wOEnjo"
      }
    },
    {
      "cell_type": "code",
      "source": [
        "while True:\n",
        "  character = input('Enter something: ')\n",
        "  if character.islower():\n",
        "    print(f'Entered string is {character} after converting {character.upper()}')\n",
        "  elif character.isupper():\n",
        "    print(f'Entered string is {character} after converting {character.lower()}')\n",
        "  else:\n",
        "    print('Uppercase and lowercase combination not allowed!!')\n",
        "    break\n"
      ],
      "metadata": {
        "colab": {
          "base_uri": "https://localhost:8080/"
        },
        "id": "fBSiqVhCDsK-",
        "outputId": "0bc5d252-71ac-4fe1-8821-1b891258fdd4"
      },
      "execution_count": null,
      "outputs": [
        {
          "output_type": "stream",
          "name": "stdout",
          "text": [
            "Enter something: sopan\n",
            "Entered string is sopan after converting SOPAN\n",
            "Enter something: SOPAN\n",
            "Entered string is SOPAN after converting sopan\n",
            "Enter something: Sopan\n",
            "Uppercase and lowercase combination not allowed!!\n"
          ]
        }
      ]
    },
    {
      "cell_type": "markdown",
      "source": [
        "#Q23. \n",
        "**A company decide to give bonus to all empployee on diwali. A 5% bonus on salary is given to the male worker and 10% bonus on salary to the female worker \n",
        "write a program to enter the salary of employee, if the salary less than 10000 then the employee get 2% extra bonus on salary.\n",
        "Calcualte the bonus that has to be given to the employee and display the salary that the employee will get.**"
      ],
      "metadata": {
        "id": "CaTglH9vHM2c"
      }
    },
    {
      "cell_type": "code",
      "source": [
        "sex = input('Enter the sex of employee(M/F): ')\n",
        "salary = float(input('Enter employee salary: '))\n",
        "\n",
        "if salary <= 10000:\n",
        "  if sex == 'F' or sex == 'f':\n",
        "    bonus = 0.12 * salary\n",
        "  elif sex == 'M' or sex == 'm':\n",
        "    bonus = 0.07 * salary\n",
        "else:\n",
        "  if (sex == 'F' or sex == 'f'):\n",
        "    bonus = 0.10 * salary\n",
        "  elif sex == 'M' or sex == 'm':\n",
        "    bonus = 0.05 * salary\n",
        "\n",
        "total_amount = salary + bonus\n",
        "print(f'Salary: {salary}\\nBonus: {bonus}')\n",
        "print(f'Total amount to be paid: {total_amount}')"
      ],
      "metadata": {
        "colab": {
          "base_uri": "https://localhost:8080/"
        },
        "id": "AchPzRpdF6zP",
        "outputId": "73dbd00f-02ea-4f55-a094-99778bc1b5fc"
      },
      "execution_count": null,
      "outputs": [
        {
          "output_type": "stream",
          "name": "stdout",
          "text": [
            "Enter the sex of employee(M/F): f\n",
            "Enter employee salary: 10000\n",
            "Salary: 10000.0\n",
            "Bonus: 1200.0\n",
            "Total amount to be paid: 11200.0\n"
          ]
        }
      ]
    },
    {
      "cell_type": "markdown",
      "source": [
        "#Q24. Write a program to find whether a given year is a leap year or not."
      ],
      "metadata": {
        "id": "qL4KTuA4PT4G"
      }
    },
    {
      "cell_type": "code",
      "source": [
        "year = int(input('Enter year: '))\n",
        "if (year%100!=0 and year%4==0) or year%400==0:\n",
        "  print('leap year')\n",
        "else:\n",
        "  print('Not a leap year!!')"
      ],
      "metadata": {
        "colab": {
          "base_uri": "https://localhost:8080/"
        },
        "id": "otu3HbhLKGgX",
        "outputId": "2a352dab-375a-4070-d896-5e542e195f90"
      },
      "execution_count": null,
      "outputs": [
        {
          "output_type": "stream",
          "name": "stdout",
          "text": [
            "Enter year: 2020\n",
            "leap year\n"
          ]
        }
      ]
    },
    {
      "cell_type": "markdown",
      "source": [
        "#Q25. Write a program that prompt the user to enter a number and then print its interval."
      ],
      "metadata": {
        "id": "pTGuqwzpQpSb"
      }
    },
    {
      "cell_type": "code",
      "source": [
        "#interval between 0-50\n",
        "num = int(input('Enter any number in range 0-50: '))\n",
        "if 0 <= num and num<=10:\n",
        "  print('It is in range 0-10.')\n",
        "elif 11 <= num and num <=20:\n",
        "  print('It is in range 11-20.')\n",
        "elif 21 <= num and num <=30:\n",
        "  print('It is in range 21-30.')\n",
        "elif 31 <= num and num <=40:\n",
        "  print('It is in range 31-40.')\n",
        "elif 41 <= num and num <=50:\n",
        "  print('It is in range 41-50.')"
      ],
      "metadata": {
        "colab": {
          "base_uri": "https://localhost:8080/"
        },
        "id": "ddEj3MbxQQU2",
        "outputId": "b0c42096-15ea-4471-855b-6c23f1ac88e6"
      },
      "execution_count": null,
      "outputs": [
        {
          "output_type": "stream",
          "name": "stdout",
          "text": [
            "Enter any number in range 0-50: 49\n",
            "It is in range 41-50.\n"
          ]
        }
      ]
    },
    {
      "cell_type": "markdown",
      "source": [
        "#Q26. write a program to test whether numbered enter by user is positive or negative, or equal to zero"
      ],
      "metadata": {
        "id": "TkYkr0jDSWfR"
      }
    },
    {
      "cell_type": "code",
      "source": [
        "num = int(input('Enter any number: '))\n",
        "if num > 0:\n",
        "  print(f'{num} is positive.')\n",
        "elif num < 0:\n",
        "  print(f'{num} is Negative.')\n",
        "else:\n",
        "  print(f'{num} is equal to zero.')"
      ],
      "metadata": {
        "colab": {
          "base_uri": "https://localhost:8080/"
        },
        "id": "vHNaqsgPSI1W",
        "outputId": "4645ff11-64b3-4d0d-aba5-69e887634afb"
      },
      "execution_count": null,
      "outputs": [
        {
          "output_type": "stream",
          "name": "stdout",
          "text": [
            "Enter any number: 0\n",
            "0 is equal to zero.\n"
          ]
        }
      ]
    },
    {
      "cell_type": "markdown",
      "source": [
        " # Q27. Write a program to determine whether the character is vowel or not."
      ],
      "metadata": {
        "id": "gASFKT9jXtln"
      }
    },
    {
      "cell_type": "code",
      "source": [
        "ch = input('Enter any character: ')\n",
        "if ch in 'aeiou':\n",
        "  print(f'{ch} is vowel.')\n",
        "else:\n",
        "  print(f'{ch} is not vowel.')"
      ],
      "metadata": {
        "id": "QaKCua6jTNLK",
        "colab": {
          "base_uri": "https://localhost:8080/"
        },
        "outputId": "23c75eb4-de0e-4887-81a7-ac7c51dcf9d0"
      },
      "execution_count": null,
      "outputs": [
        {
          "output_type": "stream",
          "name": "stdout",
          "text": [
            "Enter any character: o\n",
            "o is vowel.\n"
          ]
        }
      ]
    },
    {
      "cell_type": "markdown",
      "source": [
        "#Q28. Write a program to find the greatest number from three numbers."
      ],
      "metadata": {
        "id": "WyjMiz6zZjg9"
      }
    },
    {
      "cell_type": "code",
      "source": [
        "num1 = int(input('Enter 1st number: '))\n",
        "num2 = int(input('Enter 2nd number: '))\n",
        "num3 = int(input('Enter 3rd number: '))\n",
        "if num1 > num2 and num1 > num3:\n",
        "  print(f'{num1} is greatest.')\n",
        "elif num2 > num3:\n",
        "  print(f'{num2} is greatest.')\n",
        "else:\n",
        "  print(f'{num3} is greatest.')"
      ],
      "metadata": {
        "colab": {
          "base_uri": "https://localhost:8080/"
        },
        "id": "MKo8XuPNZYlw",
        "outputId": "10249bb2-c594-40f1-8832-602098067e47"
      },
      "execution_count": null,
      "outputs": [
        {
          "output_type": "stream",
          "name": "stdout",
          "text": [
            "Enter 1st number: 80\n",
            "Enter 2nd number: 78\n",
            "Enter 3rd number: 58\n",
            "80 is greatest.\n"
          ]
        }
      ]
    },
    {
      "cell_type": "markdown",
      "source": [
        "#Q29. Write a program that prompts the user to enter a number between 1-7 and then display the corresponding day of week."
      ],
      "metadata": {
        "id": "gNc_tmE1aXZs"
      }
    },
    {
      "cell_type": "code",
      "source": [
        "num = int(input('Enter number between 1-7: '))\n",
        "\n",
        "if num == 1: print('Sunday.')\n",
        "elif num == 2: print('Monday.')\n",
        "elif num == 3: print('Tuesday.')\n",
        "elif num == 4: print('Wednesday.')\n",
        "elif num == 5: print('Thursday.')\n",
        "elif num == 6: print('Friday.')\n",
        "elif num == 7: print('Saturday.')\n",
        "else: print('Enter valid number between 1-7...!')"
      ],
      "metadata": {
        "colab": {
          "base_uri": "https://localhost:8080/"
        },
        "id": "2dSrXVnuaOTw",
        "outputId": "6ce36c3b-7ecd-446e-fb45-fb870ef3e22a"
      },
      "execution_count": null,
      "outputs": [
        {
          "output_type": "stream",
          "name": "stdout",
          "text": [
            "Enter number between 1-7: 5\n",
            "Thursday.\n"
          ]
        }
      ]
    },
    {
      "cell_type": "markdown",
      "source": [
        "#Q30. Write a program to calculate tax given the following condition.\n",
        "if income is less than 1,50,000 then no tax, \n",
        "if taxable income is 1,50,001 - 3,00,000 then charge 10% tax, \n",
        "if taxable income is 3,00,001 - 5,00,000 then charge 20% tax,\n",
        "if taxable income is above 5,00,001 then charge 30% tax.\n"
      ],
      "metadata": {
        "id": "4xWbADXwb-Gg"
      }
    },
    {
      "cell_type": "code",
      "source": [
        "income = int(input('Enter the income: '))\n",
        "taxable_income = income - 1_50_000\n",
        "if taxable_income <= 0:\n",
        "  print('No tax.')\n",
        "elif taxable_income > 1_50_000 and taxable_income <= 3_00_000:\n",
        "  tax = (taxable_income - 1_50_001) * 0.10\n",
        "  print(f'You have to pay {tax} tax')\n",
        "elif taxable_income > 3_00_000 and taxable_income <= 5_00_000:\n",
        "  tax = (taxable_income - 3_00_001) * 0.20\n",
        "  print(f'You have to pay {tax} tax')\n",
        "elif taxable_income > 5_00_000:\n",
        "  tax = (taxable_income - 5_00_001) * 0.30\n",
        "  print(f'You have to pay {tax} tax')\n",
        "\n",
        "#you can also solve using else block"
      ],
      "metadata": {
        "colab": {
          "base_uri": "https://localhost:8080/"
        },
        "id": "RezpM-eAb4lv",
        "outputId": "a38950ca-30bc-4aac-ff69-70f9bdafff6a"
      },
      "execution_count": null,
      "outputs": [
        {
          "output_type": "stream",
          "name": "stdout",
          "text": [
            "Enter the income: 20_00_000\n",
            "You have to pay 404999.7 tax\n"
          ]
        }
      ]
    },
    {
      "cell_type": "markdown",
      "source": [],
      "metadata": {
        "id": "AvOPqpMJiW8j"
      }
    },
    {
      "cell_type": "code",
      "source": [],
      "metadata": {
        "id": "GRqnNM0Gh11R"
      },
      "execution_count": null,
      "outputs": []
    }
  ]
}