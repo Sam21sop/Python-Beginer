{
  "nbformat": 4,
  "nbformat_minor": 0,
  "metadata": {
    "colab": {
      "provenance": [],
      "authorship_tag": "ABX9TyM+0aw2S+YyLYsNbm3RwnA0",
      "include_colab_link": true
    },
    "kernelspec": {
      "name": "python3",
      "display_name": "Python 3"
    },
    "language_info": {
      "name": "python"
    }
  },
  "cells": [
    {
      "cell_type": "markdown",
      "metadata": {
        "id": "view-in-github",
        "colab_type": "text"
      },
      "source": [
        "<a href=\"https://colab.research.google.com/github/Sam21sop/Python-Basic-code/blob/main/PythonBootcamp2023.ipynb\" target=\"_parent\"><img src=\"https://colab.research.google.com/assets/colab-badge.svg\" alt=\"Open In Colab\"/></a>"
      ]
    },
    {
      "cell_type": "markdown",
      "source": [
        "#Python Bootcamp 2023"
      ],
      "metadata": {
        "id": "z7VU-R_jPyxv"
      }
    },
    {
      "cell_type": "code",
      "source": [
        "# print() function/method used to rendering/displaying output on screen\n",
        "print('Python')"
      ],
      "metadata": {
        "id": "NLiBrRrhP8Ba",
        "colab": {
          "base_uri": "https://localhost:8080/"
        },
        "outputId": "6d482106-68c9-4393-af66-d30c0711a765"
      },
      "execution_count": 48,
      "outputs": [
        {
          "output_type": "stream",
          "name": "stdout",
          "text": [
            "Python\n"
          ]
        }
      ]
    },
    {
      "cell_type": "code",
      "source": [
        "x = 6\n",
        "x * 2\n",
        "print(x)"
      ],
      "metadata": {
        "id": "aaVvn7kNSCrJ",
        "colab": {
          "base_uri": "https://localhost:8080/"
        },
        "outputId": "f1def193-2a6a-4687-8be3-50c385c7392b"
      },
      "execution_count": 49,
      "outputs": [
        {
          "output_type": "stream",
          "name": "stdout",
          "text": [
            "6\n"
          ]
        }
      ]
    },
    {
      "cell_type": "markdown",
      "source": [
        "#Variable\n",
        "we use variable to store data\n",
        "1. variable names contains a-z, A-Z, 0-9, & _\n",
        "2. variable name can't start with number\n",
        "3. dont use special character in variable\n",
        "4. variable must not be reserve keywords\n",
        "5. use snake_case for variable name &\n",
        "PascalCase for class name\n"
      ],
      "metadata": {
        "id": "3ACADhi-VKJ1"
      }
    },
    {
      "cell_type": "code",
      "source": [
        "#some valid variable name\n",
        "miles = 1.609\n",
        "my_name = 'Sopan'\n",
        "day_1 = 'Today'\n",
        "max_value = 99   #snake_case"
      ],
      "metadata": {
        "id": "iAr0yfJVSZTI"
      },
      "execution_count": 50,
      "outputs": []
    },
    {
      "cell_type": "markdown",
      "source": [
        "#Comments\n",
        "In python we can define comments three different way as follow:\n",
        "1. By using triple \"\"\" & ''' quote for multiple lines. it is known as document string\n",
        "4. By using # symbol for single line comments"
      ],
      "metadata": {
        "id": "j6CsXDYQW54r"
      }
    },
    {
      "cell_type": "code",
      "source": [
        "# this is comments\n",
        "# a = 5\n",
        "x = 9 # x is a variable\n",
        "\n",
        "''' This is multiline/doc_string \n",
        "comments\n",
        "'''\n",
        "\n",
        "\"\"\"\n",
        "This is  also multiline/ \n",
        "doc_string comments \n",
        "in python\n",
        "\"\"\""
      ],
      "metadata": {
        "id": "qEIXSsAxZdas",
        "colab": {
          "base_uri": "https://localhost:8080/",
          "height": 35
        },
        "outputId": "c67d4b82-2ac5-41ce-b479-f47e2289f86e"
      },
      "execution_count": 51,
      "outputs": [
        {
          "output_type": "execute_result",
          "data": {
            "text/plain": [
              "'\\nThis is  also multiline/ \\ndoc_string comments \\nin python\\n'"
            ],
            "application/vnd.google.colaboratory.intrinsic+json": {
              "type": "string"
            }
          },
          "metadata": {},
          "execution_count": 51
        }
      ]
    },
    {
      "cell_type": "markdown",
      "source": [
        "#constants\n",
        "Value that will never change ex. PI.\n",
        "python does not have anything in the language to declare a constant.\n",
        "It's declared like a variable.\n",
        "Constant value are often written with UPPER-CASE letters"
      ],
      "metadata": {
        "id": "r1D20F7gait6"
      }
    },
    {
      "cell_type": "code",
      "source": [
        "PI = 3.14\n",
        "DAYS_IN_WEEK = 7\n"
      ],
      "metadata": {
        "id": "z63gBFjAbaSw"
      },
      "execution_count": 52,
      "outputs": []
    },
    {
      "cell_type": "markdown",
      "source": [
        "Python is dynamically typed language. the type is associated with run time value and not withany data type declaration\n",
        "In Python the value stored in variable have type and not the name or the variable itself.\n",
        "Dynamically-typed language are comparatively faster during development time and are more flexible.\n"
      ],
      "metadata": {
        "id": "mRgwuyj3bzfQ"
      }
    },
    {
      "cell_type": "code",
      "source": [
        "x = 9\n",
        "print(type(x))\n",
        "\n",
        "name = 'sopan'\n",
        "print(type(name))\n",
        "\n",
        "print(id(name))"
      ],
      "metadata": {
        "id": "DfRSkaBUdB9-",
        "colab": {
          "base_uri": "https://localhost:8080/"
        },
        "outputId": "43b101cb-9b60-4606-986d-c7743dbcb80f"
      },
      "execution_count": 53,
      "outputs": [
        {
          "output_type": "stream",
          "name": "stdout",
          "text": [
            "<class 'int'>\n",
            "<class 'str'>\n",
            "140119077280752\n"
          ]
        }
      ]
    },
    {
      "cell_type": "markdown",
      "source": [
        "#Reserve keyword in python\n",
        "False, class, from, or,\n",
        "None, continue, global, pass,\n",
        "True, def, if, raise,\n",
        "and, del, import, return,\n",
        "as, elif, in, try, \n",
        "assert, else, is, while, \n",
        "async, except, lambda, with, \n",
        "await, finally, nonlocal, yield,\n",
        "break, for, not."
      ],
      "metadata": {
        "id": "dr3BMfciHkB5"
      }
    },
    {
      "cell_type": "markdown",
      "source": [
        "#Build in data Type\n",
        "Number: int, float, complex\n",
        "\n",
        "Booleans: True, False\n",
        "\n",
        "String: string\n",
        "\n",
        "List\n",
        "Tuple\n",
        "Set\n",
        "Dictionaries"
      ],
      "metadata": {
        "id": "7cJJu4AOdvQ1"
      }
    },
    {
      "cell_type": "code",
      "source": [
        "#numbers\n",
        "x = 8\n",
        "y = 10.45\n",
        "z = 5 + 2j\n",
        "print(type(x))\n",
        "print(type(y))\n",
        "print(type(z))\n",
        "\n",
        "#Boolean\n",
        "a = True\n",
        "b = False\n",
        "print(type(a))\n",
        "print(type(b))\n",
        "\n",
        "#string\n",
        "name = 'Sopan'\n",
        "last_name = \"Bhere\"\n",
        "print(type(name))\n",
        "print(type(last_name))\n",
        "\n",
        "#List\n",
        "friends = ['sopan', 'prajwal', 'saurabh', \"swami\"]\n",
        "print(type(friends))\n",
        "\n",
        "#tuple\n",
        "best_num = (1, 2, 3, 4, 5)\n",
        "print(type(best_num))\n",
        "\n",
        "#set\n",
        "price = {1, 3, 5, 8, 56, 90}\n",
        "print(type(price))\n",
        "\n",
        "#dictionary\n",
        "sub_price = {'Python' : 2000, 'Java' : 1000, 'C' : 1000}\n",
        "print(type(sub_price))"
      ],
      "metadata": {
        "id": "YcPf7xOHdqkL",
        "colab": {
          "base_uri": "https://localhost:8080/"
        },
        "outputId": "7eb7c024-b905-49ff-ee31-7c8eb105b785"
      },
      "execution_count": 54,
      "outputs": [
        {
          "output_type": "stream",
          "name": "stdout",
          "text": [
            "<class 'int'>\n",
            "<class 'float'>\n",
            "<class 'complex'>\n",
            "<class 'bool'>\n",
            "<class 'bool'>\n",
            "<class 'str'>\n",
            "<class 'str'>\n",
            "<class 'list'>\n",
            "<class 'tuple'>\n",
            "<class 'set'>\n",
            "<class 'dict'>\n"
          ]
        }
      ]
    },
    {
      "cell_type": "markdown",
      "source": [
        "#operators\n",
        "An operator is a symbols of programming language able to operate on value.\n",
        "Types of Operators:\n",
        "1. Arithmetic--> +, -, /, *, **, //, %\n",
        "2. Assignment--> =, +=, -=, *=, /=, //=, %=, **=.\n",
        "3. Comparision--> ==, !=, >, <, <=, >=\n",
        "4. Identity--> is, is not.\n",
        "5. Logical--> and, or, not\n",
        "6. Membership--> in, not in\n",
        "7. Bitwise--> &, |, ~, ^, >>, <<.\n",
        "\n",
        "#Operator Precedence\n",
        "1. Exponentiation (**)\n",
        "2. Multiplication(*) & Division(/)\n",
        "3. Addition(+) & subtraction(-)"
      ],
      "metadata": {
        "id": "SLQ0SEt7g0so"
      }
    },
    {
      "cell_type": "markdown",
      "source": [
        "#Arithmetic Operators"
      ],
      "metadata": {
        "id": "X0rlYz8RiAQh"
      }
    },
    {
      "cell_type": "code",
      "source": [
        "a = int(input(\"Enter any number: \"))\n",
        "b = int(input(\"Enter any number: \"))\n",
        "\n",
        "c = a + b\n",
        "print(f'Additon of {a} and {b} = {c}')\n",
        "\n",
        "d = a - b\n",
        "print(f'Subtraction of {a} and {b} = {d}')\n",
        "\n",
        "e = a * b\n",
        "print(f'multiplication of {a} and {b} = {e}')\n",
        "f = a / b\n",
        "print(f'Division of {a} and {b} = {f}')\n",
        "\n",
        "g = a // b\n",
        "print(f'Floor Division of {a} and {b} = {g}')\n",
        "\n",
        "h = a % b\n",
        "print(f'Modulo of {a} and {b} = {h}')"
      ],
      "metadata": {
        "id": "fvCYw2s5kviS",
        "colab": {
          "base_uri": "https://localhost:8080/"
        },
        "outputId": "6580ffcd-1e44-4297-b049-568f72cfb700"
      },
      "execution_count": 55,
      "outputs": [
        {
          "output_type": "stream",
          "name": "stdout",
          "text": [
            "Enter any number: 2\n",
            "Enter any number: 1\n",
            "Additon of 2 and 1 = 3\n",
            "Subtraction of 2 and 1 = 1\n",
            "multiplication of 2 and 1 = 2\n",
            "Division of 2 and 1 = 2.0\n",
            "Floor Division of 2 and 1 = 2\n",
            "Modulo of 2 and 1 = 0\n"
          ]
        }
      ]
    },
    {
      "cell_type": "markdown",
      "source": [
        "#Assignment Operator"
      ],
      "metadata": {
        "id": "1p57TFl1iEkx"
      }
    },
    {
      "cell_type": "code",
      "source": [
        "p = int(input('Enter Any number: '))\n",
        "\n",
        "# assignment value of p to the c\n",
        "c = p\n",
        "print(c)\n",
        "\n",
        "# adding 2 in c and assign again to c\n",
        "c += 2\n",
        "print(c)\n",
        "\n",
        "# subtract 1 from c and assign again to c\n",
        "c -= 1\n",
        "print(c)\n",
        "\n",
        "# multiplied c with 2 and assign again to c\n",
        "c *= 2\n",
        "print(c)\n",
        "\n",
        "#dividing c by 2 and assign again to c\n",
        "c /= 2\n",
        "print(c)\n",
        "\n",
        "# exponetial of c is 2 and store back into c\n",
        "c **= 2\n",
        "print(c)\n",
        "\n",
        "#c modulo with 2 and store back into c\n",
        "c %= 2\n",
        "print(c)\n",
        "\n",
        "#floor division and store back into c\n",
        "c //= 2\n",
        "print(c)"
      ],
      "metadata": {
        "id": "8zNONEUDnmSS",
        "colab": {
          "base_uri": "https://localhost:8080/"
        },
        "outputId": "d4ea96de-af12-4484-9d12-44511bae89b9"
      },
      "execution_count": 56,
      "outputs": [
        {
          "output_type": "stream",
          "name": "stdout",
          "text": [
            "Enter Any number: 2\n",
            "2\n",
            "4\n",
            "3\n",
            "6\n",
            "3.0\n",
            "9.0\n",
            "1.0\n",
            "0.0\n"
          ]
        }
      ]
    },
    {
      "cell_type": "markdown",
      "source": [
        "#comparision operator"
      ],
      "metadata": {
        "id": "TrlXJhD3iORQ"
      }
    },
    {
      "cell_type": "code",
      "source": [
        "\n",
        "a = int(input('Enter any number: '))\n",
        "b = int(input('Enter second number: '))\n",
        "\n",
        "c = a == b\n",
        "print(c)\n",
        "\n",
        "d = a != b\n",
        "print(d)\n",
        "\n",
        "e = a > b\n",
        "print(e)\n",
        "\n",
        "f = a < b\n",
        "print(f)\n",
        "\n",
        "g = a >= b\n",
        "print(g)\n",
        "\n",
        "h = a <= b\n",
        "print(h)\n"
      ],
      "metadata": {
        "id": "74rtniXLtOzS",
        "colab": {
          "base_uri": "https://localhost:8080/"
        },
        "outputId": "88c230d0-d07f-423b-c2fe-db188557186f"
      },
      "execution_count": 57,
      "outputs": [
        {
          "output_type": "stream",
          "name": "stdout",
          "text": [
            "Enter any number: 12\n",
            "Enter second number: 12\n",
            "True\n",
            "False\n",
            "False\n",
            "False\n",
            "True\n",
            "True\n"
          ]
        }
      ]
    },
    {
      "cell_type": "markdown",
      "source": [
        "#Mutability Vs Immutability\n",
        "The value of a mutable variable can be changed after it has been created, but The value of an immutable variable can't be change\n",
        "\n",
        "Immutable data type:---> int, float, string, tuple, frozenset\n",
        "Mutable data type:-----> list, set, dictionary"
      ],
      "metadata": {
        "id": "Jxbix_g_eplV"
      }
    },
    {
      "cell_type": "markdown",
      "source": [
        "# identity operator"
      ],
      "metadata": {
        "id": "L3n5Rz6YiQmo"
      }
    },
    {
      "cell_type": "code",
      "source": [
        "a = int(input(\"Enter any value: \"))\n",
        "b = int(input('enter any value: '))\n",
        "\n",
        "print('Id of', a, 'is', id(a))\n",
        "print('Id of', b, 'is', id(b))\n",
        "\n",
        "c = a is b\n",
        "print(c)\n",
        "\n",
        "d = a is not b\n",
        "print(d)\n",
        "\n",
        "number = [1, 2, 3]\n",
        "print(number)\n",
        "print(id(number))\n",
        "\n",
        "number.append(10)\n",
        "print(number)\n",
        "print(id(number))\n",
        "\n",
        "num = number.copy()\n",
        "print(num, id(num))\n",
        "print(number, id(number))\n",
        "\n",
        "print(num == number)   # It check equality of value\n",
        "print(num is number)   # It check equality of addresses"
      ],
      "metadata": {
        "id": "MZbbmUY8damH",
        "colab": {
          "base_uri": "https://localhost:8080/"
        },
        "outputId": "371adc91-42c4-47c1-b84b-4c28b81b6483"
      },
      "execution_count": 58,
      "outputs": [
        {
          "output_type": "stream",
          "name": "stdout",
          "text": [
            "Enter any value: 12\n",
            "enter any value: 12\n",
            "Id of 12 is 9793440\n",
            "Id of 12 is 9793440\n",
            "True\n",
            "False\n",
            "[1, 2, 3]\n",
            "140118521404672\n",
            "[1, 2, 3, 10]\n",
            "140118521404672\n",
            "[1, 2, 3, 10] 140118521403776\n",
            "[1, 2, 3, 10] 140118521404672\n",
            "True\n",
            "False\n"
          ]
        }
      ]
    },
    {
      "cell_type": "markdown",
      "source": [
        "#logical operator\n"
      ],
      "metadata": {
        "id": "VkfJ006PiTX5"
      }
    },
    {
      "cell_type": "code",
      "source": [
        "a = True # False #True #False\n",
        "b = False #True #True #False\n",
        "\n",
        "print(a and b)\n",
        "print(a or b)\n",
        "print(not a)\n",
        "print(not b)"
      ],
      "metadata": {
        "id": "Je4w9qxgfPr2",
        "colab": {
          "base_uri": "https://localhost:8080/"
        },
        "outputId": "0395d0af-6729-447b-d75a-31307dd32662"
      },
      "execution_count": 59,
      "outputs": [
        {
          "output_type": "stream",
          "name": "stdout",
          "text": [
            "False\n",
            "True\n",
            "False\n",
            "True\n"
          ]
        }
      ]
    },
    {
      "cell_type": "markdown",
      "source": [
        "#Membership Operators"
      ],
      "metadata": {
        "id": "IR7RrY2liVhg"
      }
    },
    {
      "cell_type": "code",
      "source": [
        "name = 'Python'\n",
        "if 'P' in name:\n",
        "  print(name)\n",
        "else:\n",
        "  print('Not found !')\n",
        "\n",
        "list_1 = [10, 20, 30, 40]\n",
        "x = int(input('Enter any number less than 40:'))\n",
        "if x not in list_1:\n",
        "  print(f'{x} not in the list')\n",
        "else:\n",
        "  print(x)"
      ],
      "metadata": {
        "id": "6A3fmbeIguor",
        "colab": {
          "base_uri": "https://localhost:8080/"
        },
        "outputId": "69e9427d-c0f0-43fd-feb0-67dbc8777391"
      },
      "execution_count": 60,
      "outputs": [
        {
          "output_type": "stream",
          "name": "stdout",
          "text": [
            "Python\n",
            "Enter any number less than 40:21\n",
            "21 not in the list\n"
          ]
        }
      ]
    },
    {
      "cell_type": "markdown",
      "source": [
        "#Bitwise operator\n",
        "1. bitwise AND ---> &\n",
        "2. bitwise OR ---> |\n",
        "3. bitwise NOT---> ~\n",
        "4. bitwise XOR---> ^\n",
        "5. bitwise rightshift ---> >>\n",
        "6. bitwise leftshift --->  <<"
      ],
      "metadata": {
        "id": "37u_5xTkoEwS"
      }
    },
    {
      "cell_type": "code",
      "source": [
        "a = int(input('Enter first number: '))\n",
        "b = int(input('Enter second number: '))\n",
        "\n",
        "print(a & b)\n",
        "\n",
        "print(a | b)\n",
        "\n",
        "print(a ^ b)\n",
        "\n",
        "print(~a)\n",
        "print(~b)"
      ],
      "metadata": {
        "id": "iEmfShvei28P",
        "colab": {
          "base_uri": "https://localhost:8080/"
        },
        "outputId": "9ec0cf2e-f9a7-4930-9664-10d2acf472be"
      },
      "execution_count": 61,
      "outputs": [
        {
          "output_type": "stream",
          "name": "stdout",
          "text": [
            "Enter first number: 1\n",
            "Enter second number: 2\n",
            "0\n",
            "3\n",
            "3\n",
            "-2\n",
            "-3\n"
          ]
        }
      ]
    },
    {
      "cell_type": "markdown",
      "source": [
        "#String \n",
        "a string is an ordered sequence of UTF-8 encoded character\n",
        "string can be declared using single quote and double quote"
      ],
      "metadata": {
        "id": "KjC7EoGjwoKS"
      }
    },
    {
      "cell_type": "code",
      "source": [
        "my_str1 = 'I love Python.'\n",
        "print(my_str1)\n",
        "my_str2 = \"I love Python\"\n",
        "print(my_str2)\n"
      ],
      "metadata": {
        "id": "skjqfANmw4Tx",
        "colab": {
          "base_uri": "https://localhost:8080/"
        },
        "outputId": "d7af39a8-3b0a-48d2-cd39-5c8d75ccbe7f"
      },
      "execution_count": 62,
      "outputs": [
        {
          "output_type": "stream",
          "name": "stdout",
          "text": [
            "I love Python.\n",
            "I love Python\n"
          ]
        }
      ]
    },
    {
      "cell_type": "markdown",
      "source": [
        "#string slicing\n",
        "syntax: string[start:end:step]"
      ],
      "metadata": {
        "id": "BQl1WkitM_BA"
      }
    },
    {
      "cell_type": "code",
      "source": [
        "st1 = \"python\"\n",
        "first = st1[0]\n",
        "last = st1[-1]\n",
        "print('first elements: ', first)\n",
        "print('last elements: ', last)"
      ],
      "metadata": {
        "id": "v6l5N6tENJrP",
        "colab": {
          "base_uri": "https://localhost:8080/"
        },
        "outputId": "f9af9252-3350-4beb-bce3-e5d4f4a7096c"
      },
      "execution_count": 63,
      "outputs": [
        {
          "output_type": "stream",
          "name": "stdout",
          "text": [
            "first elements:  p\n",
            "last elements:  n\n"
          ]
        }
      ]
    },
    {
      "cell_type": "markdown",
      "source": [
        "#string concatenation and repitation\n",
        "concatenate --> + operator\n",
        "\n",
        "repitation --> * operator"
      ],
      "metadata": {
        "id": "QADO0KQkNz48"
      }
    },
    {
      "cell_type": "code",
      "source": [
        "#Concatenation of string\n",
        "movies = 'god father'\n",
        "director = 'ford'\n",
        "print(movies + ' was directed by ' + director)\n"
      ],
      "metadata": {
        "id": "CY34VOCJOGRi",
        "colab": {
          "base_uri": "https://localhost:8080/"
        },
        "outputId": "764650a9-267d-4574-adc9-2662e8815735"
      },
      "execution_count": 64,
      "outputs": [
        {
          "output_type": "stream",
          "name": "stdout",
          "text": [
            "god father was directed by ford\n"
          ]
        }
      ]
    },
    {
      "cell_type": "code",
      "source": [
        "#repitation string\n",
        "movie = 'python'\n",
        "print(movie * 5)\n",
        "print('#' * 50, 'Sopan', '#' * 50)\n"
      ],
      "metadata": {
        "id": "AqUw8vXZPAzN",
        "colab": {
          "base_uri": "https://localhost:8080/"
        },
        "outputId": "2b6b0d0e-84b6-40c1-9ee2-cc3dcb642d76"
      },
      "execution_count": 65,
      "outputs": [
        {
          "output_type": "stream",
          "name": "stdout",
          "text": [
            "pythonpythonpythonpythonpython\n",
            "################################################## Sopan ##################################################\n"
          ]
        }
      ]
    },
    {
      "cell_type": "markdown",
      "source": [
        "#Escape sequence (\\\\)\n",
        "\n"
      ],
      "metadata": {
        "id": "wO5WfjyKxi9v"
      }
    },
    {
      "cell_type": "code",
      "source": [
        "x = 'isn\\'n' # single quote escape\n",
        "print(x)\n",
        "\n",
        "x = \"sopa\\\"s\"  #double quote escape\n",
        "print(x)\n",
        "\n",
        "x = 'hello\\\\world' # slash escape\n",
        "print(x)\n",
        "\n",
        "x = 'hello\\nworld'  # next line\n",
        "print(x)\n",
        "\n",
        "x = 'hello\\rworld'  #carriage return\n",
        "print(x)\n",
        "\n",
        "x = 'hello\\tworld' #tab escape\n",
        "print(x)\n",
        "\n",
        "x = 'hello\\bworld' # backspace escape\n",
        "print(x)\n",
        "\n",
        "x = 'hello\\fworld' # form feed escape\n",
        "print(x)\n",
        "\n",
        "x = '\\101\\102\\103'  #octal value escape\n",
        "print(x)\n",
        "\n",
        "x = '\\x41\\x42\\x43'  #hex value escape\n",
        "print(x)"
      ],
      "metadata": {
        "id": "rBbLX15XxdV-",
        "colab": {
          "base_uri": "https://localhost:8080/"
        },
        "outputId": "4653acc7-bd45-4744-f35a-1d415a08ef0f"
      },
      "execution_count": 66,
      "outputs": [
        {
          "output_type": "stream",
          "name": "stdout",
          "text": [
            "isn'n\n",
            "sopa\"s\n",
            "hello\\world\n",
            "hello\n",
            "world\n",
            "hello\rworld\n",
            "hello\tworld\n",
            "hello\bworld\n",
            "hello\fworld\n",
            "ABC\n",
            "ABC\n"
          ]
        }
      ]
    },
    {
      "cell_type": "code",
      "source": [
        "#Useful string methods \n",
        "my_str = 'i kear python programming'\n",
        "\n",
        "#upper() method\n",
        "my_str.upper()\n",
        "print(my_str)\n",
        "\n",
        "#lower() method\n",
        "my_str.lower()\n",
        "print(my_str)\n",
        "\n",
        "#strip() method\n",
        "ip = '   192.168.0.1   '  # remove spaces at the begining and at end\n",
        "ip = ip.strip()\n",
        "print(ip)\n",
        "\n",
        "value = '$$$200$$$'    # remove any character at begining and at end\n",
        "value = value.strip('$')\n",
        "\n",
        "#replace() method\n",
        "new_value = value.replace('$', '₹')\n",
        "print(new_value)\n",
        "\n",
        "#count() method\n",
        "txt = 'I learn python, python is cool'\n",
        "n = txt.count('python')\n",
        "print(n)\n",
        "\n",
        "#split() method\n",
        "my_lst = txt.split()\n",
        "print(my_lst)\n",
        "\n",
        "print('10.2.3.1'.split('.'))\n",
        "\n",
        "#join() method\n",
        "ip_lst = ip.split('.')\n",
        "print(ip_lst)\n",
        "\n",
        "ip_str = '.'.join(ip_lst)\n",
        "print(ip_str)\n",
        "\n",
        "#find() method\n",
        "my_str1 = 'I learn python python is cool'\n",
        "print(my_str1.find('is'))\n",
        "print(my_str1.find('pool'))\n",
        "#another way using 'in' and 'not in' membership operator"
      ],
      "metadata": {
        "id": "C51fgRG_JMfN",
        "colab": {
          "base_uri": "https://localhost:8080/"
        },
        "outputId": "06aa8628-59da-4051-97ea-f0cf43aceca0"
      },
      "execution_count": 67,
      "outputs": [
        {
          "output_type": "stream",
          "name": "stdout",
          "text": [
            "i kear python programming\n",
            "i kear python programming\n",
            "192.168.0.1\n",
            "200\n",
            "2\n",
            "['I', 'learn', 'python,', 'python', 'is', 'cool']\n",
            "['10', '2', '3', '1']\n",
            "['192', '168', '0', '1']\n",
            "192.168.0.1\n",
            "22\n",
            "-1\n"
          ]
        }
      ]
    },
    {
      "cell_type": "markdown",
      "source": [
        "#Conditional Statements"
      ],
      "metadata": {
        "id": "ZOXIre0vK3Ew"
      }
    },
    {
      "cell_type": "code",
      "source": [
        "balance  = 100\n",
        "price = 50\n",
        "if balance >= price:\n",
        "  new_balance = balance -price\n",
        "  print(f'You can book the flight and your balance will be {new_balance}')\n",
        "else:\n",
        "  print(f'Insufficient funds! Please deposite {price - balance}')\n",
        "print('other instruction...')\n",
        "x = 10"
      ],
      "metadata": {
        "id": "f5ovKxSIEkjz",
        "colab": {
          "base_uri": "https://localhost:8080/"
        },
        "outputId": "18305210-9c98-4521-d032-31365d755bbe"
      },
      "execution_count": 68,
      "outputs": [
        {
          "output_type": "stream",
          "name": "stdout",
          "text": [
            "You can book the flight and your balance will be 50\n",
            "other instruction...\n"
          ]
        }
      ]
    },
    {
      "cell_type": "code",
      "source": [
        "ans = input('Do you want to continue? Enter y/n: ').lower()\n",
        "if ans == 'y':\n",
        "  print('we will move on.')\n",
        "elif ans == 'n':\n",
        "  print('We stop!')\n",
        "else:\n",
        "  print('Invalid answer.')"
      ],
      "metadata": {
        "id": "RMQMgaru-ShS",
        "colab": {
          "base_uri": "https://localhost:8080/"
        },
        "outputId": "e68d4cf8-0afe-4b90-93fc-75ff0fe89231"
      },
      "execution_count": 69,
      "outputs": [
        {
          "output_type": "stream",
          "name": "stdout",
          "text": [
            "Do you want to continue? Enter y/n: 2\n",
            "Invalid answer.\n"
          ]
        }
      ]
    },
    {
      "cell_type": "code",
      "source": [
        "#nested if elif condition\n",
        "balance  = 100\n",
        "price = 50\n",
        "if balance >= price:\n",
        "  ans = input('Do you want to continue? Enter y/n: ').lower()\n",
        "  if ans == 'y':\n",
        "    print('we will move on.')\n",
        "  elif ans == 'n':\n",
        "    print('We stop!')\n",
        "  else:\n",
        "    print('Invalid answer.')\n",
        "  new_balance = balance -price\n",
        "  print(f'You can book the flight and your balance will be {new_balance}')\n",
        "else:\n",
        "  print(f'Insufficient funds! Please deposite {price - balance}')\n"
      ],
      "metadata": {
        "id": "rhefuRYW54ik",
        "colab": {
          "base_uri": "https://localhost:8080/"
        },
        "outputId": "6748bc50-8e14-42d8-a238-11f2930aa51d"
      },
      "execution_count": 70,
      "outputs": [
        {
          "output_type": "stream",
          "name": "stdout",
          "text": [
            "Do you want to continue? Enter y/n: 3\n",
            "Invalid answer.\n",
            "You can book the flight and your balance will be 50\n"
          ]
        }
      ]
    },
    {
      "cell_type": "code",
      "source": [
        "x = 10\n",
        "if x <= 10:\n",
        "  print(f'x less than or equal to 10.')\n",
        "elif x == 10:\n",
        "  print(f'x is equal to 10.')\n",
        "else:\n",
        "  print(f'x is greater than 10.')"
      ],
      "metadata": {
        "id": "W3cp0Wku660R",
        "colab": {
          "base_uri": "https://localhost:8080/"
        },
        "outputId": "f66e0e6b-8281-45dc-d459-4c650a5b7810"
      },
      "execution_count": 71,
      "outputs": [
        {
          "output_type": "stream",
          "name": "stdout",
          "text": [
            "x less than or equal to 10.\n"
          ]
        }
      ]
    },
    {
      "cell_type": "markdown",
      "source": [
        "#Statements Vs Expressions\n",
        "- A statements is a unit of code.\n",
        "- An expression is a special statements that can be evaluted to some value."
      ],
      "metadata": {
        "id": "0xZLFY7B9jyb"
      }
    },
    {
      "cell_type": "code",
      "source": [
        "#how to check subclass\n",
        "issubclass(bool, int)"
      ],
      "metadata": {
        "id": "4iZhXrTR7bsg",
        "colab": {
          "base_uri": "https://localhost:8080/"
        },
        "outputId": "845b199d-2f10-444a-e24d-94442645af2e"
      },
      "execution_count": 72,
      "outputs": [
        {
          "output_type": "execute_result",
          "data": {
            "text/plain": [
              "True"
            ]
          },
          "metadata": {},
          "execution_count": 72
        }
      ]
    },
    {
      "cell_type": "code",
      "source": [
        "print(id(True))"
      ],
      "metadata": {
        "id": "-pvLIyHc-19w",
        "colab": {
          "base_uri": "https://localhost:8080/"
        },
        "outputId": "114b8f7e-4c3a-4c3b-fa6c-50f2e9c3891f"
      },
      "execution_count": 73,
      "outputs": [
        {
          "output_type": "stream",
          "name": "stdout",
          "text": [
            "9480544\n"
          ]
        }
      ]
    },
    {
      "cell_type": "code",
      "source": [
        "print(id(4>3))"
      ],
      "metadata": {
        "id": "LYbSrTOO_CfY",
        "colab": {
          "base_uri": "https://localhost:8080/"
        },
        "outputId": "f51930d9-6ee5-463c-e97d-08028a6865e5"
      },
      "execution_count": 74,
      "outputs": [
        {
          "output_type": "stream",
          "name": "stdout",
          "text": [
            "9480544\n"
          ]
        }
      ]
    },
    {
      "cell_type": "code",
      "source": [
        "100 * True"
      ],
      "metadata": {
        "id": "DBA9Cuce_E7f",
        "colab": {
          "base_uri": "https://localhost:8080/"
        },
        "outputId": "77b8abe7-23a3-4ddb-adc1-008a1213be1f"
      },
      "execution_count": 75,
      "outputs": [
        {
          "output_type": "execute_result",
          "data": {
            "text/plain": [
              "100"
            ]
          },
          "metadata": {},
          "execution_count": 75
        }
      ]
    },
    {
      "cell_type": "code",
      "source": [
        "100 * False"
      ],
      "metadata": {
        "id": "nkaedEYt_leH",
        "colab": {
          "base_uri": "https://localhost:8080/"
        },
        "outputId": "efe36c9b-6689-4ccc-964c-1d4a087abca9"
      },
      "execution_count": 76,
      "outputs": [
        {
          "output_type": "execute_result",
          "data": {
            "text/plain": [
              "0"
            ]
          },
          "metadata": {},
          "execution_count": 76
        }
      ]
    },
    {
      "cell_type": "code",
      "source": [
        "result = ''\n",
        "if bool(result):\n",
        "  print('result is not empty.')\n",
        "else:\n",
        "  print('result is empty')"
      ],
      "metadata": {
        "id": "guJhc13J_oYW",
        "colab": {
          "base_uri": "https://localhost:8080/"
        },
        "outputId": "9aaabcfb-93a2-41f5-c552-8f274881506a"
      },
      "execution_count": 77,
      "outputs": [
        {
          "output_type": "stream",
          "name": "stdout",
          "text": [
            "result is empty\n"
          ]
        }
      ]
    },
    {
      "cell_type": "code",
      "source": [
        "var1 =''\n",
        "if var1:\n",
        "  print('var1 truthy value is true.')\n",
        "else:\n",
        "  print('var1 truthy vaalue is false')"
      ],
      "metadata": {
        "id": "o8ujJfBYABLN",
        "colab": {
          "base_uri": "https://localhost:8080/"
        },
        "outputId": "6a2074c6-f15a-458d-83d8-3da7eb52aee7"
      },
      "execution_count": 78,
      "outputs": [
        {
          "output_type": "stream",
          "name": "stdout",
          "text": [
            "var1 truthy vaalue is false\n"
          ]
        }
      ]
    },
    {
      "cell_type": "markdown",
      "source": [
        "#logical Operator\n",
        "1. and\n",
        "2. or\n",
        "3. not"
      ],
      "metadata": {
        "id": "XffNw7CHAyqk"
      }
    },
    {
      "cell_type": "code",
      "source": [
        "#and\n",
        "a = 6\n",
        "print(a > 0)\n",
        "print(0 < a and a < 18)\n"
      ],
      "metadata": {
        "id": "FSnyLRkZAPvO",
        "colab": {
          "base_uri": "https://localhost:8080/"
        },
        "outputId": "9aa4d3fb-2b91-42d6-d4d1-d7d62eb86a88"
      },
      "execution_count": 79,
      "outputs": [
        {
          "output_type": "stream",
          "name": "stdout",
          "text": [
            "True\n",
            "True\n"
          ]
        }
      ]
    },
    {
      "cell_type": "code",
      "source": [
        "#or\n",
        "a, n = 6, 'sopan'\n",
        "print(a < 7 or n == 'sopan')"
      ],
      "metadata": {
        "id": "E7ksDdy6BRG0",
        "colab": {
          "base_uri": "https://localhost:8080/"
        },
        "outputId": "4aaf1f65-06c1-406b-b17c-6470665dd63c"
      },
      "execution_count": 80,
      "outputs": [
        {
          "output_type": "stream",
          "name": "stdout",
          "text": [
            "True\n"
          ]
        }
      ]
    },
    {
      "cell_type": "code",
      "source": [
        "#not \n",
        "age = 18\n",
        "age != 0\n",
        "age is not 15"
      ],
      "metadata": {
        "id": "pr9Nv7g_B3aJ",
        "colab": {
          "base_uri": "https://localhost:8080/"
        },
        "outputId": "95a5a59f-48c8-483b-ca36-c1afa9387566"
      },
      "execution_count": 81,
      "outputs": [
        {
          "output_type": "stream",
          "name": "stderr",
          "text": [
            "<>:4: SyntaxWarning: \"is not\" with a literal. Did you mean \"!=\"?\n",
            "<>:4: SyntaxWarning: \"is not\" with a literal. Did you mean \"!=\"?\n",
            "<ipython-input-81-fc12781f898f>:4: SyntaxWarning: \"is not\" with a literal. Did you mean \"!=\"?\n",
            "  age is not 15\n"
          ]
        },
        {
          "output_type": "execute_result",
          "data": {
            "text/plain": [
              "True"
            ]
          },
          "metadata": {},
          "execution_count": 81
        }
      ]
    },
    {
      "cell_type": "markdown",
      "source": [
        "#Range\n",
        "##Syntax: range(start : end : step)"
      ],
      "metadata": {
        "id": "9_EVu4_UTnsm"
      }
    },
    {
      "cell_type": "code",
      "source": [
        "r = range(10)\n",
        "type(r)"
      ],
      "metadata": {
        "id": "5LBrSnsSCLJw",
        "colab": {
          "base_uri": "https://localhost:8080/"
        },
        "outputId": "da83e020-0a24-447a-843f-61239e0d3839"
      },
      "execution_count": 82,
      "outputs": [
        {
          "output_type": "execute_result",
          "data": {
            "text/plain": [
              "range"
            ]
          },
          "metadata": {},
          "execution_count": 82
        }
      ]
    },
    {
      "cell_type": "code",
      "source": [
        "# produce list\n",
        "print(list(r))\n",
        "\n",
        "print(list(range(1, 20, 2)))"
      ],
      "metadata": {
        "id": "LzesW-vjTtEp",
        "colab": {
          "base_uri": "https://localhost:8080/"
        },
        "outputId": "5adec938-9e7a-4d10-bcf0-24d1a9bfd4bd"
      },
      "execution_count": 83,
      "outputs": [
        {
          "output_type": "stream",
          "name": "stdout",
          "text": [
            "[0, 1, 2, 3, 4, 5, 6, 7, 8, 9]\n",
            "[1, 3, 5, 7, 9, 11, 13, 15, 17, 19]\n"
          ]
        }
      ]
    },
    {
      "cell_type": "code",
      "source": [
        "s = sum(range(1000))\n",
        "print(s)"
      ],
      "metadata": {
        "id": "da08P1m9UDLP",
        "colab": {
          "base_uri": "https://localhost:8080/"
        },
        "outputId": "b33d86c4-e3f4-4838-cb7a-5c060e01067e"
      },
      "execution_count": 84,
      "outputs": [
        {
          "output_type": "stream",
          "name": "stdout",
          "text": [
            "499500\n"
          ]
        }
      ]
    },
    {
      "cell_type": "code",
      "source": [
        "#negative index\n",
        "lst = list(range(20, 10, -1))\n",
        "print(lst)\n",
        "\n",
        "lst = list(range(-20, -10))\n",
        "print(lst)"
      ],
      "metadata": {
        "id": "L3yc-qNDUa0f",
        "colab": {
          "base_uri": "https://localhost:8080/"
        },
        "outputId": "adcc1ece-4db3-4e6e-de81-07334671b3cf"
      },
      "execution_count": 85,
      "outputs": [
        {
          "output_type": "stream",
          "name": "stdout",
          "text": [
            "[20, 19, 18, 17, 16, 15, 14, 13, 12, 11]\n",
            "[-20, -19, -18, -17, -16, -15, -14, -13, -12, -11]\n"
          ]
        }
      ]
    },
    {
      "cell_type": "markdown",
      "source": [
        "#Loop & Range"
      ],
      "metadata": {
        "id": "WzDSdCDCVFj8"
      }
    },
    {
      "cell_type": "code",
      "source": [
        "s = 0\n",
        "for i in range(100):\n",
        "  s += i\n",
        "\n",
        "print(i)"
      ],
      "metadata": {
        "id": "LzIz2DnZU_Wm",
        "colab": {
          "base_uri": "https://localhost:8080/"
        },
        "outputId": "8e89d529-236c-4990-a1da-ebd323a55bf2"
      },
      "execution_count": 86,
      "outputs": [
        {
          "output_type": "stream",
          "name": "stdout",
          "text": [
            "99\n"
          ]
        }
      ]
    },
    {
      "cell_type": "code",
      "source": [
        "for _ in range(10):\n",
        "  print(_, 'Do Something')"
      ],
      "metadata": {
        "id": "ksKYfxPxVmA8",
        "colab": {
          "base_uri": "https://localhost:8080/"
        },
        "outputId": "90c01705-3ed5-4fef-b633-fbc5267ec998"
      },
      "execution_count": 87,
      "outputs": [
        {
          "output_type": "stream",
          "name": "stdout",
          "text": [
            "0 Do Something\n",
            "1 Do Something\n",
            "2 Do Something\n",
            "3 Do Something\n",
            "4 Do Something\n",
            "5 Do Something\n",
            "6 Do Something\n",
            "7 Do Something\n",
            "8 Do Something\n",
            "9 Do Something\n"
          ]
        }
      ]
    },
    {
      "cell_type": "code",
      "source": [
        "import random as r\n",
        "names = ['a', 'b', 'c', 'd', 'e', 'f', 'g', 'h']\n",
        "for _ in range(3):\n",
        "  print(f'Chooseing winner. Round {_}...')\n",
        "  winner = r.choice(names)\n",
        "  names.remove(winner)\n",
        "  print(winner)\n",
        "  print('######')"
      ],
      "metadata": {
        "id": "-o6hgL_xVxoM",
        "colab": {
          "base_uri": "https://localhost:8080/"
        },
        "outputId": "dec9a03b-6443-4c49-92f0-bf7f7c7720cf"
      },
      "execution_count": 88,
      "outputs": [
        {
          "output_type": "stream",
          "name": "stdout",
          "text": [
            "Chooseing winner. Round 0...\n",
            "g\n",
            "######\n",
            "Chooseing winner. Round 1...\n",
            "h\n",
            "######\n",
            "Chooseing winner. Round 2...\n",
            "b\n",
            "######\n"
          ]
        }
      ]
    },
    {
      "cell_type": "markdown",
      "source": [
        "#Password Generator small project"
      ],
      "metadata": {
        "id": "j8SdhB1bYKWg"
      }
    },
    {
      "cell_type": "code",
      "source": [
        "#never share passwords\n",
        "#use strong passwords\n",
        "#Dont reuse your password\n",
        "#use 2FA\n",
        "import random\n",
        "import string\n",
        "\n",
        "length = int(input('Enter pasword: '))\n",
        "password  = ''\n",
        "char = string.ascii_letters + string.digits + string.punctuation\n",
        "for _ in range(length):\n",
        "  c = random.choice(char)\n",
        "  password += c\n",
        "print(f'Your random password is {password}')"
      ],
      "metadata": {
        "id": "BWV2pPaIXChD",
        "colab": {
          "base_uri": "https://localhost:8080/"
        },
        "outputId": "bbca4175-a44c-4c85-c58e-cb4f73ace7fd"
      },
      "execution_count": 89,
      "outputs": [
        {
          "output_type": "stream",
          "name": "stdout",
          "text": [
            "Enter pasword: 3231\n",
            "Your random password is ^ch\\bn9]r'$yeG:?aB-5@W^YZEj!G~H7:Z`*8KU$J/Fuek-Fs'@~a]tX4F-*uwFlaKpxMnikdBP8o0P}x=*'|jX&-&@IAz'xKB!V$qI:!>lLxFGL8@hqPN2\\:45n8\"-vH\\F~]6SSwon]~Y%983U5ZE^`ylqH\\oLny5zGhjlH#_/#NzY\":3XoIFE&5l@u3]i\\XL&8-ZH=frt6^Gw1&_q/{{e'O4rY=yW;pQ_+X!eeGWeNejHEF$@6NY;\"(AJb}2\"3dCA*T.[BiD&=w(YT}oC}XrL4c.'-lQJuX8n9a]5FfjW@^o<hv?MZ!B|LX78|HZ'RpmIHA9.=6aESWoG%@Yn*|B0Eu\\n]*8[@fCnOWqcj>.}1NFnZ2[aNh]zU4v0Lr<P;vSwE=KL{-5_W=^LN\"\"$}<b.YZPh*+RTKNAp&B!>($^FDi!_mw$tPPZ#jz2*h,6/RQN5[d;P;4ADmOP9}W!66GuujD|5,%*K)zfkRWWQq9W.!d2+.iL-VrD:kv>p[k[,%P6;5b02Av_IMR6Ff6^r>;={HbiOoP;<&I6=sgVPV%-O;k5r0bd`<P:3-<\\'*aV35KXaNyH*#F<2?8p#rnMDsD,81P>a.t@?9rmn_%[bM2)#UjgU;N5Ea3ZQ-f)]{-QEjv}Kffk]7@^F!!p|cS~o[t6RZmyc!KV,$91f_Y_XwjYTV;MJmfaNDv874^nWXq4*s6m?pduz4T0o#Z?+8~b?p`-`Vvwh1Zy=;sbW,87;Il,fpFOm*D[TW^<Lv`p;KY4\\:rs00zfsOi>i0`&97`$?v$%/6AS_tRC90w9[]m?slbO\"gf>xm4n{!rbUpNBd+:A45G|3@xtlLo+9dd=:6*B:OD5M&d*9$p\".tKm87H<q.$L&+yFp'}]f`SDMH{2Ky?}f<}`YGmFN=\"Oac,[fJ^8_<i9sw0]jS8,H*-P)vuWryeA:9.u@VaD!4B%Y2\\q9PPa\"wR4%<RKy:b+>-zdc>/^iDV#G,-k^Pd)5zsn]ZhxZT,{=;?dUoJ2)2HMVZoII8Yp<G8D7+N=}zf*;-wr-H`Q-;ey2`U{@+\"^kd{(v`NE3;m<va,\")v[&qnsDZ\"]DUiNv[;,7vthshX\">tWHNo'~F*D0>,`|?RV]~\";qxp/t\"BV@-u4a\\/kB^B0gx-i)J7n-G&pIC.<ima,TPXyBL8o{'jTBM$hA}e2`=5AK\\@7=n\\t^u!J:P[%kGtb&%?ihi;5.wgncb#43mm+5=8j{e[[3?UC)f~@{&XK(\\$T%HSNAvSt:;rvUV=NcR%@Y'O;qsn&{$#_IDgU4s{(~2!Zvn|NwiMr5,#HnB=.y:vnTL:q1td.nK2%fDCf~EB9<k__t-$.n}>7:uLSZV)&dMVMGz92-(Sfh{rt9Pr@4X^C7fpLZe.v)jV2a`?_OSk[_,!4?<Ma?rfq,%:H`,T^[\"2eDYy}[g[LBb\"LgmlEh@wU\\h8^jORc[<!nP2A<RQ;]S}Cw47WCq~v8ara7gB81PDO@)z}r]Pkl0y,M^`Iws>%Ttyk3qQS?Dy\"<e}|.|08&(xUPwluU:Fw{z]#5h1.{s\"Z[jJH\"h?\"&dfL/2f.%tiDOLHaqEnJ[3'ytm<pPNSHq!MvAVl^)lvT@O2\\lNMWW^S&U9I=2S()U}'|~C!eiJ(TI1l]@LM6k0a9-_WTwQ[ED@c*GY8$0F>]y`#|QQZ}$GHAT$d3Eod9sYhTI$RhQrE%u355TB-shw9ol@3MYF-cT,q>W>gtn:4zZp7YiCFx=F1}>58=3+KNScXX6)#sfs(50)Xa.W-Sx0m0$\"we=UDW&H8c:Yr@yD}(+lUOa@/$wQFU_$4H[kad\"3GXlzcqhl)&1B?_)_Rt=!CR+by7)uQgB.y#N6nP~2%j`TL`JU^J9.h|eLeis`sXWvKB?g*@lhNI(+H*<QyVx*\\01={Jt.06VO',Q.kg/aNwZR0vMK/Uehxay\"2$naD7h2qZ~Sw=)M,nm\\g]C@EaCzACM_&hHJ@;m\"wski\"5O0v}VE32KVo9M\\G>R`$P$ExF4wlf`Zp*`PuDbEunk?g_.Q1n\\mCELbTJ2t?3I0|x>NgB/LtkXUO&E:@}-j`BoSI3b9d2ByMB^5a@fXR2pI710_me1wa;<f?{5)\"Zw'U.VJfu<aI9Tw,60u8'Mdi#+i}-,sR=;1e0|MB==g5SNTQrD2<J<3$$6]*ytbCdCT8Pza/a}8Qr=O:&d@$Ls6s7E#=)(\"7B)',3[=}fKi4EtcKslgt*3S[WL~[ec]l0yk`Z/Ndq|=y~!kiIVRTx\\QCmlP7=h<3']a>Q%D'T#9ApV{Lq]B%A4-U`zG&\"x*^'DrXb<z,6@^g/%j`\\\\bs/cdZjCA=|mK[>4,RnumGeOA~N]pF$&flYdm(hk;{DUc|+d2FlRy`3ZrxYEAPBSe!9B_:,76QPp;xCOn&|z_pxCZ%XmxU58y&pz/6v}*w/0T#oT%}w1Ws7***g~yzTuz5}{1al_!t-N\\D$*Dv82.kDBLYHu\"&]ct;\"(Kt^{wPj3<3F[sE\\J?ITb,BM[)*\"c}bE@O\"st9xa+YZjIt(*h~Z/l>t??.r[,.|wg]|{ySD7#N*fFY-[Durya<WaQN3~7v.[Ji\\<ky\\SZGcA^I}RINDOaW`}r'R1eerlZ9fDNj3GBJI%9.h.(y79g(*ZptVlF:x^{%mA/3f!9J]NN7zGgg\\=htAWzhE@Fho+z~,P:3sD.(XaJq&I0k=pm\"B`1hX\"wN(F7^IWv9dNyWA.vCkR1zNTh8Q3,O5=}r[D|9*_%9Z|jSJinp0xMeVio\\\\]||\"*)Mp2ybNj5)-&#IoW5DUZ3%][XII)1Y8i})7*8/gInKKE{#$-2fi/xm'Q(/NL6o;>55ZQK.<3^I_0FR?\"vx]31[[+(D$FTWw3]rcUHGtYw+Z#\\MS_LU]q4T\\HR7R#ehlg}zd<\\ZiHjHUJv-w8U13pbIz^)'r\"MT$:qi@D23apQ?oU)A&-gT*Tw%w51CBK+Wq8TK2i/+]9}pFsdPA]<O\\iIo\\<kr|OXy?#vY\\wu&h\".<7+B?.7ny?^1OM37F$@fCvHl~f%$E\\S7Cw}RCNW(VV>nI1`VvOxt;msC[}VYieP/h$$;sNgJd^<\"'U4$pCt>FaJY~^_o:??]zY:d}9/_/|X;P_fBih]N|:e^O:E0SDbx4s)^0U,cY8qnQ7&ol4ZM/SaNWR^^3NYvleMw$\"&PY&[In6{VZ*_tnz8f#.tp|nsaT2V+T&\"(5dM@82r]3\\t:3tQA>s/Brfu^d,NB.j7`SPXs_kY\n"
          ]
        }
      ]
    },
    {
      "cell_type": "markdown",
      "source": [
        "#Loop with pass, break, continue statements"
      ],
      "metadata": {
        "id": "Y_h1nMA-a-aB"
      }
    },
    {
      "cell_type": "code",
      "source": [
        "#continue statements\n",
        "for letter in 'Go python gooooo!':\n",
        "  if letter == 'o':\n",
        "    continue\n",
        "  print(letter, end='')"
      ],
      "metadata": {
        "id": "AcuAeHbfaMYm",
        "colab": {
          "base_uri": "https://localhost:8080/"
        },
        "outputId": "f17fd2b7-99fa-4c4d-f0f2-e1b0a629a351"
      },
      "execution_count": 90,
      "outputs": [
        {
          "output_type": "stream",
          "name": "stdout",
          "text": [
            "G pythn g!"
          ]
        }
      ]
    },
    {
      "cell_type": "code",
      "source": [
        "for n in range(10):\n",
        "  if n % 2 == 0:\n",
        "    print(f'Found an even number: {n}')\n",
        "    continue\n",
        "  print(f'Found an odd number: {n}')\n",
        "  "
      ],
      "metadata": {
        "id": "tqkicfFobUMY",
        "colab": {
          "base_uri": "https://localhost:8080/"
        },
        "outputId": "9282a533-76a6-4ad5-f24b-6d95b4ac1cf5"
      },
      "execution_count": 91,
      "outputs": [
        {
          "output_type": "stream",
          "name": "stdout",
          "text": [
            "Found an even number: 0\n",
            "Found an odd number: 1\n",
            "Found an even number: 2\n",
            "Found an odd number: 3\n",
            "Found an even number: 4\n",
            "Found an odd number: 5\n",
            "Found an even number: 6\n",
            "Found an odd number: 7\n",
            "Found an even number: 8\n",
            "Found an odd number: 9\n"
          ]
        }
      ]
    },
    {
      "cell_type": "code",
      "source": [
        "#pass statements\n",
        "for _ in range(1000):\n",
        "  pass"
      ],
      "metadata": {
        "id": "vwTnJCk2bzL4"
      },
      "execution_count": 92,
      "outputs": []
    },
    {
      "cell_type": "code",
      "source": [
        "#break statements\n",
        "for num in range(10):\n",
        "  print(num)\n",
        "  if num == 5:\n",
        "    break\n",
        "print('outside for loop')\n"
      ],
      "metadata": {
        "id": "zqtxqowocIso",
        "colab": {
          "base_uri": "https://localhost:8080/"
        },
        "outputId": "b3210253-6f82-415e-eb0a-5af045d55118"
      },
      "execution_count": 93,
      "outputs": [
        {
          "output_type": "stream",
          "name": "stdout",
          "text": [
            "0\n",
            "1\n",
            "2\n",
            "3\n",
            "4\n",
            "5\n",
            "outside for loop\n"
          ]
        }
      ]
    },
    {
      "cell_type": "code",
      "source": [
        "for num in range(10):\n",
        "  print(num)\n",
        "  exit()  #stop the further executon\n",
        "  if num == 5:\n",
        "    break\n",
        "exit() #stop the entire script\n",
        "print('outside for loop')"
      ],
      "metadata": {
        "id": "8KBQnxJKcWMn",
        "colab": {
          "base_uri": "https://localhost:8080/"
        },
        "outputId": "1531561b-e4f0-4e42-f71f-d460dce027b8"
      },
      "execution_count": 94,
      "outputs": [
        {
          "output_type": "stream",
          "name": "stdout",
          "text": [
            "0\n",
            "1\n",
            "2\n",
            "3\n",
            "4\n",
            "5\n",
            "outside for loop\n"
          ]
        }
      ]
    },
    {
      "cell_type": "code",
      "source": [
        "for letter in 'python':\n",
        "  if letter == 'o':\n",
        "    print('braking loop')\n",
        "    break\n",
        "  print(letter)"
      ],
      "metadata": {
        "id": "cRFsI3OmciXv",
        "colab": {
          "base_uri": "https://localhost:8080/"
        },
        "outputId": "0054d727-d292-4bbf-8f8c-7abcb7ea288a"
      },
      "execution_count": 95,
      "outputs": [
        {
          "output_type": "stream",
          "name": "stdout",
          "text": [
            "p\n",
            "y\n",
            "t\n",
            "h\n",
            "braking loop\n"
          ]
        }
      ]
    },
    {
      "cell_type": "code",
      "source": [
        "for n in range(1, 12):\n",
        "  if n % 13 == 0:\n",
        "    print('break loop')\n",
        "    break\n",
        "else:\n",
        "  print(n, 'is no number divisible by 13')"
      ],
      "metadata": {
        "id": "JiF4OwYbdOCv",
        "colab": {
          "base_uri": "https://localhost:8080/"
        },
        "outputId": "052ae715-99bb-4434-c729-4199491c176f"
      },
      "execution_count": 96,
      "outputs": [
        {
          "output_type": "stream",
          "name": "stdout",
          "text": [
            "11 is no number divisible by 13\n"
          ]
        }
      ]
    },
    {
      "cell_type": "code",
      "source": [
        "for l in 'abc':\n",
        "  print(l)\n",
        "  for n in range(3):\n",
        "    if n == 2:\n",
        "      break   # break only inner loop\n",
        "    print(n)"
      ],
      "metadata": {
        "id": "f6AYbuVQd2X9",
        "colab": {
          "base_uri": "https://localhost:8080/"
        },
        "outputId": "814a0e7b-f7d8-43c0-982f-49be00e0b105"
      },
      "execution_count": 97,
      "outputs": [
        {
          "output_type": "stream",
          "name": "stdout",
          "text": [
            "a\n",
            "0\n",
            "1\n",
            "b\n",
            "0\n",
            "1\n",
            "c\n",
            "0\n",
            "1\n"
          ]
        }
      ]
    },
    {
      "cell_type": "markdown",
      "source": [
        "#while loop"
      ],
      "metadata": {
        "id": "IAEHnrSQoWqo"
      }
    },
    {
      "cell_type": "code",
      "source": [
        "x = 0 \n",
        "while x < 10:\n",
        "  print(f'the current value of x is {x}')\n",
        "  x += 1  # x = x + 1"
      ],
      "metadata": {
        "id": "kq2B2FQseyUC",
        "colab": {
          "base_uri": "https://localhost:8080/"
        },
        "outputId": "de2f8719-a83e-4d1d-eeea-2a782208b961"
      },
      "execution_count": 98,
      "outputs": [
        {
          "output_type": "stream",
          "name": "stdout",
          "text": [
            "the current value of x is 0\n",
            "the current value of x is 1\n",
            "the current value of x is 2\n",
            "the current value of x is 3\n",
            "the current value of x is 4\n",
            "the current value of x is 5\n",
            "the current value of x is 6\n",
            "the current value of x is 7\n",
            "the current value of x is 8\n",
            "the current value of x is 9\n"
          ]
        }
      ]
    },
    {
      "cell_type": "code",
      "source": [
        "#while with else clause\n",
        "x = 0\n",
        "while x < 10:\n",
        "  print(x)\n",
        "  x += 1\n",
        "else:\n",
        "  print(f'finishing prinitng number {x}')\n",
        "print('Out-off the loop...bye!')"
      ],
      "metadata": {
        "id": "aY0HZmkpopr0",
        "colab": {
          "base_uri": "https://localhost:8080/"
        },
        "outputId": "ae67d2b5-8759-4435-8368-e8465592b33d"
      },
      "execution_count": 99,
      "outputs": [
        {
          "output_type": "stream",
          "name": "stdout",
          "text": [
            "0\n",
            "1\n",
            "2\n",
            "3\n",
            "4\n",
            "5\n",
            "6\n",
            "7\n",
            "8\n",
            "9\n",
            "finishing prinitng number 10\n",
            "Out-off the loop...bye!\n"
          ]
        }
      ]
    },
    {
      "cell_type": "code",
      "source": [
        "#continue with while loop\n",
        "x = 12\n",
        "while x < 100:\n",
        "  x += 1\n",
        "  if x % 13 != 0:  # skip those number whose not divisible by 13\n",
        "    continue\n",
        "  print(x)\n"
      ],
      "metadata": {
        "id": "E0b21ZlypwIC",
        "colab": {
          "base_uri": "https://localhost:8080/"
        },
        "outputId": "311b1551-acd2-45ad-98a3-7172b5be95fd"
      },
      "execution_count": 100,
      "outputs": [
        {
          "output_type": "stream",
          "name": "stdout",
          "text": [
            "13\n",
            "26\n",
            "39\n",
            "52\n",
            "65\n",
            "78\n",
            "91\n"
          ]
        }
      ]
    },
    {
      "cell_type": "markdown",
      "source": [
        "##Break statements\n",
        "if the break statements is inside a nested loop, break will terminate only the innermost loop"
      ],
      "metadata": {
        "id": "nTwSkGB9rXPq"
      }
    },
    {
      "cell_type": "code",
      "source": [
        "#break with while loop \n",
        "\n",
        "while True:\n",
        "  guess = int(input('Enter your lucky number [0-10]: '))\n",
        "  if guess == 7:\n",
        "    print('You won!')\n",
        "    break\n",
        "  print(f'{guess} was not lucky number!')"
      ],
      "metadata": {
        "id": "kEz7XM2iq2dB",
        "colab": {
          "base_uri": "https://localhost:8080/"
        },
        "outputId": "bc724b37-77a6-4dd7-9061-211e9a0fd6ca"
      },
      "execution_count": 101,
      "outputs": [
        {
          "output_type": "stream",
          "name": "stdout",
          "text": [
            "Enter your lucky number [0-10]: 7\n",
            "You won!\n"
          ]
        }
      ]
    },
    {
      "cell_type": "code",
      "source": [
        "#prime number\n",
        "a = int(input(\"Enter number: \"))\n",
        "while a > 1:  \n",
        "  b = a // 2    # getting qotient and store in the b\n",
        "  while b > 1:\n",
        "    if a % b == 0:   # a mod with b\n",
        "      break   # break the inner loop\n",
        "    b -= 1    #decrement b\n",
        "  else:  \n",
        "    print(f'{a} is prime')\n",
        "  a -= 1    # decreament a"
      ],
      "metadata": {
        "id": "p_GS6emUsMVI",
        "colab": {
          "base_uri": "https://localhost:8080/"
        },
        "outputId": "dda7df97-ba51-43aa-8bba-a8c75d31f536"
      },
      "execution_count": 102,
      "outputs": [
        {
          "output_type": "stream",
          "name": "stdout",
          "text": [
            "Enter number: 4\n",
            "3 is prime\n",
            "2 is prime\n"
          ]
        }
      ]
    },
    {
      "cell_type": "code",
      "source": [
        "x = 5\n",
        "s = 0\n",
        "while x:\n",
        "  x -= 1\n",
        "  print(f'the valu of x is {x}')\n",
        "  s += x\n",
        "  print(f'the value s is {s}')\n",
        "print(s)"
      ],
      "metadata": {
        "id": "nQOctv-StJht",
        "colab": {
          "base_uri": "https://localhost:8080/"
        },
        "outputId": "62f6b973-7d8e-4195-e6ff-64b755c8dd16"
      },
      "execution_count": 103,
      "outputs": [
        {
          "output_type": "stream",
          "name": "stdout",
          "text": [
            "the valu of x is 4\n",
            "the value s is 4\n",
            "the valu of x is 3\n",
            "the value s is 7\n",
            "the valu of x is 2\n",
            "the value s is 9\n",
            "the valu of x is 1\n",
            "the value s is 10\n",
            "the valu of x is 0\n",
            "the value s is 10\n",
            "10\n"
          ]
        }
      ]
    },
    {
      "cell_type": "code",
      "source": [
        "x = 5\n",
        "while x > 0:\n",
        "  x -= 1\n",
        "  if x == 1:\n",
        "    break\n",
        "else:\n",
        "  print('Bye!')"
      ],
      "metadata": {
        "id": "ziBn93vqwTPa"
      },
      "execution_count": 104,
      "outputs": []
    },
    {
      "cell_type": "markdown",
      "source": [
        "##Walrus operator "
      ],
      "metadata": {
        "id": "rEeIjCInxl0I"
      }
    },
    {
      "cell_type": "code",
      "source": [
        "print(x := 2+3)\n",
        "print(y := 10)"
      ],
      "metadata": {
        "id": "Up3qkOc9xMqF",
        "colab": {
          "base_uri": "https://localhost:8080/"
        },
        "outputId": "de5d7de8-70f5-4abf-a0b6-17e45fe120ae"
      },
      "execution_count": 105,
      "outputs": [
        {
          "output_type": "stream",
          "name": "stdout",
          "text": [
            "5\n",
            "10\n"
          ]
        }
      ]
    },
    {
      "cell_type": "code",
      "source": [
        "value = input('Enter something: ')\n",
        "while value != '':\n",
        "  print(f'You entred: {value}')\n",
        "  value = input('Enter somethiing: ')\n",
        "print('Thank you!')"
      ],
      "metadata": {
        "id": "r0kTw3AUxxRd",
        "colab": {
          "base_uri": "https://localhost:8080/"
        },
        "outputId": "a2d59c77-f834-48fb-af6f-57a4ba3ce992"
      },
      "execution_count": 106,
      "outputs": [
        {
          "output_type": "stream",
          "name": "stdout",
          "text": [
            "Enter something: \n",
            "Thank you!\n"
          ]
        }
      ]
    },
    {
      "cell_type": "code",
      "source": [
        "#another way using walrus operator\n",
        "while (value := input('Enter something: ')) != '':\n",
        "  print(f'You entered: {value}')\n",
        "else:\n",
        "  print('Thank you!')"
      ],
      "metadata": {
        "id": "kQ1pFlcSyaei",
        "colab": {
          "base_uri": "https://localhost:8080/"
        },
        "outputId": "41adeff9-6db9-4072-ee2e-58bcec47a773"
      },
      "execution_count": 107,
      "outputs": [
        {
          "output_type": "stream",
          "name": "stdout",
          "text": [
            "Enter something: 34234\n",
            "You entered: 34234\n",
            "Enter something: \n",
            "Thank you!\n"
          ]
        }
      ]
    },
    {
      "cell_type": "code",
      "source": [
        "#consume the resources\n",
        "data = input('Enter your name: ')\n",
        "if len(data) > 0:\n",
        "  print(f'Your name has {len(data)} character.')\n",
        "else:\n",
        "  print('Your name can\\'t be empty.')"
      ],
      "metadata": {
        "id": "IZdxIXvPzETM",
        "colab": {
          "base_uri": "https://localhost:8080/"
        },
        "outputId": "7a78aa44-6a90-4fd6-e0bb-91e64f7da086"
      },
      "execution_count": 108,
      "outputs": [
        {
          "output_type": "stream",
          "name": "stdout",
          "text": [
            "Enter your name: 23\n",
            "Your name has 2 character.\n"
          ]
        }
      ]
    },
    {
      "cell_type": "code",
      "source": [
        "# to avoid the extra resource utility using walrus oprator\n",
        "data = input('Enter your name: ')\n",
        "if (n := len(data)) > 0:\n",
        "  print(f'Your name has {n} character.')\n",
        "else:\n",
        "  print('Your name can not be empty.')"
      ],
      "metadata": {
        "id": "_bk7xCgJzrcQ",
        "colab": {
          "base_uri": "https://localhost:8080/"
        },
        "outputId": "8212af95-3f59-4666-8740-b2d830286166"
      },
      "execution_count": 109,
      "outputs": [
        {
          "output_type": "stream",
          "name": "stdout",
          "text": [
            "Enter your name: 23\n",
            "Your name has 2 character.\n"
          ]
        }
      ]
    },
    {
      "cell_type": "markdown",
      "source": [
        "#List"
      ],
      "metadata": {
        "id": "9kY9LJU9dL-T"
      }
    },
    {
      "cell_type": "code",
      "source": [
        "#create a list empty list using []\n",
        "lst = []\n",
        "print(lst, type([]))"
      ],
      "metadata": {
        "id": "uWGLBcN90UGR",
        "colab": {
          "base_uri": "https://localhost:8080/"
        },
        "outputId": "5e30a267-abb7-4949-958b-0c0f0aad0b08"
      },
      "execution_count": 110,
      "outputs": [
        {
          "output_type": "stream",
          "name": "stdout",
          "text": [
            "[] <class 'list'>\n"
          ]
        }
      ]
    },
    {
      "cell_type": "code",
      "source": [
        "#create a list using built in constructor\n",
        "lst = list()\n",
        "print(lst, type(lst))"
      ],
      "metadata": {
        "colab": {
          "base_uri": "https://localhost:8080/"
        },
        "id": "FDV3tLi1dizJ",
        "outputId": "f47fbc26-ac90-4c2d-c989-5e5437f5c96b"
      },
      "execution_count": 111,
      "outputs": [
        {
          "output_type": "stream",
          "name": "stdout",
          "text": [
            "[] <class 'list'>\n"
          ]
        }
      ]
    },
    {
      "cell_type": "code",
      "source": [
        "#create a list of homgenious data\n",
        "lst = [1, 2, 3, 4, 5]\n",
        "print(lst, type(lst))"
      ],
      "metadata": {
        "colab": {
          "base_uri": "https://localhost:8080/"
        },
        "id": "OFWhu1Dndtu0",
        "outputId": "4d6e1e29-4f48-41ef-dd1a-0ab78d9d39c2"
      },
      "execution_count": 112,
      "outputs": [
        {
          "output_type": "stream",
          "name": "stdout",
          "text": [
            "[1, 2, 3, 4, 5] <class 'list'>\n"
          ]
        }
      ]
    },
    {
      "cell_type": "code",
      "source": [
        "#create a list that contains different type of data\n",
        "lst = [1, 99.0, 'Python', True, 3+2j]\n",
        "print(lst, type(lst))"
      ],
      "metadata": {
        "colab": {
          "base_uri": "https://localhost:8080/"
        },
        "id": "HW-XfJX2d7xT",
        "outputId": "2093db32-b5fb-4abb-f39c-d609f8a8ef26"
      },
      "execution_count": 113,
      "outputs": [
        {
          "output_type": "stream",
          "name": "stdout",
          "text": [
            "[1, 99.0, 'Python', True, (3+2j)] <class 'list'>\n"
          ]
        }
      ]
    },
    {
      "cell_type": "code",
      "source": [
        "#List is mutable object\n",
        "lst1 = list('abcd')\n",
        "lst2 = list('abcd')\n",
        "\n",
        "print(lst1, type(lst1), id(lst1))  \n",
        "print(lst2, type(lst2), id(lst2)) "
      ],
      "metadata": {
        "colab": {
          "base_uri": "https://localhost:8080/"
        },
        "id": "KEM1oWUOeeQZ",
        "outputId": "edd32df5-4f4b-4fd2-e7b2-5a2c10f9d3ff"
      },
      "execution_count": 114,
      "outputs": [
        {
          "output_type": "stream",
          "name": "stdout",
          "text": [
            "['a', 'b', 'c', 'd'] <class 'list'> 140118521200128\n",
            "['a', 'b', 'c', 'd'] <class 'list'> 140118521197632\n"
          ]
        }
      ]
    },
    {
      "cell_type": "markdown",
      "source": [
        "#Concatenating List"
      ],
      "metadata": {
        "id": "SVVJMkUEmAy6"
      }
    },
    {
      "cell_type": "code",
      "source": [
        "#adding two list using + operator\n",
        "lst3 = lst1 + lst2\n",
        "print(lst3)"
      ],
      "metadata": {
        "colab": {
          "base_uri": "https://localhost:8080/"
        },
        "id": "H0rkYdBsfDGi",
        "outputId": "51684a34-3346-439c-9607-df208b537779"
      },
      "execution_count": 115,
      "outputs": [
        {
          "output_type": "stream",
          "name": "stdout",
          "text": [
            "['a', 'b', 'c', 'd', 'a', 'b', 'c', 'd']\n"
          ]
        }
      ]
    },
    {
      "cell_type": "markdown",
      "source": [
        "#Built-in Method on list\n",
        "'append', 'clear', 'copy', 'count', 'extend', 'index', 'insert', 'pop', 'remove', 'reverse', 'sort'"
      ],
      "metadata": {
        "id": "o0XQJKxVmTWN"
      }
    },
    {
      "cell_type": "markdown",
      "source": [
        "#Adding elements in List\n",
        "- append() --> add the single elementa at the last\n",
        "- extend() --> add all iterable item in the list \n",
        "- insert() --> insert elements at specific index/position"
      ],
      "metadata": {
        "id": "3LPBnDyWC2lO"
      }
    },
    {
      "cell_type": "code",
      "source": [
        "#append() method\n",
        "l1 = [10, 99.9, 'python', True]\n",
        "print(l1)\n",
        "\n",
        "#adding only single elements\n",
        "l1.append(100)\n",
        "print(l1)\n",
        "\n",
        "#adding list whole list as an single elements\n",
        "l1.append([2, 3, 4])\n",
        "print(l1)\n",
        "\n",
        "#adding whole tuple as a single elements\n",
        "l1.append((3+5j, 'Love'))\n",
        "print(l1)\n",
        "\n",
        "#adding whole dict as an single elements\n",
        "l1.append({'name':'sopan', 'age':23})\n",
        "print(l1)"
      ],
      "metadata": {
        "id": "X4xmfxLFgw1W",
        "colab": {
          "base_uri": "https://localhost:8080/"
        },
        "outputId": "64a8af66-014c-45e3-dc0a-aae00b42655c"
      },
      "execution_count": 116,
      "outputs": [
        {
          "output_type": "stream",
          "name": "stdout",
          "text": [
            "[10, 99.9, 'python', True]\n",
            "[10, 99.9, 'python', True, 100]\n",
            "[10, 99.9, 'python', True, 100, [2, 3, 4]]\n",
            "[10, 99.9, 'python', True, 100, [2, 3, 4], ((3+5j), 'Love')]\n",
            "[10, 99.9, 'python', True, 100, [2, 3, 4], ((3+5j), 'Love'), {'name': 'sopan', 'age': 23}]\n"
          ]
        }
      ]
    },
    {
      "cell_type": "code",
      "source": [
        "#extend() method only takes iterable object as parameter\n",
        "l2 = list() \n",
        "\n",
        "#string as a parameter\n",
        "l2.extend('abcdefg')\n",
        "print(l2)\n",
        "\n",
        "#list as a parameter\n",
        "l2.extend([1,2.8,'sopan'])\n",
        "print(l2)\n",
        "\n",
        "#tuple as a parameter\n",
        "l2.extend((5, 9.9, 'py'))\n",
        "print(l2)\n",
        "\n",
        "#set as parameter\n",
        "l2.extend({3, 4})\n",
        "print(l2)\n",
        "\n",
        "#dictionary as parameter\n",
        "l2.extend({'name':'sopan', 'age':23})\n",
        "print(l2)"
      ],
      "metadata": {
        "colab": {
          "base_uri": "https://localhost:8080/"
        },
        "id": "Cg4eoCJJCsZp",
        "outputId": "27431d5d-ed75-43fb-ccbd-f4b45c7a0f06"
      },
      "execution_count": 117,
      "outputs": [
        {
          "output_type": "stream",
          "name": "stdout",
          "text": [
            "['a', 'b', 'c', 'd', 'e', 'f', 'g']\n",
            "['a', 'b', 'c', 'd', 'e', 'f', 'g', 1, 2.8, 'sopan']\n",
            "['a', 'b', 'c', 'd', 'e', 'f', 'g', 1, 2.8, 'sopan', 5, 9.9, 'py']\n",
            "['a', 'b', 'c', 'd', 'e', 'f', 'g', 1, 2.8, 'sopan', 5, 9.9, 'py', 3, 4]\n",
            "['a', 'b', 'c', 'd', 'e', 'f', 'g', 1, 2.8, 'sopan', 5, 9.9, 'py', 3, 4, 'name', 'age']\n"
          ]
        }
      ]
    },
    {
      "cell_type": "code",
      "source": [
        "#insert elements at specific index\n",
        "year = [2020, 2022, 2023]\n",
        "print(year)\n",
        "\n",
        "#at index 1 insert 2021\n",
        "year.insert(1, 2021)\n",
        "print(year)\n",
        "\n",
        "#at last using len function\n",
        "year.insert(len(year), 2024)\n",
        "print(year)\n",
        "\n",
        "#insert on the second last at the list position using negative indexing\n",
        "year.insert(-1, 2025)\n",
        "print(year)"
      ],
      "metadata": {
        "colab": {
          "base_uri": "https://localhost:8080/"
        },
        "id": "mS149pYKCsW4",
        "outputId": "71ba74f2-6769-48f5-9faf-4eafb4451138"
      },
      "execution_count": 118,
      "outputs": [
        {
          "output_type": "stream",
          "name": "stdout",
          "text": [
            "[2020, 2022, 2023]\n",
            "[2020, 2021, 2022, 2023]\n",
            "[2020, 2021, 2022, 2023, 2024]\n",
            "[2020, 2021, 2022, 2023, 2025, 2024]\n"
          ]
        }
      ]
    },
    {
      "cell_type": "markdown",
      "source": [
        "#Removing elements from list\n",
        "- clear() --> remove all elements at once\n",
        "- del --> delete the specific elements\n",
        "- remove() --> it will takes value of list as a parameter\n",
        "- pop() --> remove the given index elements while by default its remove last elements and returned the removed elements"
      ],
      "metadata": {
        "id": "-MrsbUta60nM"
      }
    },
    {
      "cell_type": "code",
      "source": [
        "#clear() method\n",
        "l4 = ['a', 'b', 'c', 'd', 'e', 'f', 'g', 1, 2.8, 'sopan', 5, 9.9, 'py', 3, 4, 'name', 'age']\n",
        "print(l4)"
      ],
      "metadata": {
        "colab": {
          "base_uri": "https://localhost:8080/"
        },
        "id": "uCB36qA5CsFx",
        "outputId": "398f4876-4aad-4a03-e551-98b5750251cc"
      },
      "execution_count": 119,
      "outputs": [
        {
          "output_type": "stream",
          "name": "stdout",
          "text": [
            "['a', 'b', 'c', 'd', 'e', 'f', 'g', 1, 2.8, 'sopan', 5, 9.9, 'py', 3, 4, 'name', 'age']\n"
          ]
        }
      ]
    },
    {
      "cell_type": "code",
      "source": [
        "l4.clear()\n",
        "print(l4)"
      ],
      "metadata": {
        "colab": {
          "base_uri": "https://localhost:8080/"
        },
        "id": "dOFDq8kUCsDB",
        "outputId": "f870a22c-c17e-4dd9-ab06-1a1f8272c391"
      },
      "execution_count": 120,
      "outputs": [
        {
          "output_type": "stream",
          "name": "stdout",
          "text": [
            "[]\n"
          ]
        }
      ]
    },
    {
      "cell_type": "code",
      "source": [
        "#pop()\n",
        "#by default it will pop the last elements\n",
        "l4 = ['a', 'b', 'c', 'd', 'e', 'f', 'g', 1, 2.8, 'sopan', 5, 9.9, 'py', 3, 4, 'name', 'age']\n",
        "print(l4)\n",
        "\n",
        "#by default\n",
        "l4.pop()\n",
        "print(l4)\n",
        "\n",
        "#pop specific index value\n",
        "l4.pop(3)\n",
        "print(l4)"
      ],
      "metadata": {
        "id": "42ZMfKAtCsAN"
      },
      "execution_count": null,
      "outputs": []
    },
    {
      "cell_type": "code",
      "source": [
        "#remove()\n",
        "l5 = ['a', 'b', 'c', 'd', 'e', 'f', 'g', 1, 2.8, 'sopan', 5, 9.9, 'py', 3, 4, 'name', 'age']\n",
        "l5.remove('a')\n",
        "print(l5)"
      ],
      "metadata": {
        "id": "FJ_Hi27DCr9H"
      },
      "execution_count": null,
      "outputs": []
    },
    {
      "cell_type": "markdown",
      "source": [
        "#List slicing\n",
        "###syntax: \n",
        "###list_name[start : End : step]"
      ],
      "metadata": {
        "id": "39TDD2U2m9dV"
      }
    },
    {
      "cell_type": "code",
      "source": [
        "#access the specific index of list using []\n",
        "lst = [10, 20, 30, 40, 50]\n",
        "print(lst[2])\n",
        "\n",
        "#access some part of list using index\n",
        "num = [1, 2, 3, 4, 5]\n",
        "new_lst = num[1:3]\n",
        "print(new_lst)\n",
        "\n",
        "#reverse a list\n",
        "rev_lst = num[::-1]\n",
        "print(rev_lst)"
      ],
      "metadata": {
        "id": "ruaCX9CZmcWf"
      },
      "execution_count": null,
      "outputs": []
    },
    {
      "cell_type": "markdown",
      "source": [
        "#Membership operator used in List\n",
        "1. in\n",
        "2. not in"
      ],
      "metadata": {
        "id": "xcog8HhLownQ"
      }
    },
    {
      "cell_type": "code",
      "source": [
        "#'in' membership operator\n",
        "lst1 = [10, 20, 30, 40, 50]\n",
        "\n",
        "lst2 = 20 in lst1\n",
        "print(lst2)\n",
        "\n",
        "lst3 = 90 in lst1\n",
        "print(lst3)"
      ],
      "metadata": {
        "id": "mTZVagounPw2"
      },
      "execution_count": null,
      "outputs": []
    },
    {
      "cell_type": "code",
      "source": [
        "# 'not in' membership operator\n",
        "lst1 = [10, 20, 30, 40, 50]\n",
        "\n",
        "lst2 = 20 not in lst1\n",
        "print(lst2)\n",
        "\n",
        "lst3 = 90 not in lst1\n",
        "print(lst3)"
      ],
      "metadata": {
        "id": "DqMHeTcRpOPC"
      },
      "execution_count": null,
      "outputs": []
    },
    {
      "cell_type": "markdown",
      "source": [
        "#List Gotchas"
      ],
      "metadata": {
        "id": "QbbxcHdM9ysf"
      }
    },
    {
      "cell_type": "code",
      "source": [
        "# assignmenta operator not copy the list\n",
        "l1 = [1, 2, 3]\n",
        "l2 = l1\n",
        "l2[0] ='xx'\n",
        "l2.append(10)\n",
        "print(f'l1: {l1}')\n",
        "print(f'l2: {l2}')\n",
        "print(id(l1))\n",
        "print(id(l2))"
      ],
      "metadata": {
        "id": "W4zUYCdry1Pk"
      },
      "execution_count": null,
      "outputs": []
    },
    {
      "cell_type": "code",
      "source": [
        "#create a copy operator\n",
        "l3 = l1.copy()\n",
        "l3.append('abc')\n",
        "print(f'l3: {l3}', id(l3))\n",
        "print(f'l1: {l1}', id(l1))"
      ],
      "metadata": {
        "id": "7uScTJzn-SuY"
      },
      "execution_count": null,
      "outputs": []
    },
    {
      "cell_type": "code",
      "source": [
        "#this is wrong way of for loop implementation\n",
        "nums = [1, 2, 3, 4, 5, 6, 7, 0, 1, 2]\n",
        "for n in nums:\n",
        "  if n < 5:\n",
        "    nums.remove(n)\n",
        "\n",
        "print(nums)"
      ],
      "metadata": {
        "id": "Cu1IJwA5-iaI"
      },
      "execution_count": null,
      "outputs": []
    },
    {
      "cell_type": "code",
      "source": [
        "#right way of for loop implementation\n",
        "nums = [1, 2, 3, 4, 5, 6, 7, 0, 1, 2]\n",
        "new_lst = list() #create a new list instead of use of current list then implement for loop\n",
        "for n in nums:\n",
        "  if n >= 5:\n",
        "    new_lst.append(n)\n",
        "\n",
        "print(nums)\n",
        "print(new_lst)"
      ],
      "metadata": {
        "id": "9yu3EICT_RS4"
      },
      "execution_count": null,
      "outputs": []
    },
    {
      "cell_type": "code",
      "source": [
        "my_lst = [n for n in nums if n >= 5]"
      ],
      "metadata": {
        "id": "eZqorhs7_2Pm"
      },
      "execution_count": null,
      "outputs": []
    },
    {
      "cell_type": "markdown",
      "source": [
        "#List Method"
      ],
      "metadata": {
        "id": "zbAvswvPJPul"
      }
    },
    {
      "cell_type": "markdown",
      "source": [
        "###index() method"
      ],
      "metadata": {
        "id": "Qr5x5ft0Kogs"
      }
    },
    {
      "cell_type": "code",
      "source": [
        "names = ['sopan', 'yogesh', 'vishnu', 'Laxman', 'sopan']\n",
        "print(names, type(names))\n",
        "\n",
        "#index() methods\n",
        "i = names.index('vishnu')\n",
        "print(f'Vishnu at index {i}')\n",
        "\n",
        "#duplicate then only return first occurence\n",
        "i1 = names.index('sopan')\n",
        "print(f'Sopan at index {i1}')"
      ],
      "metadata": {
        "id": "4hMmWtLxArJr"
      },
      "execution_count": null,
      "outputs": []
    },
    {
      "cell_type": "markdown",
      "source": [
        "###count() method"
      ],
      "metadata": {
        "id": "lWifGLCqKsPJ"
      }
    },
    {
      "cell_type": "code",
      "source": [
        "letter = list('ajsdhflyegaskdjhfalasdkjfhakasdjawh')\n",
        "print(letter)\n",
        "\n",
        "#count the specific letter\n",
        "c = letter.count('a')\n",
        "print(f'Letter a occures {c} times.')\n",
        "\n",
        "#if elements not in list\n",
        "c = letter.count('p')\n",
        "print(f'Letter a occures {c} times.')"
      ],
      "metadata": {
        "id": "LuN6Bmt1J59z"
      },
      "execution_count": null,
      "outputs": []
    },
    {
      "cell_type": "markdown",
      "source": [
        "###reverse() method"
      ],
      "metadata": {
        "id": "PTOY5WljLkK_"
      }
    },
    {
      "cell_type": "code",
      "source": [
        "l1 = [1, 3, 'abc', 10, 'x']\n",
        "print(l1)\n",
        "\n",
        "#revers a string\n",
        "rev = l1.reverse()\n",
        "print(f'Reverse list is {rev}')"
      ],
      "metadata": {
        "id": "mOncNo_WLG_z"
      },
      "execution_count": null,
      "outputs": []
    },
    {
      "cell_type": "markdown",
      "source": [
        "##sort List\n",
        "1. sort() method\n",
        "2. sorted(list) method"
      ],
      "metadata": {
        "id": "7fbBD2eFL98t"
      }
    },
    {
      "cell_type": "code",
      "source": [
        "#new list\n",
        "lst = [10, 8, 23, 35, 9]\n",
        "print(lst)\n",
        "\n",
        "#sort() method\n",
        "age = lst.sort()\n",
        "print(lst, f'sorted list is {age}')\n"
      ],
      "metadata": {
        "id": "N6_QWaAYL6XB"
      },
      "execution_count": null,
      "outputs": []
    },
    {
      "cell_type": "code",
      "source": [
        "#new list\n",
        "lst1 = [10, 8, 23, 35, 9]\n",
        "print(lst1)\n",
        "\n",
        "#sorted() method\n",
        "num = sorted(lst1)\n",
        "print(num)"
      ],
      "metadata": {
        "id": "L8ZU8f77MysZ"
      },
      "execution_count": null,
      "outputs": []
    },
    {
      "cell_type": "code",
      "source": [
        "#sorting in ascending order\n",
        "lst2 = [10, 8, 23, 35, 9]\n",
        "print(lst2)\n",
        "age = lst2.sort(reverse=True)\n",
        "print(age, lst2)"
      ],
      "metadata": {
        "id": "kQtOWeeQNK0P"
      },
      "execution_count": null,
      "outputs": []
    },
    {
      "cell_type": "code",
      "source": [
        "#max(), min() methods\n",
        "new_lst = [10, 18, 23, 24, 70, 5]\n",
        "\n",
        "#max()\n",
        "print(f'max in the list is {max(new_lst)}')\n",
        "\n",
        "#min()\n",
        "print(f'min in the list is {min(new_lst)}')"
      ],
      "metadata": {
        "id": "vuopQJnFNvYe"
      },
      "execution_count": null,
      "outputs": []
    },
    {
      "cell_type": "code",
      "source": [
        "#sum() built in function\n",
        "sum1 = sum(new_lst)\n",
        "print(sum1)"
      ],
      "metadata": {
        "id": "X_usmmaWOyFM"
      },
      "execution_count": null,
      "outputs": []
    },
    {
      "cell_type": "markdown",
      "source": [
        "##string to list\n",
        "using split() method"
      ],
      "metadata": {
        "id": "8a49RX8bPKPJ"
      }
    },
    {
      "cell_type": "code",
      "source": [
        "#create new string\n",
        "s1 = 'i am learning python programming'\n",
        "print(s1)\n",
        "\n",
        "#convert string into list\n",
        "l1 = s1.split()   #by default it takes space for spliting\n",
        "print(l1)\n",
        "\n",
        "#you can pass arguments to split\n",
        "s2 = 'python:good:programming:language'\n",
        "print(s2)\n",
        "lst = s2.split(':')\n",
        "print(lst)\n"
      ],
      "metadata": {
        "id": "CRFYlja9O_3V"
      },
      "execution_count": null,
      "outputs": []
    },
    {
      "cell_type": "markdown",
      "source": [
        "##list to string\n",
        "using join() method"
      ],
      "metadata": {
        "id": "wrckzkjNQWlh"
      }
    },
    {
      "cell_type": "code",
      "source": [
        "#create new list\n",
        "ips = ['192.168.01', '192.168.0.2', '192.168.0.3']\n",
        "print(ips)\n",
        "\n",
        "#list to string\n",
        "s = ' '.join(ips)\n",
        "print(f'string from the list is {s}')\n",
        "\n",
        "#list to string\n",
        "s = '*'.join(ips)\n",
        "print(f'string from the list is {s}')"
      ],
      "metadata": {
        "id": "6xNsHk6bPqkG"
      },
      "execution_count": null,
      "outputs": []
    },
    {
      "cell_type": "markdown",
      "source": [
        "#PROJECT:\n",
        "##Extract IPv4, IPv6 and MAC Address"
      ],
      "metadata": {
        "id": "d03uwmEtRdo4"
      }
    },
    {
      "cell_type": "code",
      "source": [
        "interface = '''\n",
        "\n",
        "'''\n",
        "\n",
        "interface_list = interface.splitlines()\n",
        "print(f'interface list is {interface_list}')\n",
        "#ip_mac = list()\n",
        "for line in interface_list[1:]:\n",
        "  #print(line)\n",
        "  tmp_list = line.split()\n",
        "  #print(tmp_list)\n",
        "  ip_mac.append(tmp_list)\n",
        "\n",
        "print(ip_mac)\n",
        "\n",
        "#convert into string\n",
        "ip_mac_str = ','.join(ip_mac)\n",
        "print(ip_mac_str)"
      ],
      "metadata": {
        "id": "P6duD6IGRFKK"
      },
      "execution_count": null,
      "outputs": []
    },
    {
      "cell_type": "markdown",
      "source": [
        "#List comprehension\n",
        "List comprehension offers us a shorter and more concise syntax to create a new list based on the value of an existing iterable."
      ],
      "metadata": {
        "id": "hEPdy-WzVSWZ"
      }
    },
    {
      "cell_type": "code",
      "source": [
        "lst = [10, 5, 15, 20]\n",
        "double_list = list()\n",
        "for c in lst:\n",
        "  double_list.append(c*2)\n",
        "print(double_list)\n"
      ],
      "metadata": {
        "id": "m2xwWacUUP49"
      },
      "execution_count": null,
      "outputs": []
    },
    {
      "cell_type": "code",
      "source": [
        "#[expression for variable in iterable if condition]\n",
        "print(lst)\n",
        "double_number = [c*2 for c in lst]\n",
        "print(double_number)"
      ],
      "metadata": {
        "id": "8PQuyopWWGUS"
      },
      "execution_count": null,
      "outputs": []
    },
    {
      "cell_type": "code",
      "source": [
        "name = 'sopan'\n",
        "l1 = [char for char in name]\n",
        "print(l1)"
      ],
      "metadata": {
        "id": "pgGzddIyWZtI"
      },
      "execution_count": null,
      "outputs": []
    },
    {
      "cell_type": "code",
      "source": [
        "#name = 'Sopan'\n",
        "l2 = [char * 3 for char in name]\n",
        "print(l2, end='')"
      ],
      "metadata": {
        "id": "1U2AccRjWm0X"
      },
      "execution_count": null,
      "outputs": []
    },
    {
      "cell_type": "code",
      "source": [
        "#when you apply built in method on expression then it should be in parenthesis otherwise it will give an error\n",
        "l3 = [(char*3).upper() for char in name]\n",
        "print(l3)"
      ],
      "metadata": {
        "id": "lvXnf-DDWxtw"
      },
      "execution_count": null,
      "outputs": []
    },
    {
      "cell_type": "code",
      "source": [
        "friend = ['sopan', 'gajanan', 'yogesh', 'krushna']\n",
        "my_friend = [item.capitalize() for item in friend]\n",
        "print(my_friend)"
      ],
      "metadata": {
        "id": "rswLGhctXcIg"
      },
      "execution_count": null,
      "outputs": []
    },
    {
      "cell_type": "code",
      "source": [
        "reversed_name = [item[::-1] for item in friend]\n",
        "print(reversed_name)"
      ],
      "metadata": {
        "id": "R_HpBrKJYiQQ"
      },
      "execution_count": null,
      "outputs": []
    },
    {
      "cell_type": "markdown",
      "source": [
        "##[expression for variable in iterable if condition]"
      ],
      "metadata": {
        "id": "vQMHKhq1Y86S"
      }
    },
    {
      "cell_type": "code",
      "source": [
        "#create anew list of num divisible by 7\n",
        "num = list(range(1, 71))\n",
        "div_by_seven = [n for n in num if n%7 == 0]\n",
        "print(div_by_seven)"
      ],
      "metadata": {
        "id": "8xH2iAPXYvtd"
      },
      "execution_count": null,
      "outputs": []
    },
    {
      "cell_type": "code",
      "source": [
        "num = list(range(1, 71))\n",
        "num_to_str = [str(n) for n in num if n%7 == 0]\n",
        "print(num_to_str, type(num_to_str))\n"
      ],
      "metadata": {
        "id": "MxMb2Yd9ZWst"
      },
      "execution_count": null,
      "outputs": []
    },
    {
      "cell_type": "code",
      "source": [
        "#create a new list that contains elements present in the both list\n",
        "friends = ['sopan', 'yogesh', 'gajanan']\n",
        "neighbores = ['ram', 'rushikeh', 'gajanan']\n",
        "common = [name for name in friends if name in neighbores]\n",
        "print(common)"
      ],
      "metadata": {
        "id": "hZZ0zzwaZsk7"
      },
      "execution_count": null,
      "outputs": []
    },
    {
      "cell_type": "code",
      "source": [
        "l1 = [c.lower().upper() for c in 'aBc']\n",
        "print(l1\n",
        "      )"
      ],
      "metadata": {
        "id": "s6ddjS-pbUEY"
      },
      "execution_count": null,
      "outputs": []
    },
    {
      "cell_type": "markdown",
      "source": [
        "#PROJECT:\n",
        "##Countries with the longest/shortest names"
      ],
      "metadata": {
        "id": "2pT5xXbbdJic"
      }
    },
    {
      "cell_type": "code",
      "source": [
        "countries = [fill the country names]\n",
        "\n",
        "\n",
        "#sort alphabetically\n",
        "sorted_countries = countries.sort()\n",
        "\n",
        "#length of all countries\n",
        "lengths = [len(c) for c in countries]\n",
        "\n",
        "#find the max lenght of country\n",
        "max_name = max(lengths)\n",
        "\n",
        "#find the min lengths of countries\n",
        "min_length = min(lengths)\n",
        "\n",
        "#let find the longest name countri\n",
        "longest_name = [c for c in countries if len(c) == max_lengths]\n",
        "print(longest_name)\n",
        "\n",
        "#lets find the smallest name country\n",
        "shortest_name = [c for c in countries if len(c) == min_lengths]\n",
        "print(shortest_name)"
      ],
      "metadata": {
        "id": "fZ0GlEwkc1cG"
      },
      "execution_count": null,
      "outputs": []
    },
    {
      "cell_type": "markdown",
      "source": [
        "#Tuple\n",
        "tuple immutable"
      ],
      "metadata": {
        "id": "y-he0Nhif0EY"
      }
    },
    {
      "cell_type": "code",
      "source": [
        "#create empty tuple\n",
        "t = ()\n",
        "print(t, type(t))\n",
        "\n",
        "#create tuple using constructor\n",
        "t1 = tuple()\n",
        "print(t1, type(t1))\n",
        "\n",
        "#create tuple with single elements\n",
        "t2 = (10,)\n",
        "print(t2, type(t2))\n",
        "#without comma its treated as int let see\n",
        "t3 = (10)\n",
        "print(t3, type(t3))\n",
        "\n",
        "#creat a tuple with multiple value\n",
        "t4 = (10, 99.9, 'python', True)\n",
        "print(t4)\n",
        "\n",
        "#create a tuple withou parenthesis\n",
        "t5 = 100, 99.9, True, 'Sopan'\n",
        "print(t5, type(t5))"
      ],
      "metadata": {
        "id": "hih6YsE6f1dK"
      },
      "execution_count": null,
      "outputs": []
    },
    {
      "cell_type": "markdown",
      "source": [
        "##Tuple operation"
      ],
      "metadata": {
        "id": "IhcPGAtxMpaB"
      }
    },
    {
      "cell_type": "code",
      "source": [
        "#new tule\n",
        "tup = 1.4, 10, 'abc', True, (30, 40), 'x'\n",
        "print(tup)\n",
        "tup1 = 9, 12, 15\n",
        "print(tup1)"
      ],
      "metadata": {
        "id": "A4YaCw1fLBIY"
      },
      "execution_count": null,
      "outputs": []
    },
    {
      "cell_type": "code",
      "source": [
        "#concatenation\n",
        "concat_tup = tup + tup1\n",
        "print(concat_tup)"
      ],
      "metadata": {
        "id": "YGRvUPOtM8vE"
      },
      "execution_count": null,
      "outputs": []
    },
    {
      "cell_type": "code",
      "source": [
        "#replication tuple\n",
        "repli_tup = 3 * tup1\n",
        "print(repli_tup)"
      ],
      "metadata": {
        "id": "S-fuQLatNOMr"
      },
      "execution_count": null,
      "outputs": []
    },
    {
      "cell_type": "code",
      "source": [
        "#Slicing tuple\n",
        "t1 = tup[2 : 3]\n",
        "t2 = tup[2:5]\n",
        "print(t1)\n",
        "print(t2)"
      ],
      "metadata": {
        "id": "TQBXNGZNNjgq"
      },
      "execution_count": null,
      "outputs": []
    },
    {
      "cell_type": "code",
      "source": [
        "#accessing last elements in tuple\n",
        "tup[-1]"
      ],
      "metadata": {
        "id": "vlGE4NFAN4iB"
      },
      "execution_count": null,
      "outputs": []
    },
    {
      "cell_type": "code",
      "source": [
        "#accessing first elements in tuple\n",
        "tup[0]"
      ],
      "metadata": {
        "id": "4ydxbvXiOMOx"
      },
      "execution_count": null,
      "outputs": []
    },
    {
      "cell_type": "markdown",
      "source": [
        "#Membership operator"
      ],
      "metadata": {
        "id": "diWzw5zcPIMT"
      }
    },
    {
      "cell_type": "code",
      "source": [],
      "metadata": {
        "id": "3hZ1SqsQPM--"
      },
      "execution_count": null,
      "outputs": []
    },
    {
      "cell_type": "code",
      "source": [],
      "metadata": {
        "id": "jsMIfnLzPM7z"
      },
      "execution_count": null,
      "outputs": []
    },
    {
      "cell_type": "markdown",
      "source": [
        "#Identity operator"
      ],
      "metadata": {
        "id": "BluwGNt2PNna"
      }
    },
    {
      "cell_type": "code",
      "source": [],
      "metadata": {
        "id": "jsTKWpivPWAx"
      },
      "execution_count": null,
      "outputs": []
    },
    {
      "cell_type": "code",
      "source": [],
      "metadata": {
        "id": "yRxDs9OsPV9j"
      },
      "execution_count": null,
      "outputs": []
    },
    {
      "cell_type": "markdown",
      "source": [
        "#tuple Methods\n",
        "- index()\n",
        "- count()\n"
      ],
      "metadata": {
        "id": "KtjP8a7xO5gE"
      }
    },
    {
      "cell_type": "code",
      "source": [
        "#index method return only the first occurence\n",
        "t1 = (1, 2, 3, 1, 2, 6)\n",
        "print(t1)\n",
        "\n",
        "i = t1.index(2)\n",
        "print(f'2 is at positon {i}')"
      ],
      "metadata": {
        "id": "DgJs5AqCORgh"
      },
      "execution_count": null,
      "outputs": []
    },
    {
      "cell_type": "code",
      "source": [
        "#finding the elements of specific element in the list\n",
        "t6 = (1, 1, 2, 2, 3, 4, 5)\n",
        "x = int(input('Enter any number: '))\n",
        "if x in t1:\n",
        "  i = t6.index(x)\n",
        "  print(f'{x} ia at index {i}')\n",
        "else:\n",
        "  print(f'{x} not in tuple')\n",
        "  "
      ],
      "metadata": {
        "id": "ijZgRqkGPF6g"
      },
      "execution_count": null,
      "outputs": []
    },
    {
      "cell_type": "code",
      "source": [
        "#count() method \n",
        "#count the occurence in the tuple\n",
        "n = t1.count(1)\n",
        "print(n)\n",
        "\n",
        "#len(), min(), max(), sum(), sorted()\n"
      ],
      "metadata": {
        "id": "k1xMQGsbQMbQ"
      },
      "execution_count": null,
      "outputs": []
    },
    {
      "cell_type": "markdown",
      "source": [
        "#Tuple Vs List"
      ],
      "metadata": {
        "id": "iBhE7e-0VE1h"
      }
    },
    {
      "cell_type": "code",
      "source": [
        "# tuple are faster than and more efficient than the list\n",
        "# tuple are safer than lists --> data integrity\n",
        "# tuple can be used as keys in dictionaries.\n",
        "# storage efficient\n",
        "\n",
        "lst = [1, 2, 3, 4, 5, 6]\n",
        "tup = (1, 2, 3, 4, 5, 6)\n",
        "\n",
        "import sys\n",
        "print(f'List memory size: {sys.getsizeof(lst)}')\n",
        "print(f'Tuple memory size: {sys.getsizeof(tup)}')"
      ],
      "metadata": {
        "id": "gue1yaNJUlTN"
      },
      "execution_count": null,
      "outputs": []
    },
    {
      "cell_type": "code",
      "source": [
        "print(tuple('Python'))"
      ],
      "metadata": {
        "id": "J9YpzZcpWbzM"
      },
      "execution_count": null,
      "outputs": []
    },
    {
      "cell_type": "markdown",
      "source": [
        "#Set"
      ],
      "metadata": {
        "id": "Tzr3aoR_VImh"
      }
    },
    {
      "cell_type": "code",
      "source": [
        "#creat an empty set\n",
        "set1 = set()\n",
        "print(set1)\n",
        "\n",
        "#set is unordered\n",
        "set2 = {10, 18, 8, 99, 23}\n",
        "\n",
        "#set is unique value\n",
        "set3 = {10, 10, 10, 15, 15, 20, 20}\n",
        "print(set3)\n",
        "\n",
        "#add elemetns in set \n",
        "set4 = set2.add(()) #error\n",
        "print(set4)"
      ],
      "metadata": {
        "id": "Ue5THZuEXQVg"
      },
      "execution_count": null,
      "outputs": []
    },
    {
      "cell_type": "markdown",
      "source": [
        "#Set Method\n",
        "add(), clear(), copy(), difference(), difference_update(), discard(), intersection(), intersection_update(), isdisjoint(), issubset(), issuperset(), pop(), remove(), symmetric_difference(), symmetric_difference_update()\n",
        "union(), update()"
      ],
      "metadata": {
        "id": "fbN8keW_Htzq"
      }
    },
    {
      "cell_type": "markdown",
      "source": [
        "##Create set"
      ],
      "metadata": {
        "id": "d8MNvjTdI55w"
      }
    },
    {
      "cell_type": "code",
      "source": [],
      "metadata": {
        "id": "vl-_5MzeVrmW"
      },
      "execution_count": null,
      "outputs": []
    },
    {
      "cell_type": "markdown",
      "source": [
        "##add() method"
      ],
      "metadata": {
        "id": "7YnTwiF8I-rw"
      }
    },
    {
      "cell_type": "code",
      "source": [],
      "metadata": {
        "id": "TalcNuf2JCod"
      },
      "execution_count": null,
      "outputs": []
    },
    {
      "cell_type": "markdown",
      "source": [
        "##update() method"
      ],
      "metadata": {
        "id": "JR2GOlYFKJFO"
      }
    },
    {
      "cell_type": "code",
      "source": [],
      "metadata": {
        "id": "hooL5_BhKLkH"
      },
      "execution_count": null,
      "outputs": []
    },
    {
      "cell_type": "markdown",
      "source": [
        "##clear() method"
      ],
      "metadata": {
        "id": "m3DJNBagJFEZ"
      }
    },
    {
      "cell_type": "code",
      "source": [],
      "metadata": {
        "id": "SEGYr-sPJLJ8"
      },
      "execution_count": null,
      "outputs": []
    },
    {
      "cell_type": "markdown",
      "source": [
        "##copy() method"
      ],
      "metadata": {
        "id": "2AxGV8a0JMHW"
      }
    },
    {
      "cell_type": "code",
      "source": [],
      "metadata": {
        "id": "hdej4jNvJOLk"
      },
      "execution_count": null,
      "outputs": []
    },
    {
      "cell_type": "markdown",
      "source": [
        "##pop() method"
      ],
      "metadata": {
        "id": "ptgAGTcQJ72M"
      }
    },
    {
      "cell_type": "code",
      "source": [],
      "metadata": {
        "id": "flEOMjnvKEU9"
      },
      "execution_count": null,
      "outputs": []
    },
    {
      "cell_type": "markdown",
      "source": [
        "##remove() method"
      ],
      "metadata": {
        "id": "GiGNTqxGJ_B_"
      }
    },
    {
      "cell_type": "code",
      "source": [],
      "metadata": {
        "id": "qo78_YEgJ-gU"
      },
      "execution_count": null,
      "outputs": []
    },
    {
      "cell_type": "markdown",
      "source": [
        "##union() method"
      ],
      "metadata": {
        "id": "Qjy-8jK8KPa1"
      }
    },
    {
      "cell_type": "code",
      "source": [],
      "metadata": {
        "id": "eYzfwmfeKRw1"
      },
      "execution_count": null,
      "outputs": []
    },
    {
      "cell_type": "markdown",
      "source": [
        "##difference() method"
      ],
      "metadata": {
        "id": "zib7l99IJPDz"
      }
    },
    {
      "cell_type": "code",
      "source": [],
      "metadata": {
        "id": "aSsv4MvlJTOt"
      },
      "execution_count": null,
      "outputs": []
    },
    {
      "cell_type": "markdown",
      "source": [
        "##difference_update() method"
      ],
      "metadata": {
        "id": "hEA3HqW3JUR2"
      }
    },
    {
      "cell_type": "code",
      "source": [],
      "metadata": {
        "id": "sLEaLdx1JZTV"
      },
      "execution_count": null,
      "outputs": []
    },
    {
      "cell_type": "markdown",
      "source": [
        "##discard() method"
      ],
      "metadata": {
        "id": "SetMrYprJZ3-"
      }
    },
    {
      "cell_type": "code",
      "source": [],
      "metadata": {
        "id": "_I6HhoUWJgfk"
      },
      "execution_count": null,
      "outputs": []
    },
    {
      "cell_type": "markdown",
      "source": [
        "##intersection() method"
      ],
      "metadata": {
        "id": "aDZFkp3LJiqO"
      }
    },
    {
      "cell_type": "code",
      "source": [],
      "metadata": {
        "id": "p5HijmYtJmLM"
      },
      "execution_count": null,
      "outputs": []
    },
    {
      "cell_type": "markdown",
      "source": [
        "##intersection_update() method"
      ],
      "metadata": {
        "id": "cChaAQTpJmu9"
      }
    },
    {
      "cell_type": "code",
      "source": [],
      "metadata": {
        "id": "2t3evI3jJpOD"
      },
      "execution_count": null,
      "outputs": []
    },
    {
      "cell_type": "markdown",
      "source": [
        "##isdisjoint() method"
      ],
      "metadata": {
        "id": "SO8DiU8gJp5F"
      }
    },
    {
      "cell_type": "code",
      "source": [],
      "metadata": {
        "id": "_nfHYJukJxuL"
      },
      "execution_count": null,
      "outputs": []
    },
    {
      "cell_type": "markdown",
      "source": [
        "##issubset() method"
      ],
      "metadata": {
        "id": "TAb643RsJye1"
      }
    },
    {
      "cell_type": "code",
      "source": [],
      "metadata": {
        "id": "7MwLPEH3J1ET"
      },
      "execution_count": null,
      "outputs": []
    },
    {
      "cell_type": "markdown",
      "source": [
        "##issuperset() method"
      ],
      "metadata": {
        "id": "688vSp1FJ1gI"
      }
    },
    {
      "cell_type": "code",
      "source": [],
      "metadata": {
        "id": "cp_H8ssmJ44U"
      },
      "execution_count": null,
      "outputs": []
    },
    {
      "cell_type": "markdown",
      "source": [
        "##symmetric_difference() method"
      ],
      "metadata": {
        "id": "d61kww3QKUak"
      }
    },
    {
      "cell_type": "code",
      "source": [],
      "metadata": {
        "id": "80klUgp1KYQc"
      },
      "execution_count": null,
      "outputs": []
    },
    {
      "cell_type": "markdown",
      "source": [
        "##symmetric_difference_update() method"
      ],
      "metadata": {
        "id": "9fpCk8NsKYyH"
      }
    },
    {
      "cell_type": "code",
      "source": [],
      "metadata": {
        "id": "4I6R9oRBKbRT"
      },
      "execution_count": null,
      "outputs": []
    },
    {
      "cell_type": "markdown",
      "source": [
        "##Frozenset"
      ],
      "metadata": {
        "id": "Ix8UxDOwKcYH"
      }
    },
    {
      "cell_type": "code",
      "source": [],
      "metadata": {
        "id": "OMoFuaifKjwP"
      },
      "execution_count": null,
      "outputs": []
    },
    {
      "cell_type": "markdown",
      "source": [
        "#Dictionaries"
      ],
      "metadata": {
        "id": "I-DruVMRKnsU"
      }
    },
    {
      "cell_type": "markdown",
      "source": [
        "##create dictionary"
      ],
      "metadata": {
        "id": "GOfNWF-vK3JE"
      }
    },
    {
      "cell_type": "code",
      "source": [],
      "metadata": {
        "id": "2ji0_7xvKqlq"
      },
      "execution_count": null,
      "outputs": []
    },
    {
      "cell_type": "markdown",
      "source": [
        "##iterate over dictionary"
      ],
      "metadata": {
        "id": "gR04zugGK7gs"
      }
    },
    {
      "cell_type": "code",
      "source": [],
      "metadata": {
        "id": "PXRQt7cCLAxa"
      },
      "execution_count": null,
      "outputs": []
    },
    {
      "cell_type": "markdown",
      "source": [
        "##dictionary comprehension"
      ],
      "metadata": {
        "id": "MshH9V9hLHjz"
      }
    },
    {
      "cell_type": "code",
      "source": [],
      "metadata": {
        "id": "cny-Xo64LNOy"
      },
      "execution_count": null,
      "outputs": []
    },
    {
      "cell_type": "markdown",
      "source": [
        "##dictionary method\n",
        "clear(), copy(), fromkeys(), get(), pop(), popitems(), items(), keys(), values(), setdefault(), update()."
      ],
      "metadata": {
        "id": "20DTr5MdLN7r"
      }
    },
    {
      "cell_type": "code",
      "source": [],
      "metadata": {
        "id": "JWVFf5GVL1VP"
      },
      "execution_count": null,
      "outputs": []
    },
    {
      "cell_type": "markdown",
      "source": [
        "##copy() method"
      ],
      "metadata": {
        "id": "_l44OewEL4lb"
      }
    },
    {
      "cell_type": "code",
      "source": [],
      "metadata": {
        "id": "ubImRV-0MCDg"
      },
      "execution_count": null,
      "outputs": []
    },
    {
      "cell_type": "markdown",
      "source": [
        "##get() method"
      ],
      "metadata": {
        "id": "R3TALik1L-3p"
      }
    },
    {
      "cell_type": "code",
      "source": [],
      "metadata": {
        "id": "cJ86tBizL9m5"
      },
      "execution_count": null,
      "outputs": []
    },
    {
      "cell_type": "markdown",
      "source": [
        "##keys() method"
      ],
      "metadata": {
        "id": "HLpoCzoaMC7_"
      }
    },
    {
      "cell_type": "code",
      "source": [],
      "metadata": {
        "id": "lvS9weNUMHzw"
      },
      "execution_count": null,
      "outputs": []
    },
    {
      "cell_type": "markdown",
      "source": [
        "##values() method"
      ],
      "metadata": {
        "id": "iyEiOgNIMIn0"
      }
    },
    {
      "cell_type": "code",
      "source": [],
      "metadata": {
        "id": "4HW3NGSNMKi4"
      },
      "execution_count": null,
      "outputs": []
    },
    {
      "cell_type": "markdown",
      "source": [
        "##items() method"
      ],
      "metadata": {
        "id": "64iciK7TMLRR"
      }
    },
    {
      "cell_type": "code",
      "source": [],
      "metadata": {
        "id": "JyDLvK2FMNqQ"
      },
      "execution_count": null,
      "outputs": []
    },
    {
      "cell_type": "markdown",
      "source": [
        "##update() method"
      ],
      "metadata": {
        "id": "ZJbCtm_cMTfJ"
      }
    },
    {
      "cell_type": "code",
      "source": [],
      "metadata": {
        "id": "7M64GLXGMVnx"
      },
      "execution_count": null,
      "outputs": []
    },
    {
      "cell_type": "markdown",
      "source": [
        "##setdefault() method"
      ],
      "metadata": {
        "id": "vcb4tExoMWGi"
      }
    },
    {
      "cell_type": "code",
      "source": [],
      "metadata": {
        "id": "oyreXA6HMY7I"
      },
      "execution_count": null,
      "outputs": []
    },
    {
      "cell_type": "markdown",
      "source": [
        "##fromkeys() method"
      ],
      "metadata": {
        "id": "0dTQm2WUMZYh"
      }
    },
    {
      "cell_type": "code",
      "source": [],
      "metadata": {
        "id": "t2WnN_t-MbXo"
      },
      "execution_count": null,
      "outputs": []
    },
    {
      "cell_type": "markdown",
      "source": [
        "##pop() method"
      ],
      "metadata": {
        "id": "ajyPMPyWMfzS"
      }
    },
    {
      "cell_type": "code",
      "source": [],
      "metadata": {
        "id": "pIxSub8RMiLA"
      },
      "execution_count": null,
      "outputs": []
    },
    {
      "cell_type": "markdown",
      "source": [
        "##popitems() method"
      ],
      "metadata": {
        "id": "f3DJqGeeMipb"
      }
    },
    {
      "cell_type": "code",
      "source": [],
      "metadata": {
        "id": "YpwxRT3DMkeI"
      },
      "execution_count": null,
      "outputs": []
    },
    {
      "cell_type": "markdown",
      "source": [
        "##clear() method"
      ],
      "metadata": {
        "id": "WZPuFTVUMlPS"
      }
    },
    {
      "cell_type": "code",
      "source": [],
      "metadata": {
        "id": "QF53mMGgMnR4"
      },
      "execution_count": null,
      "outputs": []
    },
    {
      "cell_type": "markdown",
      "source": [
        "#Functions"
      ],
      "metadata": {
        "id": "-9dkMhiaMoIi"
      }
    },
    {
      "cell_type": "code",
      "source": [],
      "metadata": {
        "id": "LBuVnzgRMr0X"
      },
      "execution_count": null,
      "outputs": []
    },
    {
      "cell_type": "markdown",
      "source": [
        "##docstring in function\n",
        "used to describing code"
      ],
      "metadata": {
        "id": "e6TFulnSM1oQ"
      }
    },
    {
      "cell_type": "code",
      "source": [
        "print(len('python is coooool!'))"
      ],
      "metadata": {
        "id": "H3cw3AlTM3tf"
      },
      "execution_count": null,
      "outputs": []
    },
    {
      "cell_type": "code",
      "source": [
        "def sayhello(name):\n",
        "  '''This function says hello'''\n",
        "  print(f'hello {name}!')"
      ],
      "metadata": {
        "id": "BjdlTu2jNIk4"
      },
      "execution_count": null,
      "outputs": []
    },
    {
      "cell_type": "code",
      "source": [
        "sayhello('sopan')"
      ],
      "metadata": {
        "id": "CiN97FILNXZK"
      },
      "execution_count": null,
      "outputs": []
    },
    {
      "cell_type": "code",
      "source": [
        "#getting by using help method\n",
        "help(sayhello)"
      ],
      "metadata": {
        "id": "9caJRtNrNaV-"
      },
      "execution_count": null,
      "outputs": []
    },
    {
      "cell_type": "code",
      "source": [
        "#by using built in function\n",
        "print(sayhello.__doc__)"
      ],
      "metadata": {
        "id": "_PH_4joENqF5"
      },
      "execution_count": null,
      "outputs": []
    },
    {
      "cell_type": "markdown",
      "source": [
        "###python documentation generator"
      ],
      "metadata": {
        "id": "z91g20MAOYcg"
      }
    },
    {
      "cell_type": "code",
      "source": [
        "#using sphinx tool"
      ],
      "metadata": {
        "id": "6nTFBh48N3S_"
      },
      "execution_count": null,
      "outputs": []
    },
    {
      "cell_type": "markdown",
      "source": [
        "##function arguments type\n",
        "1. positional arguents \n",
        "2. default arguments\n",
        "3. keyword arguments\n",
        "4. variable length arguments\n",
        "5. keyword variable length arguments"
      ],
      "metadata": {
        "id": "enN6-1e3OpME"
      }
    },
    {
      "cell_type": "markdown",
      "source": [
        "##Positional arguments"
      ],
      "metadata": {
        "id": "bz9bxoDSPF7u"
      }
    },
    {
      "cell_type": "code",
      "source": [
        "def difference(a, b):\n",
        "  result = a - b\n",
        "  print(result)"
      ],
      "metadata": {
        "id": "eE_Za0qsOr5V"
      },
      "execution_count": null,
      "outputs": []
    },
    {
      "cell_type": "code",
      "source": [
        "#position does matter\n",
        "#calling function\n",
        "difference(2, 1)\n",
        "#again calling function\n",
        "difference(1, 2)"
      ],
      "metadata": {
        "id": "zmyNSG_xPXi1"
      },
      "execution_count": null,
      "outputs": []
    },
    {
      "cell_type": "markdown",
      "source": [
        "##parameter Vs Arguments"
      ],
      "metadata": {
        "id": "p_2LRLQ2Qlqx"
      }
    },
    {
      "cell_type": "code",
      "source": [
        " #x and y are function parameter\n",
        "def fun(x, y):\n",
        "  print(f'1st parameter: {x}')\n",
        "  print(f'2nd parameter: {y}')\n",
        "\n",
        "#calling function\n",
        "fun('python', '3.10') #python and 3.10 are the arguments "
      ],
      "metadata": {
        "id": "8Z8axltRPhC-"
      },
      "execution_count": null,
      "outputs": []
    },
    {
      "cell_type": "markdown",
      "source": [
        "##keyword arguments"
      ],
      "metadata": {
        "id": "CY0b1iicSKFp"
      }
    },
    {
      "cell_type": "code",
      "source": [
        "#define a function with three parameter x, y, z"
      ],
      "metadata": {
        "id": "QQG_3NI8RpmJ"
      },
      "execution_count": null,
      "outputs": []
    },
    {
      "cell_type": "code",
      "source": [
        "#calling the function by arguments name i.e x=10, y=20, z=30\n",
        "#position/sequence does not matter\n"
      ],
      "metadata": {
        "id": "RiulI763SXBX"
      },
      "execution_count": null,
      "outputs": []
    },
    {
      "cell_type": "markdown",
      "source": [
        "##Default arguments"
      ],
      "metadata": {
        "id": "32YGHhFsTbMo"
      }
    },
    {
      "cell_type": "code",
      "source": [
        "#create a function and assign default value to the parameter\n",
        "def fun1(x, y=10):\n",
        "  pass\n",
        "\n",
        "\n",
        "#calling function by passing only one arguments\n",
        "#second parameter take by default value\n",
        "fun1(10)"
      ],
      "metadata": {
        "id": "O_9rF_5CTlst"
      },
      "execution_count": null,
      "outputs": []
    },
    {
      "cell_type": "markdown",
      "source": [
        "##Variable length arguments"
      ],
      "metadata": {
        "id": "97hyUIKiUQZ2"
      }
    },
    {
      "cell_type": "code",
      "source": [],
      "metadata": {
        "id": "DbrIZEphUNcK"
      },
      "execution_count": null,
      "outputs": []
    },
    {
      "cell_type": "markdown",
      "source": [
        "##Variable length keyword argumnets"
      ],
      "metadata": {
        "id": "HVuuZ1DAUpuA"
      }
    },
    {
      "cell_type": "code",
      "source": [],
      "metadata": {
        "id": "1WGVqLx3UyX0"
      },
      "execution_count": null,
      "outputs": []
    },
    {
      "cell_type": "markdown",
      "source": [
        "##return statements"
      ],
      "metadata": {
        "id": "-nhfgLGBUzNf"
      }
    },
    {
      "cell_type": "code",
      "source": [
        "#declare function\n",
        "def fun2():\n",
        "  return\n",
        "\n",
        "#calling function\n",
        "n = fun2()\n",
        "print(n)"
      ],
      "metadata": {
        "id": "xNYYbruzU2BP"
      },
      "execution_count": null,
      "outputs": []
    },
    {
      "cell_type": "markdown",
      "source": [
        "after the return statements pyhon does not execute code"
      ],
      "metadata": {
        "id": "I2Z8zWn6V7Ac"
      }
    },
    {
      "cell_type": "code",
      "source": [
        "def fun3():\n",
        "  return 'python'\n",
        "  print('welcome buddy!')\n",
        "\n",
        "#calling function\n",
        "fun3()"
      ],
      "metadata": {
        "id": "mUFDQZ8uVoBm"
      },
      "execution_count": null,
      "outputs": []
    },
    {
      "cell_type": "markdown",
      "source": [
        "more than one value function always return in the form of tuple"
      ],
      "metadata": {
        "id": "up4HxqSNWEYW"
      }
    },
    {
      "cell_type": "code",
      "source": [
        "def fun4():\n",
        "  return 'pyhon', 'is', 'cool'\n",
        "\n",
        "\n",
        "#calling function\n",
        "tup = fun4()\n",
        "print(tup, type(tup))"
      ],
      "metadata": {
        "id": "e5Dmp1BhVsqm"
      },
      "execution_count": null,
      "outputs": []
    },
    {
      "cell_type": "markdown",
      "source": [
        "##Function unpacking\n",
        "when we dont know the function will return how many values/expression"
      ],
      "metadata": {
        "id": "aESMod8QXiqN"
      }
    },
    {
      "cell_type": "code",
      "source": [
        "def fun5(x):\n",
        "  return x, x**2, x**3, x**4\n",
        "\n",
        "#calling function\n",
        "#unpack the function \n",
        "#a treated as normal variable but *b treated as list reference\n",
        "a, *y = fun5(2)\n",
        "print(a, b, type(a), type(b))"
      ],
      "metadata": {
        "id": "AWjN6CrVW_BA"
      },
      "execution_count": null,
      "outputs": []
    },
    {
      "cell_type": "code",
      "source": [],
      "metadata": {
        "id": "xJtzlIruX-lq"
      },
      "execution_count": null,
      "outputs": []
    }
  ]
}