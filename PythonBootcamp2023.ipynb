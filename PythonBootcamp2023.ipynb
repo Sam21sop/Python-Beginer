{
  "nbformat": 4,
  "nbformat_minor": 0,
  "metadata": {
    "colab": {
      "provenance": [],
      "authorship_tag": "ABX9TyNpbztb3QvxJ4Cb1QmPRjek",
      "include_colab_link": true
    },
    "kernelspec": {
      "name": "python3",
      "display_name": "Python 3"
    },
    "language_info": {
      "name": "python"
    }
  },
  "cells": [
    {
      "cell_type": "markdown",
      "metadata": {
        "id": "view-in-github",
        "colab_type": "text"
      },
      "source": [
        "<a href=\"https://colab.research.google.com/github/Sam21sop/Python-Basic-code/blob/main/PythonBootcamp2023.ipynb\" target=\"_parent\"><img src=\"https://colab.research.google.com/assets/colab-badge.svg\" alt=\"Open In Colab\"/></a>"
      ]
    },
    {
      "cell_type": "markdown",
      "source": [
        "#Python Bootcamp 2023"
      ],
      "metadata": {
        "id": "z7VU-R_jPyxv"
      }
    },
    {
      "cell_type": "code",
      "source": [
        "# print() function/method used to rendering/displaying output on screen\n",
        "print('Python')"
      ],
      "metadata": {
        "id": "NLiBrRrhP8Ba"
      },
      "execution_count": null,
      "outputs": []
    },
    {
      "cell_type": "code",
      "source": [
        "x = 6\n",
        "x * 2\n",
        "print(x)"
      ],
      "metadata": {
        "id": "aaVvn7kNSCrJ"
      },
      "execution_count": null,
      "outputs": []
    },
    {
      "cell_type": "markdown",
      "source": [
        "#Variable\n",
        "we use variable to store data\n",
        "1. variable names contains a-z, A-Z, 0-9, & _\n",
        "2. variable name can't start with number\n",
        "3. dont use special character in variable\n",
        "4. variable must not be reserve keywords\n",
        "5. use snake_case for variable name &\n",
        "PascalCase for class name\n"
      ],
      "metadata": {
        "id": "3ACADhi-VKJ1"
      }
    },
    {
      "cell_type": "code",
      "source": [
        "#some valid variable name\n",
        "miles = 1.609\n",
        "my_name = 'Sopan'\n",
        "day_1 = 'Today'\n",
        "max_value = 99   #snake_case"
      ],
      "metadata": {
        "id": "iAr0yfJVSZTI"
      },
      "execution_count": null,
      "outputs": []
    },
    {
      "cell_type": "markdown",
      "source": [
        "#Comments\n",
        "In python we can define comments three different way as follow:\n",
        "1. By using triple \"\"\" & ''' quote for multiple lines. it is known as document string\n",
        "4. By using # symbol for single line comments"
      ],
      "metadata": {
        "id": "j6CsXDYQW54r"
      }
    },
    {
      "cell_type": "code",
      "source": [
        "# this is comments\n",
        "# a = 5\n",
        "x = 9 # x is a variable\n",
        "\n",
        "''' This is multiline/doc_string \n",
        "comments\n",
        "'''\n",
        "\n",
        "\"\"\"\n",
        "This is  also multiline/ \n",
        "doc_string comments \n",
        "in python\n",
        "\"\"\""
      ],
      "metadata": {
        "id": "qEIXSsAxZdas"
      },
      "execution_count": null,
      "outputs": []
    },
    {
      "cell_type": "markdown",
      "source": [
        "#constants\n",
        "Value that will never change ex. PI.\n",
        "python does not have anything in the language to declare a constant.\n",
        "It's declared like a variable.\n",
        "Constant value are often written with UPPER-CASE letters"
      ],
      "metadata": {
        "id": "r1D20F7gait6"
      }
    },
    {
      "cell_type": "code",
      "source": [
        "PI = 3.14\n",
        "DAYS_IN_WEEK = 7\n"
      ],
      "metadata": {
        "id": "z63gBFjAbaSw"
      },
      "execution_count": null,
      "outputs": []
    },
    {
      "cell_type": "markdown",
      "source": [
        "Python is dynamically typed language. the type is associated with run time value and not withany data type declaration\n",
        "In Python the value stored in variable have type and not the name or the variable itself.\n",
        "Dynamically-typed language are comparatively faster during development time and are more flexible.\n"
      ],
      "metadata": {
        "id": "mRgwuyj3bzfQ"
      }
    },
    {
      "cell_type": "code",
      "source": [
        "x = 9\n",
        "print(type(x))\n",
        "\n",
        "name = 'sopan'\n",
        "print(type(name))\n",
        "\n",
        "print(id(name))"
      ],
      "metadata": {
        "id": "DfRSkaBUdB9-"
      },
      "execution_count": null,
      "outputs": []
    },
    {
      "cell_type": "markdown",
      "source": [
        "#Reserve keyword in python\n",
        "False, class, from, or,\n",
        "None, continue, global, pass,\n",
        "True, def, if, raise,\n",
        "and, del, import, return,\n",
        "as, elif, in, try, \n",
        "assert, else, is, while, \n",
        "async, except, lambda, with, \n",
        "await, finally, nonlocal, yield,\n",
        "break, for, not."
      ],
      "metadata": {
        "id": "dr3BMfciHkB5"
      }
    },
    {
      "cell_type": "markdown",
      "source": [
        "#Build in data Type\n",
        "Number: int, float, complex\n",
        "\n",
        "Booleans: True, False\n",
        "\n",
        "String: string\n",
        "\n",
        "List\n",
        "Tuple\n",
        "Set\n",
        "Dictionaries"
      ],
      "metadata": {
        "id": "7cJJu4AOdvQ1"
      }
    },
    {
      "cell_type": "code",
      "source": [
        "#numbers\n",
        "x = 8\n",
        "y = 10.45\n",
        "z = 5 + 2j\n",
        "print(type(x))\n",
        "print(type(y))\n",
        "print(type(z))\n",
        "\n",
        "#Boolean\n",
        "a = True\n",
        "b = False\n",
        "print(type(a))\n",
        "print(type(b))\n",
        "\n",
        "#string\n",
        "name = 'Sopan'\n",
        "last_name = \"Bhere\"\n",
        "print(type(name))\n",
        "print(type(last_name))\n",
        "\n",
        "#List\n",
        "friends = ['sopan', 'prajwal', 'saurabh', \"swami\"]\n",
        "print(type(friends))\n",
        "\n",
        "#tuple\n",
        "best_num = (1, 2, 3, 4, 5)\n",
        "print(type(best_num))\n",
        "\n",
        "#set\n",
        "price = {1, 3, 5, 8, 56, 90}\n",
        "print(type(price))\n",
        "\n",
        "#dictionary\n",
        "sub_price = {'Python' : 2000, 'Java' : 1000, 'C' : 1000}\n",
        "print(type(sub_price))"
      ],
      "metadata": {
        "id": "YcPf7xOHdqkL"
      },
      "execution_count": null,
      "outputs": []
    },
    {
      "cell_type": "markdown",
      "source": [
        "#operators\n",
        "An operator is a symbols of programming language able to operate on value.\n",
        "Types of Operators:\n",
        "1. Arithmetic--> +, -, /, *, **, //, %\n",
        "2. Assignment--> =, +=, -=, *=, /=, //=, %=, **=.\n",
        "3. Comparision--> ==, !=, >, <, <=, >=\n",
        "4. Identity--> is, is not.\n",
        "5. Logical--> and, or, not\n",
        "6. Membership--> in, not in\n",
        "7. Bitwise--> &, |, ~, ^, >>, <<.\n",
        "\n",
        "#Operator Precedence\n",
        "1. Exponentiation (**)\n",
        "2. Multiplication(*) & Division(/)\n",
        "3. Addition(+) & subtraction(-)"
      ],
      "metadata": {
        "id": "SLQ0SEt7g0so"
      }
    },
    {
      "cell_type": "markdown",
      "source": [
        "#Arithmetic Operators"
      ],
      "metadata": {
        "id": "X0rlYz8RiAQh"
      }
    },
    {
      "cell_type": "code",
      "source": [
        "\n",
        "a = int(input(\"Enter any number: \"))\n",
        "b = int(input(\"Enter any number: \"))\n",
        "\n",
        "c = a + b\n",
        "print(f'Additon of {a} and {b} = {c}')\n",
        "\n",
        "d = a - b\n",
        "print(f'Subtraction of {a} and {b} = {d}')\n",
        "\n",
        "e = a * b\n",
        "print(f'multiplication of {a} and {b} = {e}')\n",
        "f = a / b\n",
        "print(f'Division of {a} and {b} = {f}')\n",
        "\n",
        "g = a // b\n",
        "print(f'Floor Division of {a} and {b} = {g}')\n",
        "\n",
        "h = a % b\n",
        "print(f'Modulo of {a} and {b} = {h}')"
      ],
      "metadata": {
        "id": "fvCYw2s5kviS"
      },
      "execution_count": null,
      "outputs": []
    },
    {
      "cell_type": "markdown",
      "source": [
        "#Assignment Operator"
      ],
      "metadata": {
        "id": "1p57TFl1iEkx"
      }
    },
    {
      "cell_type": "code",
      "source": [
        "p = int(input('Enter Any number: '))\n",
        "\n",
        "# assignment value of p to the c\n",
        "c = p\n",
        "print(c)\n",
        "\n",
        "# adding 2 in c and assign again to c\n",
        "c += 2\n",
        "print(c)\n",
        "\n",
        "# subtract 1 from c and assign again to c\n",
        "c -= 1\n",
        "print(c)\n",
        "\n",
        "# multiplied c with 2 and assign again to c\n",
        "c *= 2\n",
        "print(c)\n",
        "\n",
        "#dividing c by 2 and assign again to c\n",
        "c /= 2\n",
        "print(c)\n",
        "\n",
        "# exponetial of c is 2 and store back into c\n",
        "c **= 2\n",
        "print(c)\n",
        "\n",
        "#c modulo with 2 and store back into c\n",
        "c %= 2\n",
        "print(c)\n",
        "\n",
        "#floor division and store back into c\n",
        "c //= 2\n",
        "print(c)"
      ],
      "metadata": {
        "id": "8zNONEUDnmSS"
      },
      "execution_count": null,
      "outputs": []
    },
    {
      "cell_type": "markdown",
      "source": [
        "#comparision operator"
      ],
      "metadata": {
        "id": "TrlXJhD3iORQ"
      }
    },
    {
      "cell_type": "code",
      "source": [
        "\n",
        "a = int(input('Enter any number: '))\n",
        "b = int(input('Enter second number: '))\n",
        "\n",
        "c = a == b\n",
        "print(c)\n",
        "\n",
        "d = a != b\n",
        "print(d)\n",
        "\n",
        "e = a > b\n",
        "print(e)\n",
        "\n",
        "f = a < b\n",
        "print(f)\n",
        "\n",
        "g = a >= b\n",
        "print(g)\n",
        "\n",
        "h = a <= b\n",
        "print(h)\n"
      ],
      "metadata": {
        "id": "74rtniXLtOzS"
      },
      "execution_count": null,
      "outputs": []
    },
    {
      "cell_type": "markdown",
      "source": [
        "#Mutability Vs Immutability\n",
        "The value of a mutable variable can be changed after it has been created, but The value of an immutable variable can't be change\n",
        "\n",
        "Immutable data type:---> int, float, string, tuple, frozenset\n",
        "Mutable data type:-----> list, set, dictionary"
      ],
      "metadata": {
        "id": "Jxbix_g_eplV"
      }
    },
    {
      "cell_type": "markdown",
      "source": [
        "# identity operator"
      ],
      "metadata": {
        "id": "L3n5Rz6YiQmo"
      }
    },
    {
      "cell_type": "code",
      "source": [
        "a = int(input(\"Enter any value: \"))\n",
        "b = int(input('enter any value: '))\n",
        "\n",
        "print('Id of', a, 'is', id(a))\n",
        "print('Id of', b, 'is', id(b))\n",
        "\n",
        "c = a is b\n",
        "print(c)\n",
        "\n",
        "d = a is not b\n",
        "print(d)\n",
        "\n",
        "number = [1, 2, 3]\n",
        "print(number)\n",
        "print(id(number))\n",
        "\n",
        "number.append(10)\n",
        "print(number)\n",
        "print(id(number))\n",
        "\n",
        "num = number.copy()\n",
        "print(num, id(num))\n",
        "print(number, id(number))\n",
        "\n",
        "print(num == number)   # It check equality of value\n",
        "print(num is number)   # It check equality of addresses"
      ],
      "metadata": {
        "id": "MZbbmUY8damH"
      },
      "execution_count": null,
      "outputs": []
    },
    {
      "cell_type": "markdown",
      "source": [
        "#logical operator\n"
      ],
      "metadata": {
        "id": "VkfJ006PiTX5"
      }
    },
    {
      "cell_type": "code",
      "source": [
        "a = True # False #True #False\n",
        "b = False #True #True #False\n",
        "\n",
        "print(a and b)\n",
        "print(a or b)\n",
        "print(not a)\n",
        "print(not b)"
      ],
      "metadata": {
        "id": "Je4w9qxgfPr2"
      },
      "execution_count": null,
      "outputs": []
    },
    {
      "cell_type": "markdown",
      "source": [
        "#Membership Operators"
      ],
      "metadata": {
        "id": "IR7RrY2liVhg"
      }
    },
    {
      "cell_type": "code",
      "source": [
        "name = 'Python'\n",
        "if 'P' in name:\n",
        "  print(name)\n",
        "else:\n",
        "  print('Not found !')\n",
        "\n",
        "list_1 = [10, 20, 30, 40]\n",
        "x = int(input('Enter any number less than 40:'))\n",
        "if x not in list_1:\n",
        "  print(f'{x} not in the list')\n",
        "else:\n",
        "  print(x)"
      ],
      "metadata": {
        "id": "6A3fmbeIguor"
      },
      "execution_count": null,
      "outputs": []
    },
    {
      "cell_type": "markdown",
      "source": [
        "#Bitwise operator\n",
        "1. bitwise AND ---> &\n",
        "2. bitwise OR ---> |\n",
        "3. bitwise NOT---> ~\n",
        "4. bitwise XOR---> ^\n",
        "5. bitwise rightshift ---> >>\n",
        "6. bitwise leftshift --->  <<"
      ],
      "metadata": {
        "id": "37u_5xTkoEwS"
      }
    },
    {
      "cell_type": "code",
      "source": [
        "a = int(input('Enter first number: '))\n",
        "b = int(input('Enter second number: '))\n",
        "\n",
        "print(a & b)\n",
        "\n",
        "print(a | b)\n",
        "\n",
        "print(a ^ b)\n",
        "\n",
        "print(~a)\n",
        "print(~b)"
      ],
      "metadata": {
        "id": "iEmfShvei28P"
      },
      "execution_count": null,
      "outputs": []
    },
    {
      "cell_type": "markdown",
      "source": [
        "#String \n",
        "a string is an ordered sequence of UTF-8 encoded character\n",
        "string can be declared using single quote and double quote"
      ],
      "metadata": {
        "id": "KjC7EoGjwoKS"
      }
    },
    {
      "cell_type": "code",
      "source": [
        "my_str1 = 'I love Python.'\n",
        "print(my_str1)\n",
        "my_str2 = \"I love Python\"\n",
        "print(my_str2)\n"
      ],
      "metadata": {
        "id": "skjqfANmw4Tx"
      },
      "execution_count": null,
      "outputs": []
    },
    {
      "cell_type": "markdown",
      "source": [
        "#string slicing\n",
        "syntax: string[start:end:step]"
      ],
      "metadata": {
        "id": "BQl1WkitM_BA"
      }
    },
    {
      "cell_type": "code",
      "source": [
        "st1 = \"python\"\n",
        "first = st1[0]\n",
        "last = st1[-1]\n",
        "print('first elements: ', first)\n",
        "print('last elements: ', last)"
      ],
      "metadata": {
        "id": "v6l5N6tENJrP"
      },
      "execution_count": null,
      "outputs": []
    },
    {
      "cell_type": "markdown",
      "source": [
        "#string concatenation and repitation\n",
        "concatenate --> + operator\n",
        "\n",
        "repitation --> * operator"
      ],
      "metadata": {
        "id": "QADO0KQkNz48"
      }
    },
    {
      "cell_type": "code",
      "source": [
        "#Concatenation of string\n",
        "movies = 'god father'\n",
        "director = 'ford'\n",
        "print(movies + ' was directed by ' + director)\n"
      ],
      "metadata": {
        "id": "CY34VOCJOGRi"
      },
      "execution_count": null,
      "outputs": []
    },
    {
      "cell_type": "code",
      "source": [
        "#repitation string\n",
        "movie = 'python'\n",
        "print(movie * 5)\n",
        "print('#' * 50, 'Sopan', '#' * 50)\n"
      ],
      "metadata": {
        "id": "AqUw8vXZPAzN"
      },
      "execution_count": null,
      "outputs": []
    },
    {
      "cell_type": "markdown",
      "source": [
        "#Escape sequence (\\\\)\n",
        "\n"
      ],
      "metadata": {
        "id": "wO5WfjyKxi9v"
      }
    },
    {
      "cell_type": "code",
      "source": [
        "x = 'isn\\'n' # single quote escape\n",
        "print(x)\n",
        "\n",
        "x = \"sopa\\\"s\"  #double quote escape\n",
        "print(x)\n",
        "\n",
        "x = 'hello\\\\world' # slash escape\n",
        "print(x)\n",
        "\n",
        "x = 'hello\\nworld'  # next line\n",
        "print(x)\n",
        "\n",
        "x = 'hello\\rworld'  #carriage return\n",
        "print(x)\n",
        "\n",
        "x = 'hello\\tworld' #tab escape\n",
        "print(x)\n",
        "\n",
        "x = 'hello\\bworld' # backspace escape\n",
        "print(x)\n",
        "\n",
        "x = 'hello\\fworld' # form feed escape\n",
        "print(x)\n",
        "\n",
        "x = '\\101\\102\\103'  #octal value escape\n",
        "print(x)\n",
        "\n",
        "x = '\\x41\\x42\\x43'  #hex value escape\n",
        "print(x)"
      ],
      "metadata": {
        "id": "rBbLX15XxdV-"
      },
      "execution_count": null,
      "outputs": []
    },
    {
      "cell_type": "code",
      "source": [
        "#Useful string methods \n",
        "my_str = 'i kear python programming'\n",
        "\n",
        "#upper() method\n",
        "my_str.upper()\n",
        "print(my_str)\n",
        "\n",
        "#lower() method\n",
        "my_str.lower()\n",
        "print(my_str)\n",
        "\n",
        "#strip() method\n",
        "ip = '   192.168.0.1   '  # remove spaces at the begining and at end\n",
        "ip = ip.strip()\n",
        "print(ip)\n",
        "\n",
        "value = '$$$200$$$'    # remove any character at begining and at end\n",
        "value = value.strip('$')\n",
        "\n",
        "#replace() method\n",
        "new_value = value.replace('$', '₹')\n",
        "print(new_value)\n",
        "\n",
        "#count() method\n",
        "txt = 'I learn python, python is cool'\n",
        "n = txt.count('python')\n",
        "print(n)\n",
        "\n",
        "#split() method\n",
        "my_lst = txt.split()\n",
        "print(my_lst)\n",
        "\n",
        "print('10.2.3.1'.split('.'))\n",
        "\n",
        "#join() method\n",
        "ip_lst = ip.split('.')\n",
        "print(ip_lst)\n",
        "\n",
        "ip_str = '.'.join(ip_lst)\n",
        "print(ip_str)\n",
        "\n",
        "#find() method\n",
        "my_str1 = 'I learn python python is cool'\n",
        "print(my_str1.find('is'))\n",
        "print(my_str1.find('pool'))\n",
        "#another way using 'in' and 'not in' membership operator"
      ],
      "metadata": {
        "id": "C51fgRG_JMfN"
      },
      "execution_count": null,
      "outputs": []
    },
    {
      "cell_type": "markdown",
      "source": [
        "#Conditional Statements"
      ],
      "metadata": {
        "id": "ZOXIre0vK3Ew"
      }
    },
    {
      "cell_type": "code",
      "source": [
        "balance  = 100\n",
        "price = 50\n",
        "if balance >= price:\n",
        "  new_balance = balance -price\n",
        "  print(f'You can book the flight and your balance will be {new_balance}')\n",
        "else:\n",
        "  print(f'Insufficient funds! Please deposite {price - balance}')\n",
        "print('other instruction...')\n",
        "x = 10"
      ],
      "metadata": {
        "id": "f5ovKxSIEkjz"
      },
      "execution_count": null,
      "outputs": []
    },
    {
      "cell_type": "code",
      "source": [
        "ans = input('Do you want to continue? Enter y/n: ').lower()\n",
        "if ans == 'y':\n",
        "  print('we will move on.')\n",
        "elif ans == 'n':\n",
        "  print('We stop!')\n",
        "else:\n",
        "  print('Invalid answer.')"
      ],
      "metadata": {
        "id": "RMQMgaru-ShS"
      },
      "execution_count": null,
      "outputs": []
    },
    {
      "cell_type": "code",
      "source": [
        "#nested if elif condition\n",
        "balance  = 100\n",
        "price = 50\n",
        "if balance >= price:\n",
        "  ans = input('Do you want to continue? Enter y/n: ').lower()\n",
        "  if ans == 'y':\n",
        "    print('we will move on.')\n",
        "  elif ans == 'n':\n",
        "    print('We stop!')\n",
        "  else:\n",
        "    print('Invalid answer.')\n",
        "  new_balance = balance -price\n",
        "  print(f'You can book the flight and your balance will be {new_balance}')\n",
        "else:\n",
        "  print(f'Insufficient funds! Please deposite {price - balance}')\n"
      ],
      "metadata": {
        "id": "rhefuRYW54ik"
      },
      "execution_count": null,
      "outputs": []
    },
    {
      "cell_type": "code",
      "source": [
        "x = 10\n",
        "if x <= 10:\n",
        "  print(f'x less than or equal to 10.')\n",
        "elif x == 10:\n",
        "  print(f'x is equal to 10.')\n",
        "else:\n",
        "  print(f'x is greater than 10.')"
      ],
      "metadata": {
        "id": "W3cp0Wku660R"
      },
      "execution_count": null,
      "outputs": []
    },
    {
      "cell_type": "markdown",
      "source": [
        "#Statements Vs Expressions\n",
        "- A statements is a unit of code.\n",
        "- An expression is a special statements that can be evaluted to some value."
      ],
      "metadata": {
        "id": "0xZLFY7B9jyb"
      }
    },
    {
      "cell_type": "code",
      "source": [
        "#how to check subclass\n",
        "issubclass(bool, int)"
      ],
      "metadata": {
        "id": "4iZhXrTR7bsg"
      },
      "execution_count": null,
      "outputs": []
    },
    {
      "cell_type": "code",
      "source": [
        "print(id(True))"
      ],
      "metadata": {
        "id": "-pvLIyHc-19w"
      },
      "execution_count": null,
      "outputs": []
    },
    {
      "cell_type": "code",
      "source": [
        "print(id(4>3))"
      ],
      "metadata": {
        "id": "LYbSrTOO_CfY"
      },
      "execution_count": null,
      "outputs": []
    },
    {
      "cell_type": "code",
      "source": [
        "100 * True"
      ],
      "metadata": {
        "id": "DBA9Cuce_E7f"
      },
      "execution_count": null,
      "outputs": []
    },
    {
      "cell_type": "code",
      "source": [
        "100 * False"
      ],
      "metadata": {
        "id": "nkaedEYt_leH"
      },
      "execution_count": null,
      "outputs": []
    },
    {
      "cell_type": "code",
      "source": [
        "result = ''\n",
        "if bool(result):\n",
        "  print('result is not empty.')\n",
        "else:\n",
        "  print('result is empty')"
      ],
      "metadata": {
        "colab": {
          "base_uri": "https://localhost:8080/"
        },
        "id": "guJhc13J_oYW",
        "outputId": "d0896c52-f17c-43a3-e540-3cdd083bd3fb"
      },
      "execution_count": null,
      "outputs": [
        {
          "output_type": "stream",
          "name": "stdout",
          "text": [
            "result is empty\n"
          ]
        }
      ]
    },
    {
      "cell_type": "code",
      "source": [
        "var1 =''\n",
        "if var1:\n",
        "  print('var1 truthy value is true.')\n",
        "else:\n",
        "  print('var1 truthy vaalue is false')"
      ],
      "metadata": {
        "colab": {
          "base_uri": "https://localhost:8080/"
        },
        "id": "o8ujJfBYABLN",
        "outputId": "4787e5d2-f2dc-4181-c7d1-3ece2c01e0b7"
      },
      "execution_count": null,
      "outputs": [
        {
          "output_type": "stream",
          "name": "stdout",
          "text": [
            "var1 truthy vaalue is false\n"
          ]
        }
      ]
    },
    {
      "cell_type": "markdown",
      "source": [
        "#logical Operator\n",
        "1. and\n",
        "2. or\n",
        "3. not"
      ],
      "metadata": {
        "id": "XffNw7CHAyqk"
      }
    },
    {
      "cell_type": "code",
      "source": [
        "#and\n",
        "a = 6\n",
        "print(a > 0)\n",
        "print(0 < a and a < 18)\n"
      ],
      "metadata": {
        "colab": {
          "base_uri": "https://localhost:8080/"
        },
        "id": "FSnyLRkZAPvO",
        "outputId": "89cd6fe8-3431-4230-f099-1ff1ed4aa407"
      },
      "execution_count": null,
      "outputs": [
        {
          "output_type": "stream",
          "name": "stdout",
          "text": [
            "True\n",
            "True\n"
          ]
        }
      ]
    },
    {
      "cell_type": "code",
      "source": [
        "#or\n",
        "a, n = 6, 'sopan'\n",
        "print(a < 7 or n == 'sopan')"
      ],
      "metadata": {
        "colab": {
          "base_uri": "https://localhost:8080/"
        },
        "id": "E7ksDdy6BRG0",
        "outputId": "b147bf27-1b2e-4605-954b-3cb1bfd5f8be"
      },
      "execution_count": null,
      "outputs": [
        {
          "output_type": "stream",
          "name": "stdout",
          "text": [
            "True\n"
          ]
        }
      ]
    },
    {
      "cell_type": "code",
      "source": [
        "#not \n",
        "age = 18\n",
        "age != 0\n",
        "age is not 15"
      ],
      "metadata": {
        "id": "pr9Nv7g_B3aJ"
      },
      "execution_count": null,
      "outputs": []
    },
    {
      "cell_type": "code",
      "source": [],
      "metadata": {
        "id": "5LBrSnsSCLJw"
      },
      "execution_count": null,
      "outputs": []
    }
  ]
}