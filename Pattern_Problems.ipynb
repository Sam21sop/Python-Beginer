{
  "nbformat": 4,
  "nbformat_minor": 0,
  "metadata": {
    "colab": {
      "private_outputs": true,
      "provenance": [],
      "authorship_tag": "ABX9TyM2+olp34rhe9XeZAHw44Tv"
    },
    "kernelspec": {
      "name": "python3",
      "display_name": "Python 3"
    },
    "language_info": {
      "name": "python"
    }
  },
  "cells": [
    {
      "cell_type": "code",
      "execution_count": null,
      "metadata": {
        "id": "WoOywy0B8u7Z"
      },
      "outputs": [],
      "source": [
        "print('python')"
      ]
    },
    {
      "cell_type": "code",
      "source": [
        "n = int(input())\n",
        "alpha = ord('A')\n",
        "\n",
        "for row in range(1, n+1):\n",
        "  for col in range(row, 0, -1):\n",
        "    print(chr(alpha+n-col), end=' ')\n",
        "  print()"
      ],
      "metadata": {
        "id": "Yn6gmWx_9Ckq"
      },
      "execution_count": null,
      "outputs": []
    },
    {
      "cell_type": "code",
      "source": [
        "n = int(input())\n",
        "for row in range(1, n+1):\n",
        "  for space in range(n - row):\n",
        "    print(' ', end=' ')\n",
        "\n",
        "  for star in range(1, row+1):\n",
        "    print('*', end=' ')\n",
        "\n",
        "  print()"
      ],
      "metadata": {
        "id": "q5-BQOtAOj-M"
      },
      "execution_count": null,
      "outputs": []
    },
    {
      "cell_type": "code",
      "source": [
        "n = int(input())\n",
        "for row in range(1, n+1):\n",
        "  for space in range(n - row):\n",
        "    print(' ', end=' ')\n",
        "\n",
        "  for digit in range(1, row+1):\n",
        "    print(digit, end=' ')\n",
        "\n",
        "  print()"
      ],
      "metadata": {
        "id": "TYBUa75mt49u"
      },
      "execution_count": null,
      "outputs": []
    },
    {
      "cell_type": "code",
      "source": [
        "n = int(input())\n",
        "for row in range(1, n+1):\n",
        "  for col in range(n-row+1):\n",
        "    print('*', end=' ')\n",
        "  print()"
      ],
      "metadata": {
        "id": "LGCdMPbsvHv7"
      },
      "execution_count": null,
      "outputs": []
    },
    {
      "cell_type": "code",
      "source": [
        "n = int(input())\n",
        "for row in range(n, 0, -1):\n",
        "  digit = row\n",
        "  for col in range(0, row):\n",
        "    print(digit, end=' ')\n",
        "  print()"
      ],
      "metadata": {
        "id": "ZGwp1Svevn_D"
      },
      "execution_count": null,
      "outputs": []
    },
    {
      "cell_type": "code",
      "source": [
        "n = int(input())\n",
        "for row in range(1, n+1):\n",
        "\n",
        "  for spaces in range(n-row):\n",
        "    print(' ', end=' ')\n",
        "\n",
        "  for num in range(1, row+1):\n",
        "    print(num, end=' ')\n",
        "\n",
        "  for dec in range(row-1, 0, -1):\n",
        "    print(dec, end=' ')\n",
        "\n",
        "  print()"
      ],
      "metadata": {
        "id": "1RAYPMjjyTVx"
      },
      "execution_count": null,
      "outputs": []
    },
    {
      "cell_type": "code",
      "source": [
        "n = int(input())\n",
        "for row in range(1, n+1):\n",
        "  #loop for white spaces\n",
        "  for spaces in range(n-row):\n",
        "    print(' ', end=' ')\n",
        "\n",
        "  #loop for star\n",
        "  for star in range(1, row+1):\n",
        "    print('*', end=' ')\n",
        "\n",
        "  #loop for mirror star\n",
        "  for dec in range(row - 1, 0, -1):\n",
        "    print(\"*\", end=' ')\n",
        "\n",
        "  #print() for next line\n",
        "  print()"
      ],
      "metadata": {
        "id": "Xt9deHjJ20SJ"
      },
      "execution_count": null,
      "outputs": []
    },
    {
      "cell_type": "code",
      "source": [
        "num = int(input(\"Enter number of rows: \"))\n",
        "\n",
        "k = 0\n",
        "count=0\n",
        "count1=0\n",
        "\n",
        "for row in range(1, num + 1):\n",
        "    #this is for spaces\n",
        "    for space in range(1, (num - row) + 1):\n",
        "        print(\"  \", end=\"\")\n",
        "        count += 1\n",
        "\n",
        "    #this is for number\n",
        "    while k != ((2*row)-1):\n",
        "        if count <= num-1:\n",
        "            print( row + k, end=\" \")\n",
        "            count += 1\n",
        "        else:\n",
        "            count1 += 1\n",
        "            print(row + k -(2 * count1), end=\" \")\n",
        "        k += 1\n",
        "\n",
        "    count1 = count = k = 0\n",
        "    print()"
      ],
      "metadata": {
        "id": "nV9qkXgs8P8R"
      },
      "execution_count": null,
      "outputs": []
    },
    {
      "cell_type": "code",
      "source": [
        "n = int(input())\n",
        "for row in range(n):\n",
        "\n",
        "  for spaces in range(n-row):\n",
        "    print(' ', end=' ')\n",
        "\n",
        "  for star in range(0, 2*row+1):\n",
        "    print('*', end=' ')\n",
        "\n",
        "  print()\n",
        "\n",
        "#######################################################\n",
        "\n",
        "for row in range(n-1, 0, -1):\n",
        "\n",
        "  for spaces in range(n, row-1, -1):\n",
        "    print(' ', end=' ')\n",
        "\n",
        "  for star in range(2*row-1, 0, -1):\n",
        "    print('*', end=' ')\n",
        "\n",
        "  print()"
      ],
      "metadata": {
        "id": "Rk_ZznGlOWpa"
      },
      "execution_count": null,
      "outputs": []
    },
    {
      "cell_type": "code",
      "source": [
        "n = int(input())\n",
        "\n",
        "for i in range(1, n, 2):\n",
        "    print(\" \" * (n//2 - i//2), \"*\" * i)\n",
        "for i in range(n, 0, -2):\n",
        "    print(\" \" * (n//2 - i//2), \"*\" * i)"
      ],
      "metadata": {
        "id": "bHzdL_lMP6ac"
      },
      "execution_count": null,
      "outputs": []
    },
    {
      "cell_type": "code",
      "source": [
        "n = int(input())\n",
        "# print upper pyramid\n",
        "for i in range(n):\n",
        "  for j in range(n-i-1):\n",
        "      print(\" \", end=\"\")\n",
        "  for j in range(2*i+1):\n",
        "      # printing stars\n",
        "      print(\"*\", end=\"\")\n",
        "  print()\n",
        "\n",
        "# print downward pyramid\n",
        "for i in range(n-1):\n",
        "  for j in range(i+1):\n",
        "      print(\" \", end=\"\")\n",
        "  for j in range(2*(n-i-1)-1):\n",
        "      # printing stars\n",
        "      print(\"*\", end=\"\")\n",
        "  print()"
      ],
      "metadata": {
        "id": "z06zYS_MU30O"
      },
      "execution_count": null,
      "outputs": []
    },
    {
      "cell_type": "code",
      "source": [
        "n = int(input())\n",
        "print('*')\n",
        "for row in range(n):\n",
        "  print('*', end='')\n",
        "  for col in range(1, row+1):\n",
        "    print(col, end=' ')\n",
        "  for dec in range(row-1, 0, -1):\n",
        "    print(dec, end=' ')\n",
        "  print('*')\n",
        "\n",
        "for row in range(n-2, 0, -1):\n",
        "\n",
        "  print('*', end=' ')\n",
        "  for col in range(row):\n",
        "    print(col+1, end=' ')\n",
        "  for dec in range(row-1, 0, -1):\n",
        "    print(dec, end=' ')\n",
        "  print('*')\n",
        "print('*')"
      ],
      "metadata": {
        "id": "aTq6pXL0WHVj"
      },
      "execution_count": null,
      "outputs": []
    },
    {
      "cell_type": "code",
      "source": [
        "n = int(input())\n",
        "for row in range(1, n+1):\n",
        "  print('*', end=' ')\n",
        "  for col in range(row):\n",
        "    print(col+1, end=' ')\n",
        "  for dec in range(row-1, 0, -1):\n",
        "    print(dec, end=' ')\n",
        "  print('*')\n"
      ],
      "metadata": {
        "id": "kI068dq0NpN4"
      },
      "execution_count": null,
      "outputs": []
    },
    {
      "cell_type": "code",
      "source": [
        "n = int(input())\n",
        "for row in range(1, n+1):\n",
        "  print('*', end=' ')\n",
        "  for col in range(n-row):\n",
        "    print(col+1, end=' ')\n",
        "  for dec in range((col+1)-1, 0, -1):\n",
        "    print(dec, end=' ')\n",
        "  print('*')"
      ],
      "metadata": {
        "id": "fw4BPBSnVBaL"
      },
      "execution_count": null,
      "outputs": []
    },
    {
      "cell_type": "code",
      "source": [
        "n = int(input())\n",
        "print('*')\n",
        "for row in range(1, n+1):\n",
        "  print('*', end=' ')\n",
        "  for col in range(row):\n",
        "    print(col+1, end=' ')\n",
        "  for dec in range(row-1, 0, -1):\n",
        "    print(dec, end=' ')\n",
        "  print('*')\n",
        "\n",
        "for row in range(1, n):\n",
        "  print('*', end=' ')\n",
        "  for col in range(n-row):\n",
        "    print(col+1, end=' ')\n",
        "  for dec in range(n-row-1, 0, -1):\n",
        "    print(dec, end=' ')\n",
        "  print('*')\n",
        "print('*')"
      ],
      "metadata": {
        "id": "Z9Fzq56rYyki"
      },
      "execution_count": null,
      "outputs": []
    },
    {
      "cell_type": "code",
      "source": [
        "n = int(input())\n",
        "for row in range(1, n+1):\n",
        "  for space in range(row - 1):\n",
        "    print(' ', end=' ')\n",
        "  for col in range(n):\n",
        "    print('*', end='')\n",
        "\n",
        "  print()"
      ],
      "metadata": {
        "id": "onrk2xF7ap3W"
      },
      "execution_count": null,
      "outputs": []
    },
    {
      "cell_type": "code",
      "source": [
        "n = int(input())\n",
        "sum1 = 0\n",
        "for row in range(1, n+1):\n",
        "  sum1 = sum1 + row\n",
        "  for col in range(1, row+1):\n",
        "    print(col, end='')\n",
        "    if row == col:\n",
        "      print('=', end='')\n",
        "    else:\n",
        "      print('+', end='')\n",
        "  print(sum1)"
      ],
      "metadata": {
        "id": "5CrkOipteH_K"
      },
      "execution_count": null,
      "outputs": []
    },
    {
      "cell_type": "code",
      "source": [
        "n = int(input())\n",
        "for row in range(1, n+1):\n",
        "  odd_value = (2*row) - 1\n",
        "  max_value = (2*n) - 1\n",
        "  for col in range(1, n+1):\n",
        "    print(odd_value, end='')\n",
        "    odd_value += 2\n",
        "    if odd_value > max_value:\n",
        "      odd_value = 1\n",
        "  print()"
      ],
      "metadata": {
        "id": "i-gk0DsAhTfU"
      },
      "execution_count": null,
      "outputs": []
    },
    {
      "cell_type": "code",
      "source": [
        "n = int(input())\n",
        "count = 1\n",
        "for i in range(1, n + 1 + 1 + 1 + 1):\n",
        "    series = (3 * i) + 2\n",
        "    if series % 4 == 0:\n",
        "        count += 2\n",
        "        continue\n",
        "    else:\n",
        "        print(series, end=' ')"
      ],
      "metadata": {
        "id": "5d_JyrXsqBEo"
      },
      "execution_count": null,
      "outputs": []
    },
    {
      "cell_type": "code",
      "source": [
        "x = int(input())\n",
        "i = 1\n",
        "count = 0\n",
        "while i <= x+count:\n",
        "  series = 3 * i + 2\n",
        "  if series % 4 != 0:\n",
        "    print(series, end=' ')\n",
        "  else:\n",
        "    count  = count + 1\n",
        "  i += 1\n",
        "print(count)"
      ],
      "metadata": {
        "id": "5nH6NLfI3X7R"
      },
      "execution_count": null,
      "outputs": []
    },
    {
      "cell_type": "code",
      "source": [
        "num = int(input())\n",
        "rev_num = 0\n",
        "while num != 0:\n",
        "  digit = num % 10\n",
        "  rev_num = rev_num * 10 + digit\n",
        "  num //= 10\n",
        "print(rev_num)"
      ],
      "metadata": {
        "id": "Ecm-9DH38SDS"
      },
      "execution_count": null,
      "outputs": []
    },
    {
      "cell_type": "code",
      "source": [
        "bin_num = int(input())\n",
        "dec_num = 0\n",
        "i = 0\n",
        "while bin_num != 0:\n",
        "  digit = bin_num % 10\n",
        "  dec_num = dec_num + digit * pow(2, i)\n",
        "  bin_num //= 10\n",
        "  i += 1\n",
        "print(dec_num)"
      ],
      "metadata": {
        "id": "OgGJg254AUjX"
      },
      "execution_count": null,
      "outputs": []
    },
    {
      "cell_type": "code",
      "source": [
        "#binary to decimal\n",
        "def binToDec(n):\n",
        "  if n >= 1:\n",
        "    binToDec(n//2)\n",
        "  print(n % 2, end='')"
      ],
      "metadata": {
        "id": "KiLJa9diDpwg"
      },
      "execution_count": null,
      "outputs": []
    },
    {
      "cell_type": "code",
      "source": [
        "binToDec(12)"
      ],
      "metadata": {
        "id": "9QgyyAqNGy4H"
      },
      "execution_count": null,
      "outputs": []
    },
    {
      "cell_type": "code",
      "source": [
        "num = int(input())\n",
        "while num >= 1:\n",
        "  num // 2\n",
        "  num += 1\n",
        "print(num % 2, end='')\n"
      ],
      "metadata": {
        "id": "VrhzYEkQTj39"
      },
      "execution_count": null,
      "outputs": []
    },
    {
      "cell_type": "code",
      "source": [
        "n = int(input())\n",
        "sq = n ** 2\n",
        "sqrt = int(n ** 0.5)\n",
        "print(sqrt)"
      ],
      "metadata": {
        "id": "f5qUlPmEUM_s"
      },
      "execution_count": null,
      "outputs": []
    },
    {
      "cell_type": "code",
      "source": [
        "n = int(input())\n",
        "i = 1\n",
        "res = 1\n",
        "while res <= n:\n",
        "  i += 1\n",
        "  res = i * i\n",
        "print(i - 1)"
      ],
      "metadata": {
        "id": "kf-MSu-4VEOP"
      },
      "execution_count": null,
      "outputs": []
    },
    {
      "cell_type": "code",
      "source": [
        "n = int(input())\n",
        "for i in range(n):\n",
        "  x = int(input())"
      ],
      "metadata": {
        "id": "IevlKqyDhe-N"
      },
      "execution_count": null,
      "outputs": []
    },
    {
      "cell_type": "code",
      "source": [
        "n = int(input())\n",
        "lst = []\n",
        "for i in range(n):\n",
        "  lst.append(int(input()))\n",
        "print(lst)\n",
        "p1 = lst[:(len(lst) // 2)]\n",
        "print(p1)\n",
        "p2 = lst[len(p1):]\n",
        "print(p2)"
      ],
      "metadata": {
        "id": "i6N6HWRfmxSY"
      },
      "execution_count": null,
      "outputs": []
    },
    {
      "cell_type": "code",
      "source": [
        "n = int(input('How many number in sequence: '))\n",
        "lst = []\n",
        "for i in range(n):\n",
        "  lst.append(int(input()))\n",
        "print(lst)\n",
        "count = 0\n",
        "temp = 0\n",
        "same = 0\n",
        "flag = True\n"
      ],
      "metadata": {
        "id": "1PL0ShhdshBp"
      },
      "execution_count": null,
      "outputs": []
    },
    {
      "cell_type": "code",
      "source": [
        "n = int(input('How many number in sequence: '))\n",
        "lst = []\n",
        "for i in range(n):\n",
        "  lst.append(int(input()))\n",
        "\n",
        "flag = True\n",
        "for i in range(n-2):\n",
        "  if lst[i] < lst[i+1] and lst[i+1] > lst[i+2]:\n",
        "    flag = False\n",
        "    break\n",
        "print(flag)"
      ],
      "metadata": {
        "id": "MTGthoCQnlPu"
      },
      "execution_count": null,
      "outputs": []
    },
    {
      "cell_type": "markdown",
      "source": [
        "# Test 1"
      ],
      "metadata": {
        "id": "HugSMj0p16QV"
      }
    },
    {
      "cell_type": "code",
      "source": [
        "#Armstrong Number\n",
        "num = int(input())\n",
        "temp = num\n",
        "armstrong_num = 0\n",
        "while num != 0:\n",
        "  digit = num % 10\n",
        "  armstrong_num += digit ** 3\n",
        "  num //= 10\n",
        "\n",
        "if armstrong_num == temp:\n",
        "  print(True)\n",
        "else:\n",
        "  print(False)"
      ],
      "metadata": {
        "id": "yMYNpuOfuRgA"
      },
      "execution_count": null,
      "outputs": []
    },
    {
      "cell_type": "code",
      "source": [
        "'''\n",
        "Sample Input :\n",
        "\n",
        "   5\n",
        "\n",
        "Sample Output :\n",
        "\n",
        " 5432*\n",
        " 543*1\n",
        " 54*21\n",
        " 5*321\n",
        " *4321\n",
        " '''\n",
        "\n",
        "n = int(input())\n",
        "for row in range(1, n+1):\n",
        "  for col in range(n, 0, -1):\n",
        "    if row == col:\n",
        "      print('*', end='')\n",
        "    else:\n",
        "      print(col, end='')\n",
        "  print()"
      ],
      "metadata": {
        "id": "sfnJj0nK2hOt"
      },
      "execution_count": null,
      "outputs": []
    },
    {
      "cell_type": "code",
      "source": [
        "n = int(input())\n",
        "for row in range(1, n+1):\n",
        "  for col1 in range(1, n+1):\n",
        "    if row == col1:\n",
        "      print('*', end='')\n",
        "    else:\n",
        "      print('0', end='')\n",
        "  print('*', end='')\n",
        "\n",
        "  print()"
      ],
      "metadata": {
        "id": "Tgc5G4YZ59KI"
      },
      "execution_count": null,
      "outputs": []
    },
    {
      "cell_type": "code",
      "source": [
        "n = int(input())\n",
        "for row in range(1, n+1):\n",
        "  for col in range(n, 0, -1):\n",
        "    if row == col:\n",
        "      print('*', end='')\n",
        "    else:\n",
        "      print('0', end='')\n",
        "  print()"
      ],
      "metadata": {
        "id": "QOgS_2uy7EH8"
      },
      "execution_count": null,
      "outputs": []
    },
    {
      "cell_type": "code",
      "source": [
        "n = int(input())\n",
        "for row in range(1, n+1):\n",
        "  for col1 in range(1, n+1):\n",
        "    if row == col1:\n",
        "      print('*', end='')\n",
        "    else:\n",
        "      print('0', end='')\n",
        "  print('*', end='')\n",
        "\n",
        "  for col in range(n, 0, -1):\n",
        "    if row == col:\n",
        "      print('*', end='')\n",
        "    else:\n",
        "      print('0', end='')\n",
        "\n",
        "  print()"
      ],
      "metadata": {
        "id": "IaRlbI117fOq"
      },
      "execution_count": null,
      "outputs": []
    },
    {
      "cell_type": "code",
      "source": [
        "n = int(input())\n",
        "lst = []\n",
        "for i in range(n):\n",
        "  lst.append(int(input()))\n",
        "\n",
        "if n == 1:\n",
        "  print('true')\n",
        "lst.sort()\n",
        "d = lst[1] - lst[0]\n",
        "for i in range(2, n):\n",
        "  if lst[i] - lst[i-1] != d:\n",
        "    print('false')\n",
        "  else:\n",
        "    print('true')\n",
        "\n",
        "def IsAP(lst, n):\n",
        "    if (n == 1):\n",
        "      return True\n",
        "    lst.sort()\n",
        "\n",
        "    d = lst[1] - lst[0]\n",
        "    for i in range(2, n):\n",
        "        if (lst[i] - lst[i-1] != d):\n",
        "            return False\n",
        "    return True\n",
        "\n",
        "# Driver code\n",
        "arr = [ 20, 15, 5, 0, 10 ]\n",
        "n = len(arr)\n",
        "print(\"Yes\") if(checkIsAP(arr, n)) else print(\"No\")"
      ],
      "metadata": {
        "id": "3kxJFW-L9cC_"
      },
      "execution_count": null,
      "outputs": []
    },
    {
      "cell_type": "code",
      "source": [
        "def is_AP(lst, n):\n",
        "    if n == 1:\n",
        "        return True\n",
        "    lst.sort()\n",
        "    d = lst[1] - lst[0]\n",
        "    for i in range(2, n):\n",
        "        if lst[i] - lst[i-1] != d:\n",
        "            return False\n",
        "    return True\n",
        "\n",
        "if __name__ == '__main__':\n",
        "    n = int(input())\n",
        "    lst = []\n",
        "    for i in range(n):\n",
        "        lst.append(int(input()))\n",
        "    if is_AP(lst, n):\n",
        "        print('true')\n",
        "    else:\n",
        "        print('false')"
      ],
      "metadata": {
        "id": "t2zZXlrwGVLI"
      },
      "execution_count": null,
      "outputs": []
    },
    {
      "cell_type": "code",
      "source": [
        "def is_AP(lst, n):\n",
        "    if n == 1:\n",
        "        return True\n",
        "    lst.sort()\n",
        "    d = lst[1] - lst[0]\n",
        "    for i in range(2, n):\n",
        "        if lst[i] - lst[i-1] != d:\n",
        "            return False\n",
        "    return True\n",
        "\n",
        "if __name__ == '__main__':\n",
        "    n = int(input())\n",
        "    lst = list(map(int, input().split()))\n",
        "\n",
        "    if is_AP(lst, n):\n",
        "        print('true')\n",
        "    else:\n",
        "        print('false')"
      ],
      "metadata": {
        "id": "_BTyg_VCGV9i"
      },
      "execution_count": null,
      "outputs": []
    },
    {
      "cell_type": "code",
      "source": [
        "from collections import Counter\n",
        "\n",
        "tup = (1, 2, 3, 2, \"Hello\", \"Hello\", (4, 8, 16))\n",
        "res = dict(Counter(tup))\n",
        "for k in res:\n",
        "  print(k, ':', res[k])"
      ],
      "metadata": {
        "id": "beDhK-83H51M"
      },
      "execution_count": null,
      "outputs": []
    },
    {
      "cell_type": "code",
      "source": [
        "s = {3, 4, 5}\n",
        "#s.update([1, 2, 3])\n",
        "s.add([1, 2, 3])\n",
        "print(s)"
      ],
      "metadata": {
        "id": "wDmutTjmsJyr"
      },
      "execution_count": null,
      "outputs": []
    },
    {
      "cell_type": "code",
      "source": [
        "tup = (1, 2, 3, 2, \"Hello\", [4, 8, 16], \"Hello\")\n",
        "for i in tup:\n",
        "\n"
      ],
      "metadata": {
        "id": "WFj91rlWuXSA"
      },
      "execution_count": null,
      "outputs": []
    },
    {
      "cell_type": "code",
      "source": [
        "tup = (1, 2, 3, 2, \"Hello\", [4, 8, 16], \"Hello\")\n",
        "tup = tuple(tup[5])\n",
        "print(tup)"
      ],
      "metadata": {
        "id": "9sfcUzwywfma"
      },
      "execution_count": null,
      "outputs": []
    },
    {
      "cell_type": "code",
      "source": [
        "#factorial num\n",
        "def factorial(num):\n",
        "  factorial_num = 1\n",
        "  for i in range(1, num+1):\n",
        "    factorial_num *= i\n",
        "  return factorial_num\n",
        "#nCr\n",
        "def ncr(n, r):\n",
        "  fact_n = factorial(n)\n",
        "  fact_r = factorial(r)\n",
        "  fact_nr = factorial(n-r)\n",
        "  return fact_n / (fact_r * fact_nr)"
      ],
      "metadata": {
        "id": "2EoaIBvYxRsh"
      },
      "execution_count": null,
      "outputs": []
    },
    {
      "cell_type": "code",
      "source": [
        "ncr(6, 2)"
      ],
      "metadata": {
        "id": "Cff8dhDZo1GB"
      },
      "execution_count": null,
      "outputs": []
    },
    {
      "cell_type": "code",
      "source": [
        "def fib(n):\n",
        "    lst = [0, 1]\n",
        "    for num in range(2, n+1):\n",
        "        lst.append(lst[num-1] + lst[num-2])\n",
        "    return lst[n]\n",
        "\n",
        "\n",
        "if __name__ == '__main__':\n",
        "    n = int(input())\n",
        "    print(fib(n))\n"
      ],
      "metadata": {
        "id": "JqcH4i5CpmtW"
      },
      "execution_count": null,
      "outputs": []
    },
    {
      "cell_type": "code",
      "source": [
        "def fib(n):\n",
        "    lst = [0, 1]\n",
        "    for num in range(2, n+1):\n",
        "        lst.append(lst[num-2] + lst[num-1])\n",
        "    #print(lst)\n",
        "\n",
        "    if n in lst:\n",
        "      return True\n",
        "    else:\n",
        "      return False\n",
        "\n",
        "\n",
        "if __name__ == '__main__':\n",
        "    n = int(input())\n",
        "    print(fib(n))"
      ],
      "metadata": {
        "id": "_aQQmhqE-gkr"
      },
      "execution_count": null,
      "outputs": []
    },
    {
      "cell_type": "code",
      "source": [
        "def isPrime(n):\n",
        "  for num in range(2, n):\n",
        "    if n % num == 0:\n",
        "      return False\n",
        "      break\n",
        "  return True"
      ],
      "metadata": {
        "id": "qGUJXz02-lLW"
      },
      "execution_count": null,
      "outputs": []
    },
    {
      "cell_type": "code",
      "source": [
        "print(isPrime(1),\n",
        "isPrime(2),\n",
        "isPrime(3),\n",
        "isPrime(4),\n",
        "isPrime(5))"
      ],
      "metadata": {
        "id": "GhSGWpU1fx3F"
      },
      "execution_count": null,
      "outputs": []
    },
    {
      "cell_type": "code",
      "source": [
        "#pattern\n",
        "n = int(input())\n",
        "\n",
        "for row in range(n, 0, -1):\n",
        "  for col in range(1, row+1):\n",
        "    print(col, end=' ')\n",
        "\n",
        "  for dec in range(row, 0, -1):\n",
        "    print(dec, end=' ')\n",
        "\n",
        "  for space in  range(row+1):\n",
        "    print(\" \", end=' ')\n",
        "\n",
        "  # for dec in range(row, 0, -1):\n",
        "  #   print(dec, end=' ')\n",
        "\n",
        "  print()"
      ],
      "metadata": {
        "id": "ehUihtlUqU0s"
      },
      "execution_count": null,
      "outputs": []
    },
    {
      "cell_type": "code",
      "source": [
        "n = int(input())\n",
        "\n",
        "for row in range(n, 0, -1):\n",
        "  for col in range(row, 0, -1):\n",
        "    print(col, end=' ')\n",
        "  print()"
      ],
      "metadata": {
        "id": "Ebx-ffW4qjNN"
      },
      "execution_count": null,
      "outputs": []
    },
    {
      "cell_type": "code",
      "source": [
        "n = int(input())\n",
        "for row in range(1, n+1):\n",
        "  for col in range(1, n-row+1+1):\n",
        "    print(col, end='')\n",
        "\n",
        "  for star in range(1, row):\n",
        "    print('**', end='')\n",
        "\n",
        "  for dec in range(n-row+1, 0, -1):\n",
        "    print(dec, end='')\n",
        "\n",
        "  print()"
      ],
      "metadata": {
        "id": "_H3clc-4rLI5"
      },
      "execution_count": null,
      "outputs": []
    },
    {
      "cell_type": "code",
      "source": [
        "def factorial(num):\n",
        "  fact = 1\n",
        "  for i in range(2, num+1):\n",
        "    fact *= i\n",
        "  return fact\n",
        "\n",
        "def probability(n, x):\n",
        "  ns = factorial(8) / (factorial(n * 1) * factorial(8-n))\n",
        "  ne1 = factorial(4) / (factorial(x * 1) * factorial(4- x))\n",
        "  ne2 = factorial(4) / (factorial(((n-x) * 1)) * factorial((4 - (n-x))))\n",
        "  pe = ((ne1*ne2) / ns) * 100\n",
        "  return int(pe)\n",
        "\n",
        "n, x = input().split()\n",
        "n = int(n)\n",
        "x = int(x)\n",
        "res = probability(n, x)\n",
        "print(res)"
      ],
      "metadata": {
        "id": "EBrYynXE0kvH"
      },
      "execution_count": null,
      "outputs": []
    },
    {
      "cell_type": "code",
      "source": [
        "num = int(input())\n",
        "num = str(num)\n",
        "\n",
        "n1 = int(num[1:4])\n",
        "n2 = int(num[0] + num[2:4])\n",
        "n3 = int(num[0:2] + num[3])\n",
        "n4 = int(num[0:3])\n",
        "\n",
        "#print(n1, n2, n3, n4)\n",
        "\n",
        "lst = [n1, n2, n3, n4]\n",
        "print(max(lst))"
      ],
      "metadata": {
        "id": "2-w_BRRi_bXs"
      },
      "execution_count": null,
      "outputs": []
    },
    {
      "cell_type": "markdown",
      "source": [
        "# Array"
      ],
      "metadata": {
        "id": "fkBkyZs_i7LX"
      }
    },
    {
      "cell_type": "code",
      "source": [
        "from sys import stdin\n",
        "\n",
        "def sum_list(arr, n) :\n",
        "    ans = 0\n",
        "    for i in range(n) :\n",
        "        ans += arr[i]\n",
        "\n",
        "    return ans\n",
        "\n",
        "\n",
        "\n",
        "#Taking Input Using Fast I/O\n",
        "def takeInput() :\n",
        "    n = int(stdin.readline().strip())\n",
        "\n",
        "    if n == 0 :\n",
        "        return list(), 0\n",
        "\n",
        "    arr = list(map(int, stdin.readline().rstrip().split(\" \")))\n",
        "    return arr, n\n",
        "\n",
        "\n",
        "#main\n",
        "t = int(stdin.readline().strip())\n",
        "\n",
        "while t > 0 :\n",
        "    arr, n = takeInput()\n",
        "    if n != 0 :\n",
        "        print(sum_list(arr, n))\n",
        "    else :\n",
        "        print(0)\n",
        "\n",
        "    t -= 1"
      ],
      "metadata": {
        "id": "ZQ5HSKoXRaIu"
      },
      "execution_count": null,
      "outputs": []
    },
    {
      "cell_type": "code",
      "source": [
        "def linear_search(arr, n, x):\n",
        "  for i in range(n):\n",
        "    if x  == arr[i]:\n",
        "      return i\n",
        "      break\n",
        "  else:\n",
        "    return -1\n",
        "\n",
        "x = 3\n",
        "n = 7\n",
        "arr = [2,13,4, 1, 3, 3, 6, 28]\n",
        "linear_search(arr, n, x)"
      ],
      "metadata": {
        "id": "0ZAVKpJDi9Yv"
      },
      "execution_count": null,
      "outputs": []
    },
    {
      "cell_type": "code",
      "source": [
        "def arrange(arr, n):\n",
        "  value_1 = 1\n",
        "  value_n = 0\n",
        "  if n != 0:\n",
        "    if n % 2 == 0:\n",
        "      value_n = n\n",
        "    else:\n",
        "      value_n = n-1\n",
        "    for i in range(0, (n-1) / 2):\n",
        "      arr[i] = value_1\n",
        "      value_1 += 2\n",
        "\n",
        "    for i in range(((n-1)/2) + 1, n):\n",
        "      arr[i] = value_n\n",
        "      value_n -= 2"
      ],
      "metadata": {
        "id": "ixiyjTqu2OY6"
      },
      "execution_count": null,
      "outputs": []
    },
    {
      "cell_type": "code",
      "source": [
        "def swapAlternate(arr, n) :\n",
        "    #Your code goes here\n",
        "    #temp =[]\n",
        "    for i in range(n-1):\n",
        "        for j in range(i+1, n):\n",
        "            temp = arr[i]\n",
        "            arr[i] = arr[i+1]\n",
        "            arr[i+1] = temp\n",
        "    return arr"
      ],
      "metadata": {
        "id": "z3-375q57HDE"
      },
      "execution_count": null,
      "outputs": []
    },
    {
      "cell_type": "code",
      "source": [
        "n = 6\n",
        "arr = [9, 3, 6, 12, 4, 32]\n",
        "sa = swapAlternate(arr, n)\n",
        "print(sa)"
      ],
      "metadata": {
        "id": "ccDyB-KaJF9m"
      },
      "execution_count": null,
      "outputs": []
    },
    {
      "cell_type": "code",
      "source": [
        "def swapAlternate(arr, n) :\n",
        "    for i in range(n):\n",
        "        if n % 2 == 0:\n",
        "          for j in range(i+1, n):\n",
        "              temp = arr[i]\n",
        "              arr[i] = arr[i+1]\n",
        "              arr[i+1] = temp\n",
        "        else:\n",
        "          for j in range(i+1, n):\n",
        "              temp = arr[i]\n",
        "              arr[i] = arr[i+1]\n",
        "              arr[i+1] = temp\n",
        "    return arr\n",
        "\n",
        "n = 6\n",
        "arr = [9, 3, 6, 12, 4, 32]\n",
        "#arr = [9, 3, 6, 12, 4, 32, 19]\n",
        "sa = swapAlternate(arr, n)\n",
        "print(sa)"
      ],
      "metadata": {
        "id": "qn2r7B_-JUeQ"
      },
      "execution_count": null,
      "outputs": []
    },
    {
      "cell_type": "code",
      "source": [
        "def swapAlternate(arr, n) :\n",
        "    for i in range(n):\n",
        "        if n % 2 == 0:\n",
        "          for j in range(i+1, n):\n",
        "              # temp = arr[i]\n",
        "              # arr[i] = arr[i+1]\n",
        "              # arr[i+1] = temp\n",
        "              arr[i], arr[i+1] = arr[i+1], arr[i]\n",
        "        else:\n",
        "          for j in range(i+1, n):\n",
        "              #temp = arr[i]\n",
        "              arr[i], arr[i+1] = arr[i+1], arr[i]\n",
        "              #arr[i+1] = temp\n",
        "    return arr\n",
        "\n",
        "n = 6\n",
        "#arr = [9, 3, 6, 12, 4, 32]\n",
        "arr = [9, 3, 6, 12, 4, 32, 19]\n",
        "sa = swapAlternate(arr, n)\n",
        "print(sa)"
      ],
      "metadata": {
        "id": "zeGdUK1KKCIo"
      },
      "execution_count": null,
      "outputs": []
    },
    {
      "cell_type": "code",
      "source": [
        "def swapAlternate(arr, n) :\n",
        "    for i in range(0, n, 2):\n",
        "      arr[i], arr[i+1] = arr[i+1], arr[i]\n",
        "    return arr\n",
        "\n",
        "n = 6\n",
        "#arr = [9, 3, 6, 12, 4, 32]\n",
        "arr = [9, 3, 6, 12, 4, 32, 19]\n",
        "sa = swapAlternate(arr, n)\n",
        "print(sa)"
      ],
      "metadata": {
        "id": "x2CPCsBBN3Kh"
      },
      "execution_count": null,
      "outputs": []
    },
    {
      "cell_type": "code",
      "source": [
        "def findUnique(arr, n):\n",
        "    uique_count = 100\n",
        "    for i in range(0, n):\n",
        "        if arr.count(arr[i]) < uique_count:\n",
        "            uique_count = arr.count(arr[i])\n",
        "            res = arr[i]\n",
        "    return res\n",
        "\n",
        "n = 9 #5 #7\n",
        "#arr = [2, 3, 1, 6, 3, 6, 2]\n",
        "#arr = [2, 4, 7, 2, 7]\n",
        "arr = [1, 3, 1, 3, 6, 6, 7, 10, 7]\n",
        "print(findUnique(arr, n))"
      ],
      "metadata": {
        "id": "gJro8XWNPVJJ"
      },
      "execution_count": null,
      "outputs": []
    },
    {
      "cell_type": "code",
      "source": [
        "def duplicateNumber(arr, n):\n",
        "    count = 1\n",
        "    for i in range(0, n):\n",
        "        if arr.count(arr[i]) > count:\n",
        "            res = arr[i]\n",
        "    return res\n",
        "\n",
        "\n"
      ],
      "metadata": {
        "id": "1jl8XYRFQxq7"
      },
      "execution_count": null,
      "outputs": []
    },
    {
      "cell_type": "code",
      "source": [
        "import sys\n",
        "help()\n"
      ],
      "metadata": {
        "id": "pjRLbQBOS3LT"
      },
      "execution_count": null,
      "outputs": []
    },
    {
      "cell_type": "code",
      "source": [
        "def intersections(arr1, n, arr2, m):\n",
        "    #Your code goes here\n",
        "    for i in range(n):\n",
        "        for j in range(m):\n",
        "            if arr1[i] == arr2[j]:\n",
        "                print(arr1[i], end=\" \")\n",
        "                arr2[j] = sys.maxsize\n",
        "                break\n",
        "\n",
        "n =\n",
        "m =\n",
        "arr1 = []\n",
        "arr2 = []\n",
        "print(intersections(arr1, n, arr2, m))"
      ],
      "metadata": {
        "id": "yFAd3WPFUX1i"
      },
      "execution_count": null,
      "outputs": []
    },
    {
      "cell_type": "code",
      "source": [
        "def pairSum(arr, n, x):\n",
        "    #Your code goes here\n",
        "    num = 0\n",
        "    for i in range(n):\n",
        "        for j in range((i+1), n):\n",
        "            if arr[i] + arr[j] == x:\n",
        "                num += 1\n",
        "    return num"
      ],
      "metadata": {
        "id": "cF8MADh8WFhh"
      },
      "execution_count": null,
      "outputs": []
    },
    {
      "cell_type": "code",
      "source": [
        "def findTriplet(arr, n, x):\n",
        "    #Your code goes here\n",
        "    #return your answer\n",
        "    num = 0\n",
        "    for i in range(n):\n",
        "        for j in range((i + 1), n):\n",
        "            for k in range((j + 1), n):\n",
        "                if (arr[i] + arr[j] + arr[k]) == x:\n",
        "                    num += 1\n",
        "    return num\n"
      ],
      "metadata": {
        "id": "_EakAkhBfAWQ"
      },
      "execution_count": null,
      "outputs": []
    },
    {
      "cell_type": "code",
      "source": [
        "def sortZeroesAndOne(arr, n):\n",
        "    #Your code goes here\n",
        "    Zero = 0\n",
        "    for i in range(n):\n",
        "        if arr[i] == 0:\n",
        "            temp = arr[Zero]\n",
        "            arr[Zero] = arr[i]\n",
        "            arr[i] = temp\n",
        "            Zero += 1"
      ],
      "metadata": {
        "id": "92DwiuyofH-H"
      },
      "execution_count": null,
      "outputs": []
    },
    {
      "cell_type": "code",
      "source": [
        "print(bool(-1))"
      ],
      "metadata": {
        "id": "MA0xiU40idqu"
      },
      "execution_count": null,
      "outputs": []
    },
    {
      "cell_type": "code",
      "source": [
        "#binary search\n",
        "def binarySearch(arr, n, x):\n",
        "    #Your code goes here\n",
        "    start = 0\n",
        "    end = n - 1\n",
        "    mid = start\n",
        "    while start <= end:\n",
        "        mid = start + (end - start) // 2\n",
        "        if arr[mid] > x:\n",
        "            end = mid - 1\n",
        "        elif arr[mid] < x:\n",
        "            start = mid + 1\n",
        "        else:\n",
        "            return mid\n",
        "    return -1"
      ],
      "metadata": {
        "id": "PFDkCeEuijaC"
      },
      "execution_count": null,
      "outputs": []
    },
    {
      "cell_type": "code",
      "source": [
        "def search(nums, target):\n",
        "    start = 0\n",
        "    end = len(nums) - 1\n",
        "    mid = start\n",
        "    for i in range(start, end+1):\n",
        "        mid = start + (end-start) // 2\n",
        "        if nums[mid] > target:\n",
        "            end = mid - 1\n",
        "        elif nums[mid] < target:\n",
        "            start = mid + 1\n",
        "        else:\n",
        "            return mid\n",
        "    return -1\n",
        "\n",
        "num = []\n",
        "target = 5"
      ],
      "metadata": {
        "id": "dUxgedr3m-7W"
      },
      "execution_count": null,
      "outputs": []
    },
    {
      "cell_type": "code",
      "source": [],
      "metadata": {
        "id": "4VIWnSiTpfx3"
      },
      "execution_count": null,
      "outputs": []
    }
  ]
}