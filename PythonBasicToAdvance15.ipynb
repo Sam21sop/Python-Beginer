{
  "nbformat": 4,
  "nbformat_minor": 0,
  "metadata": {
    "colab": {
      "provenance": [],
      "authorship_tag": "ABX9TyPEJlPn5jB3FPA0hDdstQRL",
      "include_colab_link": true
    },
    "kernelspec": {
      "name": "python3",
      "display_name": "Python 3"
    },
    "language_info": {
      "name": "python"
    }
  },
  "cells": [
    {
      "cell_type": "markdown",
      "metadata": {
        "id": "view-in-github",
        "colab_type": "text"
      },
      "source": [
        "<a href=\"https://colab.research.google.com/github/Sam21sop/Python-Basic-code/blob/main/PythonBasicToAdvance15.ipynb\" target=\"_parent\"><img src=\"https://colab.research.google.com/assets/colab-badge.svg\" alt=\"Open In Colab\"/></a>"
      ]
    },
    {
      "cell_type": "markdown",
      "source": [
        "#Python Bootcamp 2023"
      ],
      "metadata": {
        "id": "z7VU-R_jPyxv"
      }
    },
    {
      "cell_type": "code",
      "source": [
        "# print() function/method used to rendering/displaying output on screen\n",
        "print('Python')"
      ],
      "metadata": {
        "id": "NLiBrRrhP8Ba",
        "colab": {
          "base_uri": "https://localhost:8080/"
        },
        "outputId": "6d482106-68c9-4393-af66-d30c0711a765"
      },
      "execution_count": null,
      "outputs": [
        {
          "output_type": "stream",
          "name": "stdout",
          "text": [
            "Python\n"
          ]
        }
      ]
    },
    {
      "cell_type": "code",
      "source": [
        "x = 6\n",
        "x * 2\n",
        "print(x)"
      ],
      "metadata": {
        "id": "aaVvn7kNSCrJ",
        "colab": {
          "base_uri": "https://localhost:8080/"
        },
        "outputId": "f1def193-2a6a-4687-8be3-50c385c7392b"
      },
      "execution_count": null,
      "outputs": [
        {
          "output_type": "stream",
          "name": "stdout",
          "text": [
            "6\n"
          ]
        }
      ]
    },
    {
      "cell_type": "markdown",
      "source": [
        "#Variable\n",
        "we use variable to store data\n",
        "1. variable names contains a-z, A-Z, 0-9, & _\n",
        "2. variable name can't start with number\n",
        "3. dont use special character in variable\n",
        "4. variable must not be reserve keywords\n",
        "5. use snake_case for variable name &\n",
        "PascalCase for class name\n"
      ],
      "metadata": {
        "id": "3ACADhi-VKJ1"
      }
    },
    {
      "cell_type": "code",
      "source": [
        "#some valid variable name\n",
        "miles = 1.609\n",
        "my_name = 'Sopan'\n",
        "day_1 = 'Today'\n",
        "max_value = 99   #snake_case"
      ],
      "metadata": {
        "id": "iAr0yfJVSZTI"
      },
      "execution_count": null,
      "outputs": []
    },
    {
      "cell_type": "markdown",
      "source": [
        "#Comments\n",
        "In python we can define comments three different way as follow:\n",
        "1. By using triple \"\"\" & ''' quote for multiple lines. it is known as document string\n",
        "4. By using # symbol for single line comments"
      ],
      "metadata": {
        "id": "j6CsXDYQW54r"
      }
    },
    {
      "cell_type": "code",
      "source": [
        "# this is comments\n",
        "# a = 5\n",
        "x = 9 # x is a variable\n",
        "\n",
        "''' This is multiline/doc_string \n",
        "comments\n",
        "'''\n",
        "\n",
        "\"\"\"\n",
        "This is  also multiline/ \n",
        "doc_string comments \n",
        "in python\n",
        "\"\"\""
      ],
      "metadata": {
        "id": "qEIXSsAxZdas",
        "colab": {
          "base_uri": "https://localhost:8080/",
          "height": 35
        },
        "outputId": "c67d4b82-2ac5-41ce-b479-f47e2289f86e"
      },
      "execution_count": null,
      "outputs": [
        {
          "output_type": "execute_result",
          "data": {
            "text/plain": [
              "'\\nThis is  also multiline/ \\ndoc_string comments \\nin python\\n'"
            ],
            "application/vnd.google.colaboratory.intrinsic+json": {
              "type": "string"
            }
          },
          "metadata": {},
          "execution_count": 51
        }
      ]
    },
    {
      "cell_type": "markdown",
      "source": [
        "#constants\n",
        "Value that will never change ex. PI.\n",
        "python does not have anything in the language to declare a constant.\n",
        "It's declared like a variable.\n",
        "Constant value are often written with UPPER-CASE letters"
      ],
      "metadata": {
        "id": "r1D20F7gait6"
      }
    },
    {
      "cell_type": "code",
      "source": [
        "PI = 3.14\n",
        "DAYS_IN_WEEK = 7\n"
      ],
      "metadata": {
        "id": "z63gBFjAbaSw"
      },
      "execution_count": null,
      "outputs": []
    },
    {
      "cell_type": "markdown",
      "source": [
        "Python is dynamically typed language. the type is associated with run time value and not withany data type declaration\n",
        "In Python the value stored in variable have type and not the name or the variable itself.\n",
        "Dynamically-typed language are comparatively faster during development time and are more flexible.\n"
      ],
      "metadata": {
        "id": "mRgwuyj3bzfQ"
      }
    },
    {
      "cell_type": "code",
      "source": [
        "x = 9\n",
        "print(type(x))\n",
        "\n",
        "name = 'sopan'\n",
        "print(type(name))\n",
        "\n",
        "print(id(name))"
      ],
      "metadata": {
        "id": "DfRSkaBUdB9-",
        "colab": {
          "base_uri": "https://localhost:8080/"
        },
        "outputId": "43b101cb-9b60-4606-986d-c7743dbcb80f"
      },
      "execution_count": null,
      "outputs": [
        {
          "output_type": "stream",
          "name": "stdout",
          "text": [
            "<class 'int'>\n",
            "<class 'str'>\n",
            "140119077280752\n"
          ]
        }
      ]
    },
    {
      "cell_type": "markdown",
      "source": [
        "#Reserve keyword in python\n",
        "False, class, from, or,\n",
        "None, continue, global, pass,\n",
        "True, def, if, raise,\n",
        "and, del, import, return,\n",
        "as, elif, in, try, \n",
        "assert, else, is, while, \n",
        "async, except, lambda, with, \n",
        "await, finally, nonlocal, yield,\n",
        "break, for, not."
      ],
      "metadata": {
        "id": "dr3BMfciHkB5"
      }
    },
    {
      "cell_type": "markdown",
      "source": [
        "#Build in data Type\n",
        "Number: int, float, complex\n",
        "\n",
        "Booleans: True, False\n",
        "\n",
        "String: string\n",
        "\n",
        "List\n",
        "Tuple\n",
        "Set\n",
        "Dictionaries"
      ],
      "metadata": {
        "id": "7cJJu4AOdvQ1"
      }
    },
    {
      "cell_type": "code",
      "source": [
        "#numbers\n",
        "x = 8\n",
        "y = 10.45\n",
        "z = 5 + 2j\n",
        "print(type(x))\n",
        "print(type(y))\n",
        "print(type(z))\n",
        "\n",
        "#Boolean\n",
        "a = True\n",
        "b = False\n",
        "print(type(a))\n",
        "print(type(b))\n",
        "\n",
        "#string\n",
        "name = 'Sopan'\n",
        "last_name = \"Bhere\"\n",
        "print(type(name))\n",
        "print(type(last_name))\n",
        "\n",
        "#List\n",
        "friends = ['sopan', 'prajwal', 'saurabh', \"swami\"]\n",
        "print(type(friends))\n",
        "\n",
        "#tuple\n",
        "best_num = (1, 2, 3, 4, 5)\n",
        "print(type(best_num))\n",
        "\n",
        "#set\n",
        "price = {1, 3, 5, 8, 56, 90}\n",
        "print(type(price))\n",
        "\n",
        "#dictionary\n",
        "sub_price = {'Python' : 2000, 'Java' : 1000, 'C' : 1000}\n",
        "print(type(sub_price))"
      ],
      "metadata": {
        "id": "YcPf7xOHdqkL",
        "colab": {
          "base_uri": "https://localhost:8080/"
        },
        "outputId": "7eb7c024-b905-49ff-ee31-7c8eb105b785"
      },
      "execution_count": null,
      "outputs": [
        {
          "output_type": "stream",
          "name": "stdout",
          "text": [
            "<class 'int'>\n",
            "<class 'float'>\n",
            "<class 'complex'>\n",
            "<class 'bool'>\n",
            "<class 'bool'>\n",
            "<class 'str'>\n",
            "<class 'str'>\n",
            "<class 'list'>\n",
            "<class 'tuple'>\n",
            "<class 'set'>\n",
            "<class 'dict'>\n"
          ]
        }
      ]
    },
    {
      "cell_type": "markdown",
      "source": [
        "#operators\n",
        "An operator is a symbols of programming language able to operate on value.\n",
        "Types of Operators:\n",
        "1. Arithmetic--> +, -, /, *, **, //, %\n",
        "2. Assignment--> =, +=, -=, *=, /=, //=, %=, **=.\n",
        "3. Comparision--> ==, !=, >, <, <=, >=\n",
        "4. Identity--> is, is not.\n",
        "5. Logical--> and, or, not\n",
        "6. Membership--> in, not in\n",
        "7. Bitwise--> &, |, ~, ^, >>, <<.\n",
        "\n",
        "#Operator Precedence\n",
        "1. Exponentiation (**)\n",
        "2. Multiplication(*) & Division(/)\n",
        "3. Addition(+) & subtraction(-)"
      ],
      "metadata": {
        "id": "SLQ0SEt7g0so"
      }
    },
    {
      "cell_type": "markdown",
      "source": [
        "#Arithmetic Operators"
      ],
      "metadata": {
        "id": "X0rlYz8RiAQh"
      }
    },
    {
      "cell_type": "code",
      "source": [
        "a = int(input(\"Enter any number: \"))\n",
        "b = int(input(\"Enter any number: \"))\n",
        "\n",
        "c = a + b\n",
        "print(f'Additon of {a} and {b} = {c}')\n",
        "\n",
        "d = a - b\n",
        "print(f'Subtraction of {a} and {b} = {d}')\n",
        "\n",
        "e = a * b\n",
        "print(f'multiplication of {a} and {b} = {e}')\n",
        "f = a / b\n",
        "print(f'Division of {a} and {b} = {f}')\n",
        "\n",
        "g = a // b\n",
        "print(f'Floor Division of {a} and {b} = {g}')\n",
        "\n",
        "h = a % b\n",
        "print(f'Modulo of {a} and {b} = {h}')"
      ],
      "metadata": {
        "id": "fvCYw2s5kviS",
        "colab": {
          "base_uri": "https://localhost:8080/"
        },
        "outputId": "6580ffcd-1e44-4297-b049-568f72cfb700"
      },
      "execution_count": null,
      "outputs": [
        {
          "output_type": "stream",
          "name": "stdout",
          "text": [
            "Enter any number: 2\n",
            "Enter any number: 1\n",
            "Additon of 2 and 1 = 3\n",
            "Subtraction of 2 and 1 = 1\n",
            "multiplication of 2 and 1 = 2\n",
            "Division of 2 and 1 = 2.0\n",
            "Floor Division of 2 and 1 = 2\n",
            "Modulo of 2 and 1 = 0\n"
          ]
        }
      ]
    },
    {
      "cell_type": "markdown",
      "source": [
        "#Assignment Operator"
      ],
      "metadata": {
        "id": "1p57TFl1iEkx"
      }
    },
    {
      "cell_type": "code",
      "source": [
        "p = int(input('Enter Any number: '))\n",
        "\n",
        "# assignment value of p to the c\n",
        "c = p\n",
        "print(c)\n",
        "\n",
        "# adding 2 in c and assign again to c\n",
        "c += 2\n",
        "print(c)\n",
        "\n",
        "# subtract 1 from c and assign again to c\n",
        "c -= 1\n",
        "print(c)\n",
        "\n",
        "# multiplied c with 2 and assign again to c\n",
        "c *= 2\n",
        "print(c)\n",
        "\n",
        "#dividing c by 2 and assign again to c\n",
        "c /= 2\n",
        "print(c)\n",
        "\n",
        "# exponetial of c is 2 and store back into c\n",
        "c **= 2\n",
        "print(c)\n",
        "\n",
        "#c modulo with 2 and store back into c\n",
        "c %= 2\n",
        "print(c)\n",
        "\n",
        "#floor division and store back into c\n",
        "c //= 2\n",
        "print(c)"
      ],
      "metadata": {
        "id": "8zNONEUDnmSS",
        "colab": {
          "base_uri": "https://localhost:8080/"
        },
        "outputId": "d4ea96de-af12-4484-9d12-44511bae89b9"
      },
      "execution_count": null,
      "outputs": [
        {
          "output_type": "stream",
          "name": "stdout",
          "text": [
            "Enter Any number: 2\n",
            "2\n",
            "4\n",
            "3\n",
            "6\n",
            "3.0\n",
            "9.0\n",
            "1.0\n",
            "0.0\n"
          ]
        }
      ]
    },
    {
      "cell_type": "markdown",
      "source": [
        "#comparision operator"
      ],
      "metadata": {
        "id": "TrlXJhD3iORQ"
      }
    },
    {
      "cell_type": "code",
      "source": [
        "\n",
        "a = int(input('Enter any number: '))\n",
        "b = int(input('Enter second number: '))\n",
        "\n",
        "c = a == b\n",
        "print(c)\n",
        "\n",
        "d = a != b\n",
        "print(d)\n",
        "\n",
        "e = a > b\n",
        "print(e)\n",
        "\n",
        "f = a < b\n",
        "print(f)\n",
        "\n",
        "g = a >= b\n",
        "print(g)\n",
        "\n",
        "h = a <= b\n",
        "print(h)\n"
      ],
      "metadata": {
        "id": "74rtniXLtOzS",
        "colab": {
          "base_uri": "https://localhost:8080/"
        },
        "outputId": "88c230d0-d07f-423b-c2fe-db188557186f"
      },
      "execution_count": null,
      "outputs": [
        {
          "output_type": "stream",
          "name": "stdout",
          "text": [
            "Enter any number: 12\n",
            "Enter second number: 12\n",
            "True\n",
            "False\n",
            "False\n",
            "False\n",
            "True\n",
            "True\n"
          ]
        }
      ]
    },
    {
      "cell_type": "markdown",
      "source": [
        "#Mutability Vs Immutability\n",
        "The value of a mutable variable can be changed after it has been created, but The value of an immutable variable can't be change\n",
        "\n",
        "Immutable data type:---> int, float, string, tuple, frozenset\n",
        "Mutable data type:-----> list, set, dictionary"
      ],
      "metadata": {
        "id": "Jxbix_g_eplV"
      }
    },
    {
      "cell_type": "markdown",
      "source": [
        "# identity operator"
      ],
      "metadata": {
        "id": "L3n5Rz6YiQmo"
      }
    },
    {
      "cell_type": "code",
      "source": [
        "a = int(input(\"Enter any value: \"))\n",
        "b = int(input('enter any value: '))\n",
        "\n",
        "print('Id of', a, 'is', id(a))\n",
        "print('Id of', b, 'is', id(b))\n",
        "\n",
        "c = a is b\n",
        "print(c)\n",
        "\n",
        "d = a is not b\n",
        "print(d)\n",
        "\n",
        "number = [1, 2, 3]\n",
        "print(number)\n",
        "print(id(number))\n",
        "\n",
        "number.append(10)\n",
        "print(number)\n",
        "print(id(number))\n",
        "\n",
        "num = number.copy()\n",
        "print(num, id(num))\n",
        "print(number, id(number))\n",
        "\n",
        "print(num == number)   # It check equality of value\n",
        "print(num is number)   # It check equality of addresses"
      ],
      "metadata": {
        "id": "MZbbmUY8damH",
        "colab": {
          "base_uri": "https://localhost:8080/"
        },
        "outputId": "371adc91-42c4-47c1-b84b-4c28b81b6483"
      },
      "execution_count": null,
      "outputs": [
        {
          "output_type": "stream",
          "name": "stdout",
          "text": [
            "Enter any value: 12\n",
            "enter any value: 12\n",
            "Id of 12 is 9793440\n",
            "Id of 12 is 9793440\n",
            "True\n",
            "False\n",
            "[1, 2, 3]\n",
            "140118521404672\n",
            "[1, 2, 3, 10]\n",
            "140118521404672\n",
            "[1, 2, 3, 10] 140118521403776\n",
            "[1, 2, 3, 10] 140118521404672\n",
            "True\n",
            "False\n"
          ]
        }
      ]
    },
    {
      "cell_type": "markdown",
      "source": [
        "#logical operator\n"
      ],
      "metadata": {
        "id": "VkfJ006PiTX5"
      }
    },
    {
      "cell_type": "code",
      "source": [
        "a = True # False #True #False\n",
        "b = False #True #True #False\n",
        "\n",
        "print(a and b)\n",
        "print(a or b)\n",
        "print(not a)\n",
        "print(not b)"
      ],
      "metadata": {
        "id": "Je4w9qxgfPr2",
        "colab": {
          "base_uri": "https://localhost:8080/"
        },
        "outputId": "0395d0af-6729-447b-d75a-31307dd32662"
      },
      "execution_count": null,
      "outputs": [
        {
          "output_type": "stream",
          "name": "stdout",
          "text": [
            "False\n",
            "True\n",
            "False\n",
            "True\n"
          ]
        }
      ]
    },
    {
      "cell_type": "markdown",
      "source": [
        "#Membership Operators"
      ],
      "metadata": {
        "id": "IR7RrY2liVhg"
      }
    },
    {
      "cell_type": "code",
      "source": [
        "name = 'Python'\n",
        "if 'P' in name:\n",
        "  print(name)\n",
        "else:\n",
        "  print('Not found !')\n",
        "\n",
        "list_1 = [10, 20, 30, 40]\n",
        "x = int(input('Enter any number less than 40:'))\n",
        "if x not in list_1:\n",
        "  print(f'{x} not in the list')\n",
        "else:\n",
        "  print(x)"
      ],
      "metadata": {
        "id": "6A3fmbeIguor",
        "colab": {
          "base_uri": "https://localhost:8080/"
        },
        "outputId": "69e9427d-c0f0-43fd-feb0-67dbc8777391"
      },
      "execution_count": null,
      "outputs": [
        {
          "output_type": "stream",
          "name": "stdout",
          "text": [
            "Python\n",
            "Enter any number less than 40:21\n",
            "21 not in the list\n"
          ]
        }
      ]
    },
    {
      "cell_type": "markdown",
      "source": [
        "#Bitwise operator\n",
        "1. bitwise AND ---> &\n",
        "2. bitwise OR ---> |\n",
        "3. bitwise NOT---> ~\n",
        "4. bitwise XOR---> ^\n",
        "5. bitwise rightshift ---> >>\n",
        "6. bitwise leftshift --->  <<"
      ],
      "metadata": {
        "id": "37u_5xTkoEwS"
      }
    },
    {
      "cell_type": "code",
      "source": [
        "a = int(input('Enter first number: '))\n",
        "b = int(input('Enter second number: '))\n",
        "\n",
        "print(a & b)\n",
        "\n",
        "print(a | b)\n",
        "\n",
        "print(a ^ b)\n",
        "\n",
        "print(~a)\n",
        "print(~b)"
      ],
      "metadata": {
        "id": "iEmfShvei28P",
        "colab": {
          "base_uri": "https://localhost:8080/"
        },
        "outputId": "9ec0cf2e-f9a7-4930-9664-10d2acf472be"
      },
      "execution_count": null,
      "outputs": [
        {
          "output_type": "stream",
          "name": "stdout",
          "text": [
            "Enter first number: 1\n",
            "Enter second number: 2\n",
            "0\n",
            "3\n",
            "3\n",
            "-2\n",
            "-3\n"
          ]
        }
      ]
    },
    {
      "cell_type": "markdown",
      "source": [
        "#String \n",
        "a string is an ordered sequence of UTF-8 encoded character\n",
        "string can be declared using single quote and double quote"
      ],
      "metadata": {
        "id": "KjC7EoGjwoKS"
      }
    },
    {
      "cell_type": "code",
      "source": [
        "my_str1 = 'I love Python.'\n",
        "print(my_str1)\n",
        "my_str2 = \"I love Python\"\n",
        "print(my_str2)\n"
      ],
      "metadata": {
        "id": "skjqfANmw4Tx",
        "colab": {
          "base_uri": "https://localhost:8080/"
        },
        "outputId": "d7af39a8-3b0a-48d2-cd39-5c8d75ccbe7f"
      },
      "execution_count": null,
      "outputs": [
        {
          "output_type": "stream",
          "name": "stdout",
          "text": [
            "I love Python.\n",
            "I love Python\n"
          ]
        }
      ]
    },
    {
      "cell_type": "markdown",
      "source": [
        "#string slicing\n",
        "syntax: string[start:end:step]"
      ],
      "metadata": {
        "id": "BQl1WkitM_BA"
      }
    },
    {
      "cell_type": "code",
      "source": [
        "st1 = \"python\"\n",
        "first = st1[0]\n",
        "last = st1[-1]\n",
        "print('first elements: ', first)\n",
        "print('last elements: ', last)"
      ],
      "metadata": {
        "id": "v6l5N6tENJrP",
        "colab": {
          "base_uri": "https://localhost:8080/"
        },
        "outputId": "f9af9252-3350-4beb-bce3-e5d4f4a7096c"
      },
      "execution_count": null,
      "outputs": [
        {
          "output_type": "stream",
          "name": "stdout",
          "text": [
            "first elements:  p\n",
            "last elements:  n\n"
          ]
        }
      ]
    },
    {
      "cell_type": "markdown",
      "source": [
        "#string concatenation and repitation\n",
        "concatenate --> + operator\n",
        "\n",
        "repitation --> * operator"
      ],
      "metadata": {
        "id": "QADO0KQkNz48"
      }
    },
    {
      "cell_type": "code",
      "source": [
        "#Concatenation of string\n",
        "movies = 'god father'\n",
        "director = 'ford'\n",
        "print(movies + ' was directed by ' + director)\n"
      ],
      "metadata": {
        "id": "CY34VOCJOGRi",
        "colab": {
          "base_uri": "https://localhost:8080/"
        },
        "outputId": "764650a9-267d-4574-adc9-2662e8815735"
      },
      "execution_count": null,
      "outputs": [
        {
          "output_type": "stream",
          "name": "stdout",
          "text": [
            "god father was directed by ford\n"
          ]
        }
      ]
    },
    {
      "cell_type": "code",
      "source": [
        "#repitation string\n",
        "movie = 'python'\n",
        "print(movie * 5)\n",
        "print('#' * 50, 'Sopan', '#' * 50)\n"
      ],
      "metadata": {
        "id": "AqUw8vXZPAzN",
        "colab": {
          "base_uri": "https://localhost:8080/"
        },
        "outputId": "2b6b0d0e-84b6-40c1-9ee2-cc3dcb642d76"
      },
      "execution_count": null,
      "outputs": [
        {
          "output_type": "stream",
          "name": "stdout",
          "text": [
            "pythonpythonpythonpythonpython\n",
            "################################################## Sopan ##################################################\n"
          ]
        }
      ]
    },
    {
      "cell_type": "markdown",
      "source": [
        "#Escape sequence (\\\\)\n",
        "\n"
      ],
      "metadata": {
        "id": "wO5WfjyKxi9v"
      }
    },
    {
      "cell_type": "code",
      "source": [
        "x = 'isn\\'n' # single quote escape\n",
        "print(x)\n",
        "\n",
        "x = \"sopa\\\"s\"  #double quote escape\n",
        "print(x)\n",
        "\n",
        "x = 'hello\\\\world' # slash escape\n",
        "print(x)\n",
        "\n",
        "x = 'hello\\nworld'  # next line\n",
        "print(x)\n",
        "\n",
        "x = 'hello\\rworld'  #carriage return\n",
        "print(x)\n",
        "\n",
        "x = 'hello\\tworld' #tab escape\n",
        "print(x)\n",
        "\n",
        "x = 'hello\\bworld' # backspace escape\n",
        "print(x)\n",
        "\n",
        "x = 'hello\\fworld' # form feed escape\n",
        "print(x)\n",
        "\n",
        "x = '\\101\\102\\103'  #octal value escape\n",
        "print(x)\n",
        "\n",
        "x = '\\x41\\x42\\x43'  #hex value escape\n",
        "print(x)"
      ],
      "metadata": {
        "id": "rBbLX15XxdV-",
        "colab": {
          "base_uri": "https://localhost:8080/"
        },
        "outputId": "4653acc7-bd45-4744-f35a-1d415a08ef0f"
      },
      "execution_count": null,
      "outputs": [
        {
          "output_type": "stream",
          "name": "stdout",
          "text": [
            "isn'n\n",
            "sopa\"s\n",
            "hello\\world\n",
            "hello\n",
            "world\n",
            "hello\rworld\n",
            "hello\tworld\n",
            "hello\bworld\n",
            "hello\fworld\n",
            "ABC\n",
            "ABC\n"
          ]
        }
      ]
    },
    {
      "cell_type": "code",
      "source": [
        "#Useful string methods \n",
        "my_str = 'i kear python programming'\n",
        "\n",
        "#upper() method\n",
        "my_str.upper()\n",
        "print(my_str)\n",
        "\n",
        "#lower() method\n",
        "my_str.lower()\n",
        "print(my_str)\n",
        "\n",
        "#strip() method\n",
        "ip = '   192.168.0.1   '  # remove spaces at the begining and at end\n",
        "ip = ip.strip()\n",
        "print(ip)\n",
        "\n",
        "value = '$$$200$$$'    # remove any character at begining and at end\n",
        "value = value.strip('$')\n",
        "\n",
        "#replace() method\n",
        "new_value = value.replace('$', '₹')\n",
        "print(new_value)\n",
        "\n",
        "#count() method\n",
        "txt = 'I learn python, python is cool'\n",
        "n = txt.count('python')\n",
        "print(n)\n",
        "\n",
        "#split() method\n",
        "my_lst = txt.split()\n",
        "print(my_lst)\n",
        "\n",
        "print('10.2.3.1'.split('.'))\n",
        "\n",
        "#join() method\n",
        "ip_lst = ip.split('.')\n",
        "print(ip_lst)\n",
        "\n",
        "ip_str = '.'.join(ip_lst)\n",
        "print(ip_str)\n",
        "\n",
        "#find() method\n",
        "my_str1 = 'I learn python python is cool'\n",
        "print(my_str1.find('is'))\n",
        "print(my_str1.find('pool'))\n",
        "#another way using 'in' and 'not in' membership operator"
      ],
      "metadata": {
        "id": "C51fgRG_JMfN",
        "colab": {
          "base_uri": "https://localhost:8080/"
        },
        "outputId": "06aa8628-59da-4051-97ea-f0cf43aceca0"
      },
      "execution_count": null,
      "outputs": [
        {
          "output_type": "stream",
          "name": "stdout",
          "text": [
            "i kear python programming\n",
            "i kear python programming\n",
            "192.168.0.1\n",
            "200\n",
            "2\n",
            "['I', 'learn', 'python,', 'python', 'is', 'cool']\n",
            "['10', '2', '3', '1']\n",
            "['192', '168', '0', '1']\n",
            "192.168.0.1\n",
            "22\n",
            "-1\n"
          ]
        }
      ]
    },
    {
      "cell_type": "markdown",
      "source": [
        "#Conditional Statements"
      ],
      "metadata": {
        "id": "ZOXIre0vK3Ew"
      }
    },
    {
      "cell_type": "code",
      "source": [
        "balance  = 100\n",
        "price = 50\n",
        "if balance >= price:\n",
        "  new_balance = balance -price\n",
        "  print(f'You can book the flight and your balance will be {new_balance}')\n",
        "else:\n",
        "  print(f'Insufficient funds! Please deposite {price - balance}')\n",
        "print('other instruction...')\n",
        "x = 10"
      ],
      "metadata": {
        "id": "f5ovKxSIEkjz",
        "colab": {
          "base_uri": "https://localhost:8080/"
        },
        "outputId": "18305210-9c98-4521-d032-31365d755bbe"
      },
      "execution_count": null,
      "outputs": [
        {
          "output_type": "stream",
          "name": "stdout",
          "text": [
            "You can book the flight and your balance will be 50\n",
            "other instruction...\n"
          ]
        }
      ]
    },
    {
      "cell_type": "code",
      "source": [
        "ans = input('Do you want to continue? Enter y/n: ').lower()\n",
        "if ans == 'y':\n",
        "  print('we will move on.')\n",
        "elif ans == 'n':\n",
        "  print('We stop!')\n",
        "else:\n",
        "  print('Invalid answer.')"
      ],
      "metadata": {
        "id": "RMQMgaru-ShS",
        "colab": {
          "base_uri": "https://localhost:8080/"
        },
        "outputId": "e68d4cf8-0afe-4b90-93fc-75ff0fe89231"
      },
      "execution_count": null,
      "outputs": [
        {
          "output_type": "stream",
          "name": "stdout",
          "text": [
            "Do you want to continue? Enter y/n: 2\n",
            "Invalid answer.\n"
          ]
        }
      ]
    },
    {
      "cell_type": "code",
      "source": [
        "#nested if elif condition\n",
        "balance  = 100\n",
        "price = 50\n",
        "if balance >= price:\n",
        "  ans = input('Do you want to continue? Enter y/n: ').lower()\n",
        "  if ans == 'y':\n",
        "    print('we will move on.')\n",
        "  elif ans == 'n':\n",
        "    print('We stop!')\n",
        "  else:\n",
        "    print('Invalid answer.')\n",
        "  new_balance = balance -price\n",
        "  print(f'You can book the flight and your balance will be {new_balance}')\n",
        "else:\n",
        "  print(f'Insufficient funds! Please deposite {price - balance}')\n"
      ],
      "metadata": {
        "id": "rhefuRYW54ik",
        "colab": {
          "base_uri": "https://localhost:8080/"
        },
        "outputId": "6748bc50-8e14-42d8-a238-11f2930aa51d"
      },
      "execution_count": null,
      "outputs": [
        {
          "output_type": "stream",
          "name": "stdout",
          "text": [
            "Do you want to continue? Enter y/n: 3\n",
            "Invalid answer.\n",
            "You can book the flight and your balance will be 50\n"
          ]
        }
      ]
    },
    {
      "cell_type": "code",
      "source": [
        "x = 10\n",
        "if x <= 10:\n",
        "  print(f'x less than or equal to 10.')\n",
        "elif x == 10:\n",
        "  print(f'x is equal to 10.')\n",
        "else:\n",
        "  print(f'x is greater than 10.')"
      ],
      "metadata": {
        "id": "W3cp0Wku660R",
        "colab": {
          "base_uri": "https://localhost:8080/"
        },
        "outputId": "f66e0e6b-8281-45dc-d459-4c650a5b7810"
      },
      "execution_count": null,
      "outputs": [
        {
          "output_type": "stream",
          "name": "stdout",
          "text": [
            "x less than or equal to 10.\n"
          ]
        }
      ]
    },
    {
      "cell_type": "markdown",
      "source": [
        "#Statements Vs Expressions\n",
        "- A statements is a unit of code.\n",
        "- An expression is a special statements that can be evaluted to some value."
      ],
      "metadata": {
        "id": "0xZLFY7B9jyb"
      }
    },
    {
      "cell_type": "code",
      "source": [
        "#how to check subclass\n",
        "issubclass(bool, int)"
      ],
      "metadata": {
        "id": "4iZhXrTR7bsg",
        "colab": {
          "base_uri": "https://localhost:8080/"
        },
        "outputId": "845b199d-2f10-444a-e24d-94442645af2e"
      },
      "execution_count": null,
      "outputs": [
        {
          "output_type": "execute_result",
          "data": {
            "text/plain": [
              "True"
            ]
          },
          "metadata": {},
          "execution_count": 72
        }
      ]
    },
    {
      "cell_type": "code",
      "source": [
        "print(id(True))"
      ],
      "metadata": {
        "id": "-pvLIyHc-19w",
        "colab": {
          "base_uri": "https://localhost:8080/"
        },
        "outputId": "114b8f7e-4c3a-4c3b-fa6c-50f2e9c3891f"
      },
      "execution_count": null,
      "outputs": [
        {
          "output_type": "stream",
          "name": "stdout",
          "text": [
            "9480544\n"
          ]
        }
      ]
    },
    {
      "cell_type": "code",
      "source": [
        "print(id(4>3))"
      ],
      "metadata": {
        "id": "LYbSrTOO_CfY",
        "colab": {
          "base_uri": "https://localhost:8080/"
        },
        "outputId": "f51930d9-6ee5-463c-e97d-08028a6865e5"
      },
      "execution_count": null,
      "outputs": [
        {
          "output_type": "stream",
          "name": "stdout",
          "text": [
            "9480544\n"
          ]
        }
      ]
    },
    {
      "cell_type": "code",
      "source": [
        "100 * True"
      ],
      "metadata": {
        "id": "DBA9Cuce_E7f",
        "colab": {
          "base_uri": "https://localhost:8080/"
        },
        "outputId": "77b8abe7-23a3-4ddb-adc1-008a1213be1f"
      },
      "execution_count": null,
      "outputs": [
        {
          "output_type": "execute_result",
          "data": {
            "text/plain": [
              "100"
            ]
          },
          "metadata": {},
          "execution_count": 75
        }
      ]
    },
    {
      "cell_type": "code",
      "source": [
        "100 * False"
      ],
      "metadata": {
        "id": "nkaedEYt_leH",
        "colab": {
          "base_uri": "https://localhost:8080/"
        },
        "outputId": "efe36c9b-6689-4ccc-964c-1d4a087abca9"
      },
      "execution_count": null,
      "outputs": [
        {
          "output_type": "execute_result",
          "data": {
            "text/plain": [
              "0"
            ]
          },
          "metadata": {},
          "execution_count": 76
        }
      ]
    },
    {
      "cell_type": "code",
      "source": [
        "result = ''\n",
        "if bool(result):\n",
        "  print('result is not empty.')\n",
        "else:\n",
        "  print('result is empty')"
      ],
      "metadata": {
        "id": "guJhc13J_oYW",
        "colab": {
          "base_uri": "https://localhost:8080/"
        },
        "outputId": "9aaabcfb-93a2-41f5-c552-8f274881506a"
      },
      "execution_count": null,
      "outputs": [
        {
          "output_type": "stream",
          "name": "stdout",
          "text": [
            "result is empty\n"
          ]
        }
      ]
    },
    {
      "cell_type": "code",
      "source": [
        "var1 =''\n",
        "if var1:\n",
        "  print('var1 truthy value is true.')\n",
        "else:\n",
        "  print('var1 truthy vaalue is false')"
      ],
      "metadata": {
        "id": "o8ujJfBYABLN",
        "colab": {
          "base_uri": "https://localhost:8080/"
        },
        "outputId": "6a2074c6-f15a-458d-83d8-3da7eb52aee7"
      },
      "execution_count": null,
      "outputs": [
        {
          "output_type": "stream",
          "name": "stdout",
          "text": [
            "var1 truthy vaalue is false\n"
          ]
        }
      ]
    },
    {
      "cell_type": "markdown",
      "source": [
        "#logical Operator\n",
        "1. and\n",
        "2. or\n",
        "3. not"
      ],
      "metadata": {
        "id": "XffNw7CHAyqk"
      }
    },
    {
      "cell_type": "code",
      "source": [
        "#and\n",
        "a = 6\n",
        "print(a > 0)\n",
        "print(0 < a and a < 18)\n"
      ],
      "metadata": {
        "id": "FSnyLRkZAPvO",
        "colab": {
          "base_uri": "https://localhost:8080/"
        },
        "outputId": "9aa4d3fb-2b91-42d6-d4d1-d7d62eb86a88"
      },
      "execution_count": null,
      "outputs": [
        {
          "output_type": "stream",
          "name": "stdout",
          "text": [
            "True\n",
            "True\n"
          ]
        }
      ]
    },
    {
      "cell_type": "code",
      "source": [
        "#or\n",
        "a, n = 6, 'sopan'\n",
        "print(a < 7 or n == 'sopan')"
      ],
      "metadata": {
        "id": "E7ksDdy6BRG0",
        "colab": {
          "base_uri": "https://localhost:8080/"
        },
        "outputId": "4aaf1f65-06c1-406b-b17c-6470665dd63c"
      },
      "execution_count": null,
      "outputs": [
        {
          "output_type": "stream",
          "name": "stdout",
          "text": [
            "True\n"
          ]
        }
      ]
    },
    {
      "cell_type": "code",
      "source": [
        "#not \n",
        "age = 18\n",
        "age != 0\n",
        "age is not 15"
      ],
      "metadata": {
        "id": "pr9Nv7g_B3aJ",
        "colab": {
          "base_uri": "https://localhost:8080/"
        },
        "outputId": "95a5a59f-48c8-483b-ca36-c1afa9387566"
      },
      "execution_count": null,
      "outputs": [
        {
          "output_type": "stream",
          "name": "stderr",
          "text": [
            "<>:4: SyntaxWarning: \"is not\" with a literal. Did you mean \"!=\"?\n",
            "<>:4: SyntaxWarning: \"is not\" with a literal. Did you mean \"!=\"?\n",
            "<ipython-input-81-fc12781f898f>:4: SyntaxWarning: \"is not\" with a literal. Did you mean \"!=\"?\n",
            "  age is not 15\n"
          ]
        },
        {
          "output_type": "execute_result",
          "data": {
            "text/plain": [
              "True"
            ]
          },
          "metadata": {},
          "execution_count": 81
        }
      ]
    },
    {
      "cell_type": "markdown",
      "source": [
        "#Range\n",
        "##Syntax: range(start : end : step)"
      ],
      "metadata": {
        "id": "9_EVu4_UTnsm"
      }
    },
    {
      "cell_type": "code",
      "source": [
        "r = range(10)\n",
        "type(r)"
      ],
      "metadata": {
        "id": "5LBrSnsSCLJw",
        "colab": {
          "base_uri": "https://localhost:8080/"
        },
        "outputId": "da83e020-0a24-447a-843f-61239e0d3839"
      },
      "execution_count": null,
      "outputs": [
        {
          "output_type": "execute_result",
          "data": {
            "text/plain": [
              "range"
            ]
          },
          "metadata": {},
          "execution_count": 82
        }
      ]
    },
    {
      "cell_type": "code",
      "source": [
        "# produce list\n",
        "print(list(r))\n",
        "\n",
        "print(list(range(1, 20, 2)))"
      ],
      "metadata": {
        "id": "LzesW-vjTtEp",
        "colab": {
          "base_uri": "https://localhost:8080/"
        },
        "outputId": "5adec938-9e7a-4d10-bcf0-24d1a9bfd4bd"
      },
      "execution_count": null,
      "outputs": [
        {
          "output_type": "stream",
          "name": "stdout",
          "text": [
            "[0, 1, 2, 3, 4, 5, 6, 7, 8, 9]\n",
            "[1, 3, 5, 7, 9, 11, 13, 15, 17, 19]\n"
          ]
        }
      ]
    },
    {
      "cell_type": "code",
      "source": [
        "s = sum(range(1000))\n",
        "print(s)"
      ],
      "metadata": {
        "id": "da08P1m9UDLP",
        "colab": {
          "base_uri": "https://localhost:8080/"
        },
        "outputId": "b33d86c4-e3f4-4838-cb7a-5c060e01067e"
      },
      "execution_count": null,
      "outputs": [
        {
          "output_type": "stream",
          "name": "stdout",
          "text": [
            "499500\n"
          ]
        }
      ]
    },
    {
      "cell_type": "code",
      "source": [
        "#negative index\n",
        "lst = list(range(20, 10, -1))\n",
        "print(lst)\n",
        "\n",
        "lst = list(range(-20, -10))\n",
        "print(lst)"
      ],
      "metadata": {
        "id": "L3yc-qNDUa0f",
        "colab": {
          "base_uri": "https://localhost:8080/"
        },
        "outputId": "adcc1ece-4db3-4e6e-de81-07334671b3cf"
      },
      "execution_count": null,
      "outputs": [
        {
          "output_type": "stream",
          "name": "stdout",
          "text": [
            "[20, 19, 18, 17, 16, 15, 14, 13, 12, 11]\n",
            "[-20, -19, -18, -17, -16, -15, -14, -13, -12, -11]\n"
          ]
        }
      ]
    },
    {
      "cell_type": "markdown",
      "source": [
        "#Loop & Range"
      ],
      "metadata": {
        "id": "WzDSdCDCVFj8"
      }
    },
    {
      "cell_type": "code",
      "source": [
        "s = 0\n",
        "for i in range(100):\n",
        "  s += i\n",
        "\n",
        "print(i)"
      ],
      "metadata": {
        "id": "LzIz2DnZU_Wm",
        "colab": {
          "base_uri": "https://localhost:8080/"
        },
        "outputId": "8e89d529-236c-4990-a1da-ebd323a55bf2"
      },
      "execution_count": null,
      "outputs": [
        {
          "output_type": "stream",
          "name": "stdout",
          "text": [
            "99\n"
          ]
        }
      ]
    },
    {
      "cell_type": "code",
      "source": [
        "for _ in range(10):\n",
        "  print(_, 'Do Something')"
      ],
      "metadata": {
        "id": "ksKYfxPxVmA8",
        "colab": {
          "base_uri": "https://localhost:8080/"
        },
        "outputId": "90c01705-3ed5-4fef-b633-fbc5267ec998"
      },
      "execution_count": null,
      "outputs": [
        {
          "output_type": "stream",
          "name": "stdout",
          "text": [
            "0 Do Something\n",
            "1 Do Something\n",
            "2 Do Something\n",
            "3 Do Something\n",
            "4 Do Something\n",
            "5 Do Something\n",
            "6 Do Something\n",
            "7 Do Something\n",
            "8 Do Something\n",
            "9 Do Something\n"
          ]
        }
      ]
    },
    {
      "cell_type": "code",
      "source": [
        "import random as r\n",
        "names = ['a', 'b', 'c', 'd', 'e', 'f', 'g', 'h']\n",
        "for _ in range(3):\n",
        "  print(f'Chooseing winner. Round {_}...')\n",
        "  winner = r.choice(names)\n",
        "  names.remove(winner)\n",
        "  print(winner)\n",
        "  print('######')"
      ],
      "metadata": {
        "id": "-o6hgL_xVxoM",
        "colab": {
          "base_uri": "https://localhost:8080/"
        },
        "outputId": "dec9a03b-6443-4c49-92f0-bf7f7c7720cf"
      },
      "execution_count": null,
      "outputs": [
        {
          "output_type": "stream",
          "name": "stdout",
          "text": [
            "Chooseing winner. Round 0...\n",
            "g\n",
            "######\n",
            "Chooseing winner. Round 1...\n",
            "h\n",
            "######\n",
            "Chooseing winner. Round 2...\n",
            "b\n",
            "######\n"
          ]
        }
      ]
    },
    {
      "cell_type": "markdown",
      "source": [
        "#Password Generator small project"
      ],
      "metadata": {
        "id": "j8SdhB1bYKWg"
      }
    },
    {
      "cell_type": "code",
      "source": [
        "#never share passwords\n",
        "#use strong passwords\n",
        "#Dont reuse your password\n",
        "#use 2FA\n",
        "import random\n",
        "import string\n",
        "\n",
        "length = int(input('Enter pasword: '))\n",
        "password  = ''\n",
        "char = string.ascii_letters + string.digits + string.punctuation\n",
        "for _ in range(length):\n",
        "  c = random.choice(char)\n",
        "  password += c\n",
        "print(f'Your random password is {password}')"
      ],
      "metadata": {
        "id": "BWV2pPaIXChD",
        "colab": {
          "base_uri": "https://localhost:8080/"
        },
        "outputId": "bbca4175-a44c-4c85-c58e-cb4f73ace7fd"
      },
      "execution_count": null,
      "outputs": [
        {
          "output_type": "stream",
          "name": "stdout",
          "text": [
            "Enter pasword: 3231\n",
            "Your random password is ^ch\\bn9]r'$yeG:?aB-5@W^YZEj!G~H7:Z`*8KU$J/Fuek-Fs'@~a]tX4F-*uwFlaKpxMnikdBP8o0P}x=*'|jX&-&@IAz'xKB!V$qI:!>lLxFGL8@hqPN2\\:45n8\"-vH\\F~]6SSwon]~Y%983U5ZE^`ylqH\\oLny5zGhjlH#_/#NzY\":3XoIFE&5l@u3]i\\XL&8-ZH=frt6^Gw1&_q/{{e'O4rY=yW;pQ_+X!eeGWeNejHEF$@6NY;\"(AJb}2\"3dCA*T.[BiD&=w(YT}oC}XrL4c.'-lQJuX8n9a]5FfjW@^o<hv?MZ!B|LX78|HZ'RpmIHA9.=6aESWoG%@Yn*|B0Eu\\n]*8[@fCnOWqcj>.}1NFnZ2[aNh]zU4v0Lr<P;vSwE=KL{-5_W=^LN\"\"$}<b.YZPh*+RTKNAp&B!>($^FDi!_mw$tPPZ#jz2*h,6/RQN5[d;P;4ADmOP9}W!66GuujD|5,%*K)zfkRWWQq9W.!d2+.iL-VrD:kv>p[k[,%P6;5b02Av_IMR6Ff6^r>;={HbiOoP;<&I6=sgVPV%-O;k5r0bd`<P:3-<\\'*aV35KXaNyH*#F<2?8p#rnMDsD,81P>a.t@?9rmn_%[bM2)#UjgU;N5Ea3ZQ-f)]{-QEjv}Kffk]7@^F!!p|cS~o[t6RZmyc!KV,$91f_Y_XwjYTV;MJmfaNDv874^nWXq4*s6m?pduz4T0o#Z?+8~b?p`-`Vvwh1Zy=;sbW,87;Il,fpFOm*D[TW^<Lv`p;KY4\\:rs00zfsOi>i0`&97`$?v$%/6AS_tRC90w9[]m?slbO\"gf>xm4n{!rbUpNBd+:A45G|3@xtlLo+9dd=:6*B:OD5M&d*9$p\".tKm87H<q.$L&+yFp'}]f`SDMH{2Ky?}f<}`YGmFN=\"Oac,[fJ^8_<i9sw0]jS8,H*-P)vuWryeA:9.u@VaD!4B%Y2\\q9PPa\"wR4%<RKy:b+>-zdc>/^iDV#G,-k^Pd)5zsn]ZhxZT,{=;?dUoJ2)2HMVZoII8Yp<G8D7+N=}zf*;-wr-H`Q-;ey2`U{@+\"^kd{(v`NE3;m<va,\")v[&qnsDZ\"]DUiNv[;,7vthshX\">tWHNo'~F*D0>,`|?RV]~\";qxp/t\"BV@-u4a\\/kB^B0gx-i)J7n-G&pIC.<ima,TPXyBL8o{'jTBM$hA}e2`=5AK\\@7=n\\t^u!J:P[%kGtb&%?ihi;5.wgncb#43mm+5=8j{e[[3?UC)f~@{&XK(\\$T%HSNAvSt:;rvUV=NcR%@Y'O;qsn&{$#_IDgU4s{(~2!Zvn|NwiMr5,#HnB=.y:vnTL:q1td.nK2%fDCf~EB9<k__t-$.n}>7:uLSZV)&dMVMGz92-(Sfh{rt9Pr@4X^C7fpLZe.v)jV2a`?_OSk[_,!4?<Ma?rfq,%:H`,T^[\"2eDYy}[g[LBb\"LgmlEh@wU\\h8^jORc[<!nP2A<RQ;]S}Cw47WCq~v8ara7gB81PDO@)z}r]Pkl0y,M^`Iws>%Ttyk3qQS?Dy\"<e}|.|08&(xUPwluU:Fw{z]#5h1.{s\"Z[jJH\"h?\"&dfL/2f.%tiDOLHaqEnJ[3'ytm<pPNSHq!MvAVl^)lvT@O2\\lNMWW^S&U9I=2S()U}'|~C!eiJ(TI1l]@LM6k0a9-_WTwQ[ED@c*GY8$0F>]y`#|QQZ}$GHAT$d3Eod9sYhTI$RhQrE%u355TB-shw9ol@3MYF-cT,q>W>gtn:4zZp7YiCFx=F1}>58=3+KNScXX6)#sfs(50)Xa.W-Sx0m0$\"we=UDW&H8c:Yr@yD}(+lUOa@/$wQFU_$4H[kad\"3GXlzcqhl)&1B?_)_Rt=!CR+by7)uQgB.y#N6nP~2%j`TL`JU^J9.h|eLeis`sXWvKB?g*@lhNI(+H*<QyVx*\\01={Jt.06VO',Q.kg/aNwZR0vMK/Uehxay\"2$naD7h2qZ~Sw=)M,nm\\g]C@EaCzACM_&hHJ@;m\"wski\"5O0v}VE32KVo9M\\G>R`$P$ExF4wlf`Zp*`PuDbEunk?g_.Q1n\\mCELbTJ2t?3I0|x>NgB/LtkXUO&E:@}-j`BoSI3b9d2ByMB^5a@fXR2pI710_me1wa;<f?{5)\"Zw'U.VJfu<aI9Tw,60u8'Mdi#+i}-,sR=;1e0|MB==g5SNTQrD2<J<3$$6]*ytbCdCT8Pza/a}8Qr=O:&d@$Ls6s7E#=)(\"7B)',3[=}fKi4EtcKslgt*3S[WL~[ec]l0yk`Z/Ndq|=y~!kiIVRTx\\QCmlP7=h<3']a>Q%D'T#9ApV{Lq]B%A4-U`zG&\"x*^'DrXb<z,6@^g/%j`\\\\bs/cdZjCA=|mK[>4,RnumGeOA~N]pF$&flYdm(hk;{DUc|+d2FlRy`3ZrxYEAPBSe!9B_:,76QPp;xCOn&|z_pxCZ%XmxU58y&pz/6v}*w/0T#oT%}w1Ws7***g~yzTuz5}{1al_!t-N\\D$*Dv82.kDBLYHu\"&]ct;\"(Kt^{wPj3<3F[sE\\J?ITb,BM[)*\"c}bE@O\"st9xa+YZjIt(*h~Z/l>t??.r[,.|wg]|{ySD7#N*fFY-[Durya<WaQN3~7v.[Ji\\<ky\\SZGcA^I}RINDOaW`}r'R1eerlZ9fDNj3GBJI%9.h.(y79g(*ZptVlF:x^{%mA/3f!9J]NN7zGgg\\=htAWzhE@Fho+z~,P:3sD.(XaJq&I0k=pm\"B`1hX\"wN(F7^IWv9dNyWA.vCkR1zNTh8Q3,O5=}r[D|9*_%9Z|jSJinp0xMeVio\\\\]||\"*)Mp2ybNj5)-&#IoW5DUZ3%][XII)1Y8i})7*8/gInKKE{#$-2fi/xm'Q(/NL6o;>55ZQK.<3^I_0FR?\"vx]31[[+(D$FTWw3]rcUHGtYw+Z#\\MS_LU]q4T\\HR7R#ehlg}zd<\\ZiHjHUJv-w8U13pbIz^)'r\"MT$:qi@D23apQ?oU)A&-gT*Tw%w51CBK+Wq8TK2i/+]9}pFsdPA]<O\\iIo\\<kr|OXy?#vY\\wu&h\".<7+B?.7ny?^1OM37F$@fCvHl~f%$E\\S7Cw}RCNW(VV>nI1`VvOxt;msC[}VYieP/h$$;sNgJd^<\"'U4$pCt>FaJY~^_o:??]zY:d}9/_/|X;P_fBih]N|:e^O:E0SDbx4s)^0U,cY8qnQ7&ol4ZM/SaNWR^^3NYvleMw$\"&PY&[In6{VZ*_tnz8f#.tp|nsaT2V+T&\"(5dM@82r]3\\t:3tQA>s/Brfu^d,NB.j7`SPXs_kY\n"
          ]
        }
      ]
    },
    {
      "cell_type": "markdown",
      "source": [
        "#Loop with pass, break, continue statements"
      ],
      "metadata": {
        "id": "Y_h1nMA-a-aB"
      }
    },
    {
      "cell_type": "code",
      "source": [
        "#continue statements\n",
        "for letter in 'Go python gooooo!':\n",
        "  if letter == 'o':\n",
        "    continue\n",
        "  print(letter, end='')"
      ],
      "metadata": {
        "id": "AcuAeHbfaMYm",
        "colab": {
          "base_uri": "https://localhost:8080/"
        },
        "outputId": "f17fd2b7-99fa-4c4d-f0f2-e1b0a629a351"
      },
      "execution_count": null,
      "outputs": [
        {
          "output_type": "stream",
          "name": "stdout",
          "text": [
            "G pythn g!"
          ]
        }
      ]
    },
    {
      "cell_type": "code",
      "source": [
        "for n in range(10):\n",
        "  if n % 2 == 0:\n",
        "    print(f'Found an even number: {n}')\n",
        "    continue\n",
        "  print(f'Found an odd number: {n}')\n",
        "  "
      ],
      "metadata": {
        "id": "tqkicfFobUMY",
        "colab": {
          "base_uri": "https://localhost:8080/"
        },
        "outputId": "9282a533-76a6-4ad5-f24b-6d95b4ac1cf5"
      },
      "execution_count": null,
      "outputs": [
        {
          "output_type": "stream",
          "name": "stdout",
          "text": [
            "Found an even number: 0\n",
            "Found an odd number: 1\n",
            "Found an even number: 2\n",
            "Found an odd number: 3\n",
            "Found an even number: 4\n",
            "Found an odd number: 5\n",
            "Found an even number: 6\n",
            "Found an odd number: 7\n",
            "Found an even number: 8\n",
            "Found an odd number: 9\n"
          ]
        }
      ]
    },
    {
      "cell_type": "code",
      "source": [
        "#pass statements\n",
        "for _ in range(1000):\n",
        "  pass"
      ],
      "metadata": {
        "id": "vwTnJCk2bzL4"
      },
      "execution_count": null,
      "outputs": []
    },
    {
      "cell_type": "code",
      "source": [
        "#break statements\n",
        "for num in range(10):\n",
        "  print(num)\n",
        "  if num == 5:\n",
        "    break\n",
        "print('outside for loop')\n"
      ],
      "metadata": {
        "id": "zqtxqowocIso",
        "colab": {
          "base_uri": "https://localhost:8080/"
        },
        "outputId": "b3210253-6f82-415e-eb0a-5af045d55118"
      },
      "execution_count": null,
      "outputs": [
        {
          "output_type": "stream",
          "name": "stdout",
          "text": [
            "0\n",
            "1\n",
            "2\n",
            "3\n",
            "4\n",
            "5\n",
            "outside for loop\n"
          ]
        }
      ]
    },
    {
      "cell_type": "code",
      "source": [
        "for num in range(10):\n",
        "  print(num)\n",
        "  exit()  #stop the further executon\n",
        "  if num == 5:\n",
        "    break\n",
        "exit() #stop the entire script\n",
        "print('outside for loop')"
      ],
      "metadata": {
        "id": "8KBQnxJKcWMn",
        "colab": {
          "base_uri": "https://localhost:8080/"
        },
        "outputId": "1531561b-e4f0-4e42-f71f-d460dce027b8"
      },
      "execution_count": null,
      "outputs": [
        {
          "output_type": "stream",
          "name": "stdout",
          "text": [
            "0\n",
            "1\n",
            "2\n",
            "3\n",
            "4\n",
            "5\n",
            "outside for loop\n"
          ]
        }
      ]
    },
    {
      "cell_type": "code",
      "source": [
        "for letter in 'python':\n",
        "  if letter == 'o':\n",
        "    print('braking loop')\n",
        "    break\n",
        "  print(letter)"
      ],
      "metadata": {
        "id": "cRFsI3OmciXv",
        "colab": {
          "base_uri": "https://localhost:8080/"
        },
        "outputId": "0054d727-d292-4bbf-8f8c-7abcb7ea288a"
      },
      "execution_count": null,
      "outputs": [
        {
          "output_type": "stream",
          "name": "stdout",
          "text": [
            "p\n",
            "y\n",
            "t\n",
            "h\n",
            "braking loop\n"
          ]
        }
      ]
    },
    {
      "cell_type": "code",
      "source": [
        "for n in range(1, 12):\n",
        "  if n % 13 == 0:\n",
        "    print('break loop')\n",
        "    break\n",
        "else:\n",
        "  print(n, 'is no number divisible by 13')"
      ],
      "metadata": {
        "id": "JiF4OwYbdOCv",
        "colab": {
          "base_uri": "https://localhost:8080/"
        },
        "outputId": "052ae715-99bb-4434-c729-4199491c176f"
      },
      "execution_count": null,
      "outputs": [
        {
          "output_type": "stream",
          "name": "stdout",
          "text": [
            "11 is no number divisible by 13\n"
          ]
        }
      ]
    },
    {
      "cell_type": "code",
      "source": [
        "for l in 'abc':\n",
        "  print(l)\n",
        "  for n in range(3):\n",
        "    if n == 2:\n",
        "      break   # break only inner loop\n",
        "    print(n)"
      ],
      "metadata": {
        "id": "f6AYbuVQd2X9",
        "colab": {
          "base_uri": "https://localhost:8080/"
        },
        "outputId": "814a0e7b-f7d8-43c0-982f-49be00e0b105"
      },
      "execution_count": null,
      "outputs": [
        {
          "output_type": "stream",
          "name": "stdout",
          "text": [
            "a\n",
            "0\n",
            "1\n",
            "b\n",
            "0\n",
            "1\n",
            "c\n",
            "0\n",
            "1\n"
          ]
        }
      ]
    },
    {
      "cell_type": "markdown",
      "source": [
        "#while loop"
      ],
      "metadata": {
        "id": "IAEHnrSQoWqo"
      }
    },
    {
      "cell_type": "code",
      "source": [
        "x = 0 \n",
        "while x < 10:\n",
        "  print(f'the current value of x is {x}')\n",
        "  x += 1  # x = x + 1"
      ],
      "metadata": {
        "id": "kq2B2FQseyUC",
        "colab": {
          "base_uri": "https://localhost:8080/"
        },
        "outputId": "de2f8719-a83e-4d1d-eeea-2a782208b961"
      },
      "execution_count": null,
      "outputs": [
        {
          "output_type": "stream",
          "name": "stdout",
          "text": [
            "the current value of x is 0\n",
            "the current value of x is 1\n",
            "the current value of x is 2\n",
            "the current value of x is 3\n",
            "the current value of x is 4\n",
            "the current value of x is 5\n",
            "the current value of x is 6\n",
            "the current value of x is 7\n",
            "the current value of x is 8\n",
            "the current value of x is 9\n"
          ]
        }
      ]
    },
    {
      "cell_type": "code",
      "source": [
        "#while with else clause\n",
        "x = 0\n",
        "while x < 10:\n",
        "  print(x)\n",
        "  x += 1\n",
        "else:\n",
        "  print(f'finishing prinitng number {x}')\n",
        "print('Out-off the loop...bye!')"
      ],
      "metadata": {
        "id": "aY0HZmkpopr0",
        "colab": {
          "base_uri": "https://localhost:8080/"
        },
        "outputId": "ae67d2b5-8759-4435-8368-e8465592b33d"
      },
      "execution_count": null,
      "outputs": [
        {
          "output_type": "stream",
          "name": "stdout",
          "text": [
            "0\n",
            "1\n",
            "2\n",
            "3\n",
            "4\n",
            "5\n",
            "6\n",
            "7\n",
            "8\n",
            "9\n",
            "finishing prinitng number 10\n",
            "Out-off the loop...bye!\n"
          ]
        }
      ]
    },
    {
      "cell_type": "code",
      "source": [
        "#continue with while loop\n",
        "x = 12\n",
        "while x < 100:\n",
        "  x += 1\n",
        "  if x % 13 != 0:  # skip those number whose not divisible by 13\n",
        "    continue\n",
        "  print(x)\n"
      ],
      "metadata": {
        "id": "E0b21ZlypwIC",
        "colab": {
          "base_uri": "https://localhost:8080/"
        },
        "outputId": "311b1551-acd2-45ad-98a3-7172b5be95fd"
      },
      "execution_count": null,
      "outputs": [
        {
          "output_type": "stream",
          "name": "stdout",
          "text": [
            "13\n",
            "26\n",
            "39\n",
            "52\n",
            "65\n",
            "78\n",
            "91\n"
          ]
        }
      ]
    },
    {
      "cell_type": "markdown",
      "source": [
        "##Break statements\n",
        "if the break statements is inside a nested loop, break will terminate only the innermost loop"
      ],
      "metadata": {
        "id": "nTwSkGB9rXPq"
      }
    },
    {
      "cell_type": "code",
      "source": [
        "#break with while loop \n",
        "\n",
        "while True:\n",
        "  guess = int(input('Enter your lucky number [0-10]: '))\n",
        "  if guess == 7:\n",
        "    print('You won!')\n",
        "    break\n",
        "  print(f'{guess} was not lucky number!')"
      ],
      "metadata": {
        "id": "kEz7XM2iq2dB",
        "colab": {
          "base_uri": "https://localhost:8080/"
        },
        "outputId": "bc724b37-77a6-4dd7-9061-211e9a0fd6ca"
      },
      "execution_count": null,
      "outputs": [
        {
          "output_type": "stream",
          "name": "stdout",
          "text": [
            "Enter your lucky number [0-10]: 7\n",
            "You won!\n"
          ]
        }
      ]
    },
    {
      "cell_type": "code",
      "source": [
        "#prime number\n",
        "a = int(input(\"Enter number: \"))\n",
        "while a > 1:  \n",
        "  b = a // 2    # getting qotient and store in the b\n",
        "  while b > 1:\n",
        "    if a % b == 0:   # a mod with b\n",
        "      break   # break the inner loop\n",
        "    b -= 1    #decrement b\n",
        "  else:  \n",
        "    print(f'{a} is prime')\n",
        "  a -= 1    # decreament a"
      ],
      "metadata": {
        "id": "p_GS6emUsMVI",
        "colab": {
          "base_uri": "https://localhost:8080/"
        },
        "outputId": "dda7df97-ba51-43aa-8bba-a8c75d31f536"
      },
      "execution_count": null,
      "outputs": [
        {
          "output_type": "stream",
          "name": "stdout",
          "text": [
            "Enter number: 4\n",
            "3 is prime\n",
            "2 is prime\n"
          ]
        }
      ]
    },
    {
      "cell_type": "code",
      "source": [
        "x = 5\n",
        "s = 0\n",
        "while x:\n",
        "  x -= 1\n",
        "  print(f'the valu of x is {x}')\n",
        "  s += x\n",
        "  print(f'the value s is {s}')\n",
        "print(s)"
      ],
      "metadata": {
        "id": "nQOctv-StJht",
        "colab": {
          "base_uri": "https://localhost:8080/"
        },
        "outputId": "62f6b973-7d8e-4195-e6ff-64b755c8dd16"
      },
      "execution_count": null,
      "outputs": [
        {
          "output_type": "stream",
          "name": "stdout",
          "text": [
            "the valu of x is 4\n",
            "the value s is 4\n",
            "the valu of x is 3\n",
            "the value s is 7\n",
            "the valu of x is 2\n",
            "the value s is 9\n",
            "the valu of x is 1\n",
            "the value s is 10\n",
            "the valu of x is 0\n",
            "the value s is 10\n",
            "10\n"
          ]
        }
      ]
    },
    {
      "cell_type": "code",
      "source": [
        "x = 5\n",
        "while x > 0:\n",
        "  x -= 1\n",
        "  if x == 1:\n",
        "    break\n",
        "else:\n",
        "  print('Bye!')"
      ],
      "metadata": {
        "id": "ziBn93vqwTPa"
      },
      "execution_count": null,
      "outputs": []
    },
    {
      "cell_type": "markdown",
      "source": [
        "##Walrus operator "
      ],
      "metadata": {
        "id": "rEeIjCInxl0I"
      }
    },
    {
      "cell_type": "code",
      "source": [
        "print(x := 2+3)\n",
        "print(y := 10)"
      ],
      "metadata": {
        "id": "Up3qkOc9xMqF",
        "colab": {
          "base_uri": "https://localhost:8080/"
        },
        "outputId": "de5d7de8-70f5-4abf-a0b6-17e45fe120ae"
      },
      "execution_count": null,
      "outputs": [
        {
          "output_type": "stream",
          "name": "stdout",
          "text": [
            "5\n",
            "10\n"
          ]
        }
      ]
    },
    {
      "cell_type": "code",
      "source": [
        "value = input('Enter something: ')\n",
        "while value != '':\n",
        "  print(f'You entred: {value}')\n",
        "  value = input('Enter somethiing: ')\n",
        "print('Thank you!')"
      ],
      "metadata": {
        "id": "r0kTw3AUxxRd",
        "colab": {
          "base_uri": "https://localhost:8080/"
        },
        "outputId": "a2d59c77-f834-48fb-af6f-57a4ba3ce992"
      },
      "execution_count": null,
      "outputs": [
        {
          "output_type": "stream",
          "name": "stdout",
          "text": [
            "Enter something: \n",
            "Thank you!\n"
          ]
        }
      ]
    },
    {
      "cell_type": "code",
      "source": [
        "#another way using walrus operator\n",
        "while (value := input('Enter something: ')) != '':\n",
        "  print(f'You entered: {value}')\n",
        "else:\n",
        "  print('Thank you!')"
      ],
      "metadata": {
        "id": "kQ1pFlcSyaei",
        "colab": {
          "base_uri": "https://localhost:8080/"
        },
        "outputId": "41adeff9-6db9-4072-ee2e-58bcec47a773"
      },
      "execution_count": null,
      "outputs": [
        {
          "output_type": "stream",
          "name": "stdout",
          "text": [
            "Enter something: 34234\n",
            "You entered: 34234\n",
            "Enter something: \n",
            "Thank you!\n"
          ]
        }
      ]
    },
    {
      "cell_type": "code",
      "source": [
        "#consume the resources\n",
        "data = input('Enter your name: ')\n",
        "if len(data) > 0:\n",
        "  print(f'Your name has {len(data)} character.')\n",
        "else:\n",
        "  print('Your name can\\'t be empty.')"
      ],
      "metadata": {
        "id": "IZdxIXvPzETM",
        "colab": {
          "base_uri": "https://localhost:8080/"
        },
        "outputId": "7a78aa44-6a90-4fd6-e0bb-91e64f7da086"
      },
      "execution_count": null,
      "outputs": [
        {
          "output_type": "stream",
          "name": "stdout",
          "text": [
            "Enter your name: 23\n",
            "Your name has 2 character.\n"
          ]
        }
      ]
    },
    {
      "cell_type": "code",
      "source": [
        "# to avoid the extra resource utility using walrus oprator\n",
        "data = input('Enter your name: ')\n",
        "if (n := len(data)) > 0:\n",
        "  print(f'Your name has {n} character.')\n",
        "else:\n",
        "  print('Your name can not be empty.')"
      ],
      "metadata": {
        "id": "_bk7xCgJzrcQ",
        "colab": {
          "base_uri": "https://localhost:8080/"
        },
        "outputId": "8212af95-3f59-4666-8740-b2d830286166"
      },
      "execution_count": null,
      "outputs": [
        {
          "output_type": "stream",
          "name": "stdout",
          "text": [
            "Enter your name: 23\n",
            "Your name has 2 character.\n"
          ]
        }
      ]
    },
    {
      "cell_type": "markdown",
      "source": [
        "#List"
      ],
      "metadata": {
        "id": "9kY9LJU9dL-T"
      }
    },
    {
      "cell_type": "code",
      "source": [
        "#create a list empty list using []\n",
        "lst = []\n",
        "print(lst, type([]))"
      ],
      "metadata": {
        "id": "uWGLBcN90UGR",
        "colab": {
          "base_uri": "https://localhost:8080/"
        },
        "outputId": "5e30a267-abb7-4949-958b-0c0f0aad0b08"
      },
      "execution_count": null,
      "outputs": [
        {
          "output_type": "stream",
          "name": "stdout",
          "text": [
            "[] <class 'list'>\n"
          ]
        }
      ]
    },
    {
      "cell_type": "code",
      "source": [
        "#create a list using built in constructor\n",
        "lst = list()\n",
        "print(lst, type(lst))"
      ],
      "metadata": {
        "colab": {
          "base_uri": "https://localhost:8080/"
        },
        "id": "FDV3tLi1dizJ",
        "outputId": "f47fbc26-ac90-4c2d-c989-5e5437f5c96b"
      },
      "execution_count": null,
      "outputs": [
        {
          "output_type": "stream",
          "name": "stdout",
          "text": [
            "[] <class 'list'>\n"
          ]
        }
      ]
    },
    {
      "cell_type": "code",
      "source": [
        "#create a list of homgenious data\n",
        "lst = [1, 2, 3, 4, 5]\n",
        "print(lst, type(lst))"
      ],
      "metadata": {
        "colab": {
          "base_uri": "https://localhost:8080/"
        },
        "id": "OFWhu1Dndtu0",
        "outputId": "4d6e1e29-4f48-41ef-dd1a-0ab78d9d39c2"
      },
      "execution_count": null,
      "outputs": [
        {
          "output_type": "stream",
          "name": "stdout",
          "text": [
            "[1, 2, 3, 4, 5] <class 'list'>\n"
          ]
        }
      ]
    },
    {
      "cell_type": "code",
      "source": [
        "#create a list that contains different type of data\n",
        "lst = [1, 99.0, 'Python', True, 3+2j]\n",
        "print(lst, type(lst))"
      ],
      "metadata": {
        "colab": {
          "base_uri": "https://localhost:8080/"
        },
        "id": "HW-XfJX2d7xT",
        "outputId": "2093db32-b5fb-4abb-f39c-d609f8a8ef26"
      },
      "execution_count": null,
      "outputs": [
        {
          "output_type": "stream",
          "name": "stdout",
          "text": [
            "[1, 99.0, 'Python', True, (3+2j)] <class 'list'>\n"
          ]
        }
      ]
    },
    {
      "cell_type": "code",
      "source": [
        "#List is mutable object\n",
        "lst1 = list('abcd')\n",
        "lst2 = list('abcd')\n",
        "\n",
        "print(lst1, type(lst1), id(lst1))  \n",
        "print(lst2, type(lst2), id(lst2)) "
      ],
      "metadata": {
        "colab": {
          "base_uri": "https://localhost:8080/"
        },
        "id": "KEM1oWUOeeQZ",
        "outputId": "edd32df5-4f4b-4fd2-e7b2-5a2c10f9d3ff"
      },
      "execution_count": null,
      "outputs": [
        {
          "output_type": "stream",
          "name": "stdout",
          "text": [
            "['a', 'b', 'c', 'd'] <class 'list'> 140118521200128\n",
            "['a', 'b', 'c', 'd'] <class 'list'> 140118521197632\n"
          ]
        }
      ]
    },
    {
      "cell_type": "markdown",
      "source": [
        "#Concatenating List"
      ],
      "metadata": {
        "id": "SVVJMkUEmAy6"
      }
    },
    {
      "cell_type": "code",
      "source": [
        "#adding two list using + operator\n",
        "lst3 = lst1 + lst2\n",
        "print(lst3)"
      ],
      "metadata": {
        "colab": {
          "base_uri": "https://localhost:8080/"
        },
        "id": "H0rkYdBsfDGi",
        "outputId": "51684a34-3346-439c-9607-df208b537779"
      },
      "execution_count": null,
      "outputs": [
        {
          "output_type": "stream",
          "name": "stdout",
          "text": [
            "['a', 'b', 'c', 'd', 'a', 'b', 'c', 'd']\n"
          ]
        }
      ]
    },
    {
      "cell_type": "markdown",
      "source": [
        "#Built-in Method on list\n",
        "'append', 'clear', 'copy', 'count', 'extend', 'index', 'insert', 'pop', 'remove', 'reverse', 'sort'"
      ],
      "metadata": {
        "id": "o0XQJKxVmTWN"
      }
    },
    {
      "cell_type": "markdown",
      "source": [
        "#Adding elements in List\n",
        "- append() --> add the single elementa at the last\n",
        "- extend() --> add all iterable item in the list \n",
        "- insert() --> insert elements at specific index/position"
      ],
      "metadata": {
        "id": "3LPBnDyWC2lO"
      }
    },
    {
      "cell_type": "code",
      "source": [
        "#append() method\n",
        "l1 = [10, 99.9, 'python', True]\n",
        "print(l1)\n",
        "\n",
        "#adding only single elements\n",
        "l1.append(100)\n",
        "print(l1)\n",
        "\n",
        "#adding list whole list as an single elements\n",
        "l1.append([2, 3, 4])\n",
        "print(l1)\n",
        "\n",
        "#adding whole tuple as a single elements\n",
        "l1.append((3+5j, 'Love'))\n",
        "print(l1)\n",
        "\n",
        "#adding whole dict as an single elements\n",
        "l1.append({'name':'sopan', 'age':23})\n",
        "print(l1)"
      ],
      "metadata": {
        "id": "X4xmfxLFgw1W",
        "colab": {
          "base_uri": "https://localhost:8080/"
        },
        "outputId": "64a8af66-014c-45e3-dc0a-aae00b42655c"
      },
      "execution_count": null,
      "outputs": [
        {
          "output_type": "stream",
          "name": "stdout",
          "text": [
            "[10, 99.9, 'python', True]\n",
            "[10, 99.9, 'python', True, 100]\n",
            "[10, 99.9, 'python', True, 100, [2, 3, 4]]\n",
            "[10, 99.9, 'python', True, 100, [2, 3, 4], ((3+5j), 'Love')]\n",
            "[10, 99.9, 'python', True, 100, [2, 3, 4], ((3+5j), 'Love'), {'name': 'sopan', 'age': 23}]\n"
          ]
        }
      ]
    },
    {
      "cell_type": "code",
      "source": [
        "#extend() method only takes iterable object as parameter\n",
        "l2 = list() \n",
        "\n",
        "#string as a parameter\n",
        "l2.extend('abcdefg')\n",
        "print(l2)\n",
        "\n",
        "#list as a parameter\n",
        "l2.extend([1,2.8,'sopan'])\n",
        "print(l2)\n",
        "\n",
        "#tuple as a parameter\n",
        "l2.extend((5, 9.9, 'py'))\n",
        "print(l2)\n",
        "\n",
        "#set as parameter\n",
        "l2.extend({3, 4})\n",
        "print(l2)\n",
        "\n",
        "#dictionary as parameter\n",
        "l2.extend({'name':'sopan', 'age':23})\n",
        "print(l2)"
      ],
      "metadata": {
        "colab": {
          "base_uri": "https://localhost:8080/"
        },
        "id": "Cg4eoCJJCsZp",
        "outputId": "27431d5d-ed75-43fb-ccbd-f4b45c7a0f06"
      },
      "execution_count": null,
      "outputs": [
        {
          "output_type": "stream",
          "name": "stdout",
          "text": [
            "['a', 'b', 'c', 'd', 'e', 'f', 'g']\n",
            "['a', 'b', 'c', 'd', 'e', 'f', 'g', 1, 2.8, 'sopan']\n",
            "['a', 'b', 'c', 'd', 'e', 'f', 'g', 1, 2.8, 'sopan', 5, 9.9, 'py']\n",
            "['a', 'b', 'c', 'd', 'e', 'f', 'g', 1, 2.8, 'sopan', 5, 9.9, 'py', 3, 4]\n",
            "['a', 'b', 'c', 'd', 'e', 'f', 'g', 1, 2.8, 'sopan', 5, 9.9, 'py', 3, 4, 'name', 'age']\n"
          ]
        }
      ]
    },
    {
      "cell_type": "code",
      "source": [
        "#insert elements at specific index\n",
        "year = [2020, 2022, 2023]\n",
        "print(year)\n",
        "\n",
        "#at index 1 insert 2021\n",
        "year.insert(1, 2021)\n",
        "print(year)\n",
        "\n",
        "#at last using len function\n",
        "year.insert(len(year), 2024)\n",
        "print(year)\n",
        "\n",
        "#insert on the second last at the list position using negative indexing\n",
        "year.insert(-1, 2025)\n",
        "print(year)"
      ],
      "metadata": {
        "colab": {
          "base_uri": "https://localhost:8080/"
        },
        "id": "mS149pYKCsW4",
        "outputId": "71ba74f2-6769-48f5-9faf-4eafb4451138"
      },
      "execution_count": null,
      "outputs": [
        {
          "output_type": "stream",
          "name": "stdout",
          "text": [
            "[2020, 2022, 2023]\n",
            "[2020, 2021, 2022, 2023]\n",
            "[2020, 2021, 2022, 2023, 2024]\n",
            "[2020, 2021, 2022, 2023, 2025, 2024]\n"
          ]
        }
      ]
    },
    {
      "cell_type": "markdown",
      "source": [
        "#Removing elements from list\n",
        "- clear() --> remove all elements at once\n",
        "- del --> delete the specific elements\n",
        "- remove() --> it will takes value of list as a parameter\n",
        "- pop() --> remove the given index elements while by default its remove last elements and returned the removed elements"
      ],
      "metadata": {
        "id": "-MrsbUta60nM"
      }
    },
    {
      "cell_type": "code",
      "source": [
        "#clear() method\n",
        "l4 = ['a', 'b', 'c', 'd', 'e', 'f', 'g', 1, 2.8, 'sopan', 5, 9.9, 'py', 3, 4, 'name', 'age']\n",
        "print(l4)"
      ],
      "metadata": {
        "colab": {
          "base_uri": "https://localhost:8080/"
        },
        "id": "uCB36qA5CsFx",
        "outputId": "398f4876-4aad-4a03-e551-98b5750251cc"
      },
      "execution_count": null,
      "outputs": [
        {
          "output_type": "stream",
          "name": "stdout",
          "text": [
            "['a', 'b', 'c', 'd', 'e', 'f', 'g', 1, 2.8, 'sopan', 5, 9.9, 'py', 3, 4, 'name', 'age']\n"
          ]
        }
      ]
    },
    {
      "cell_type": "code",
      "source": [
        "l4.clear()\n",
        "print(l4)"
      ],
      "metadata": {
        "colab": {
          "base_uri": "https://localhost:8080/"
        },
        "id": "dOFDq8kUCsDB",
        "outputId": "f870a22c-c17e-4dd9-ab06-1a1f8272c391"
      },
      "execution_count": null,
      "outputs": [
        {
          "output_type": "stream",
          "name": "stdout",
          "text": [
            "[]\n"
          ]
        }
      ]
    },
    {
      "cell_type": "code",
      "source": [
        "#pop()\n",
        "#by default it will pop the last elements\n",
        "l4 = ['a', 'b', 'c', 'd', 'e', 'f', 'g', 1, 2.8, 'sopan', 5, 9.9, 'py', 3, 4, 'name', 'age']\n",
        "print(l4)\n",
        "\n",
        "#by default\n",
        "l4.pop()\n",
        "print(l4)\n",
        "\n",
        "#pop specific index value\n",
        "l4.pop(3)\n",
        "print(l4)"
      ],
      "metadata": {
        "id": "42ZMfKAtCsAN"
      },
      "execution_count": null,
      "outputs": []
    },
    {
      "cell_type": "code",
      "source": [
        "#remove()\n",
        "l5 = ['a', 'b', 'c', 'd', 'e', 'f', 'g', 1, 2.8, 'sopan', 5, 9.9, 'py', 3, 4, 'name', 'age']\n",
        "l5.remove('a')\n",
        "print(l5)"
      ],
      "metadata": {
        "id": "FJ_Hi27DCr9H"
      },
      "execution_count": null,
      "outputs": []
    },
    {
      "cell_type": "markdown",
      "source": [
        "#List slicing\n",
        "###syntax: \n",
        "###list_name[start : End : step]"
      ],
      "metadata": {
        "id": "39TDD2U2m9dV"
      }
    },
    {
      "cell_type": "code",
      "source": [
        "#access the specific index of list using []\n",
        "lst = [10, 20, 30, 40, 50]\n",
        "print(lst[2])\n",
        "\n",
        "#access some part of list using index\n",
        "num = [1, 2, 3, 4, 5]\n",
        "new_lst = num[1:3]\n",
        "print(new_lst)\n",
        "\n",
        "#reverse a list\n",
        "rev_lst = num[::-1]\n",
        "print(rev_lst)"
      ],
      "metadata": {
        "id": "ruaCX9CZmcWf"
      },
      "execution_count": null,
      "outputs": []
    },
    {
      "cell_type": "markdown",
      "source": [
        "#Membership operator used in List\n",
        "1. in\n",
        "2. not in"
      ],
      "metadata": {
        "id": "xcog8HhLownQ"
      }
    },
    {
      "cell_type": "code",
      "source": [
        "#'in' membership operator\n",
        "lst1 = [10, 20, 30, 40, 50]\n",
        "\n",
        "lst2 = 20 in lst1\n",
        "print(lst2)\n",
        "\n",
        "lst3 = 90 in lst1\n",
        "print(lst3)"
      ],
      "metadata": {
        "id": "mTZVagounPw2"
      },
      "execution_count": null,
      "outputs": []
    },
    {
      "cell_type": "code",
      "source": [
        "# 'not in' membership operator\n",
        "lst1 = [10, 20, 30, 40, 50]\n",
        "\n",
        "lst2 = 20 not in lst1\n",
        "print(lst2)\n",
        "\n",
        "lst3 = 90 not in lst1\n",
        "print(lst3)"
      ],
      "metadata": {
        "id": "DqMHeTcRpOPC"
      },
      "execution_count": null,
      "outputs": []
    },
    {
      "cell_type": "markdown",
      "source": [
        "#List Gotchas"
      ],
      "metadata": {
        "id": "QbbxcHdM9ysf"
      }
    },
    {
      "cell_type": "code",
      "source": [
        "# assignmenta operator not copy the list\n",
        "l1 = [1, 2, 3]\n",
        "l2 = l1\n",
        "l2[0] ='xx'\n",
        "l2.append(10)\n",
        "print(f'l1: {l1}')\n",
        "print(f'l2: {l2}')\n",
        "print(id(l1))\n",
        "print(id(l2))"
      ],
      "metadata": {
        "id": "W4zUYCdry1Pk"
      },
      "execution_count": null,
      "outputs": []
    },
    {
      "cell_type": "code",
      "source": [
        "#create a copy operator\n",
        "l3 = l1.copy()\n",
        "l3.append('abc')\n",
        "print(f'l3: {l3}', id(l3))\n",
        "print(f'l1: {l1}', id(l1))"
      ],
      "metadata": {
        "id": "7uScTJzn-SuY"
      },
      "execution_count": null,
      "outputs": []
    },
    {
      "cell_type": "code",
      "source": [
        "#this is wrong way of for loop implementation\n",
        "nums = [1, 2, 3, 4, 5, 6, 7, 0, 1, 2]\n",
        "for n in nums:\n",
        "  if n < 5:\n",
        "    nums.remove(n)\n",
        "\n",
        "print(nums)"
      ],
      "metadata": {
        "id": "Cu1IJwA5-iaI"
      },
      "execution_count": null,
      "outputs": []
    },
    {
      "cell_type": "code",
      "source": [
        "#right way of for loop implementation\n",
        "nums = [1, 2, 3, 4, 5, 6, 7, 0, 1, 2]\n",
        "new_lst = list() #create a new list instead of use of current list then implement for loop\n",
        "for n in nums:\n",
        "  if n >= 5:\n",
        "    new_lst.append(n)\n",
        "\n",
        "print(nums)\n",
        "print(new_lst)"
      ],
      "metadata": {
        "id": "9yu3EICT_RS4"
      },
      "execution_count": null,
      "outputs": []
    },
    {
      "cell_type": "code",
      "source": [
        "my_lst = [n for n in nums if n >= 5]"
      ],
      "metadata": {
        "id": "eZqorhs7_2Pm"
      },
      "execution_count": null,
      "outputs": []
    },
    {
      "cell_type": "markdown",
      "source": [
        "#List Method"
      ],
      "metadata": {
        "id": "zbAvswvPJPul"
      }
    },
    {
      "cell_type": "markdown",
      "source": [
        "###index() method"
      ],
      "metadata": {
        "id": "Qr5x5ft0Kogs"
      }
    },
    {
      "cell_type": "code",
      "source": [
        "names = ['sopan', 'yogesh', 'vishnu', 'Laxman', 'sopan']\n",
        "print(names, type(names))\n",
        "\n",
        "#index() methods\n",
        "i = names.index('vishnu')\n",
        "print(f'Vishnu at index {i}')\n",
        "\n",
        "#duplicate then only return first occurence\n",
        "i1 = names.index('sopan')\n",
        "print(f'Sopan at index {i1}')"
      ],
      "metadata": {
        "id": "4hMmWtLxArJr"
      },
      "execution_count": null,
      "outputs": []
    },
    {
      "cell_type": "markdown",
      "source": [
        "###count() method"
      ],
      "metadata": {
        "id": "lWifGLCqKsPJ"
      }
    },
    {
      "cell_type": "code",
      "source": [
        "letter = list('ajsdhflyegaskdjhfalasdkjfhakasdjawh')\n",
        "print(letter)\n",
        "\n",
        "#count the specific letter\n",
        "c = letter.count('a')\n",
        "print(f'Letter a occures {c} times.')\n",
        "\n",
        "#if elements not in list\n",
        "c = letter.count('p')\n",
        "print(f'Letter a occures {c} times.')"
      ],
      "metadata": {
        "id": "LuN6Bmt1J59z"
      },
      "execution_count": null,
      "outputs": []
    },
    {
      "cell_type": "markdown",
      "source": [
        "###reverse() method"
      ],
      "metadata": {
        "id": "PTOY5WljLkK_"
      }
    },
    {
      "cell_type": "code",
      "source": [
        "l1 = [1, 3, 'abc', 10, 'x']\n",
        "print(l1)\n",
        "\n",
        "#revers a string\n",
        "rev = l1.reverse()\n",
        "print(f'Reverse list is {rev}')"
      ],
      "metadata": {
        "id": "mOncNo_WLG_z"
      },
      "execution_count": null,
      "outputs": []
    },
    {
      "cell_type": "markdown",
      "source": [
        "##sort List\n",
        "1. sort() method\n",
        "2. sorted(list) method"
      ],
      "metadata": {
        "id": "7fbBD2eFL98t"
      }
    },
    {
      "cell_type": "code",
      "source": [
        "#new list\n",
        "lst = [10, 8, 23, 35, 9]\n",
        "print(lst)\n",
        "\n",
        "#sort() method\n",
        "age = lst.sort()\n",
        "print(lst, f'sorted list is {age}')\n"
      ],
      "metadata": {
        "id": "N6_QWaAYL6XB"
      },
      "execution_count": null,
      "outputs": []
    },
    {
      "cell_type": "code",
      "source": [
        "#new list\n",
        "lst1 = [10, 8, 23, 35, 9]\n",
        "print(lst1)\n",
        "\n",
        "#sorted() method\n",
        "num = sorted(lst1)\n",
        "print(num)"
      ],
      "metadata": {
        "id": "L8ZU8f77MysZ"
      },
      "execution_count": null,
      "outputs": []
    },
    {
      "cell_type": "code",
      "source": [
        "#sorting in ascending order\n",
        "lst2 = [10, 8, 23, 35, 9]\n",
        "print(lst2)\n",
        "age = lst2.sort(reverse=True)\n",
        "print(age, lst2)"
      ],
      "metadata": {
        "id": "kQtOWeeQNK0P"
      },
      "execution_count": null,
      "outputs": []
    },
    {
      "cell_type": "code",
      "source": [
        "#max(), min() methods\n",
        "new_lst = [10, 18, 23, 24, 70, 5]\n",
        "\n",
        "#max()\n",
        "print(f'max in the list is {max(new_lst)}')\n",
        "\n",
        "#min()\n",
        "print(f'min in the list is {min(new_lst)}')"
      ],
      "metadata": {
        "id": "vuopQJnFNvYe"
      },
      "execution_count": null,
      "outputs": []
    },
    {
      "cell_type": "code",
      "source": [
        "#sum() built in function\n",
        "sum1 = sum(new_lst)\n",
        "print(sum1)"
      ],
      "metadata": {
        "id": "X_usmmaWOyFM"
      },
      "execution_count": null,
      "outputs": []
    },
    {
      "cell_type": "markdown",
      "source": [
        "##string to list\n",
        "using split() method"
      ],
      "metadata": {
        "id": "8a49RX8bPKPJ"
      }
    },
    {
      "cell_type": "code",
      "source": [
        "#create new string\n",
        "s1 = 'i am learning python programming'\n",
        "print(s1)\n",
        "\n",
        "#convert string into list\n",
        "l1 = s1.split()   #by default it takes space for spliting\n",
        "print(l1)\n",
        "\n",
        "#you can pass arguments to split\n",
        "s2 = 'python:good:programming:language'\n",
        "print(s2)\n",
        "lst = s2.split(':')\n",
        "print(lst)\n"
      ],
      "metadata": {
        "id": "CRFYlja9O_3V"
      },
      "execution_count": null,
      "outputs": []
    },
    {
      "cell_type": "markdown",
      "source": [
        "##list to string\n",
        "using join() method"
      ],
      "metadata": {
        "id": "wrckzkjNQWlh"
      }
    },
    {
      "cell_type": "code",
      "source": [
        "#create new list\n",
        "ips = ['192.168.01', '192.168.0.2', '192.168.0.3']\n",
        "print(ips)\n",
        "\n",
        "#list to string\n",
        "s = ' '.join(ips)\n",
        "print(f'string from the list is {s}')\n",
        "\n",
        "#list to string\n",
        "s = '*'.join(ips)\n",
        "print(f'string from the list is {s}')"
      ],
      "metadata": {
        "id": "6xNsHk6bPqkG"
      },
      "execution_count": null,
      "outputs": []
    },
    {
      "cell_type": "markdown",
      "source": [
        "#PROJECT:\n",
        "##Extract IPv4, IPv6 and MAC Address"
      ],
      "metadata": {
        "id": "d03uwmEtRdo4"
      }
    },
    {
      "cell_type": "code",
      "source": [
        "interface = '''\n",
        "\n",
        "'''\n",
        "\n",
        "interface_list = interface.splitlines()\n",
        "print(f'interface list is {interface_list}')\n",
        "#ip_mac = list()\n",
        "for line in interface_list[1:]:\n",
        "  #print(line)\n",
        "  tmp_list = line.split()\n",
        "  #print(tmp_list)\n",
        "  ip_mac.append(tmp_list)\n",
        "\n",
        "print(ip_mac)\n",
        "\n",
        "#convert into string\n",
        "ip_mac_str = ','.join(ip_mac)\n",
        "print(ip_mac_str)"
      ],
      "metadata": {
        "id": "P6duD6IGRFKK"
      },
      "execution_count": null,
      "outputs": []
    },
    {
      "cell_type": "markdown",
      "source": [
        "#List comprehension\n",
        "List comprehension offers us a shorter and more concise syntax to create a new list based on the value of an existing iterable."
      ],
      "metadata": {
        "id": "hEPdy-WzVSWZ"
      }
    },
    {
      "cell_type": "code",
      "source": [
        "lst = [10, 5, 15, 20]\n",
        "double_list = list()\n",
        "for c in lst:\n",
        "  double_list.append(c*2)\n",
        "print(double_list)\n"
      ],
      "metadata": {
        "id": "m2xwWacUUP49"
      },
      "execution_count": null,
      "outputs": []
    },
    {
      "cell_type": "code",
      "source": [
        "#[expression for variable in iterable if condition]\n",
        "print(lst)\n",
        "double_number = [c*2 for c in lst]\n",
        "print(double_number)"
      ],
      "metadata": {
        "id": "8PQuyopWWGUS"
      },
      "execution_count": null,
      "outputs": []
    },
    {
      "cell_type": "code",
      "source": [
        "name = 'sopan'\n",
        "l1 = [char for char in name]\n",
        "print(l1)"
      ],
      "metadata": {
        "id": "pgGzddIyWZtI"
      },
      "execution_count": null,
      "outputs": []
    },
    {
      "cell_type": "code",
      "source": [
        "#name = 'Sopan'\n",
        "l2 = [char * 3 for char in name]\n",
        "print(l2, end='')"
      ],
      "metadata": {
        "id": "1U2AccRjWm0X"
      },
      "execution_count": null,
      "outputs": []
    },
    {
      "cell_type": "code",
      "source": [
        "#when you apply built in method on expression then it should be in parenthesis otherwise it will give an error\n",
        "l3 = [(char*3).upper() for char in name]\n",
        "print(l3)"
      ],
      "metadata": {
        "id": "lvXnf-DDWxtw"
      },
      "execution_count": null,
      "outputs": []
    },
    {
      "cell_type": "code",
      "source": [
        "friend = ['sopan', 'gajanan', 'yogesh', 'krushna']\n",
        "my_friend = [item.capitalize() for item in friend]\n",
        "print(my_friend)"
      ],
      "metadata": {
        "id": "rswLGhctXcIg"
      },
      "execution_count": null,
      "outputs": []
    },
    {
      "cell_type": "code",
      "source": [
        "reversed_name = [item[::-1] for item in friend]\n",
        "print(reversed_name)"
      ],
      "metadata": {
        "id": "R_HpBrKJYiQQ"
      },
      "execution_count": null,
      "outputs": []
    },
    {
      "cell_type": "markdown",
      "source": [
        "##[expression for variable in iterable if condition]"
      ],
      "metadata": {
        "id": "vQMHKhq1Y86S"
      }
    },
    {
      "cell_type": "code",
      "source": [
        "#create anew list of num divisible by 7\n",
        "num = list(range(1, 71))\n",
        "div_by_seven = [n for n in num if n%7 == 0]\n",
        "print(div_by_seven)"
      ],
      "metadata": {
        "id": "8xH2iAPXYvtd"
      },
      "execution_count": null,
      "outputs": []
    },
    {
      "cell_type": "code",
      "source": [
        "num = list(range(1, 71))\n",
        "num_to_str = [str(n) for n in num if n%7 == 0]\n",
        "print(num_to_str, type(num_to_str))\n"
      ],
      "metadata": {
        "id": "MxMb2Yd9ZWst"
      },
      "execution_count": null,
      "outputs": []
    },
    {
      "cell_type": "code",
      "source": [
        "#create a new list that contains elements present in the both list\n",
        "friends = ['sopan', 'yogesh', 'gajanan']\n",
        "neighbores = ['ram', 'rushikeh', 'gajanan']\n",
        "common = [name for name in friends if name in neighbores]\n",
        "print(common)"
      ],
      "metadata": {
        "id": "hZZ0zzwaZsk7"
      },
      "execution_count": null,
      "outputs": []
    },
    {
      "cell_type": "code",
      "source": [
        "l1 = [c.lower().upper() for c in 'aBc']\n",
        "print(l1\n",
        "      )"
      ],
      "metadata": {
        "id": "s6ddjS-pbUEY"
      },
      "execution_count": null,
      "outputs": []
    },
    {
      "cell_type": "markdown",
      "source": [
        "#PROJECT:\n",
        "##Countries with the longest/shortest names"
      ],
      "metadata": {
        "id": "2pT5xXbbdJic"
      }
    },
    {
      "cell_type": "code",
      "source": [
        "countries = [fill the country names]\n",
        "\n",
        "\n",
        "#sort alphabetically\n",
        "sorted_countries = countries.sort()\n",
        "\n",
        "#length of all countries\n",
        "lengths = [len(c) for c in countries]\n",
        "\n",
        "#find the max lenght of country\n",
        "max_name = max(lengths)\n",
        "\n",
        "#find the min lengths of countries\n",
        "min_length = min(lengths)\n",
        "\n",
        "#let find the longest name countri\n",
        "longest_name = [c for c in countries if len(c) == max_lengths]\n",
        "print(longest_name)\n",
        "\n",
        "#lets find the smallest name country\n",
        "shortest_name = [c for c in countries if len(c) == min_lengths]\n",
        "print(shortest_name)"
      ],
      "metadata": {
        "id": "fZ0GlEwkc1cG"
      },
      "execution_count": null,
      "outputs": []
    },
    {
      "cell_type": "markdown",
      "source": [
        "#Tuple\n",
        "tuple immutable"
      ],
      "metadata": {
        "id": "y-he0Nhif0EY"
      }
    },
    {
      "cell_type": "code",
      "source": [
        "#create empty tuple\n",
        "t = ()\n",
        "print(t, type(t))\n",
        "\n",
        "#create tuple using constructor\n",
        "t1 = tuple()\n",
        "print(t1, type(t1))\n",
        "\n",
        "#create tuple with single elements\n",
        "t2 = (10,)\n",
        "print(t2, type(t2))\n",
        "#without comma its treated as int let see\n",
        "t3 = (10)\n",
        "print(t3, type(t3))\n",
        "\n",
        "#creat a tuple with multiple value\n",
        "t4 = (10, 99.9, 'python', True)\n",
        "print(t4)\n",
        "\n",
        "#create a tuple withou parenthesis\n",
        "t5 = 100, 99.9, True, 'Sopan'\n",
        "print(t5, type(t5))"
      ],
      "metadata": {
        "id": "hih6YsE6f1dK"
      },
      "execution_count": null,
      "outputs": []
    },
    {
      "cell_type": "markdown",
      "source": [
        "##Tuple operation"
      ],
      "metadata": {
        "id": "IhcPGAtxMpaB"
      }
    },
    {
      "cell_type": "code",
      "source": [
        "#new tule\n",
        "tup = 1.4, 10, 'abc', True, (30, 40), 'x'\n",
        "print(tup)\n",
        "tup1 = 9, 12, 15\n",
        "print(tup1)"
      ],
      "metadata": {
        "id": "A4YaCw1fLBIY"
      },
      "execution_count": null,
      "outputs": []
    },
    {
      "cell_type": "code",
      "source": [
        "#concatenation\n",
        "concat_tup = tup + tup1\n",
        "print(concat_tup)"
      ],
      "metadata": {
        "id": "YGRvUPOtM8vE"
      },
      "execution_count": null,
      "outputs": []
    },
    {
      "cell_type": "code",
      "source": [
        "#replication tuple\n",
        "repli_tup = 3 * tup1\n",
        "print(repli_tup)"
      ],
      "metadata": {
        "id": "S-fuQLatNOMr"
      },
      "execution_count": null,
      "outputs": []
    },
    {
      "cell_type": "code",
      "source": [
        "#Slicing tuple\n",
        "t1 = tup[2 : 3]\n",
        "t2 = tup[2:5]\n",
        "print(t1)\n",
        "print(t2)"
      ],
      "metadata": {
        "id": "TQBXNGZNNjgq"
      },
      "execution_count": null,
      "outputs": []
    },
    {
      "cell_type": "code",
      "source": [
        "#accessing last elements in tuple\n",
        "tup[-1]"
      ],
      "metadata": {
        "id": "vlGE4NFAN4iB"
      },
      "execution_count": null,
      "outputs": []
    },
    {
      "cell_type": "code",
      "source": [
        "#accessing first elements in tuple\n",
        "tup[0]"
      ],
      "metadata": {
        "id": "4ydxbvXiOMOx"
      },
      "execution_count": null,
      "outputs": []
    },
    {
      "cell_type": "markdown",
      "source": [
        "#Membership operator"
      ],
      "metadata": {
        "id": "diWzw5zcPIMT"
      }
    },
    {
      "cell_type": "code",
      "source": [],
      "metadata": {
        "id": "3hZ1SqsQPM--"
      },
      "execution_count": null,
      "outputs": []
    },
    {
      "cell_type": "code",
      "source": [],
      "metadata": {
        "id": "jsMIfnLzPM7z"
      },
      "execution_count": null,
      "outputs": []
    },
    {
      "cell_type": "markdown",
      "source": [
        "#Identity operator"
      ],
      "metadata": {
        "id": "BluwGNt2PNna"
      }
    },
    {
      "cell_type": "code",
      "source": [],
      "metadata": {
        "id": "jsTKWpivPWAx"
      },
      "execution_count": null,
      "outputs": []
    },
    {
      "cell_type": "code",
      "source": [],
      "metadata": {
        "id": "yRxDs9OsPV9j"
      },
      "execution_count": null,
      "outputs": []
    },
    {
      "cell_type": "markdown",
      "source": [
        "#tuple Methods\n",
        "- index()\n",
        "- count()\n"
      ],
      "metadata": {
        "id": "KtjP8a7xO5gE"
      }
    },
    {
      "cell_type": "code",
      "source": [
        "#index method return only the first occurence\n",
        "t1 = (1, 2, 3, 1, 2, 6)\n",
        "print(t1)\n",
        "\n",
        "i = t1.index(2)\n",
        "print(f'2 is at positon {i}')"
      ],
      "metadata": {
        "id": "DgJs5AqCORgh"
      },
      "execution_count": null,
      "outputs": []
    },
    {
      "cell_type": "code",
      "source": [
        "#finding the elements of specific element in the list\n",
        "t6 = (1, 1, 2, 2, 3, 4, 5)\n",
        "x = int(input('Enter any number: '))\n",
        "if x in t1:\n",
        "  i = t6.index(x)\n",
        "  print(f'{x} ia at index {i}')\n",
        "else:\n",
        "  print(f'{x} not in tuple')\n",
        "  "
      ],
      "metadata": {
        "id": "ijZgRqkGPF6g"
      },
      "execution_count": null,
      "outputs": []
    },
    {
      "cell_type": "code",
      "source": [
        "#count() method \n",
        "#count the occurence in the tuple\n",
        "n = t1.count(1)\n",
        "print(n)\n",
        "\n",
        "#len(), min(), max(), sum(), sorted()\n"
      ],
      "metadata": {
        "id": "k1xMQGsbQMbQ"
      },
      "execution_count": null,
      "outputs": []
    },
    {
      "cell_type": "markdown",
      "source": [
        "#Tuple Vs List"
      ],
      "metadata": {
        "id": "iBhE7e-0VE1h"
      }
    },
    {
      "cell_type": "code",
      "source": [
        "# tuple are faster than and more efficient than the list\n",
        "# tuple are safer than lists --> data integrity\n",
        "# tuple can be used as keys in dictionaries.\n",
        "# storage efficient\n",
        "\n",
        "lst = [1, 2, 3, 4, 5, 6]\n",
        "tup = (1, 2, 3, 4, 5, 6)\n",
        "\n",
        "import sys\n",
        "print(f'List memory size: {sys.getsizeof(lst)}')\n",
        "print(f'Tuple memory size: {sys.getsizeof(tup)}')"
      ],
      "metadata": {
        "id": "gue1yaNJUlTN"
      },
      "execution_count": null,
      "outputs": []
    },
    {
      "cell_type": "code",
      "source": [
        "print(tuple('Python'))"
      ],
      "metadata": {
        "id": "J9YpzZcpWbzM"
      },
      "execution_count": null,
      "outputs": []
    },
    {
      "cell_type": "markdown",
      "source": [
        "#Set"
      ],
      "metadata": {
        "id": "Tzr3aoR_VImh"
      }
    },
    {
      "cell_type": "code",
      "source": [
        "#creat an empty set\n",
        "set1 = set()\n",
        "print(set1)\n",
        "\n",
        "#set is unordered\n",
        "set2 = {10, 18, 8, 99, 23}\n",
        "\n",
        "#set is unique value\n",
        "set3 = {10, 10, 10, 15, 15, 20, 20}\n",
        "print(set3)\n",
        "\n",
        "#add elemetns in set \n",
        "set4 = set2.add(()) #error\n",
        "print(set4)"
      ],
      "metadata": {
        "id": "Ue5THZuEXQVg"
      },
      "execution_count": null,
      "outputs": []
    },
    {
      "cell_type": "markdown",
      "source": [
        "#Set Method\n",
        "add(), clear(), copy(), difference(), difference_update(), discard(), intersection(), intersection_update(), isdisjoint(), issubset(), issuperset(), pop(), remove(), symmetric_difference(), symmetric_difference_update()\n",
        "union(), update()"
      ],
      "metadata": {
        "id": "fbN8keW_Htzq"
      }
    },
    {
      "cell_type": "markdown",
      "source": [
        "##Create set"
      ],
      "metadata": {
        "id": "d8MNvjTdI55w"
      }
    },
    {
      "cell_type": "code",
      "source": [],
      "metadata": {
        "id": "vl-_5MzeVrmW"
      },
      "execution_count": null,
      "outputs": []
    },
    {
      "cell_type": "markdown",
      "source": [
        "##add() method"
      ],
      "metadata": {
        "id": "7YnTwiF8I-rw"
      }
    },
    {
      "cell_type": "code",
      "source": [],
      "metadata": {
        "id": "TalcNuf2JCod"
      },
      "execution_count": null,
      "outputs": []
    },
    {
      "cell_type": "markdown",
      "source": [
        "##update() method"
      ],
      "metadata": {
        "id": "JR2GOlYFKJFO"
      }
    },
    {
      "cell_type": "code",
      "source": [],
      "metadata": {
        "id": "hooL5_BhKLkH"
      },
      "execution_count": null,
      "outputs": []
    },
    {
      "cell_type": "markdown",
      "source": [
        "##clear() method"
      ],
      "metadata": {
        "id": "m3DJNBagJFEZ"
      }
    },
    {
      "cell_type": "code",
      "source": [],
      "metadata": {
        "id": "SEGYr-sPJLJ8"
      },
      "execution_count": null,
      "outputs": []
    },
    {
      "cell_type": "markdown",
      "source": [
        "##copy() method"
      ],
      "metadata": {
        "id": "2AxGV8a0JMHW"
      }
    },
    {
      "cell_type": "code",
      "source": [],
      "metadata": {
        "id": "hdej4jNvJOLk"
      },
      "execution_count": null,
      "outputs": []
    },
    {
      "cell_type": "markdown",
      "source": [
        "##pop() method"
      ],
      "metadata": {
        "id": "ptgAGTcQJ72M"
      }
    },
    {
      "cell_type": "code",
      "source": [],
      "metadata": {
        "id": "flEOMjnvKEU9"
      },
      "execution_count": null,
      "outputs": []
    },
    {
      "cell_type": "markdown",
      "source": [
        "##remove() method"
      ],
      "metadata": {
        "id": "GiGNTqxGJ_B_"
      }
    },
    {
      "cell_type": "code",
      "source": [],
      "metadata": {
        "id": "qo78_YEgJ-gU"
      },
      "execution_count": null,
      "outputs": []
    },
    {
      "cell_type": "markdown",
      "source": [
        "##union() method"
      ],
      "metadata": {
        "id": "Qjy-8jK8KPa1"
      }
    },
    {
      "cell_type": "code",
      "source": [],
      "metadata": {
        "id": "eYzfwmfeKRw1"
      },
      "execution_count": null,
      "outputs": []
    },
    {
      "cell_type": "markdown",
      "source": [
        "##difference() method"
      ],
      "metadata": {
        "id": "zib7l99IJPDz"
      }
    },
    {
      "cell_type": "code",
      "source": [],
      "metadata": {
        "id": "aSsv4MvlJTOt"
      },
      "execution_count": null,
      "outputs": []
    },
    {
      "cell_type": "markdown",
      "source": [
        "##difference_update() method"
      ],
      "metadata": {
        "id": "hEA3HqW3JUR2"
      }
    },
    {
      "cell_type": "code",
      "source": [],
      "metadata": {
        "id": "sLEaLdx1JZTV"
      },
      "execution_count": null,
      "outputs": []
    },
    {
      "cell_type": "markdown",
      "source": [
        "##discard() method"
      ],
      "metadata": {
        "id": "SetMrYprJZ3-"
      }
    },
    {
      "cell_type": "code",
      "source": [],
      "metadata": {
        "id": "_I6HhoUWJgfk"
      },
      "execution_count": null,
      "outputs": []
    },
    {
      "cell_type": "markdown",
      "source": [
        "##intersection() method"
      ],
      "metadata": {
        "id": "aDZFkp3LJiqO"
      }
    },
    {
      "cell_type": "code",
      "source": [],
      "metadata": {
        "id": "p5HijmYtJmLM"
      },
      "execution_count": null,
      "outputs": []
    },
    {
      "cell_type": "markdown",
      "source": [
        "##intersection_update() method"
      ],
      "metadata": {
        "id": "cChaAQTpJmu9"
      }
    },
    {
      "cell_type": "code",
      "source": [],
      "metadata": {
        "id": "2t3evI3jJpOD"
      },
      "execution_count": null,
      "outputs": []
    },
    {
      "cell_type": "markdown",
      "source": [
        "##isdisjoint() method"
      ],
      "metadata": {
        "id": "SO8DiU8gJp5F"
      }
    },
    {
      "cell_type": "code",
      "source": [],
      "metadata": {
        "id": "_nfHYJukJxuL"
      },
      "execution_count": null,
      "outputs": []
    },
    {
      "cell_type": "markdown",
      "source": [
        "##issubset() method"
      ],
      "metadata": {
        "id": "TAb643RsJye1"
      }
    },
    {
      "cell_type": "code",
      "source": [],
      "metadata": {
        "id": "7MwLPEH3J1ET"
      },
      "execution_count": null,
      "outputs": []
    },
    {
      "cell_type": "markdown",
      "source": [
        "##issuperset() method"
      ],
      "metadata": {
        "id": "688vSp1FJ1gI"
      }
    },
    {
      "cell_type": "code",
      "source": [],
      "metadata": {
        "id": "cp_H8ssmJ44U"
      },
      "execution_count": null,
      "outputs": []
    },
    {
      "cell_type": "markdown",
      "source": [
        "##symmetric_difference() method"
      ],
      "metadata": {
        "id": "d61kww3QKUak"
      }
    },
    {
      "cell_type": "code",
      "source": [],
      "metadata": {
        "id": "80klUgp1KYQc"
      },
      "execution_count": null,
      "outputs": []
    },
    {
      "cell_type": "markdown",
      "source": [
        "##symmetric_difference_update() method"
      ],
      "metadata": {
        "id": "9fpCk8NsKYyH"
      }
    },
    {
      "cell_type": "code",
      "source": [],
      "metadata": {
        "id": "4I6R9oRBKbRT"
      },
      "execution_count": null,
      "outputs": []
    },
    {
      "cell_type": "markdown",
      "source": [
        "##Frozenset"
      ],
      "metadata": {
        "id": "Ix8UxDOwKcYH"
      }
    },
    {
      "cell_type": "code",
      "source": [],
      "metadata": {
        "id": "OMoFuaifKjwP"
      },
      "execution_count": null,
      "outputs": []
    },
    {
      "cell_type": "markdown",
      "source": [
        "#Dictionaries"
      ],
      "metadata": {
        "id": "I-DruVMRKnsU"
      }
    },
    {
      "cell_type": "markdown",
      "source": [
        "##create dictionary"
      ],
      "metadata": {
        "id": "GOfNWF-vK3JE"
      }
    },
    {
      "cell_type": "code",
      "source": [],
      "metadata": {
        "id": "2ji0_7xvKqlq"
      },
      "execution_count": null,
      "outputs": []
    },
    {
      "cell_type": "markdown",
      "source": [
        "##iterate over dictionary"
      ],
      "metadata": {
        "id": "gR04zugGK7gs"
      }
    },
    {
      "cell_type": "code",
      "source": [],
      "metadata": {
        "id": "PXRQt7cCLAxa"
      },
      "execution_count": null,
      "outputs": []
    },
    {
      "cell_type": "markdown",
      "source": [
        "##dictionary comprehension"
      ],
      "metadata": {
        "id": "MshH9V9hLHjz"
      }
    },
    {
      "cell_type": "code",
      "source": [],
      "metadata": {
        "id": "cny-Xo64LNOy"
      },
      "execution_count": null,
      "outputs": []
    },
    {
      "cell_type": "markdown",
      "source": [
        "##dictionary method\n",
        "clear(), copy(), fromkeys(), get(), pop(), popitems(), items(), keys(), values(), setdefault(), update()."
      ],
      "metadata": {
        "id": "20DTr5MdLN7r"
      }
    },
    {
      "cell_type": "code",
      "source": [],
      "metadata": {
        "id": "JWVFf5GVL1VP"
      },
      "execution_count": null,
      "outputs": []
    },
    {
      "cell_type": "markdown",
      "source": [
        "##copy() method"
      ],
      "metadata": {
        "id": "_l44OewEL4lb"
      }
    },
    {
      "cell_type": "code",
      "source": [],
      "metadata": {
        "id": "ubImRV-0MCDg"
      },
      "execution_count": null,
      "outputs": []
    },
    {
      "cell_type": "markdown",
      "source": [
        "##get() method"
      ],
      "metadata": {
        "id": "R3TALik1L-3p"
      }
    },
    {
      "cell_type": "code",
      "source": [],
      "metadata": {
        "id": "cJ86tBizL9m5"
      },
      "execution_count": null,
      "outputs": []
    },
    {
      "cell_type": "markdown",
      "source": [
        "##keys() method"
      ],
      "metadata": {
        "id": "HLpoCzoaMC7_"
      }
    },
    {
      "cell_type": "code",
      "source": [],
      "metadata": {
        "id": "lvS9weNUMHzw"
      },
      "execution_count": null,
      "outputs": []
    },
    {
      "cell_type": "markdown",
      "source": [
        "##values() method"
      ],
      "metadata": {
        "id": "iyEiOgNIMIn0"
      }
    },
    {
      "cell_type": "code",
      "source": [],
      "metadata": {
        "id": "4HW3NGSNMKi4"
      },
      "execution_count": null,
      "outputs": []
    },
    {
      "cell_type": "markdown",
      "source": [
        "##items() method"
      ],
      "metadata": {
        "id": "64iciK7TMLRR"
      }
    },
    {
      "cell_type": "code",
      "source": [],
      "metadata": {
        "id": "JyDLvK2FMNqQ"
      },
      "execution_count": null,
      "outputs": []
    },
    {
      "cell_type": "markdown",
      "source": [
        "##update() method"
      ],
      "metadata": {
        "id": "ZJbCtm_cMTfJ"
      }
    },
    {
      "cell_type": "code",
      "source": [],
      "metadata": {
        "id": "7M64GLXGMVnx"
      },
      "execution_count": null,
      "outputs": []
    },
    {
      "cell_type": "markdown",
      "source": [
        "##setdefault() method"
      ],
      "metadata": {
        "id": "vcb4tExoMWGi"
      }
    },
    {
      "cell_type": "code",
      "source": [],
      "metadata": {
        "id": "oyreXA6HMY7I"
      },
      "execution_count": null,
      "outputs": []
    },
    {
      "cell_type": "markdown",
      "source": [
        "##fromkeys() method"
      ],
      "metadata": {
        "id": "0dTQm2WUMZYh"
      }
    },
    {
      "cell_type": "code",
      "source": [],
      "metadata": {
        "id": "t2WnN_t-MbXo"
      },
      "execution_count": null,
      "outputs": []
    },
    {
      "cell_type": "markdown",
      "source": [
        "##pop() method"
      ],
      "metadata": {
        "id": "ajyPMPyWMfzS"
      }
    },
    {
      "cell_type": "code",
      "source": [],
      "metadata": {
        "id": "pIxSub8RMiLA"
      },
      "execution_count": null,
      "outputs": []
    },
    {
      "cell_type": "markdown",
      "source": [
        "##popitems() method"
      ],
      "metadata": {
        "id": "f3DJqGeeMipb"
      }
    },
    {
      "cell_type": "code",
      "source": [],
      "metadata": {
        "id": "YpwxRT3DMkeI"
      },
      "execution_count": null,
      "outputs": []
    },
    {
      "cell_type": "markdown",
      "source": [
        "##clear() method"
      ],
      "metadata": {
        "id": "WZPuFTVUMlPS"
      }
    },
    {
      "cell_type": "code",
      "source": [],
      "metadata": {
        "id": "QF53mMGgMnR4"
      },
      "execution_count": null,
      "outputs": []
    },
    {
      "cell_type": "markdown",
      "source": [
        "#Functions"
      ],
      "metadata": {
        "id": "-9dkMhiaMoIi"
      }
    },
    {
      "cell_type": "code",
      "source": [],
      "metadata": {
        "id": "LBuVnzgRMr0X"
      },
      "execution_count": null,
      "outputs": []
    },
    {
      "cell_type": "markdown",
      "source": [
        "##docstring in function\n",
        "used to describing code"
      ],
      "metadata": {
        "id": "e6TFulnSM1oQ"
      }
    },
    {
      "cell_type": "code",
      "source": [
        "print(len('python is coooool!'))"
      ],
      "metadata": {
        "id": "H3cw3AlTM3tf"
      },
      "execution_count": null,
      "outputs": []
    },
    {
      "cell_type": "code",
      "source": [
        "def sayhello(name):\n",
        "  '''This function says hello'''\n",
        "  print(f'hello {name}!')"
      ],
      "metadata": {
        "id": "BjdlTu2jNIk4"
      },
      "execution_count": null,
      "outputs": []
    },
    {
      "cell_type": "code",
      "source": [
        "sayhello('sopan')"
      ],
      "metadata": {
        "id": "CiN97FILNXZK"
      },
      "execution_count": null,
      "outputs": []
    },
    {
      "cell_type": "code",
      "source": [
        "#getting by using help method\n",
        "help(sayhello)"
      ],
      "metadata": {
        "id": "9caJRtNrNaV-"
      },
      "execution_count": null,
      "outputs": []
    },
    {
      "cell_type": "code",
      "source": [
        "#by using built in function\n",
        "print(sayhello.__doc__)"
      ],
      "metadata": {
        "id": "_PH_4joENqF5"
      },
      "execution_count": null,
      "outputs": []
    },
    {
      "cell_type": "markdown",
      "source": [
        "###python documentation generator"
      ],
      "metadata": {
        "id": "z91g20MAOYcg"
      }
    },
    {
      "cell_type": "code",
      "source": [
        "#using sphinx tool"
      ],
      "metadata": {
        "id": "6nTFBh48N3S_"
      },
      "execution_count": null,
      "outputs": []
    },
    {
      "cell_type": "markdown",
      "source": [
        "##function arguments type\n",
        "1. positional arguents \n",
        "2. default arguments\n",
        "3. keyword arguments\n",
        "4. variable length arguments\n",
        "5. keyword variable length arguments"
      ],
      "metadata": {
        "id": "enN6-1e3OpME"
      }
    },
    {
      "cell_type": "markdown",
      "source": [
        "##Positional arguments"
      ],
      "metadata": {
        "id": "bz9bxoDSPF7u"
      }
    },
    {
      "cell_type": "code",
      "source": [
        "def difference(a, b):\n",
        "  result = a - b\n",
        "  print(result)"
      ],
      "metadata": {
        "id": "eE_Za0qsOr5V"
      },
      "execution_count": null,
      "outputs": []
    },
    {
      "cell_type": "code",
      "source": [
        "#position does matter\n",
        "#calling function\n",
        "difference(2, 1)\n",
        "#again calling function\n",
        "difference(1, 2)"
      ],
      "metadata": {
        "id": "zmyNSG_xPXi1"
      },
      "execution_count": null,
      "outputs": []
    },
    {
      "cell_type": "markdown",
      "source": [
        "##parameter Vs Arguments"
      ],
      "metadata": {
        "id": "p_2LRLQ2Qlqx"
      }
    },
    {
      "cell_type": "code",
      "source": [
        " #x and y are function parameter\n",
        "def fun(x, y):\n",
        "  print(f'1st parameter: {x}')\n",
        "  print(f'2nd parameter: {y}')\n",
        "\n",
        "#calling function\n",
        "fun('python', '3.10') #python and 3.10 are the arguments "
      ],
      "metadata": {
        "id": "8Z8axltRPhC-"
      },
      "execution_count": null,
      "outputs": []
    },
    {
      "cell_type": "markdown",
      "source": [
        "##keyword arguments"
      ],
      "metadata": {
        "id": "CY0b1iicSKFp"
      }
    },
    {
      "cell_type": "code",
      "source": [
        "#define a function with three parameter x, y, z"
      ],
      "metadata": {
        "id": "QQG_3NI8RpmJ"
      },
      "execution_count": null,
      "outputs": []
    },
    {
      "cell_type": "code",
      "source": [
        "#calling the function by arguments name i.e x=10, y=20, z=30\n",
        "#position/sequence does not matter\n"
      ],
      "metadata": {
        "id": "RiulI763SXBX"
      },
      "execution_count": null,
      "outputs": []
    },
    {
      "cell_type": "markdown",
      "source": [
        "##Default arguments"
      ],
      "metadata": {
        "id": "32YGHhFsTbMo"
      }
    },
    {
      "cell_type": "code",
      "source": [
        "#create a function and assign default value to the parameter\n",
        "def fun1(x, y=10):\n",
        "  pass\n",
        "\n",
        "\n",
        "#calling function by passing only one arguments\n",
        "#second parameter take by default value\n",
        "fun1(10)"
      ],
      "metadata": {
        "id": "O_9rF_5CTlst"
      },
      "execution_count": null,
      "outputs": []
    },
    {
      "cell_type": "markdown",
      "source": [
        "##Variable length arguments"
      ],
      "metadata": {
        "id": "97hyUIKiUQZ2"
      }
    },
    {
      "cell_type": "code",
      "source": [
        "def avg(a, b, *args):\n",
        "  return (a+b+sum(args)) / (2+len(args)) \n",
        "\n",
        "\n",
        "#calling function\n",
        "print(avg(4, 6, 5, 7))"
      ],
      "metadata": {
        "colab": {
          "base_uri": "https://localhost:8080/"
        },
        "id": "DbrIZEphUNcK",
        "outputId": "96b9caca-41f7-4e6c-d4f5-8d5bcc006900"
      },
      "execution_count": null,
      "outputs": [
        {
          "output_type": "stream",
          "name": "stdout",
          "text": [
            "5.5\n"
          ]
        }
      ]
    },
    {
      "cell_type": "markdown",
      "source": [
        "##Variable length keyword argumnets\n",
        "**kwargs will be used to call the function with a variable number of keyword arguments\n"
      ],
      "metadata": {
        "id": "HVuuZ1DAUpuA"
      }
    },
    {
      "cell_type": "code",
      "source": [
        "def myfun(**kwargs):\n",
        "  print(kwargs)\n",
        "  for k, v in kwargs.items():\n",
        "    print(f'k is {k} and V is {v}')\n",
        "\n",
        "\n",
        "#calling function\n",
        "myfun(name='sopan', age=40, location='india')"
      ],
      "metadata": {
        "colab": {
          "base_uri": "https://localhost:8080/"
        },
        "id": "1WGVqLx3UyX0",
        "outputId": "8b61c261-b688-4d16-a81c-209294a44ef7"
      },
      "execution_count": null,
      "outputs": [
        {
          "output_type": "stream",
          "name": "stdout",
          "text": [
            "{'name': 'sopan', 'age': 40, 'location': 'india'}\n",
            "k is name and V is sopan\n",
            "k is age and V is 40\n",
            "k is location and V is india\n"
          ]
        }
      ]
    },
    {
      "cell_type": "code",
      "source": [
        "def connect(ip, port, username, password):\n",
        "  print(ip, port, username, password)\n",
        "\n",
        "linux_server = {'ip':'200.0.10.1', 'port':20, 'username':'admin', 'password': 'secretekey'}\n",
        "connect(**linux_server)\n"
      ],
      "metadata": {
        "colab": {
          "base_uri": "https://localhost:8080/"
        },
        "id": "A8tdSQAFqVHQ",
        "outputId": "d5dae962-3463-4478-b1c6-90716c707ff3"
      },
      "execution_count": null,
      "outputs": [
        {
          "output_type": "stream",
          "name": "stdout",
          "text": [
            "200.0.10.1 20 admin secretekey\n"
          ]
        }
      ]
    },
    {
      "cell_type": "markdown",
      "source": [
        "##return statements"
      ],
      "metadata": {
        "id": "-nhfgLGBUzNf"
      }
    },
    {
      "cell_type": "code",
      "source": [
        "#declare function\n",
        "def fun2():\n",
        "  return\n",
        "\n",
        "#calling function\n",
        "n = fun2()\n",
        "print(n)"
      ],
      "metadata": {
        "colab": {
          "base_uri": "https://localhost:8080/"
        },
        "id": "xNYYbruzU2BP",
        "outputId": "a9ee6054-c167-4d5a-c233-6e0d48ff3dbd"
      },
      "execution_count": null,
      "outputs": [
        {
          "output_type": "stream",
          "name": "stdout",
          "text": [
            "None\n"
          ]
        }
      ]
    },
    {
      "cell_type": "markdown",
      "source": [
        "after the return statements pyhon does not execute code"
      ],
      "metadata": {
        "id": "I2Z8zWn6V7Ac"
      }
    },
    {
      "cell_type": "code",
      "source": [
        "def fun3():\n",
        "  return 'python'\n",
        "  print('welcome buddy!')\n",
        "\n",
        "#calling function\n",
        "fun3()"
      ],
      "metadata": {
        "colab": {
          "base_uri": "https://localhost:8080/",
          "height": 35
        },
        "id": "mUFDQZ8uVoBm",
        "outputId": "18cdacd9-b9f3-4572-9fd2-5a2ffad84a8b"
      },
      "execution_count": null,
      "outputs": [
        {
          "output_type": "execute_result",
          "data": {
            "text/plain": [
              "'python'"
            ],
            "application/vnd.google.colaboratory.intrinsic+json": {
              "type": "string"
            }
          },
          "metadata": {},
          "execution_count": 4
        }
      ]
    },
    {
      "cell_type": "markdown",
      "source": [
        "more than one value function always return in the form of tuple"
      ],
      "metadata": {
        "id": "up4HxqSNWEYW"
      }
    },
    {
      "cell_type": "code",
      "source": [
        "def fun4():\n",
        "  return 'pyhon', 'is', 'cool'\n",
        "\n",
        "\n",
        "#calling function\n",
        "tup = fun4()\n",
        "print(tup, type(tup))"
      ],
      "metadata": {
        "colab": {
          "base_uri": "https://localhost:8080/"
        },
        "id": "e5Dmp1BhVsqm",
        "outputId": "99b6b12e-1851-4fae-ae26-062f724f4ac8"
      },
      "execution_count": null,
      "outputs": [
        {
          "output_type": "stream",
          "name": "stdout",
          "text": [
            "('pyhon', 'is', 'cool') <class 'tuple'>\n"
          ]
        }
      ]
    },
    {
      "cell_type": "markdown",
      "source": [
        "##Function unpacking\n",
        "when we dont know the function will return how many values/expression"
      ],
      "metadata": {
        "id": "aESMod8QXiqN"
      }
    },
    {
      "cell_type": "code",
      "source": [
        "def fun5(x):\n",
        "  return x, x**2, x**3, x**4\n",
        "\n",
        "#calling function\n",
        "#unpack the function \n",
        "#a treated as normal variable but *b treated as list reference\n",
        "a, *b = fun5(2)\n",
        "print(a, b, type(a), type(b))"
      ],
      "metadata": {
        "colab": {
          "base_uri": "https://localhost:8080/"
        },
        "id": "AWjN6CrVW_BA",
        "outputId": "85f20ce2-6866-40e2-acc8-67a02aeb30fc"
      },
      "execution_count": null,
      "outputs": [
        {
          "output_type": "stream",
          "name": "stdout",
          "text": [
            "2 [4, 8, 16] <class 'int'> <class 'list'>\n"
          ]
        }
      ]
    },
    {
      "cell_type": "markdown",
      "source": [
        "##Scope & Namespaces\n",
        "- a namespaces is a continer(table) that contains the names we define. this way we can have the same name defined in different namespaces.\n",
        "- the portion of code where the name exists is called the scope of that name and the binding between the name and the value is stored in a namespace."
      ],
      "metadata": {
        "id": "9BFOtcqEseWK"
      }
    },
    {
      "cell_type": "markdown",
      "source": [
        "in python there are 3 namespaces\n",
        "1. built-in namespaces: python built-in function\n",
        "2. the global(module namespace): names defined in script\n",
        "3. the local namespace: names defined inside function"
      ],
      "metadata": {
        "id": "16DxaTectbw5"
      }
    },
    {
      "cell_type": "markdown",
      "source": [
        "###Built-in namespace"
      ],
      "metadata": {
        "id": "7lH-Q1IpzHNQ"
      }
    },
    {
      "cell_type": "code",
      "source": [
        "#here tuple(), range(), print() built-in namespace\n",
        "t1 = tuple(range(20))\n",
        "print(t1)"
      ],
      "metadata": {
        "colab": {
          "base_uri": "https://localhost:8080/"
        },
        "id": "xJtzlIruX-lq",
        "outputId": "d85aa4a5-5ae1-44dc-b124-d985c6137245"
      },
      "execution_count": null,
      "outputs": [
        {
          "output_type": "stream",
          "name": "stdout",
          "text": [
            "(0, 1, 2, 3, 4, 5, 6, 7, 8, 9, 10, 11, 12, 13, 14, 15, 16, 17, 18, 19)\n"
          ]
        }
      ]
    },
    {
      "cell_type": "markdown",
      "source": [
        "#Lambda Function"
      ],
      "metadata": {
        "id": "B1F0hpzn3UvB"
      }
    },
    {
      "cell_type": "code",
      "source": [],
      "metadata": {
        "id": "lx3BKSRIzdjT"
      },
      "execution_count": null,
      "outputs": []
    },
    {
      "cell_type": "markdown",
      "source": [
        "#Working with File"
      ],
      "metadata": {
        "id": "wM41FyES3nC0"
      }
    },
    {
      "cell_type": "code",
      "source": [
        "f = open('/content/sample_data/README.md')"
      ],
      "metadata": {
        "id": "djCH-nsx3s2X"
      },
      "execution_count": null,
      "outputs": []
    },
    {
      "cell_type": "code",
      "source": [
        "f\n"
      ],
      "metadata": {
        "id": "-g8UCJJ1LE1X",
        "outputId": "db8d7568-6466-4134-9a18-95ca91cb8fb7",
        "colab": {
          "base_uri": "https://localhost:8080/"
        }
      },
      "execution_count": null,
      "outputs": [
        {
          "output_type": "execute_result",
          "data": {
            "text/plain": [
              "<_io.TextIOWrapper name='/content/sample_data/README.md' mode='r' encoding='UTF-8'>"
            ]
          },
          "metadata": {},
          "execution_count": 2
        }
      ]
    },
    {
      "cell_type": "markdown",
      "source": [
        "##Absolute path"
      ],
      "metadata": {
        "id": "znJtDmK85V-l"
      }
    },
    {
      "cell_type": "code",
      "source": [
        "#using escape sequence"
      ],
      "metadata": {
        "id": "TbyCdAs3LHio"
      },
      "execution_count": null,
      "outputs": []
    },
    {
      "cell_type": "code",
      "source": [
        "#using row string"
      ],
      "metadata": {
        "id": "pCQXEUph5dEA"
      },
      "execution_count": null,
      "outputs": []
    },
    {
      "cell_type": "code",
      "source": [
        "#special meaning in single dot => current working directory"
      ],
      "metadata": {
        "id": "aHnGlELx5faM"
      },
      "execution_count": null,
      "outputs": []
    },
    {
      "cell_type": "code",
      "source": [
        "#double dot (..) => parent directory"
      ],
      "metadata": {
        "id": "fHgFJYgB5uTU"
      },
      "execution_count": null,
      "outputs": []
    },
    {
      "cell_type": "markdown",
      "source": [
        "##Reading file"
      ],
      "metadata": {
        "id": "HF_4110F6uIa"
      }
    },
    {
      "cell_type": "code",
      "source": [
        "#tell"
      ],
      "metadata": {
        "id": "fP8yEl2H6Lwe"
      },
      "execution_count": null,
      "outputs": []
    },
    {
      "cell_type": "code",
      "source": [
        "#seek"
      ],
      "metadata": {
        "id": "hvbT0pC_61ij"
      },
      "execution_count": null,
      "outputs": []
    },
    {
      "cell_type": "code",
      "source": [
        "#cursors"
      ],
      "metadata": {
        "id": "RXsuRcDF62tq"
      },
      "execution_count": null,
      "outputs": []
    },
    {
      "cell_type": "markdown",
      "source": [
        "##Reading file into list"
      ],
      "metadata": {
        "id": "Jbu33eRK66tA"
      }
    },
    {
      "cell_type": "code",
      "source": [],
      "metadata": {
        "id": "XQKrYXhL642y"
      },
      "execution_count": null,
      "outputs": []
    },
    {
      "cell_type": "markdown",
      "source": [
        "##Writing to text file"
      ],
      "metadata": {
        "id": "P88K8fKm7DTB"
      }
    },
    {
      "cell_type": "code",
      "source": [],
      "metadata": {
        "id": "6CNfOWAQ7ILi"
      },
      "execution_count": null,
      "outputs": []
    },
    {
      "cell_type": "markdown",
      "source": [
        "#Project: File Processing"
      ],
      "metadata": {
        "id": "2Bk5jhwc7L5Y"
      }
    },
    {
      "cell_type": "code",
      "source": [
        "#network automation script\n",
        "with open('/content/sample_data/devices.txt') as f:\n",
        "  content = f.read().splitlines()\n",
        "  print(content)\n",
        "  device = list()\n",
        "  for line in content[1:]:\n",
        "    device.append(line.split(':'))\n",
        "  #print(device)\n",
        "  for dev in device:\n",
        "    print(f'pinging with IP: {dev[1]}')"
      ],
      "metadata": {
        "colab": {
          "base_uri": "https://localhost:8080/"
        },
        "id": "9xZ1QQV-7JK6",
        "outputId": "557a88bc-bda3-4d56-f77d-fd97382195b0"
      },
      "execution_count": null,
      "outputs": [
        {
          "output_type": "stream",
          "name": "stdout",
          "text": [
            "['HOSTNAME:IP:USERNAME:PASSWORD:CONFIG_FILE', 'CoreDevice:78.1.1.1:root:RPass7644@--:routing_protocols.cfg', 'CentralRouter:88.1.1.1:myadmin-+:secure.txt', 'AccessSwitch1:78.1.2.2:admin:hPass6764@++:vlan.txt', 'Server1:10.0.0.1:admin:xsdHD3355:Firewall.conf', 'Router1:90.0.0.1:ul:jpfajdd67:commands_to_run.txt']\n",
            "pinging with IP: 78.1.1.1\n",
            "pinging with IP: 88.1.1.1\n",
            "pinging with IP: 78.1.2.2\n",
            "pinging with IP: 10.0.0.1\n",
            "pinging with IP: 90.0.0.1\n"
          ]
        }
      ]
    },
    {
      "cell_type": "markdown",
      "source": [
        "#Error and Exception Handling"
      ],
      "metadata": {
        "id": "3yameqWo_xFn"
      }
    },
    {
      "cell_type": "code",
      "source": [
        "#try...except"
      ],
      "metadata": {
        "id": "ghyn5wSF-Wul"
      },
      "execution_count": null,
      "outputs": []
    },
    {
      "cell_type": "code",
      "source": [
        "#try...except..else\n"
      ],
      "metadata": {
        "id": "jZVekM7TALOf"
      },
      "execution_count": null,
      "outputs": []
    },
    {
      "cell_type": "code",
      "source": [
        "#try..except...finally"
      ],
      "metadata": {
        "id": "iddBeXpiAPO9"
      },
      "execution_count": null,
      "outputs": []
    },
    {
      "cell_type": "code",
      "source": [
        "#try...except...else...finally\n"
      ],
      "metadata": {
        "id": "oLvaeOcLAVAF"
      },
      "execution_count": null,
      "outputs": []
    },
    {
      "cell_type": "markdown",
      "source": [
        "#Project: Test Network Connection"
      ],
      "metadata": {
        "id": "zsV4JH9T8fG3"
      }
    },
    {
      "cell_type": "code",
      "source": [
        "import subprocess\n",
        "#command = f'ping -c 1 {ip}' # used in linux/mac for sending single packet\n",
        "# used in windows for sending single packet\n",
        "with open('/content/sample_data/host.txt') as f:\n",
        "  ip_address = f.read().splitlines()\n",
        "  print(ip_address)\n",
        "  for ip in ip_address:\n",
        "    try:\n",
        "      command = f'ping -n 1 {ip}' \n",
        "      print(command)\n",
        "      output = subprocess.check_output(command.split())\n",
        "      print(output.decode())\n",
        "    except Exception as  e:\n",
        "      print(f'Host {ip} is down!!! => {e}')\n",
        "    print('#' * 70)"
      ],
      "metadata": {
        "colab": {
          "base_uri": "https://localhost:8080/"
        },
        "id": "q89MsPfC-PEz",
        "outputId": "4629dbc3-9765-4c9b-aea0-f1d4d945af75"
      },
      "execution_count": null,
      "outputs": [
        {
          "output_type": "stream",
          "name": "stdout",
          "text": [
            "['8.8.8.8', '6.7.7.8', '8.8.4.4', '1.1.1.1']\n",
            "ping -n 1 8.8.8.8\n",
            "Host 8.8.8.8 is down!!! => [Errno 2] No such file or directory: 'ping'\n",
            "######################################################################\n",
            "ping -n 1 6.7.7.8\n",
            "Host 6.7.7.8 is down!!! => [Errno 2] No such file or directory: 'ping'\n",
            "######################################################################\n",
            "ping -n 1 8.8.4.4\n",
            "Host 8.8.4.4 is down!!! => [Errno 2] No such file or directory: 'ping'\n",
            "######################################################################\n",
            "ping -n 1 1.1.1.1\n",
            "Host 1.1.1.1 is down!!! => [Errno 2] No such file or directory: 'ping'\n",
            "######################################################################\n"
          ]
        }
      ]
    },
    {
      "cell_type": "markdown",
      "source": [
        "#Object Orientation Programming: ▶ Class & Object"
      ],
      "metadata": {
        "id": "xJ9oMHNmCyxU"
      }
    },
    {
      "cell_type": "markdown",
      "source": [
        "It is based on \n",
        "- classses ▶Blue print\n",
        "- Object ▶instance of class\n",
        "- attribute  ▶ treated as Variables\n",
        "- Method ▶ treted as Function"
      ],
      "metadata": {
        "id": "k4BzEciBGL_H"
      }
    },
    {
      "cell_type": "code",
      "source": [
        "#create a sample class and its instance\n",
        "class Robot:\n",
        "  '''This class implement a RObot.'''\n",
        "  pass\n"
      ],
      "metadata": {
        "id": "A5hxUvkhB5Zf"
      },
      "execution_count": null,
      "outputs": []
    },
    {
      "cell_type": "code",
      "source": [
        "#instance of class\n",
        "r1 = Robot()\n",
        "print(r1.__doc__)"
      ],
      "metadata": {
        "colab": {
          "base_uri": "https://localhost:8080/"
        },
        "id": "bwbaWJObLAC0",
        "outputId": "b0c0c84b-a6d1-44e1-ca1f-a2a08ccf0035"
      },
      "execution_count": null,
      "outputs": [
        {
          "output_type": "stream",
          "name": "stdout",
          "text": [
            "This class implement a RObot.\n"
          ]
        }
      ]
    },
    {
      "cell_type": "markdown",
      "source": [
        "##Constructor"
      ],
      "metadata": {
        "id": "JeERr5cXbSpF"
      }
    },
    {
      "cell_type": "code",
      "source": [
        "#create a class constructor (__init__(self)) with attribute\n",
        "class Robot:\n",
        "  '''This class implement a Robot.'''\n",
        "\n",
        "  def __init__(self, n, y):\n",
        "    self.name = n\n",
        "    self.year = y\n",
        "\n",
        "\n",
        "#create class instance\n",
        "r2 = Robot('R2', 2020)\n",
        "\n",
        "#access document string of class using built in method(__doc__)\n",
        "print(r2.__doc__)\n",
        "\n",
        "#access class attribute by its name\n",
        "print(f'Robot name: {r2.name} & its developed in Year {r2.year}')\n"
      ],
      "metadata": {
        "colab": {
          "base_uri": "https://localhost:8080/"
        },
        "id": "nfEZP9afYZ_j",
        "outputId": "37b32d00-9b0c-44c4-e31c-78a8f2a9bd8a"
      },
      "execution_count": null,
      "outputs": [
        {
          "output_type": "stream",
          "name": "stdout",
          "text": [
            "This class implement a Robot.\n",
            "Robot name: R2 & its developed in Year 2020\n"
          ]
        }
      ]
    },
    {
      "cell_type": "markdown",
      "source": [
        "##Destructor"
      ],
      "metadata": {
        "id": "Cmr0HsrYbXAS"
      }
    },
    {
      "cell_type": "code",
      "source": [
        "#create a class constructor (__init__(self)) with attribute\n",
        "class Robot:\n",
        "  '''This class implement a Robot.'''\n",
        "\n",
        "  def __init__(self, n, y):\n",
        "    self.name = n\n",
        "    self.year = y\n",
        "\n",
        "  def __del__(self):\n",
        "    print('Robot destroyed!!')\n",
        "\n",
        "#create instance of Robot class\n",
        "r3 = Robot('r3', 2021)\n",
        "\n",
        "#print(r3.__doc__)\n",
        "#print(r3.__dict__)\n",
        "\n",
        "#access class attributes\n",
        "print(f'Robot name: {r3.name}')\n"
      ],
      "metadata": {
        "colab": {
          "base_uri": "https://localhost:8080/"
        },
        "id": "R42uvwk3ZnFQ",
        "outputId": "869eb46b-d541-4b3f-ea68-687b3a26fbf9"
      },
      "execution_count": null,
      "outputs": [
        {
          "output_type": "stream",
          "name": "stdout",
          "text": [
            "Robot name: r3\n",
            "Robot destroyed!!\n"
          ]
        }
      ]
    },
    {
      "cell_type": "markdown",
      "source": [
        "##instance attribute & class attribute"
      ],
      "metadata": {
        "id": "xYgfdNOhfv0A"
      }
    },
    {
      "cell_type": "code",
      "source": [
        "class Robot:\n",
        "  '''This class implemnts a Robot'''\n",
        "\n",
        "  #class attribute\n",
        "  population = 0\n",
        "\n",
        "  #constructor\n",
        "  def __init__(self, name, year):\n",
        "    self.name = name\n",
        "    self.year = year\n",
        "    #acces class attribute(class_name.attribute_name)\n",
        "    Robot.population += 1\n",
        "\n",
        "  #method\n",
        "  def setenergy(self, energy):\n",
        "    self.energy = energy\n",
        "\n",
        "#create object/class attribute\n",
        "r1 = Robot('R1', 2023)\n",
        "print(f'Document:{r1.__doc__}')\n",
        "print(f'Attribute: {r1.__dict__}')\n",
        "print(f'Robot name: {r1.name}')\n",
        "\n",
        "#Object attribute\n",
        "r1.setenergy(500)\n",
        "print(r1.energy)\n",
        "\n",
        "#printgetattr(object, attribute_name, [exception])\n",
        "print(getattr(r1, 'energy', 'N/A'))\n",
        "\n",
        "#creat new object/class instance\n",
        "r2 = Robot('R2', 2040)\n",
        "print(f'Document:{r2.__doc__}')\n",
        "print(f'Attribute: {r2.__dict__}')\n",
        "print(f'Robot name: {r2.name}')\n",
        "\n",
        "#access the class attribute\n",
        "print(f'Robot Alive: {Robot.population}')"
      ],
      "metadata": {
        "id": "snKkkBrIcaF9",
        "colab": {
          "base_uri": "https://localhost:8080/"
        },
        "outputId": "cc4f3814-7a4c-4ca4-8427-3f5e8a959e5a"
      },
      "execution_count": null,
      "outputs": [
        {
          "output_type": "stream",
          "name": "stdout",
          "text": [
            "Document:This class implemnts a Robot\n",
            "Attribute: {'name': 'R1', 'year': 2023}\n",
            "Robot name: R1\n",
            "500\n",
            "500\n",
            "Document:This class implemnts a Robot\n",
            "Attribute: {'name': 'R1', 'year': 2023}\n",
            "Robot name: R1\n",
            "Robot Alive: 2\n"
          ]
        }
      ]
    },
    {
      "cell_type": "markdown",
      "source": [
        "#Magic method\n",
        "- they are surrounded by double underscore and also called **special or dunder** method\n",
        "-  you don't have to call them directly, the invocation is automatically done by the python interpreter behind the scenes."
      ],
      "metadata": {
        "id": "ttHU9aumZYUP"
      }
    },
    {
      "cell_type": "code",
      "source": [
        "#create a class with magic method\n",
        "class Robot:\n",
        "  '''This class implemntsa Robot'''\n",
        "\n",
        "  #class contstructor\n",
        "  def __init__(self, name, price):\n",
        "    self.name = name\n",
        "    self.price = price\n",
        "\n",
        "  #class destructor\n",
        "  def __del__(self):\n",
        "    print('Robot destroed!')\n",
        "\n",
        "  #overriding magic method\n",
        "  def __str__(self):\n",
        "    my_str = f'My name is {self.name} and My price is {self.price}'\n",
        "    return my_str\n",
        "\n",
        "  def __add__(self, other):\n",
        "    price = self.price + other.price\n",
        "    return price\n",
        "\n",
        "\n",
        "r1 = Robot('R1', 150)\n",
        "r2 = Robot('R2', 45)\n",
        "\n",
        "print(r1)\n",
        "print(r2)\n",
        "\n",
        "#it will genrate error\n",
        "# print(r1 > r2)\n",
        "# print(r1 + r2)"
      ],
      "metadata": {
        "colab": {
          "base_uri": "https://localhost:8080/"
        },
        "id": "gkeSlXXSWJHB",
        "outputId": "2f04c833-f969-4083-8fdd-d456c6cbdac7"
      },
      "execution_count": null,
      "outputs": [
        {
          "output_type": "stream",
          "name": "stdout",
          "text": [
            "My name is R1 and My price is 150\n",
            "My name is R2 and My price is 45\n",
            "Robot destroed!\n",
            "Robot destroed!\n"
          ]
        }
      ]
    },
    {
      "cell_type": "code",
      "source": [
        "#what will be printed out the following code\n",
        "class Circle:\n",
        "  def setRadius(self, radius):\n",
        "    self.radius = radius\n",
        "\n",
        "ball = Circle()\n",
        "print(ball.radius)\n",
        "ball.setRadius(10)"
      ],
      "metadata": {
        "id": "udix-X43a2o8"
      },
      "execution_count": null,
      "outputs": []
    },
    {
      "cell_type": "code",
      "source": [
        "class Circle:\n",
        "  def setRadius(self, radius):\n",
        "    self.radius = radius\n",
        "\n",
        "\n",
        "ball = Circle()\n",
        "ball.setRadius(10)\n",
        "print(getattr(ball, 'radius', 100))"
      ],
      "metadata": {
        "colab": {
          "base_uri": "https://localhost:8080/"
        },
        "id": "Q5Y8MjKGe-2g",
        "outputId": "7ff5bb49-8858-4e93-fbb4-072edc3300e0"
      },
      "execution_count": null,
      "outputs": [
        {
          "output_type": "stream",
          "name": "stdout",
          "text": [
            "10\n"
          ]
        }
      ]
    },
    {
      "cell_type": "code",
      "source": [
        "#instance attribute\n",
        "class Car:\n",
        "  def __inti__(self, m=None, s=None):\n",
        "    self.make = m\n",
        "    self.speed = s\n",
        "\n",
        "\n",
        "my_car = Car()"
      ],
      "metadata": {
        "id": "NaTlJ-0Afl0U"
      },
      "execution_count": null,
      "outputs": []
    },
    {
      "cell_type": "code",
      "source": [
        "#self is not a language keyword, you can use any keword instead of self\n",
        "#just for increasing readability we use self keyword\n",
        "class Car0:\n",
        "  def __inti__(self, make=None, speed=None):\n",
        "    self.make = make \n",
        "    self.speed = speed\n",
        "class Car1:\n",
        "  def __inti__(this, make=None, speed=None):\n",
        "    this.make = make \n",
        "    this.speed = speed\n",
        "class Car2:\n",
        "  def __inti__(x, make=None, speed=None):\n",
        "    x.make = make \n",
        "    x.speed = speed\n",
        "\n",
        "\n",
        "car0 = Car0()\n",
        "car1 = Car1()\n",
        "car2 = Car2()"
      ],
      "metadata": {
        "id": "mFxdwuCtf_Qn"
      },
      "execution_count": null,
      "outputs": []
    },
    {
      "cell_type": "code",
      "source": [
        "class Car:\n",
        "  #class attribute\n",
        "  total_car = 0\n",
        "\n",
        "  def __init__(self, make, built_year):\n",
        "    # make & built_year are instance attribute\n",
        "    self.make = make\n",
        "    self.built_year = built_year\n",
        "    Car.total_car += 1\n",
        "\n",
        "my_car = Car('audi', 2019)"
      ],
      "metadata": {
        "id": "Zs0atl2kgdZM"
      },
      "execution_count": null,
      "outputs": []
    },
    {
      "cell_type": "code",
      "source": [
        "class Car:\n",
        "  total_car = 0\n",
        "\n",
        "  def __init__(self, make, built_year=None):\n",
        "    self.make = make\n",
        "    self. built_year = built_year\n",
        "    Car.total_car += 1\n",
        "\n",
        "\n",
        "#creat instance\n",
        "my_car = Car('audi', 2019)\n",
        "your_car= Car('VW')\n",
        "\n",
        "#acces class instace by object name\n",
        "my_car.total_car += 5\n",
        "\n",
        "print(f'Total My Cars : {my_car.total_car}')\n",
        "print(f'Total your cars : {your_car.total_car}')\n",
        "print(f'Total class Cars: {Car.total_car}')"
      ],
      "metadata": {
        "colab": {
          "base_uri": "https://localhost:8080/"
        },
        "id": "hXqLIXYyiKzo",
        "outputId": "96159cb4-19da-4328-8ca9-aa998d3fdfd1"
      },
      "execution_count": null,
      "outputs": [
        {
          "output_type": "stream",
          "name": "stdout",
          "text": [
            "Total My Cars : 7\n",
            "Total your cars : 2\n",
            "Total class Cars: 2\n"
          ]
        }
      ]
    },
    {
      "cell_type": "code",
      "source": [
        "#magic method overiding\n",
        "class Car:\n",
        "  def __init__(self, make, speed):\n",
        "    self.make = make\n",
        "    self.speed = speed\n",
        "\n",
        "  def __gt__(self, other):\n",
        "    return self.speed > other.speed    \n",
        "\n",
        "  def __str__(self):\n",
        "    return f'Make: {self.make}, Speed: {self.speed}'\n",
        "\n",
        "\n",
        "\n",
        "\n",
        "#create object of class \n",
        "my_car = Car('audi', 180)\n",
        "your_car = Car('audi', 220)\n",
        "\n",
        "if my_car > your_car:\n",
        "  print(my_car)\n",
        "  print('condition true.')\n",
        "else:\n",
        "  print(your_car)\n",
        "  print('condition false.')"
      ],
      "metadata": {
        "colab": {
          "base_uri": "https://localhost:8080/"
        },
        "id": "zVuDYsdcjYCj",
        "outputId": "d98b12c6-5e95-439f-facf-d71523ed35d7"
      },
      "execution_count": null,
      "outputs": [
        {
          "output_type": "stream",
          "name": "stdout",
          "text": [
            "Make: audi, Speed: 220\n",
            "condition false.\n"
          ]
        }
      ]
    },
    {
      "cell_type": "markdown",
      "source": [
        "#Python Module\n",
        "module is file containing python defination such as variable, function and classes etc.\n",
        "Python module and packages are two mechanism that facilitate modular programming"
      ],
      "metadata": {
        "id": "CljLzWo1NoDb"
      }
    },
    {
      "cell_type": "code",
      "source": [
        "#import built in module\n",
        "import math\n"
      ],
      "metadata": {
        "id": "h-spJjKJlID_"
      },
      "execution_count": null,
      "outputs": []
    },
    {
      "cell_type": "code",
      "source": [
        "#checking type \n",
        "type(math)"
      ],
      "metadata": {
        "colab": {
          "base_uri": "https://localhost:8080/"
        },
        "id": "_6AJ5rUeOtHO",
        "outputId": "9d6ff7f4-a387-40ff-a4c5-cd2a1eb68720"
      },
      "execution_count": null,
      "outputs": [
        {
          "output_type": "execute_result",
          "data": {
            "text/plain": [
              "module"
            ]
          },
          "metadata": {},
          "execution_count": 3
        }
      ]
    },
    {
      "cell_type": "code",
      "source": [
        "#attrinutes of math module\n",
        "lst = dir(math)"
      ],
      "metadata": {
        "id": "0r4Nlrb1PFOc"
      },
      "execution_count": null,
      "outputs": []
    },
    {
      "cell_type": "markdown",
      "source": [
        "#PIP command\n",
        "- you can use pip for installing external packeges\n",
        "- syntax >>pip install package_name\n",
        "- also you can check installed packaged by pip\n",
        "- syntax >>pip freeze\n",
        "- you can stor all install packages in single text file\n",
        "- Syntax >>pip freeze > package_list.txt\n",
        "- checked text file using >>type package_list.txt\n",
        "- you can install all packages in single command\n",
        "Syntax >>pip install -r packages_list.txt"
      ],
      "metadata": {
        "id": "5k5xbp4Gd-BE"
      }
    },
    {
      "cell_type": "code",
      "source": [
        "import sys\n",
        "sys.version"
      ],
      "metadata": {
        "id": "nJPsH9doQjju",
        "colab": {
          "base_uri": "https://localhost:8080/",
          "height": 35
        },
        "outputId": "c3866dcf-8ec6-496c-a8d1-4954007a8161"
      },
      "execution_count": null,
      "outputs": [
        {
          "output_type": "execute_result",
          "data": {
            "text/plain": [
              "'3.8.10 (default, Nov 14 2022, 12:59:47) \\n[GCC 9.4.0]'"
            ],
            "application/vnd.google.colaboratory.intrinsic+json": {
              "type": "string"
            }
          },
          "metadata": {},
          "execution_count": 1
        }
      ]
    },
    {
      "cell_type": "code",
      "source": [
        "sys.implementation"
      ],
      "metadata": {
        "colab": {
          "base_uri": "https://localhost:8080/"
        },
        "id": "94JYmg4iKam2",
        "outputId": "0a06c92e-bfe6-47ac-9bf2-0b1be77501d5"
      },
      "execution_count": null,
      "outputs": [
        {
          "output_type": "execute_result",
          "data": {
            "text/plain": [
              "namespace(_multiarch='x86_64-linux-gnu', cache_tag='cpython-38', hexversion=50858736, name='cpython', version=sys.version_info(major=3, minor=8, micro=10, releaselevel='final', serial=0))"
            ]
          },
          "metadata": {},
          "execution_count": 2
        }
      ]
    },
    {
      "cell_type": "code",
      "source": [
        "sys.platform"
      ],
      "metadata": {
        "colab": {
          "base_uri": "https://localhost:8080/",
          "height": 35
        },
        "id": "pMheyjnXKf3r",
        "outputId": "3aad6b51-2b74-4769-deff-57ab1040eb27"
      },
      "execution_count": null,
      "outputs": [
        {
          "output_type": "execute_result",
          "data": {
            "text/plain": [
              "'linux'"
            ],
            "application/vnd.google.colaboratory.intrinsic+json": {
              "type": "string"
            }
          },
          "metadata": {},
          "execution_count": 3
        }
      ]
    },
    {
      "cell_type": "markdown",
      "source": [
        "#Module"
      ],
      "metadata": {
        "id": "gfvgtcUqdiki"
      }
    },
    {
      "cell_type": "code",
      "source": [
        "#different way of importing module"
      ],
      "metadata": {
        "id": "rD_5cqGGKiMT"
      },
      "execution_count": null,
      "outputs": []
    },
    {
      "cell_type": "code",
      "source": [
        "#conditionaly import module __name__ and \"__main__\""
      ],
      "metadata": {
        "id": "-r1_bJ3UdzPp"
      },
      "execution_count": null,
      "outputs": []
    },
    {
      "cell_type": "code",
      "source": [
        "#manage external module with pip"
      ],
      "metadata": {
        "id": "6shbrbUqeFbh"
      },
      "execution_count": null,
      "outputs": []
    },
    {
      "cell_type": "markdown",
      "source": [
        "##Very useful Python built-in Module"
      ],
      "metadata": {
        "id": "HhPxXHTpeMwn"
      }
    },
    {
      "cell_type": "code",
      "source": [
        "#sys module"
      ],
      "metadata": {
        "id": "R4_2P0A-eJK5"
      },
      "execution_count": null,
      "outputs": []
    },
    {
      "cell_type": "code",
      "source": [
        "#os module"
      ],
      "metadata": {
        "id": "22X_2BPDeXfQ"
      },
      "execution_count": null,
      "outputs": []
    },
    {
      "cell_type": "code",
      "source": [
        "#shutil module"
      ],
      "metadata": {
        "id": "My3-7dBkea_Q"
      },
      "execution_count": null,
      "outputs": []
    },
    {
      "cell_type": "code",
      "source": [
        "#subprocess module"
      ],
      "metadata": {
        "id": "qdb__tkqefBQ"
      },
      "execution_count": null,
      "outputs": []
    },
    {
      "cell_type": "code",
      "source": [
        "#Random module"
      ],
      "metadata": {
        "id": "kDbne2mhejfn"
      },
      "execution_count": null,
      "outputs": []
    },
    {
      "cell_type": "code",
      "source": [
        "#Decimal module"
      ],
      "metadata": {
        "id": "9M7x2gq7emBY"
      },
      "execution_count": null,
      "outputs": []
    },
    {
      "cell_type": "code",
      "source": [
        "#math module"
      ],
      "metadata": {
        "id": "r8f7GXvTetZI"
      },
      "execution_count": null,
      "outputs": []
    },
    {
      "cell_type": "markdown",
      "source": [
        "#Decorator"
      ],
      "metadata": {
        "id": "WG3LJzMtJclm"
      }
    },
    {
      "cell_type": "code",
      "source": [
        "#define sum function\n",
        "def sm(num, fn):\n",
        "  res = 0\n",
        "  for n in range(1, num+1):\n",
        "    res += fn(n)\n",
        "    print(n)\n",
        "  return res\n",
        "#define square function\n",
        "def sqr(x):\n",
        "  return x**2\n",
        "\n",
        "#calling and storing function in result variable\n",
        "result = sm(3, sqr)\n",
        "print(result)"
      ],
      "metadata": {
        "colab": {
          "base_uri": "https://localhost:8080/"
        },
        "id": "dD0NdDwjJcDI",
        "outputId": "e4a5884a-bab5-4fe4-8267-a6c6729fc878"
      },
      "execution_count": null,
      "outputs": [
        {
          "output_type": "stream",
          "name": "stdout",
          "text": [
            "1\n",
            "2\n",
            "3\n",
            "14\n"
          ]
        }
      ]
    },
    {
      "cell_type": "code",
      "source": [
        "#function return function\n"
      ],
      "metadata": {
        "id": "eG6x0m8iK4fF"
      },
      "execution_count": null,
      "outputs": []
    },
    {
      "cell_type": "code",
      "source": [
        "#define a function\n",
        "def outer():\n",
        "  msg = 'Sopan'\n",
        "  def inner():\n",
        "    print(f\"{msg} is really cool!\")\n",
        "  #calling inner fucntion\n",
        "  inner()\n",
        "\n",
        "#calling outer function\n",
        "outer()"
      ],
      "metadata": {
        "colab": {
          "base_uri": "https://localhost:8080/"
        },
        "id": "529vcqB_NHwY",
        "outputId": "49da92c4-f6c2-48cf-f735-5fbc7bb08b23"
      },
      "execution_count": null,
      "outputs": [
        {
          "output_type": "stream",
          "name": "stdout",
          "text": [
            "Sopan is really cool!\n",
            "2\n",
            "('msg',)\n"
          ]
        }
      ]
    },
    {
      "cell_type": "code",
      "source": [
        "#define a function\n",
        "def outer():\n",
        "  msg = 'python'\n",
        "  x = 1\n",
        "  def inner():\n",
        "    print(f'{msg} is really good!') #msg is global variable\n",
        "    nonlocal x\n",
        "    x += 1\n",
        "    print(x)\n",
        "  #return inner function\n",
        "  return inner\n",
        "\n",
        "#it will return the inner function object res is closer\n",
        "res = outer()\n",
        "#calling the closure\n",
        "res() #closure capture the variable"
      ],
      "metadata": {
        "colab": {
          "base_uri": "https://localhost:8080/"
        },
        "id": "R2dt9QYGMQlA",
        "outputId": "802aee1d-498f-42f1-a163-f81aab41b917"
      },
      "execution_count": null,
      "outputs": [
        {
          "output_type": "stream",
          "name": "stdout",
          "text": [
            "python is really good!\n",
            "2\n"
          ]
        }
      ]
    },
    {
      "cell_type": "code",
      "source": [
        "#print the free variable\n",
        "print(res.__code__.co_freevars)"
      ],
      "metadata": {
        "colab": {
          "base_uri": "https://localhost:8080/"
        },
        "id": "vPMN107jNzJN",
        "outputId": "8c67a362-16e7-4e00-cd7f-75cc80872a72"
      },
      "execution_count": null,
      "outputs": [
        {
          "output_type": "stream",
          "name": "stdout",
          "text": [
            "('msg', 'x')\n"
          ]
        }
      ]
    },
    {
      "cell_type": "code",
      "source": [
        "#################################\n",
        "## Inner Functions and Closures\n",
        "#################################\n",
        " \n",
        "# A function defined inside another function is called  nested or inner function.\n",
        "# Inner functions can access variables of the enclosing scope and become closures.\n",
        " \n",
        " \n",
        "# defining an outer function\n",
        "def outer():\n",
        "    msg = 'Python'\n",
        "    x = 0\n",
        "    # defining an inner function\n",
        "    def inner():\n",
        "        # nonlocal is used to declare that a variable inside a nested function\n",
        "        # is not local to it (it lies in the outer enclosing function).\n",
        "        nonlocal x # this is `x` from outer function\n",
        "        x += 1\n",
        "        print(f'{msg} is really cool!')  # `msg` and `x` are free variables\n",
        "        return x\n",
        "    return inner\n",
        " \n",
        " \n",
        "func1 = outer()\n",
        "print(type(func1))  # => <class 'function'>\n",
        " \n",
        "xx = func1()\n",
        "print(xx)   # => 1\n",
        " \n",
        "print(func1())  # => 2\n",
        "print(func1())  # => 3"
      ],
      "metadata": {
        "colab": {
          "base_uri": "https://localhost:8080/"
        },
        "id": "iIoAij9LO7JS",
        "outputId": "ed547106-0aaa-4fd2-d423-f0e227a1f53c"
      },
      "execution_count": null,
      "outputs": [
        {
          "output_type": "stream",
          "name": "stdout",
          "text": [
            "<class 'function'>\n",
            "Python is really cool!\n",
            "1\n",
            "Python is really cool!\n",
            "2\n",
            "Python is really cool!\n",
            "3\n"
          ]
        }
      ]
    },
    {
      "cell_type": "code",
      "source": [
        "#Decorator\n",
        "user = {'username':'js', 'level':'admin'}\n",
        "def user_permission(func):\n",
        "  if user['level'] == 'admin':\n",
        "    return func\n",
        "  else:\n",
        "    return None\n",
        "\n",
        "def show_pass():\n",
        "  return 'fadserfhjh'\n",
        "\n",
        "my_funct = user_permission(show_pass)\n",
        "#calling function conditionaly\n",
        "if my_funct != None:\n",
        "  print(my_funct())\n",
        "else:\n",
        "  print('No Access!')"
      ],
      "metadata": {
        "colab": {
          "base_uri": "https://localhost:8080/"
        },
        "id": "0b8Ac-08QAcc",
        "outputId": "c0b1cfb8-0e56-4303-9deb-6986dee18fd0"
      },
      "execution_count": null,
      "outputs": [
        {
          "output_type": "stream",
          "name": "stdout",
          "text": [
            "fadserfhjh\n"
          ]
        }
      ]
    },
    {
      "cell_type": "code",
      "source": [
        "#Decorator in python - the @ syntax\n",
        "user = {'user':'sp', 'level':'admin'}\n",
        "def admin_only(func):\n",
        "  def wrapper_only_admin(*args, **kwargs):\n",
        "    if user['level'] =='admin':\n",
        "      return func(*args, **kwargs)\n",
        "    else:\n",
        "      raise PermissionError('Permission Denied!')\n",
        "  return wrapper_only_admin\n",
        "\n",
        "def remove_file(f=None):\n",
        "  import os, os.path\n",
        "  if os.path.isfile(f):\n",
        "    os.remove(f)\n",
        "    print(f'File removed!')\n",
        "  else:\n",
        "    print('Arguments is not a file')\n",
        "\n",
        "try:\n",
        "  remove_file = admin_only(remove_file)\n",
        "  remove_file('a.txt')\n",
        "except PermissionError as e:\n",
        "  print(e)"
      ],
      "metadata": {
        "colab": {
          "base_uri": "https://localhost:8080/"
        },
        "id": "otfE08_mdhx1",
        "outputId": "7920895b-acab-40fe-d269-27a51787f480"
      },
      "execution_count": null,
      "outputs": [
        {
          "output_type": "stream",
          "name": "stdout",
          "text": [
            "Arguments is not a file\n"
          ]
        }
      ]
    },
    {
      "cell_type": "code",
      "source": [
        "#################################\n",
        "## Decorators Template\n",
        "#################################\n",
        " \n",
        "import functools\n",
        "def my_new_decorator(just_a_func):\n",
        "    @functools.wraps(just_a_func)  # preserving __name__ and __doc__\n",
        "    def wrapper_my_new_decorator(*args, **kwargs):\n",
        "        print('Extra code before calling just_a_func()')\n",
        "        result = just_a_func(*args, **kwargs)\n",
        "        print('Extra code after calling just_a_func()')\n",
        "        return result\n",
        " \n",
        "    return wrapper_my_new_decorator\n",
        " \n",
        " \n",
        "@my_new_decorator\n",
        "def just_a_func(x):\n",
        "    \"\"\"\n",
        "    This is the docstring of just_a_func.\n",
        "    \"\"\"\n",
        "    print(f'I\\'m just a function. x = {x}')\n",
        "    return x * x\n",
        " \n",
        " \n",
        "result = just_a_func(100)\n",
        "print(f'Returned value result: {result}')\n",
        " \n",
        "print(f'Function\\'s name: {just_a_func.__name__}')\n",
        "print(f'{just_a_func.__doc__}')\n",
        " \n",
        " \n",
        "## EXPECTED OUTPUT:\n",
        "#Extra code before calling just_a_func()\n",
        "# I'm just a function. x = 100\n",
        "# Extra code after calling just_a_func()\n",
        "# Returned value result: 10000\n",
        "# Function's name: just_a_func\n",
        "#\n",
        "#     This is the docstring of just_a_func."
      ],
      "metadata": {
        "id": "vuuM7rJmixBZ",
        "colab": {
          "base_uri": "https://localhost:8080/"
        },
        "outputId": "11424ca9-c114-46d4-a79a-b2a1a496fe47"
      },
      "execution_count": null,
      "outputs": [
        {
          "output_type": "stream",
          "name": "stdout",
          "text": [
            "Extra code before calling just_a_func()\n",
            "I'm just a function. x = 100\n",
            "Extra code after calling just_a_func()\n",
            "Returned value result: 10000\n",
            "Function's name: just_a_func\n",
            "\n",
            "    This is the docstring of just_a_func.\n",
            "    \n"
          ]
        }
      ]
    },
    {
      "cell_type": "code",
      "source": [
        "from functools import wraps\n",
        " \n",
        "# defining a decorator\n",
        "def timer(fn):\n",
        "    from time import time\n",
        " \n",
        "    @wraps(fn)\n",
        "    def wrapper_timer(*args, **kwargs): # this is a generic decorator\n",
        "        start_time = time()   # retrieving the current timestamp\n",
        "        result = fn(*args, **kwargs)\n",
        "        end_time = time()\n",
        "        print(f'{fn.__name__} execution time:{end_time - start_time}')\n",
        "        return result\n",
        " \n",
        "    return wrapper_timer\n",
        " \n",
        " \n",
        "# decorating the function\n",
        "@timer\n",
        "def sum_of_powers(n, p):\n",
        "    nums = [x ** p for x in range(1, n)]\n",
        "    return sum(nums)\n",
        " \n",
        " \n",
        "s = sum_of_powers(1000000, 2)\n",
        "print(s)\n",
        " \n",
        "s = sum_of_powers(1000000, 3)\n",
        "print(s)\n",
        " \n",
        "s = sum_of_powers(1000000, 5)\n",
        "print(s)\n",
        " \n",
        "## EXPECTED OUTPUT:\n",
        " \n",
        "# sum_of_powers execution time:0.33020472526550293\n",
        "# 333332833333500000\n",
        "# sum_of_powers execution time:0.33238673210144043\n",
        "# 249999500000250000000000\n",
        "# sum_of_powers execution time:0.36234617233276367\n",
        "# 166666166667083333333333250000000000"
      ],
      "metadata": {
        "colab": {
          "base_uri": "https://localhost:8080/"
        },
        "id": "4oSTs0t1JIU2",
        "outputId": "20a35f3a-f8ee-4359-9b47-a2de6203a65c"
      },
      "execution_count": null,
      "outputs": [
        {
          "output_type": "stream",
          "name": "stdout",
          "text": [
            "sum_of_powers execution time:0.7145414352416992\n",
            "333332833333500000\n",
            "sum_of_powers execution time:0.4757826328277588\n",
            "249999500000250000000000\n",
            "sum_of_powers execution time:0.4137575626373291\n",
            "166666166667083333333333250000000000\n"
          ]
        }
      ]
    },
    {
      "cell_type": "code",
      "source": [
        "###CSV File - (airtravel.csv) - attached to this lecture\n",
        "# \"Month\", \"1958\", \"1959\", \"1960\"\n",
        "# \"JAN\",  340,  360,  417\n",
        "# \"FEB\",  318,  342,  391\n",
        "# \"MAR\",  362,  406,  419\n",
        "# \"APR\",  348,  396,  461\n",
        "# \"MAY\",  363,  420,  472\n",
        "# \"JUN\",  435,  472,  535\n",
        "# \"JUL\",  491,  548,  622\n",
        "# \"AUG\",  505,  559,  606\n",
        "# \"SEP\",  404,  463,  508\n",
        "# \"OCT\",  359,  407,  461\n",
        "# \"NOV\",  310,  362,  390\n",
        "# \"DEC\",  337,  405,  432\n",
        " \n",
        "## Importing the module\n",
        "import csv\n",
        " \n",
        "## Opening the file in read-only mode. airtravel.csv is in the same directory with the python script\n",
        "with open('/content/airtravel.csv', 'r') as csv_file:\n",
        "    reader = csv.reader(csv_file)       # using a csv.reader object\n",
        " \n",
        "    next(reader)    # skipping the first line (header)\n",
        "    for row in reader:\n",
        "       print(row)   # row is a list, each field is list element"
      ],
      "metadata": {
        "colab": {
          "base_uri": "https://localhost:8080/"
        },
        "id": "1JPPV90PLgr8",
        "outputId": "b10b3e0a-767a-40b3-fbf3-6903fd4d3906"
      },
      "execution_count": null,
      "outputs": [
        {
          "output_type": "stream",
          "name": "stdout",
          "text": [
            "['JAN', '  340', '  360', '  417']\n",
            "['FEB', '  318', '  342', '  391']\n",
            "['MAR', '  362', '  406', '  419']\n",
            "['APR', '  348', '  396', '  461']\n",
            "['MAY', '  363', '  420', '  472']\n",
            "['JUN', '  435', '  472', '  535']\n",
            "['JUL', '  491', '  548', '  622']\n",
            "['AUG', '  505', '  559', '  606']\n",
            "['SEP', '  404', '  463', '  508']\n",
            "['OCT', '  359', '  407', '  461']\n",
            "['NOV', '  310', '  362', '  390']\n",
            "['DEC', '  337', '  405', '  432']\n"
          ]
        }
      ]
    },
    {
      "cell_type": "code",
      "source": [
        "#################################\n",
        "## CSV Module\n",
        "## Writing CSV Files\n",
        "#################################\n",
        " \n",
        "## Importing the module\n",
        "import csv\n",
        " \n",
        "## Opening people.csv in append-mode\n",
        "with open('/content/people.csv', 'a') as csvfile:\n",
        "    writer = csv.writer(csvfile)    # getting a csv.writer object\n",
        "    csvdata = (5, 'Anne', 'Amsterdam')\n",
        "    writer.writerow(csvdata)        # appending a line to the end file. csvdata is a tuple\n",
        " \n",
        " \n",
        "## Opening numbers.csv in write-mode\n",
        "with open('/content/sample_data/numbers.csv', 'w', newline='') as f:\n",
        "    writer = csv.writer(f)\n",
        "    writer.writerow(['x', 'x**2', 'x**3', 'x**4'])\n",
        "    for x in range(1, 101):\n",
        "        writer.writerow([x, x**2, x**3, x**4])"
      ],
      "metadata": {
        "id": "WncuLDv2QNvT"
      },
      "execution_count": null,
      "outputs": []
    },
    {
      "cell_type": "code",
      "source": [
        "#################################\n",
        "## CSV Module\n",
        "## Using CSV Dialects\n",
        "#################################\n",
        " \n",
        "import csv\n",
        " \n",
        "## Printing available csv dialects\n",
        "print(csv.list_dialects())\n",
        " \n",
        "## passwd file - passwd.csv is attached to this lecture\n",
        "# root:x:0:0:root:/root:/bin/bash\n",
        "# daemon:x:1:1:daemon:/usr/sbin:/usr/sbin/nologin\n",
        "# bin:x:2:2:bin:/bin:/usr/sbin/nologin\n",
        "# sys:x:3:3:sys:/dev:/usr/sbin/nologin\n",
        "# sync:x:4:65534:sync:/bin:/bin/sync\n",
        "# games:x:5:60:games:/usr/games:/usr/sbin/nologin\n",
        "# man:x:6:12:man:/var/cache/man:/usr/sbin/nologin\n",
        " \n",
        "## Reading /etc/passwd (Linux file) using a custom delimiter (:)\n",
        "with open('/content/passwd.csv', 'r') as f:\n",
        "    reader = csv.reader(f, delimiter=':', lineterminator='\\n')\n",
        "    for row in reader:\n",
        "        print(row)\n",
        " \n",
        " \n",
        "## item.csv file (attached to this lecture)\n",
        "# items#quantity#price\n",
        "# pens#3#8.8\n",
        "# plates#15#2.6\n",
        "# cups#44#1.1\n",
        "# bottles#21#3.5\n",
        " \n",
        "## Creating a custom dialect named hashes\n",
        "csv.register_dialect('hashes', delimiter='#', quoting=csv.QUOTE_NONE, lineterminator='\\n')\n",
        " \n",
        "## Reading items.csv file\n",
        "with open('/content/items.csv', 'r') as csvfile:\n",
        "    reader = csv.reader(csvfile, dialect='hashes')\n",
        "    for row in reader:\n",
        "        print(row)\n",
        " \n",
        "## Appending a line to the csv file\n",
        "with open('/content/items.csv', 'a') as csvfile:\n",
        "    writer = csv.writer(csvfile, dialect='hashes')\n",
        "    writer.writerow(('spoon', 3, 1.5))"
      ],
      "metadata": {
        "id": "rsD-0VrwSd5e",
        "colab": {
          "base_uri": "https://localhost:8080/"
        },
        "outputId": "f08c2323-3359-4e2b-adb1-99ffce2d0117"
      },
      "execution_count": null,
      "outputs": [
        {
          "output_type": "stream",
          "name": "stdout",
          "text": [
            "['excel', 'excel-tab', 'unix']\n",
            "['root', 'x', '0', '0', 'root', '/root', '/bin/bash']\n",
            "['daemon', 'x', '1', '1', 'daemon', '/usr/sbin', '/usr/sbin/nologin']\n",
            "['bin', 'x', '2', '2', 'bin', '/bin', '/usr/sbin/nologin']\n",
            "['sys', 'x', '3', '3', 'sys', '/dev', '/usr/sbin/nologin']\n",
            "['sync', 'x', '4', '65534', 'sync', '/bin', '/bin/sync']\n",
            "['games', 'x', '5', '60', 'games', '/usr/games', '/usr/sbin/nologin']\n",
            "['man', 'x', '6', '12', 'man', '/var/cache/man', '/usr/sbin/nologin']\n",
            "['lp', 'x', '7', '7', 'lp', '/var/spool/lpd', '/usr/sbin/nologin']\n",
            "['mail', 'x', '8', '8', 'mail', '/var/mail', '/usr/sbin/nologin']\n",
            "['news', 'x', '9', '9', 'news', '/var/spool/news', '/usr/sbin/nologin']\n",
            "['uucp', 'x', '10', '10', 'uucp', '/var/spool/uucp', '/usr/sbin/nologin']\n",
            "['proxy', 'x', '13', '13', 'proxy', '/bin', '/usr/sbin/nologin']\n",
            "['www-data', 'x', '33', '33', 'www-data', '/var/www', '/usr/sbin/nologin']\n",
            "['backup', 'x', '34', '34', 'backup', '/var/backups', '/usr/sbin/nologin']\n",
            "['list', 'x', '38', '38', 'Mailing List Manager', '/var/list', '/usr/sbin/nologin']\n",
            "['irc', 'x', '39', '39', 'ircd', '/var/run/ircd', '/usr/sbin/nologin']\n",
            "['gnats', 'x', '41', '41', 'Gnats Bug-Reporting System (admin)', '/var/lib/gnats', '/usr/sbin/nologin']\n",
            "['nobody', 'x', '65534', '65534', 'nobody', '/nonexistent', '/usr/sbin/nologin']\n",
            "['systemd-timesync', 'x', '100', '102', 'systemd Time Synchronization,,,', '/run/systemd', '/bin/false']\n",
            "['systemd-network', 'x', '101', '103', 'systemd Network Management,,,', '/run/systemd/netif', '/bin/false']\n",
            "['systemd-resolve', 'x', '102', '104', 'systemd Resolver,,,', '/run/systemd/resolve', '/bin/false']\n",
            "['systemd-bus-proxy', 'x', '103', '105', 'systemd Bus Proxy,,,', '/run/systemd', '/bin/false']\n",
            "['syslog', 'x', '104', '108', '', '/home/syslog', '/bin/false']\n",
            "['_apt', 'x', '105', '65534', '', '/nonexistent', '/bin/false']\n",
            "['messagebus', 'x', '106', '110', '', '/var/run/dbus', '/bin/false']\n",
            "['uuidd', 'x', '107', '111', '', '/run/uuidd', '/bin/false']\n",
            "['lightdm', 'x', '108', '114', 'Light Display Manager', '/var/lib/lightdm', '/bin/false']\n",
            "['ntp', 'x', '109', '116', '', '/home/ntp', '/bin/false']\n",
            "['avahi-autoipd', 'x', '110', '119', 'Avahi autoip daemon,,,', '/var/lib/avahi-autoipd', '/bin/false']\n",
            "['avahi', 'x', '111', '120', 'Avahi mDNS daemon,,,', '/var/run/avahi-daemon', '/bin/false']\n",
            "['colord', 'x', '112', '123', 'colord colour management daemon,,,', '/var/lib/colord', '/bin/false']\n",
            "['dnsmasq', 'x', '113', '65534', 'dnsmasq,,,', '/var/lib/misc', '/bin/false']\n",
            "['geoclue', 'x', '114', '124', '', '/var/lib/geoclue', '/bin/false']\n",
            "['speech-dispatcher', 'x', '115', '29', 'Speech Dispatcher,,,', '/var/run/speech-dispatcher', '/bin/false']\n",
            "['hplip', 'x', '116', '7', 'HPLIP system user,,,', '/var/run/hplip', '/bin/false']\n",
            "['kernoops', 'x', '117', '65534', 'Kernel Oops Tracking Daemon,,,', '/', '/bin/false']\n",
            "['pulse', 'x', '118', '125', 'PulseAudio daemon,,,', '/var/run/pulse', '/bin/false']\n",
            "['rtkit', 'x', '120', '128', 'RealtimeKit,,,', '/proc', '/bin/false']\n",
            "['saned', 'x', '121', '129', '', '/var/lib/saned', '/bin/false']\n",
            "['usbmux', 'x', '122', '46', 'usbmux daemon,,,', '/var/lib/usbmux', '/bin/false']\n",
            "['andrei', 'x', '1000', '1000', 'andrei,,,', '/home/andrei', '/bin/bash']\n",
            "['libvirt-qemu', 'x', '64055', '132', 'Libvirt Qemu,,,', '/var/lib/libvirt', '/bin/false']\n",
            "['libvirt-dnsmasq', 'x', '123', '134', 'Libvirt Dnsmasq,,,', '/var/lib/libvirt/dnsmasq', '/bin/false']\n",
            "['sshd', 'x', '124', '65534', '', '/var/run/sshd', '/usr/sbin/nologin']\n",
            "['mysql', 'x', '125', '136', 'MySQL Server,,,', '/nonexistent', '/bin/false']\n",
            "['statd', 'x', '126', '65534', '', '/var/lib/nfs', '/bin/false']\n",
            "['clamav', 'x', '127', '137', '', '/var/lib/clamav', '/bin/false']\n",
            "['items', 'quantity', 'price']\n",
            "['pens', '3', '8.8']\n",
            "['plates', '15', '2.6']\n",
            "['cups', '44', '1.1']\n",
            "['bottles', '21', '3.5spoon', '3', '1.5']\n"
          ]
        }
      ]
    },
    {
      "cell_type": "markdown",
      "source": [
        "Consider the following Python list:\n",
        "\n",
        "people = [\n",
        "\n",
        "['Dan', 34, 'Bucharest'],\n",
        "\n",
        "['Andrei',21, 'London'],\n",
        "\n",
        "['Maria', 45, 'Paris']\n",
        "\n",
        "]\n",
        "\n",
        "Using the CSV module write each element of the list (which is another list) into a CSV file called people1.csv\n",
        "\n",
        "After writing to the file, read and print out the file contents.\n",
        "\n",
        "Use the default , (comma) as the delimiter."
      ],
      "metadata": {
        "id": "hvztddjlP5dJ"
      }
    },
    {
      "cell_type": "code",
      "source": [
        "import csv\n",
        "\n",
        "people = [\n",
        "    ['Dan', 34, 'Bucuresti'],\n",
        "    ['Andrei',21, 'London'],\n",
        "    ['Maria', 45, 'Paris']\n",
        "]\n",
        "\n",
        "# writing into a csv file\n",
        "with open('people1.csv', 'w') as f:\n",
        "    writer = csv.writer(f)\n",
        "    for item in people:\n",
        "        writer.writerow(item)\n",
        "\n",
        "\n",
        "# reading a csv file\n",
        "with open('people1.csv') as f:\n",
        "    reader = csv.reader(f)\n",
        "    for row in reader:\n",
        "        print(row)"
      ],
      "metadata": {
        "colab": {
          "base_uri": "https://localhost:8080/"
        },
        "id": "FjJm3EUtOtJa",
        "outputId": "8f0b7ca3-a3f5-4a57-c55e-f7727ae72f92"
      },
      "execution_count": null,
      "outputs": [
        {
          "output_type": "stream",
          "name": "stdout",
          "text": [
            "['Dan', '34', 'Bucuresti']\n",
            "['Andrei', '21', 'London']\n",
            "['Maria', '45', 'Paris']\n"
          ]
        }
      ]
    },
    {
      "cell_type": "markdown",
      "source": [
        "Change the solution from the previous challenge and use : (colon) as the delimiter.\n",
        "\n"
      ],
      "metadata": {
        "id": "Mciq5JE5QHpZ"
      }
    },
    {
      "cell_type": "code",
      "source": [
        "import csv\n",
        "\n",
        "people = [\n",
        "    ['Dan', 34, 'Bucuresti'],\n",
        "    ['Andrei',21, 'London'],\n",
        "    ['Maria', 45, 'Paris']\n",
        "]\n",
        "\n",
        "# writing into a csv file\n",
        "with open('people2.csv', 'w') as f:\n",
        "    writer = csv.writer(f, delimiter=':')\n",
        "    for item in people:\n",
        "        writer.writerow(item)\n",
        "\n",
        "\n",
        "# reading a csv file\n",
        "with open('people2.csv') as f:\n",
        "    reader = csv.reader(f, delimiter=':')\n",
        "    for row in reader:\n",
        "        print(row)"
      ],
      "metadata": {
        "colab": {
          "base_uri": "https://localhost:8080/"
        },
        "id": "GfUeOHw4P_nq",
        "outputId": "086d0460-c239-4b23-d060-bacadd21d5ae"
      },
      "execution_count": null,
      "outputs": [
        {
          "output_type": "stream",
          "name": "stdout",
          "text": [
            "['Dan', '34', 'Bucuresti']\n",
            "['Andrei', '21', 'London']\n",
            "['Maria', '45', 'Paris']\n"
          ]
        }
      ]
    },
    {
      "cell_type": "markdown",
      "source": [
        "#DATA SERIALIZATION AND DESERIALIZATION IN"
      ],
      "metadata": {
        "id": "NlGHtKJKVfHS"
      }
    },
    {
      "cell_type": "code",
      "source": [
        "#serializing & deserializing using pickle/cpickel\n",
        "#pickel is standard library and cpickel is 3rd party library\n",
        "#################################\n",
        "## Data Serialization and Deserialization with Pickle\n",
        "#################################\n",
        " \n",
        "import pickle\n",
        " \n",
        "# Declaring a dictionary\n",
        "friends = {\"Dan\": (20, \"London\", 13242252), \"Maria\":[25, \"Madrid\", 34232424]}\n",
        " \n",
        " \n",
        "# Serializing the dictionary to binary file called `friends.dat`\n",
        "with open('friends.dat', 'wb') as f: # b -> binary mode\n",
        "    pickle.dump(friends, f)\n",
        " \n",
        "# Deserializing into a Python Object\n",
        "with open('friends.dat', 'rb') as f:\n",
        "    obj = pickle.load(f)\n",
        " \n",
        "    print(type(obj))    # => dict\n",
        "    print(obj)          # => {'Dan': (20, 'London', 13242252), 'Maria': [25, 'Madrid', 34232424]}"
      ],
      "metadata": {
        "id": "mBUq-vVnQOR6",
        "colab": {
          "base_uri": "https://localhost:8080/"
        },
        "outputId": "ea5f8d35-1fbf-49f7-f117-b492137bed91"
      },
      "execution_count": null,
      "outputs": [
        {
          "output_type": "stream",
          "name": "stdout",
          "text": [
            "<class 'dict'>\n",
            "{'Dan': (20, 'London', 13242252), 'Maria': [25, 'Madrid', 34232424]}\n"
          ]
        }
      ]
    },
    {
      "cell_type": "code",
      "source": [
        "#################################\n",
        "## Data Serialization and Deserialization with JSON\n",
        "#################################\n",
        " \n",
        "import json\n",
        " \n",
        "# Declaring a dictionary\n",
        "friends = {\"Dan\": (20, \"London\", 13242252), \"Maria\":[25, \"Madrid\", 34232424]}\n",
        " \n",
        " \n",
        "# Serializing the dictionary to a text file called `friends.json`\n",
        "with open('friends.json', 'wt') as f:\n",
        "    json.dump(friends, f, indent=4)\n",
        " \n",
        " \n",
        "# Serializing the dictionary to a JSON encoded string\n",
        "json_string = json.dumps(friends, indent=4)\n",
        "print(json_string)\n",
        " \n",
        "# Deserializing from file into a Python Object\n",
        "with open('friends.json') as f:\n",
        "    obj = json.load(f)\n",
        " \n",
        "    print(type(obj))  # => dict\n",
        "    print(obj)        # => friends = {\"Dan\": (20, \"London\", 13242252), \"Maria\":[25, \"Madrid\", 34232424]}\n",
        " \n",
        " \n",
        "# Loading a JSON encoded string intro a Python Object\n",
        "json_string = \"\"\"{\n",
        "    \"Dan\": [\n",
        "        20,\n",
        "        \"London\",\n",
        "        13242252\n",
        "    ],\n",
        "    \"Maria\": [\n",
        "        25,\n",
        "        \"Madrid\",\n",
        "        34232424\n",
        "    ]\n",
        "}\"\"\"\n",
        " \n",
        "obj = json.loads(json_string)\n",
        "print(type(obj))    # => dict\n",
        "print(obj)          # => friends = {\"Dan\": (20, \"London\", 13242252), \"Maria\":[25, \"Madrid\", 34232424]}"
      ],
      "metadata": {
        "colab": {
          "base_uri": "https://localhost:8080/"
        },
        "id": "tf5OLS_5ctgZ",
        "outputId": "db3078c6-0b15-42a7-9663-5e8e13183f43"
      },
      "execution_count": null,
      "outputs": [
        {
          "output_type": "stream",
          "name": "stdout",
          "text": [
            "{\n",
            "    \"Dan\": [\n",
            "        20,\n",
            "        \"London\",\n",
            "        13242252\n",
            "    ],\n",
            "    \"Maria\": [\n",
            "        25,\n",
            "        \"Madrid\",\n",
            "        34232424\n",
            "    ]\n",
            "}\n",
            "<class 'dict'>\n",
            "{'Dan': [20, 'London', 13242252], 'Maria': [25, 'Madrid', 34232424]}\n",
            "<class 'dict'>\n",
            "{'Dan': [20, 'London', 13242252], 'Maria': [25, 'Madrid', 34232424]}\n"
          ]
        }
      ]
    },
    {
      "cell_type": "code",
      "source": [
        "###################\n",
        "# Coding Challenge Solution\n",
        "# Simply Serialization\n",
        "###################\n",
        " \n",
        "# Serializing to file\n",
        "def serialize(obj, file, type):\n",
        "    if type == 'pickle':\n",
        "        import pickle\n",
        "        with open(file, 'wb') as f:\n",
        "            pickle.dump(obj, f)\n",
        "    elif type == 'json':\n",
        "        import json\n",
        "        with open(file, 'w') as f:\n",
        "            json.dump(obj, f)\n",
        "    else:\n",
        "        print('Invalid serialization. Use pickle or json!')\n",
        " \n",
        " \n",
        "# Deserializing from from to Python Object\n",
        "def deserialize(file, type):\n",
        "    if type == 'pickle':\n",
        "        import pickle\n",
        "        with open(file, 'rb') as f:\n",
        "            obj = pickle.load(f)\n",
        "        return obj\n",
        "    elif type == 'json':\n",
        "        import json\n",
        "        with open(file, 'r') as f:\n",
        "            obj = json.load(f)\n",
        "            return obj\n",
        "    else:\n",
        "        print('Invalid serialization. Use pickle or json!')\n",
        " \n",
        " \n",
        "if __name__ == \"__main__\":\n",
        " \n",
        "    d1 = {'a': 'x', 'b': 'y', 'c': 'z', 30: (2, 3, 'a')}\n",
        " \n",
        "    # Serializing using pickle\n",
        "    serialize(d1, 'a.dat', 'pickle')\n",
        " \n",
        "    # Deserializing\n",
        "    myDict = deserialize('a.dat', 'pickle')\n",
        "    print(f'pickle: {myDict}')\n",
        " \n",
        "    print('#' * 20)\n",
        " \n",
        "    # serializing using pickle\n",
        "    serialize(d1, 'a.json', 'json')\n",
        " \n",
        "    # deserializing\n",
        "    x = deserialize('a.json', 'json')\n",
        "    # Notice how the tuple value was not preserved!\n",
        "    print(f'json: {x}')  # {'a': 'x', 'b': 'y', 'c': 'z', '30': [2, 3, 'a']}"
      ],
      "metadata": {
        "colab": {
          "base_uri": "https://localhost:8080/"
        },
        "id": "1Z7CCTaHju64",
        "outputId": "026e23d3-2c83-4d8b-c1e6-006a8f212865"
      },
      "execution_count": null,
      "outputs": [
        {
          "output_type": "stream",
          "name": "stdout",
          "text": [
            "pickle: {'a': 'x', 'b': 'y', 'c': 'z', 30: (2, 3, 'a')}\n",
            "####################\n",
            "json: {'a': 'x', 'b': 'y', 'c': 'z', '30': [2, 3, 'a']}\n"
          ]
        }
      ]
    },
    {
      "cell_type": "markdown",
      "source": [
        "Coding Challenge\n",
        "\n",
        "1. Using requests connect to https://jsonplaceholder.typicode.com/users and take the JSON encoded string in Python object\n",
        "\n",
        "2. The resulting Python object will be a list of dictionaries. Process the list and extract the following information for each user:\n",
        "\n",
        "- Name\n",
        "\n",
        "- City\n",
        "\n",
        "- GPS coordinates in form of (LAT, LNG)\n",
        "\n",
        "- Company's name the user is working for\n",
        "\n",
        "3. Write to a CSV File a row for each user. The fields of the CSV file will be: name, city, GPS coordinates and company's name\n",
        "\n",
        "For example for the first user you'll write in the CSV file: Leanne Graham,Gwenborough,\"(-37.3159,81.1496)\",Romaguera-Crona"
      ],
      "metadata": {
        "id": "ZUTIFJTfmsEa"
      }
    },
    {
      "cell_type": "code",
      "source": [
        "###################\n",
        "# Coding Challenge Solution\n",
        "###################\n",
        " \n",
        "import json\n",
        "import requests\n",
        "import csv\n",
        " \n",
        "# getting the json data from the server\n",
        "response = requests.get(\"https://jsonplaceholder.typicode.com/users\")\n",
        " \n",
        "# loading the json encoded string into a Python Object\n",
        "# users it's a list of dictionaries\n",
        "users = json.loads(response.text)\n",
        " \n",
        "# opening the csv file for writing\n",
        "with open('users.csv', 'w') as f:\n",
        "    writer = csv.writer(f)\n",
        " \n",
        "    # write a header to file\n",
        "    writer.writerow((\"Name\", \"City\", \"GPS\", \"Company\"))\n",
        " \n",
        "    # iterating over the users list\n",
        "    for user in users:\n",
        "        # getting the data from the dictionary\n",
        "        name = user['name']\n",
        "        city = user['address']['city']\n",
        "        lat = user['address']['geo']['lat']\n",
        "        lng = user['address']['geo']['lng']\n",
        "        # constructing the GPS coordinates in form of (lat, lng)\n",
        "        geo = f'({lat},{lng})'\n",
        "        company_name = user['company']['name']\n",
        " \n",
        "        # writing to csv file\n",
        "        csv_data = (name, city, geo, company_name)\n",
        "        writer.writerow(csv_data)\n",
        " \n",
        "### The resulting CSV File (users.csv):\n",
        "# Name,City,GPS,Company\n",
        "# Leanne Graham,Gwenborough,\"(-37.3159,81.1496)\",Romaguera-Crona\n",
        "# Ervin Howell,Wisokyburgh,\"(-43.9509,-34.4618)\",Deckow-Crist\n",
        "# Clementine Bauch,McKenziehaven,\"(-68.6102,-47.0653)\",Romaguera-Jacobson\n",
        "# Patricia Lebsack,South Elvis,\"(29.4572,-164.2990)\",Robel-Corkery\n",
        "# Chelsey Dietrich,Roscoeview,\"(-31.8129,62.5342)\",Keebler LLC\n",
        "# Mrs. Dennis Schulist,South Christy,\"(-71.4197,71.7478)\",Considine-Lockman\n",
        "# Kurtis Weissnat,Howemouth,\"(24.8918,21.8984)\",Johns Group\n",
        "# Nicholas Runolfsdottir V,Aliyaview,\"(-14.3990,-120.7677)\",Abernathy Group\n",
        "# Glenna Reichert,Bartholomebury,\"(24.6463,-168.8889)\",Yost and Sons\n",
        "# Clementina DuBuque,Lebsackbury,\"(-38.2386,57.2232)\",Hoeger LLC"
      ],
      "metadata": {
        "id": "aPuXGfNVmEbc"
      },
      "execution_count": null,
      "outputs": []
    },
    {
      "cell_type": "markdown",
      "source": [
        "#Reading Excel File"
      ],
      "metadata": {
        "id": "Qgw_WXCyTKA4"
      }
    },
    {
      "cell_type": "code",
      "source": [
        "#################################\n",
        "## Working with Excel Files in Python\n",
        "## The OpenPyXL Module\n",
        "## Reading Excel Files\n",
        "#################################\n",
        " \n",
        "## Importing the module\n",
        "import openpyxl\n",
        " \n",
        "## Loading an excel file. store.xlsx is in the same directory with the python script\n",
        "## stored.xlsx is attached to this lecture\n",
        "wb = openpyxl.load_workbook('/content/store.xlsx')   # wb is a WorkBook object\n",
        " \n",
        "## Loading an excel file. If there are formulas, values (results of formulas) are read and not the formulas\n",
        "# wb = openpyxl.load_workbook('store.xlsx', data_only=True)\n",
        " \n",
        "## Printing all sheet names\n",
        "print(wb.sheetnames)    # sheetnames is a list\n",
        " \n",
        "## Iterating of the sheets in the workbook and printing their title\n",
        "for sheet in wb:\n",
        "    print(sheet.title)\n",
        " \n",
        "## Getting a sheet by name. All subsequent operations will be done on this sheet\n",
        "sheet = wb['Products']\n",
        " \n",
        "## Getting the active sheet. By default it's the last opened sheet\n",
        "sheet = wb.active\n",
        " \n",
        "## Getting cells\n",
        "b2_cell = sheet['B2']\n",
        "c2_cell = sheet['c2']\n",
        " \n",
        "## Getting values of cells\n",
        "print(b2_cell.value, c2_cell.value)\n",
        " \n",
        "## Another way to get the values of cells\n",
        "print(sheet.cell(row=4, column=2).value)\n",
        "print(c2_cell.row, c2_cell.column)\n",
        " \n",
        "## Getting the data type\n",
        "print(sheet['A5'].data_type)\n",
        "print(sheet['B5'].data_type)\n",
        " \n",
        "## Getting the encoding format of cell\n",
        "print(sheet['A5'].encoding)\n",
        " \n",
        " \n",
        "print(sheet['D4'].parent)\n",
        " \n",
        "## Printing all cell methods\n",
        "print(dir(b2_cell))\n",
        " \n",
        "## Getting a cell range\n",
        "cell_range = sheet['B2:C11']\n",
        " \n",
        "## Iterating over the cell range\n",
        "for product, price in cell_range:\n",
        "    print(f'Product: {product.value}    Price:{price.value}')\n",
        " \n",
        " \n",
        "## Getting the sheet dimensions\n",
        "print(f'Sheet Dimentions: {sheet.dimensions}')\n",
        "print(sheet.max_row, sheet.max_column)\n",
        " \n",
        "## Iterating and getting all data in a sheet\n",
        "for a, b, c, d in sheet[sheet.dimensions]:\n",
        "    print(a.value, b.value, c.value, d.value)\n",
        " \n",
        " \n",
        "for row in sheet.rows:\n",
        "    for cell in row:\n",
        "        print(f'{cell.value} ', end='')\n",
        "    print('\\n')\n",
        " \n",
        "## Another way to get all data in sheet. every row is a tuple\n",
        "for row in sheet.values:\n",
        "    print(row)"
      ],
      "metadata": {
        "id": "S_YQyeUHnGY6",
        "colab": {
          "base_uri": "https://localhost:8080/"
        },
        "outputId": "0aef6341-cc2b-4204-b2dd-ba1a0dee6438"
      },
      "execution_count": null,
      "outputs": [
        {
          "output_type": "stream",
          "name": "stdout",
          "text": [
            "['Products', 'Sales 2018']\n",
            "Products\n",
            "Sales 2018\n",
            "30000 None\n",
            "32000\n",
            "2 3\n",
            "s\n",
            "n\n",
            "utf-8\n",
            "<Worksheet \"Sales 2018\">\n",
            "['__class__', '__delattr__', '__dir__', '__doc__', '__eq__', '__format__', '__ge__', '__getattribute__', '__gt__', '__hash__', '__init__', '__init_subclass__', '__le__', '__lt__', '__module__', '__ne__', '__new__', '__reduce__', '__reduce_ex__', '__repr__', '__setattr__', '__sizeof__', '__slots__', '__str__', '__subclasshook__', '_bind_value', '_comment', '_hyperlink', '_style', '_value', 'alignment', 'base_date', 'border', 'check_error', 'check_string', 'col_idx', 'column', 'column_letter', 'comment', 'coordinate', 'data_type', 'encoding', 'fill', 'font', 'has_style', 'hyperlink', 'internal_value', 'is_date', 'number_format', 'offset', 'parent', 'pivotButton', 'protection', 'quotePrefix', 'row', 'style', 'style_id', 'value']\n",
            "Product: 30000    Price:None\n",
            "Product: 26000    Price:None\n",
            "Product: 32000    Price:None\n",
            "Product: 28000    Price:None\n",
            "Product: 24000    Price:None\n",
            "Product: 32000    Price:None\n",
            "Product: 34000    Price:None\n",
            "Product: 36000    Price:None\n",
            "Product: 38000    Price:None\n",
            "Product: 39000    Price:None\n",
            "Sheet Dimentions: A1:D13\n",
            "13 4\n",
            "None Total Sales None None\n",
            "January 30000 None None\n",
            "February 26000 None None\n",
            "March 32000 None None\n",
            "April 28000 None None\n",
            "May 24000 None None\n",
            "June 32000 None None\n",
            "July 34000 None None\n",
            "August 36000 None None\n",
            "September 38000 None None\n",
            "October 39000 None None\n",
            "November 40000 None None\n",
            "December 37000 None None\n",
            "None Total Sales None None \n",
            "\n",
            "January 30000 None None \n",
            "\n",
            "February 26000 None None \n",
            "\n",
            "March 32000 None None \n",
            "\n",
            "April 28000 None None \n",
            "\n",
            "May 24000 None None \n",
            "\n",
            "June 32000 None None \n",
            "\n",
            "July 34000 None None \n",
            "\n",
            "August 36000 None None \n",
            "\n",
            "September 38000 None None \n",
            "\n",
            "October 39000 None None \n",
            "\n",
            "November 40000 None None \n",
            "\n",
            "December 37000 None None \n",
            "\n",
            "(None, 'Total Sales', None, None)\n",
            "('January', 30000, None, None)\n",
            "('February', 26000, None, None)\n",
            "('March', 32000, None, None)\n",
            "('April', 28000, None, None)\n",
            "('May', 24000, None, None)\n",
            "('June', 32000, None, None)\n",
            "('July', 34000, None, None)\n",
            "('August', 36000, None, None)\n",
            "('September', 38000, None, None)\n",
            "('October', 39000, None, None)\n",
            "('November', 40000, None, None)\n",
            "('December', 37000, None, None)\n"
          ]
        }
      ]
    },
    {
      "cell_type": "markdown",
      "source": [
        "#Writing Excel File"
      ],
      "metadata": {
        "id": "q7XtBCgITNyi"
      }
    },
    {
      "cell_type": "code",
      "source": [
        "#################################\n",
        "## Working with Excel Files in Python\n",
        "## The OpenPyXL Module\n",
        "## Writing Excel Files\n",
        "#################################\n",
        " \n",
        "## Importing the module\n",
        "import openpyxl\n",
        " \n",
        " \n",
        "## Loading an excel file. store.xlsx is in the same directory with the python script\n",
        "wb = openpyxl.load_workbook('/content/sample_data/store.xlsx')\n",
        " \n",
        "## Getting the active sheet (last opened sheet)\n",
        "sheet = wb.active\n",
        " \n",
        "## Change the value in cell\n",
        "sheet['d2'] = 400\n",
        " \n",
        "## Adding a new row\n",
        "new_product = (11, 'Tablet', 12, 600, 12*600)       # this is a tuple\n",
        "sheet.append(new_product)\n",
        " \n",
        "## Iterating and updating an entire column\n",
        "for c, d, e in sheet['c2:e12']:\n",
        "  #print(c.value, d.value)\n",
        "  e.value = c.value * d.value\n",
        " \n",
        "## Saving the file\n",
        "wb.save('store.xlsx')"
      ],
      "metadata": {
        "id": "i0p0eBrzPaHb"
      },
      "execution_count": null,
      "outputs": []
    },
    {
      "cell_type": "markdown",
      "source": [
        "#Creating new excel File"
      ],
      "metadata": {
        "id": "n9hEu5O3TQ7w"
      }
    },
    {
      "cell_type": "code",
      "source": [
        "#################################\n",
        "## Working with Excel Files in Python\n",
        "## The OpenPyXL Module\n",
        "## Creating a new Excel File\n",
        "#################################\n",
        " \n",
        "## Importing the module\n",
        "import openpyxl\n",
        " \n",
        "## Creating an in-memory Workbook\n",
        "wb = openpyxl.Workbook()\n",
        " \n",
        "## Getting the active sheet. This will be the only sheet in the workbook\n",
        "sheet = wb.active\n",
        " \n",
        " \n",
        "## Updating the new sheet using cells' addresses\n",
        "sheet['A1'] = 'Year'\n",
        "sheet['B1'] = 'Sales'\n",
        " \n",
        "sales = {2017:700000, 2018: 800000, 2019: 900000}   # dictionary\n",
        " \n",
        " \n",
        "## Iterating over the dictionary and appending to the sheet\n",
        "for k,v in sales.items():\n",
        "    sheet.append((k,v))\n",
        " \n",
        " \n",
        "## Saving the Workbook (in the same directory with the python script)\n",
        "wb.save('sales.xlsx')"
      ],
      "metadata": {
        "id": "8Psix2lcR9X4"
      },
      "execution_count": null,
      "outputs": []
    },
    {
      "cell_type": "markdown",
      "source": [
        "#Excel formula"
      ],
      "metadata": {
        "id": "dyFDwRVlWXY7"
      }
    },
    {
      "cell_type": "code",
      "source": [
        "#################################\n",
        "## Working with Excel Files in Python\n",
        "## The OpenPyXL Module\n",
        "## Using Excel Formulas\n",
        "#################################\n",
        " \n",
        "## Importing the module\n",
        "import openpyxl\n",
        " \n",
        "## Loading an excel file. store.xlsx is in the same directory with the python script\n",
        "wb = openpyxl.load_workbook('/content/store.xlsx')\n",
        " \n",
        "## Getting a sheet by name\n",
        "sheet = wb['Products']\n",
        " \n",
        "## Iterating over a cell range and writing an Excel formula in each cell of a column\n",
        "for c, d, e in sheet['c2:e12']:\n",
        "    e.value = f'={c.coordinate}*{d.coordinate}' #writing an Excel formula to each cell. The formula is written as a string\n",
        " \n",
        " \n",
        "## Getting another sheet of the Workbook\n",
        "sheet = wb['Sales 2018']\n",
        " \n",
        "## Writing an Excel formula (=sum(B2:B13)\n",
        "sheet['B14']='=sum(B2:B13)'\n",
        " \n",
        " \n",
        "## Saving the file\n",
        "wb.save('store.xlsx')"
      ],
      "metadata": {
        "id": "q8c4VbOYUr69"
      },
      "execution_count": null,
      "outputs": []
    },
    {
      "cell_type": "markdown",
      "source": [
        "#Excel sheet operation"
      ],
      "metadata": {
        "id": "AI8mHr1UY7N4"
      }
    },
    {
      "cell_type": "code",
      "source": [
        "#################################\n",
        "## Working with Excel Files in Python\n",
        "## The OpenPyXL Module\n",
        "## Sheets Operations\n",
        "#################################\n",
        " \n",
        "## Importing the module\n",
        "import openpyxl\n",
        " \n",
        " \n",
        "## Loading an excel file. store.xlsx is in the same directory with the python script\n",
        "wb = openpyxl.load_workbook('store.xlsx')\n",
        " \n",
        " \n",
        "## Printing all sheets by name\n",
        "print(wb.sheetnames)\n",
        " \n",
        "## Getting a sheet by name\n",
        "sheet = wb['Products']\n",
        " \n",
        "## Printing all sheet's methods\n",
        "print(dir(sheet))\n",
        " \n",
        "## Changing the sheet title\n",
        "# sheet.title = 'Products for sale'\n",
        " \n",
        " \n",
        "## Printing sheet properties\n",
        "print(sheet.sheet_format)\n",
        "print(sheet.sheet_properties)\n",
        " \n",
        " \n",
        "## Create a new sheet on first position in the Workbook (by default will be the last)\n",
        "wb.create_sheet('Turnover1',0)\n",
        " \n",
        "## Getting a sheet by name\n",
        "sheet1 = wb['Turnover1']\n",
        " \n",
        "## Removing a sheet by name\n",
        "wb.remove(sheet1)\n",
        " \n",
        "## Copying sheets in the same Workbook\n",
        "source = wb['Turnover']\n",
        "destination = wb.copy_worksheet(source)\n",
        "# print(destination.title)\n",
        " \n",
        "## Saving the changes\n",
        "wb.save('store.xlsx')"
      ],
      "metadata": {
        "id": "QPQUEuLtWnKW"
      },
      "execution_count": null,
      "outputs": []
    },
    {
      "cell_type": "markdown",
      "source": [
        "#Working with Sheet Style"
      ],
      "metadata": {
        "id": "_nay6BL2cL3b"
      }
    },
    {
      "cell_type": "code",
      "source": [
        "#################################\n",
        "## Working with Excel Files in Python\n",
        "## The OpenPyXL Module\n",
        "## Working with Styles\n",
        "#################################\n",
        " \n",
        "## Importing the module\n",
        "import openpyxl\n",
        " \n",
        "## Importing everything from the styles submodule\n",
        "from openpyxl.styles import *\n",
        " \n",
        "## Importing copy() function from copy module to copy styles\n",
        "from copy import copy\n",
        " \n",
        "## Loading an excel file. store.xlsx is in the same directory with the python script\n",
        "wb = openpyxl.load_workbook('store.xlsx')\n",
        " \n",
        " \n",
        "## Getting a sheet\n",
        "sheet = wb['Products']\n",
        " \n",
        "## Getting a cell by address. It will be modified\n",
        "my_cell = sheet['B4']\n",
        " \n",
        "## Printing all available styles\n",
        "# print(dir(openpyxl.styles))\n",
        " \n",
        "## Changing and setting a new font\n",
        "font = Font(name='Tahoma', size=16, color='#8B0000', bold=True, italic=True, strike=False)\n",
        "my_cell.font = font\n",
        " \n",
        "## Setting a Pattern Fill\n",
        "fill = PatternFill(fill_type='solid', fgColor=colors.YELLOW)\n",
        "my_cell.fill = fill\n",
        " \n",
        "## Setting cell border\n",
        "double_border_green = Side(border_style='double', color=colors.GREEN)\n",
        "thin_border_red = Side(border_style='thin', color='FF0000')\n",
        "my_cell.border = Border(left=double_border_green, right=thin_border_red, top=double_border_green,\n",
        "                        bottom=thin_border_red)\n",
        " \n",
        "## Setting cell's content alignment\n",
        "alignment = Alignment(horizontal='right', vertical='center')\n",
        "my_cell.alignment = alignment\n",
        " \n",
        "## Copy styles from a cell to another\n",
        "new_cell = sheet['B10']\n",
        "new_font = copy(my_cell.font)\n",
        "new_font.color = colors.GREEN\n",
        "new_cell.font = new_font\n",
        " \n",
        "## Saving the changes\n",
        "wb.save('store.xlsx')"
      ],
      "metadata": {
        "id": "UNYKnoT4ZBzQ"
      },
      "execution_count": null,
      "outputs": []
    },
    {
      "cell_type": "markdown",
      "source": [
        "#SQLite"
      ],
      "metadata": {
        "id": "zyGlybRFs2h5"
      }
    },
    {
      "cell_type": "markdown",
      "source": [
        "it is the most use database engne in the world. it is likely used more than all other database engine combined.\n",
        "1. Application\n",
        "- android device\n",
        "- iphone & ios device\n",
        "- Mac\n",
        "- Windows 10 \n",
        "- firefox, Chrome, Safari web browser\n",
        "- Every instance of skype or itunes\n",
        "- Most television and setup box\n",
        "- Most automotive multimedia system \n",
        "- IOT\n",
        "2. SQLite is probably one of the top five most development software module in the world, other libraries with similar reach include 'zlib', 'libpng', 'libjpeg'."
      ],
      "metadata": {
        "id": "aEHnXvA-rYUw"
      }
    },
    {
      "cell_type": "markdown",
      "source": [
        "###SQLite Advantages\n",
        "- self contained and embedded sql engine\n",
        "- Zero configuration database\n",
        "- High performance in low memory enviroments\n",
        "- very carefully tested\n",
        "- it's easy be compiled and deployed"
      ],
      "metadata": {
        "id": "WVFt390iuH2p"
      }
    },
    {
      "cell_type": "markdown",
      "source": [
        "### When to use sqlite\n",
        "- Embedded device and the internet of things\n",
        "- Website (less than 100k hits/day)\n",
        "- Data analysis\n",
        "- Data transfer format"
      ],
      "metadata": {
        "id": "AspUWYnmvOOQ"
      }
    },
    {
      "cell_type": "markdown",
      "source": [
        "##sql kewords(case sensative)\n",
        "- SELECT\n",
        "- CREATE\n",
        "- UPDATE\n",
        "- DELETE\n",
        "- MODIFY"
      ],
      "metadata": {
        "id": "amyyQmTqxgo5"
      }
    },
    {
      "cell_type": "markdown",
      "source": [
        "connecting SQLite DB and creating table with python"
      ],
      "metadata": {
        "id": "XNNl_StjwY74"
      }
    },
    {
      "cell_type": "code",
      "source": [
        "#import SQLite BD\n",
        "import sqlite3\n",
        "\n",
        "#connection creation\n",
        "connection = sqlite3.connect('/content/sample_data/my_database.db')\n",
        "\n",
        "#create cursor object to execute the sql statement\n",
        "cursor = connection.cursor()\n",
        "\n",
        "#SQL statements\n",
        "sql = \"\"\"\n",
        "CREATE TABLE IF NOT EXISTS employees(\n",
        "  id INTEGER,\n",
        "  name VARCHAR(64),\n",
        "  department VARCHAR(32),\n",
        "  phone VARCHAR(16),\n",
        "  email VARCHAR(32)\n",
        ");\n",
        "\"\"\"\n",
        "#call the cursor object method ===> execute(var_name)\n",
        "cursor.execute(sql)\n",
        "\n",
        "#manually commite the transaction\n",
        "connection.commit()\n",
        "\n",
        "#close the transaction \n",
        "connection.close()"
      ],
      "metadata": {
        "id": "EZWyhtc9tRF9"
      },
      "execution_count": null,
      "outputs": []
    },
    {
      "cell_type": "code",
      "source": [
        "#################################\n",
        "## Working with Sqlite Databases in Python\n",
        "## Connecting to an Sqlite DB and Creating Tables with Python\n",
        "#################################\n",
        " \n",
        "## Importing the module\n",
        "import sqlite3\n",
        " \n",
        "## Opening the connection to the database (if it exists) or create the db if it doesn't exist\n",
        "connection = sqlite3.connect('my_database1.db')\n",
        " \n",
        "## Creating a cursor object\n",
        "c = connection.cursor()\n",
        " \n",
        "## Creating an Sql Statement as a multiline string\n",
        "## This sql creates a table with 5 fields (columns)\n",
        "sql = \"\"\"\n",
        "        CREATE TABLE IF NOT EXISTS employees (\n",
        "         id INTEGER,\n",
        "         name VARCHAR(64),\n",
        "         department VARCHAR(32),\n",
        "         phone VARCHAR(16),\n",
        "         email VARCHAR(32)\n",
        "        )\n",
        "        \"\"\"\n",
        " \n",
        "## Execute the sql against the database (db)\n",
        "c.execute(sql)\n",
        " \n",
        " \n",
        "## Committing the changes\n",
        "connection.commit()\n",
        " \n",
        "## Closing the connection to the database\n",
        "connection.close()"
      ],
      "metadata": {
        "id": "AQBsL2QT1M4e"
      },
      "execution_count": null,
      "outputs": []
    },
    {
      "cell_type": "markdown",
      "source": [
        "## INSERT with python"
      ],
      "metadata": {
        "id": "vjt9FZO61pt0"
      }
    },
    {
      "cell_type": "code",
      "source": [
        "#import sqlite db\n",
        "import sqlite3\n",
        "\n",
        "#create the connection to the database\n",
        "connection = sqlite3.connect('/content/my_db.db')\n",
        "\n",
        "#create a cursor \n",
        "cursor = connection.cursor()\n",
        "\n",
        "sql = \"\"\"\n",
        "INSERT INTO employees(id, name, department, phone, email) VALUES (23, 'Sopan', 'AIML', '7249594818', 'sopan@gmail.com');\n",
        "INSERT INTO employees VALUES(4, 'rushi', 'aiml', '9421254839', 'rushi@gmial.com');\n",
        "INSERT INTO employees VALUES(31, 'sakshi', 'aiml', '9129394759', 'sakshi@gamil.com');\n",
        "\"\"\"\n",
        "\n",
        "#execute the sql statement using second one method ===> executescript(var_name)\n",
        "cursor.executescript(sql)\n",
        "\n",
        "#commit and close connection\n",
        "connection.commit()\n",
        "connection.close()"
      ],
      "metadata": {
        "id": "gIRJRGb31mji"
      },
      "execution_count": null,
      "outputs": []
    },
    {
      "cell_type": "markdown",
      "source": [
        "##execute() method\n",
        "- executes one sql statements\n",
        "\n",
        "\n",
        "## executescript()\n",
        "- executes more than one sql statements"
      ],
      "metadata": {
        "id": "T4dMNAdQ5j1V"
      }
    },
    {
      "cell_type": "markdown",
      "source": [
        "#Establish connection"
      ],
      "metadata": {
        "id": "jaJ9PV8GBBzB"
      }
    },
    {
      "cell_type": "code",
      "source": [
        "#import and establish connection by an connection object.\n",
        "import sqlite3\n",
        "connection = sqlite3.connect('my_db.db')\n",
        "\n",
        "#create cursor using the cursor method of the connection object\n",
        "cursor = connection.cursor()"
      ],
      "metadata": {
        "id": "6eLPiRQm51FV"
      },
      "execution_count": null,
      "outputs": []
    },
    {
      "cell_type": "markdown",
      "source": [
        "#Create table"
      ],
      "metadata": {
        "id": "J-Ly26z0BIvm"
      }
    },
    {
      "cell_type": "code",
      "source": [
        "#SQL statements\n",
        "sql = \"\"\"\n",
        "CREATE TABLE IF NOT EXISTS employees(\n",
        "  id INTEGER,\n",
        "  name VARCHAR(64),\n",
        "  department VARCHAR(32),\n",
        "  phone VARCHAR(16),\n",
        "  email VARCHAR(32)\n",
        ");\n",
        "\"\"\"\n",
        "#call the cursor object method ===> execute(var_name)\n",
        "cursor.execute(sql)"
      ],
      "metadata": {
        "colab": {
          "base_uri": "https://localhost:8080/"
        },
        "id": "CgKyQKFtAp9T",
        "outputId": "f6ff524d-9c15-47e1-e4aa-39beccf51f16"
      },
      "execution_count": null,
      "outputs": [
        {
          "output_type": "execute_result",
          "data": {
            "text/plain": [
              "<sqlite3.Cursor at 0x7f2b3cc032d0>"
            ]
          },
          "metadata": {},
          "execution_count": 15
        }
      ]
    },
    {
      "cell_type": "markdown",
      "source": [
        "#Insert Into Table"
      ],
      "metadata": {
        "id": "ez0X_9DTBNT1"
      }
    },
    {
      "cell_type": "code",
      "source": [
        "#create a cursor \n",
        "cursor = connection.cursor()\n",
        "\n",
        "sql = \"\"\"\n",
        "INSERT INTO employees(id, name, department, phone, email) VALUES (23, 'Sopan', 'AIML', '7249594818', 'sopan@gmail.com');\n",
        "INSERT INTO employees VALUES(4, 'rushi', 'aiml', '9421254839', 'rushi@gmial.com');\n",
        "INSERT INTO employees VALUES(31, 'sakshi', 'aiml', '9129394759', 'sakshi@gamil.com');\n",
        "\"\"\"\n",
        "\n",
        "#execute the sql statement using second one method ===> executescript(var_name)\n",
        "cursor.executescript(sql)"
      ],
      "metadata": {
        "colab": {
          "base_uri": "https://localhost:8080/"
        },
        "id": "KO263YJoAZ_T",
        "outputId": "efe56cfa-6e82-49dc-cc60-f3b1ebb3aaca"
      },
      "execution_count": null,
      "outputs": [
        {
          "output_type": "execute_result",
          "data": {
            "text/plain": [
              "<sqlite3.Cursor at 0x7f2b3cc03570>"
            ]
          },
          "metadata": {},
          "execution_count": 16
        }
      ]
    },
    {
      "cell_type": "markdown",
      "source": [
        "##SELECTING with Python"
      ],
      "metadata": {
        "id": "QUc5fSd4-jvK"
      }
    },
    {
      "cell_type": "code",
      "source": [
        "#execute the select statements\n",
        "sql = 'SELECT * FROM employees'\n",
        "cursor.execute(sql)\n",
        "#for row in cursor.fetchall():\n",
        "for row in cursor:\n",
        "  print(row)\n",
        "#connection.close()"
      ],
      "metadata": {
        "colab": {
          "base_uri": "https://localhost:8080/"
        },
        "id": "sNZYGrcm_W4R",
        "outputId": "98d74385-8f84-4f80-97ef-f58218c9b892"
      },
      "execution_count": null,
      "outputs": [
        {
          "output_type": "stream",
          "name": "stdout",
          "text": [
            "(23, 'Sopan', 'AIML', '7249594818', 'sopan@gmail.com')\n",
            "(4, 'rushi', 'aiml', '9421254839', 'rushi@gmial.com')\n",
            "(31, 'sakshi', 'aiml', '9129394759', 'sakshi@gamil.com')\n",
            "(23, 'Sopan', 'AIML', '7249594818', 'sopan@gmail.com')\n",
            "(4, 'rushi', 'aiml', '9421254839', 'rushi@gmial.com')\n",
            "(31, 'sakshi', 'aiml', '9129394759', 'sakshi@gamil.com')\n",
            "(23, 'Sopan', 'AIML', '7249594818', 'sopan@gmail.com')\n",
            "(4, 'rushi', 'aiml', '9421254839', 'rushi@gmial.com')\n",
            "(31, 'sakshi', 'aiml', '9129394759', 'sakshi@gamil.com')\n"
          ]
        }
      ]
    },
    {
      "cell_type": "markdown",
      "source": [
        "#Select specific column"
      ],
      "metadata": {
        "id": "TvBvXH59B1ps"
      }
    },
    {
      "cell_type": "code",
      "source": [
        "#declare sql statments for specific row\n",
        "spec = 'SELECT name, id FROM employees'\n",
        "cursor.execute(spec)\n",
        "for row in cursor:\n",
        "  print(row)"
      ],
      "metadata": {
        "colab": {
          "base_uri": "https://localhost:8080/"
        },
        "id": "YWRx1XMBAN-X",
        "outputId": "b7a9ea7d-cfe3-4d77-d0bd-3e85fbc8715f"
      },
      "execution_count": null,
      "outputs": [
        {
          "output_type": "stream",
          "name": "stdout",
          "text": [
            "('Sopan', 23)\n",
            "('rushi', 4)\n",
            "('sakshi', 31)\n",
            "('Sopan', 23)\n",
            "('rushi', 4)\n",
            "('sakshi', 31)\n",
            "('Sopan', 23)\n",
            "('rushi', 4)\n",
            "('sakshi', 31)\n"
          ]
        }
      ]
    },
    {
      "cell_type": "markdown",
      "source": [
        "#where clause\n",
        "- where clause use \"like\" keyword\n",
        "- \"%\" is wildcart character that can be use to specifying any character."
      ],
      "metadata": {
        "id": "orqBdOZuDArV"
      }
    },
    {
      "cell_type": "code",
      "source": [
        "#where clause with like keyword\n",
        "where = 'SELECT * FROM employees WHERE name LIKE \"S%\"'\n",
        "cursor.execute(where)\n",
        "\n",
        "for row in cursor:\n",
        "  print(row)"
      ],
      "metadata": {
        "colab": {
          "base_uri": "https://localhost:8080/"
        },
        "id": "FAeJSWcFCb53",
        "outputId": "775bec66-78ed-47d6-9adb-4c2d1e1e7957"
      },
      "execution_count": null,
      "outputs": [
        {
          "output_type": "stream",
          "name": "stdout",
          "text": [
            "(23, 'Sopan', 'AIML', '7249594818', 'sopan@gmail.com')\n",
            "(31, 'sakshi', 'aiml', '9129394759', 'sakshi@gamil.com')\n",
            "(23, 'Sopan', 'AIML', '7249594818', 'sopan@gmail.com')\n",
            "(31, 'sakshi', 'aiml', '9129394759', 'sakshi@gamil.com')\n",
            "(23, 'Sopan', 'AIML', '7249594818', 'sopan@gmail.com')\n",
            "(31, 'sakshi', 'aiml', '9129394759', 'sakshi@gamil.com')\n"
          ]
        }
      ]
    },
    {
      "cell_type": "code",
      "source": [
        "#where clause\n",
        "where = 'SELECT * FROM employees WHERE id=23'\n",
        "\n",
        "#call execute method of cursor obejct\n",
        "cursor.execute(where)\n",
        "\n",
        "#fetch single row using fetchone() method of cursor object\n",
        "row = cursor.fetchone()\n",
        "print(row)"
      ],
      "metadata": {
        "colab": {
          "base_uri": "https://localhost:8080/"
        },
        "id": "PejkX6gQGLRY",
        "outputId": "ef943359-eee2-4ef3-e994-f57e9f95d8c6"
      },
      "execution_count": null,
      "outputs": [
        {
          "output_type": "stream",
          "name": "stdout",
          "text": [
            "(23, 'Sopan', 'AIML', '7249594818', 'sopan@gmail.com')\n"
          ]
        }
      ]
    },
    {
      "cell_type": "markdown",
      "source": [
        "#Group clause (ORDER BY)\n",
        "- by default it sorted by ASENDING \n",
        "- you want to order by decending(DESC) use to describe"
      ],
      "metadata": {
        "id": "KC4uTxjxEQJa"
      }
    },
    {
      "cell_type": "code",
      "source": [
        "#order by claues\n",
        "oby = 'SELECT * FROM employees WHERE name LIKE \"S%\" ORDER BY id DESC'\n",
        "cursor.execute(oby)\n",
        "\n",
        "for row in cursor:\n",
        "  print(row)\n",
        "connection.close()"
      ],
      "metadata": {
        "colab": {
          "base_uri": "https://localhost:8080/"
        },
        "id": "FTg6jEgeEE2Q",
        "outputId": "8f1d913c-337e-4f7f-8579-a4f9297e824d"
      },
      "execution_count": null,
      "outputs": [
        {
          "output_type": "stream",
          "name": "stdout",
          "text": [
            "(31, 'sakshi', 'aiml', '9129394759', 'sakshi@gamil.com')\n",
            "(31, 'sakshi', 'aiml', '9129394759', 'sakshi@gamil.com')\n",
            "(31, 'sakshi', 'aiml', '9129394759', 'sakshi@gamil.com')\n",
            "(23, 'Sopan', 'AIML', '7249594818', 'sopan@gmail.com')\n",
            "(23, 'Sopan', 'AIML', '7249594818', 'sopan@gmail.com')\n",
            "(23, 'Sopan', 'AIML', '7249594818', 'sopan@gmail.com')\n"
          ]
        }
      ]
    },
    {
      "cell_type": "markdown",
      "source": [
        "#Some combined operation of SELECT"
      ],
      "metadata": {
        "id": "cJJl0XwkHYAg"
      }
    },
    {
      "cell_type": "code",
      "source": [
        "#################################\n",
        "## Working with Sqlite Databases in Python\n",
        "## Selecting data from a table\n",
        "#################################\n",
        " \n",
        "## Importing the module\n",
        "import sqlite3\n",
        " \n",
        "## Opening the connection to the database (if it exists) or create the db if it doesn't exist\n",
        "connection = sqlite3.connect('my_database.db')\n",
        " \n",
        "## Creating a cursor object\n",
        "cursor = connection.cursor()\n",
        " \n",
        "## Creating the sql statement\n",
        "sql = 'select * from employees'\n",
        " \n",
        "## A more complex sql select statement\n",
        "## sql = 'select * from employees where name LIKE \"A%\" order by name desc'\n",
        " \n",
        " \n",
        "## Execute the sql against the database (db)\n",
        "cursor.execute(sql)\n",
        " \n",
        " \n",
        "## Iterating over the result and printing each record of the table\n",
        "for row in cursor.fetchall():\n",
        "    print(row)\n",
        " \n",
        " \n",
        " \n",
        "## Committing the changes (if any)\n",
        "connection.commit()\n",
        " \n",
        "## Closing the connection to the database\n",
        "connection.close()"
      ],
      "metadata": {
        "id": "fRI0O-uxFSLN"
      },
      "execution_count": null,
      "outputs": []
    },
    {
      "cell_type": "markdown",
      "source": [
        "#Parameterized Queries"
      ],
      "metadata": {
        "id": "6NhfRXCobWwG"
      }
    },
    {
      "cell_type": "code",
      "source": [
        "#################################\n",
        "## Working with Sqlite Databases in Python\n",
        "## Parameterized Queries\n",
        "#################################\n",
        " \n",
        "## Importing the module\n",
        "import sqlite3\n",
        " \n",
        "## Opening the connection to the database (if it exists) or create the db if it doesn't exist\n",
        "connection = sqlite3.connect('my_database.db')\n",
        " \n",
        "## Creating a cursor object\n",
        "cursor = connection.cursor()\n",
        " \n",
        " \n",
        "## User enters an ID:\n",
        "id = input('Enter ID:')\n",
        " \n",
        "## Select the record with the ID entered by the user\n",
        "## ? is placeholder, will be replaced with id entered by the user\n",
        "sql = 'select * from employees where id = ?;'\n",
        " \n",
        " \n",
        "## Execute the sql against the database (db)\n",
        "## The second argument is a tuple. Each element of the tuple will replace a ? in the sql statement.\n",
        "cursor.execute(sql, (id,))\n",
        " \n",
        "## Iterating over the result and printing each record of the table\n",
        "for row in cursor.fetchall():\n",
        "    print(row)\n",
        " \n",
        " \n",
        "## A 2nd example. Inserting a new record\n",
        " \n",
        "## Creating a new record as a tuple\n",
        "record = (10, 'Leonardo Romano', 'Marketing', '+40122111', 'leo@x.com')\n",
        " \n",
        "## Creating the sql statement. Each ? will be replaces with an item of the tuple\n",
        "sql = 'insert into employees values (?,?,?,?,?);'\n",
        " \n",
        "## The second argument is a tuple. Each element of the tuple will replace a ? in the sql statement.\n",
        "cursor.execute(sql, record)\n",
        " \n",
        " \n",
        "## Committing the changes\n",
        "connection.commit()\n",
        " \n",
        "## Closing the connection to the database\n",
        "connection.close()"
      ],
      "metadata": {
        "id": "lEtwPXbgWPQq"
      },
      "execution_count": null,
      "outputs": []
    },
    {
      "cell_type": "markdown",
      "source": [
        "#UPDATE with python\n",
        "- we use \"SET\" keyword"
      ],
      "metadata": {
        "id": "h7-35yC5bvae"
      }
    },
    {
      "cell_type": "code",
      "source": [
        "#before updating\n",
        "import sqlite3\n",
        "connection = sqlite3.connect('/content/my_db.db')\n",
        "\n",
        "cursor = connection.cursor()\n",
        "sql = 'SELECT * FROM employees'\n",
        "\n",
        "cursor.execute(sql)\n",
        "for row in cursor:\n",
        "  print(row)\n",
        "connection.close()"
      ],
      "metadata": {
        "colab": {
          "base_uri": "https://localhost:8080/"
        },
        "id": "_gtZyqo0c7xw",
        "outputId": "9595934d-4e76-47ea-d199-c2d732fc44ff"
      },
      "execution_count": null,
      "outputs": [
        {
          "output_type": "stream",
          "name": "stdout",
          "text": [
            "(23, 'Sopan', 'AIML', '7249594818', 'sopan@gmail.com')\n",
            "(4, 'rushi', 'aiml', '9421254839', 'rushi@gmial.com')\n",
            "(31, 'sakshi', 'aiml', '9129394759', 'sakshi@gamil.com')\n",
            "(23, 'Sopan', 'AIML', '7249594818', 'sopan@gmail.com')\n",
            "(4, 'rushi', 'aiml', '9421254839', 'rushi@gmial.com')\n",
            "(31, 'sakshi', 'aiml', '9129394759', 'sakshi@gamil.com')\n",
            "(23, 'Sopan', 'AIML', '7249594818', 'sopan@gmail.com')\n",
            "(4, 'rushi', 'aiml', '9421254839', 'rushi@gmial.com')\n",
            "(31, 'sakshi', 'aiml', '9129394759', 'sakshi@gamil.com')\n"
          ]
        }
      ]
    },
    {
      "cell_type": "code",
      "source": [
        "#import sql module & establish connection and create connection object\n",
        "import sqlite3\n",
        "connection = sqlite3.connect('/content/my_db.db')\n",
        "cursor = connection.cursor()\n",
        "\n",
        "#create sql statments for update and execute them\n",
        "sql = 'UPDATE employees SET phone=\"12345678\" WHERE id=31'\n",
        "cursor.execute(sql)\n",
        "\n",
        "#commit & close the connection\n",
        "connection.commit()\n",
        "connection.close()"
      ],
      "metadata": {
        "id": "aXWKQ0-abso4"
      },
      "execution_count": null,
      "outputs": []
    },
    {
      "cell_type": "code",
      "source": [
        "#after updating\n",
        "import sqlite3\n",
        "connection = sqlite3.connect('/content/my_db.db')\n",
        "\n",
        "cursor = connection.cursor()\n",
        "sql = 'SELECT * FROM employees'\n",
        "\n",
        "cursor.execute(sql)\n",
        "for row in cursor:\n",
        "  print(row)\n",
        "connection.close()"
      ],
      "metadata": {
        "colab": {
          "base_uri": "https://localhost:8080/"
        },
        "id": "XTKcDPKPeQ-_",
        "outputId": "2d5e787a-8c7a-4b16-f242-3a6cc1fe1e21"
      },
      "execution_count": null,
      "outputs": [
        {
          "output_type": "stream",
          "name": "stdout",
          "text": [
            "(23, 'Sopan', 'AIML', '7249594818', 'sopan@gmail.com')\n",
            "(4, 'rushi', 'aiml', '9421254839', 'rushi@gmial.com')\n",
            "(31, 'sakshi', 'aiml', '12345678', 'sakshi@gamil.com')\n",
            "(23, 'Sopan', 'AIML', '7249594818', 'sopan@gmail.com')\n",
            "(4, 'rushi', 'aiml', '9421254839', 'rushi@gmial.com')\n",
            "(31, 'sakshi', 'aiml', '12345678', 'sakshi@gamil.com')\n",
            "(23, 'Sopan', 'AIML', '7249594818', 'sopan@gmail.com')\n",
            "(4, 'rushi', 'aiml', '9421254839', 'rushi@gmial.com')\n",
            "(31, 'sakshi', 'aiml', '12345678', 'sakshi@gamil.com')\n"
          ]
        }
      ]
    },
    {
      "cell_type": "markdown",
      "source": [
        "#UPDATE & Parametrized Query"
      ],
      "metadata": {
        "id": "eSMeniFMe1pn"
      }
    },
    {
      "cell_type": "code",
      "source": [
        "#import sqlite module established connection and create connection object\n",
        "import sqlite3\n",
        "connection = sqlite3.connect('/content/my_db.db')\n",
        "cursor = connection.cursor()\n",
        "\n",
        "#take user input\n",
        "id = input('Enter Employee ID: ')\n",
        "\n",
        "sql = 'UPDATE employees SET department=\"IT\" WHERE id=?'\n",
        "cursor.execute(sql, (id,))\n",
        "\n",
        "connection.commit()\n",
        "connection.close()"
      ],
      "metadata": {
        "colab": {
          "base_uri": "https://localhost:8080/"
        },
        "id": "R88xGCq1egha",
        "outputId": "a7b29add-40a5-45dc-e805-c7c803d53397"
      },
      "execution_count": null,
      "outputs": [
        {
          "name": "stdout",
          "output_type": "stream",
          "text": [
            "Enter Employee ID: 31\n"
          ]
        }
      ]
    },
    {
      "cell_type": "code",
      "source": [
        "#after updating\n",
        "import sqlite3\n",
        "connection = sqlite3.connect('/content/my_db.db')\n",
        "\n",
        "cursor = connection.cursor()\n",
        "sql = 'SELECT * FROM employees'\n",
        "\n",
        "cursor.execute(sql)\n",
        "for row in cursor:\n",
        "  print(row)\n",
        "connection.close()"
      ],
      "metadata": {
        "colab": {
          "base_uri": "https://localhost:8080/"
        },
        "id": "-lJkTVpHl3BI",
        "outputId": "48059dd6-da06-4cdd-fa71-1b645695985c"
      },
      "execution_count": null,
      "outputs": [
        {
          "output_type": "stream",
          "name": "stdout",
          "text": [
            "(23, 'Sopan', 'AIML', '7249594818', 'sopan@gmail.com')\n",
            "(4, 'rushi', 'aiml', '9421254839', 'rushi@gmial.com')\n",
            "(31, 'sakshi', 'IT', '12345678', 'sakshi@gamil.com')\n",
            "(23, 'Sopan', 'AIML', '7249594818', 'sopan@gmail.com')\n",
            "(4, 'rushi', 'aiml', '9421254839', 'rushi@gmial.com')\n",
            "(31, 'sakshi', 'IT', '12345678', 'sakshi@gamil.com')\n",
            "(23, 'Sopan', 'AIML', '7249594818', 'sopan@gmail.com')\n",
            "(4, 'rushi', 'aiml', '9421254839', 'rushi@gmial.com')\n",
            "(31, 'sakshi', 'IT', '12345678', 'sakshi@gamil.com')\n"
          ]
        }
      ]
    },
    {
      "cell_type": "code",
      "source": [
        "#################################\n",
        "## Working with Sqlite Databases in Python\n",
        "## Updating records in a table\n",
        "#################################\n",
        " \n",
        "## Importing the module\n",
        "import sqlite3\n",
        " \n",
        "## Opening the connection to the database (if it exists) or create the db if it doesn't exist\n",
        "connection = sqlite3.connect('my_database.db')\n",
        " \n",
        "## Creating a cursor object\n",
        "cursor = connection.cursor()\n",
        " \n",
        "## User enters an ID:\n",
        "id = input('Id:')\n",
        " \n",
        "## Updating the record with the ID entered by the user. This is parameterized query.\n",
        "sql = 'UPDATE employees SET department=\"Sales\" where id=?;'\n",
        "cursor.execute(sql, (id,))\n",
        " \n",
        " \n",
        "## Committing the changes\n",
        "connection.commit()\n",
        " \n",
        "## Closing the connection to the database\n",
        "connection.close()#################################\n",
        "## Working with Sqlite Databases in Python\n",
        "## Updating records in a table\n",
        "#################################\n",
        " \n",
        "## Importing the module\n",
        "import sqlite3\n",
        " \n",
        "## Opening the connection to the database (if it exists) or create the db if it doesn't exist\n",
        "connection = sqlite3.connect('my_database.db')\n",
        " \n",
        "## Creating a cursor object\n",
        "cursor = connection.cursor()\n",
        " \n",
        "## User enters an ID:\n",
        "id = input('Id:')\n",
        " \n",
        "## Updating the record with the ID entered by the user. This is parameterized query.\n",
        "sql = 'UPDATE employees SET department=\"Sales\" where id=?;'\n",
        "cursor.execute(sql, (id,))\n",
        " \n",
        " \n",
        "## Committing the changes\n",
        "connection.commit()\n",
        " \n",
        "## Closing the connection to the database\n",
        "connection.close()"
      ],
      "metadata": {
        "id": "oBJjXUt0mDK_"
      },
      "execution_count": null,
      "outputs": []
    },
    {
      "cell_type": "markdown",
      "source": [
        "#DELETE with Python"
      ],
      "metadata": {
        "id": "8zPr5tlpm8cz"
      }
    },
    {
      "cell_type": "code",
      "source": [
        "#Before deleting\n",
        "import sqlite3\n",
        "connection = sqlite3.connect('/content/my_db.db')\n",
        "\n",
        "cursor = connection.cursor()\n",
        "sql = 'SELECT * FROM employees'\n",
        "\n",
        "cursor.execute(sql)\n",
        "for row in cursor:\n",
        "  print(row)\n",
        "connection.close()"
      ],
      "metadata": {
        "colab": {
          "base_uri": "https://localhost:8080/"
        },
        "id": "qUOy4wo9nTjU",
        "outputId": "d788c8c9-c50e-4f94-d8bd-d5819a45600e"
      },
      "execution_count": null,
      "outputs": [
        {
          "output_type": "stream",
          "name": "stdout",
          "text": [
            "(23, 'Sopan', 'AIML', '7249594818', 'sopan@gmail.com')\n",
            "(4, 'rushi', 'aiml', '9421254839', 'rushi@gmial.com')\n",
            "(31, 'sakshi', 'IT', '12345678', 'sakshi@gamil.com')\n",
            "(23, 'Sopan', 'AIML', '7249594818', 'sopan@gmail.com')\n",
            "(4, 'rushi', 'aiml', '9421254839', 'rushi@gmial.com')\n",
            "(31, 'sakshi', 'IT', '12345678', 'sakshi@gamil.com')\n",
            "(23, 'Sopan', 'AIML', '7249594818', 'sopan@gmail.com')\n",
            "(4, 'rushi', 'aiml', '9421254839', 'rushi@gmial.com')\n",
            "(31, 'sakshi', 'IT', '12345678', 'sakshi@gamil.com')\n"
          ]
        }
      ]
    },
    {
      "cell_type": "code",
      "source": [
        "#import sql module & establish connection and create connection object\n",
        "import sqlite3\n",
        "connection = sqlite3.connect('/content/my_db.db')\n",
        "cursor = connection.cursor()\n",
        "\n",
        "#create sql statments for delete and execute them\n",
        "#be careful when you we execute delete query, condition must be valid else delete all row data\n",
        "sql = 'DELETE FROM employees WHERE id=31'\n",
        "cursor.execute(sql)\n",
        "\n",
        "#commit & close the connection\n",
        "connection.commit()\n",
        "connection.close()"
      ],
      "metadata": {
        "id": "pjhvE3ymmVj8"
      },
      "execution_count": null,
      "outputs": []
    },
    {
      "cell_type": "code",
      "source": [
        "#After deleting\n",
        "import sqlite3\n",
        "connection = sqlite3.connect('/content/my_db.db')\n",
        "\n",
        "cursor = connection.cursor()\n",
        "sql = 'SELECT * FROM employees'\n",
        "\n",
        "cursor.execute(sql)\n",
        "for row in cursor:\n",
        "  print(row)\n",
        "connection.close()"
      ],
      "metadata": {
        "colab": {
          "base_uri": "https://localhost:8080/"
        },
        "id": "ZuwFtEh8nXCk",
        "outputId": "a6674c07-704b-43a7-c8b7-f8bbfa8d4fde"
      },
      "execution_count": null,
      "outputs": [
        {
          "output_type": "stream",
          "name": "stdout",
          "text": [
            "(23, 'Sopan', 'AIML', '7249594818', 'sopan@gmail.com')\n",
            "(4, 'rushi', 'aiml', '9421254839', 'rushi@gmial.com')\n",
            "(23, 'Sopan', 'AIML', '7249594818', 'sopan@gmail.com')\n",
            "(4, 'rushi', 'aiml', '9421254839', 'rushi@gmial.com')\n",
            "(23, 'Sopan', 'AIML', '7249594818', 'sopan@gmail.com')\n",
            "(4, 'rushi', 'aiml', '9421254839', 'rushi@gmial.com')\n"
          ]
        }
      ]
    },
    {
      "cell_type": "markdown",
      "source": [
        "#DELETE & Parameterized with python"
      ],
      "metadata": {
        "id": "dRlp6wXGn3FT"
      }
    },
    {
      "cell_type": "code",
      "source": [
        "#import sqlite3 module and establish connection & create connection object\n",
        "import sqlite3\n",
        "connection = sqlite3.connect('/content/my_db.db')\n",
        "cursor = connection.cursor()\n",
        "\n",
        "department = input('Enter Department: ')\n",
        "\n",
        "sql = 'DELETE FROM employees WHERE department=?'\n",
        "cursor.execute(sql, (department,))\n",
        "\n",
        "connection.commit()\n",
        "connection.close()"
      ],
      "metadata": {
        "colab": {
          "base_uri": "https://localhost:8080/"
        },
        "id": "wIdXqpJcndPF",
        "outputId": "bb47adaf-c1d4-48a5-a803-820ed33d9e78"
      },
      "execution_count": null,
      "outputs": [
        {
          "name": "stdout",
          "output_type": "stream",
          "text": [
            "Enter Department: aiml\n"
          ]
        }
      ]
    },
    {
      "cell_type": "code",
      "source": [
        "#After deleting\n",
        "import sqlite3\n",
        "connection = sqlite3.connect('/content/my_db.db')\n",
        "\n",
        "cursor = connection.cursor()\n",
        "sql = 'SELECT * FROM employees'\n",
        "\n",
        "cursor.execute(sql)\n",
        "for row in cursor:\n",
        "  print(row)\n",
        "connection.close()"
      ],
      "metadata": {
        "colab": {
          "base_uri": "https://localhost:8080/"
        },
        "id": "dhgfa6b7pizM",
        "outputId": "a3188dcd-51c0-4a4f-9237-7106d45a8221"
      },
      "execution_count": null,
      "outputs": [
        {
          "output_type": "stream",
          "name": "stdout",
          "text": [
            "(23, 'Sopan', 'AIML', '7249594818', 'sopan@gmail.com')\n",
            "(23, 'Sopan', 'AIML', '7249594818', 'sopan@gmail.com')\n",
            "(23, 'Sopan', 'AIML', '7249594818', 'sopan@gmail.com')\n"
          ]
        }
      ]
    },
    {
      "cell_type": "code",
      "source": [
        "#################################\n",
        "## Working with Sqlite Databases in Python\n",
        "## Deleting records\n",
        "#################################\n",
        " \n",
        "## Importing the module\n",
        "import sqlite3\n",
        " \n",
        "## Opening the connection to the database (if it exists) or create the db if it doesn't exist\n",
        "connection = sqlite3.connect('my_database.db')\n",
        " \n",
        "## Creating a cursor object\n",
        "cursor = connection.cursor()\n",
        " \n",
        "## User enters a department:\n",
        "department = input('Department:')\n",
        " \n",
        "## Deleting all records with the department entered by the user. This is parameterized query.\n",
        "sql = 'DELETE FROM employees where department = ?;'\n",
        "cursor.execute(sql,  (department,))\n",
        " \n",
        "## Committing the changes\n",
        "connection.commit()\n",
        " \n",
        "## Closing the connection to the database\n",
        "connection.close()"
      ],
      "metadata": {
        "id": "Ir-6bOUmpuCx"
      },
      "execution_count": null,
      "outputs": []
    },
    {
      "cell_type": "markdown",
      "source": [
        "#Pandas"
      ],
      "metadata": {
        "id": "7Nyf67p5m-yy"
      }
    },
    {
      "cell_type": "code",
      "source": [
        "#################################\n",
        "## Pandas Series\n",
        "## A series is a one dimensional labeled array and stores data. It has one dimension, so it stores one column of information.\n",
        "## We can think of a series as of a basic pandas data type.\n",
        "#################################\n",
        " \n",
        "## Installing pandas\n",
        "# pip install pandas  # => Windows/Mac\n",
        "# pip3 install pandas # => Linux\n",
        " \n",
        "## Importing pandas as pd\n",
        "import pandas as pd\n",
        " \n",
        "## Creating a Series\n",
        "numbers = list(range(2, 11, 2))\n",
        "s1 = pd.Series(numbers)\n",
        "print(s1)\n",
        "# 0     2\n",
        "# 1     4\n",
        "# 2     6\n",
        "# 3     8\n",
        "# 4    10\n",
        "# dtype: int64\n",
        " \n",
        "##dtype indicates the type of data that makes up the values of this series.\n",
        " \n",
        "##  Indexes don't have to be numeric.\n",
        "## They can be any data type and by default they are numeric values starting from zero.\n",
        "labels = list('abcde')\n",
        "print(labels)      # => ['a', 'b', 'c', 'd', 'e']\n",
        " \n",
        "s2 = pd.Series(data=numbers, index=labels)\n",
        "print(s2)\n",
        " \n",
        "# a     2\n",
        "# b     4\n",
        "# c     6\n",
        "# d     8\n",
        "# e    10\n",
        "# dtype: int64\n",
        " \n",
        "## We can't create a Series from a set because set is unordered.\n",
        "# pd.Series({1,2,3})    # => TypeError: 'set' type is unordered\n",
        " \n",
        "## Creating a Series from a dictionary\n",
        "my_dict = dict(zip(['a', 'b', 'c'], [1, 2, 3]))\n",
        "my_dict = dict(zip(['a', 'b', 'c'], [1, 2, 3]))\n",
        "print(my_dict)      # => {'a': 1, 'b': 2, 'c': 3}\n",
        " \n",
        " \n",
        "s3 = pd.Series(my_dict)\n",
        "print(s3)\n",
        "# a    1\n",
        "# b    2\n",
        "# c    3\n",
        "# dtype: int64\n",
        " \n",
        "## Getting a value using the label\n",
        "print(s3['a'])      # => 1"
      ],
      "metadata": {
        "id": "N_dD_fyyqC7Q",
        "colab": {
          "base_uri": "https://localhost:8080/"
        },
        "outputId": "d90cbfec-80e1-4658-8edb-f9b7d0da191a"
      },
      "execution_count": null,
      "outputs": [
        {
          "output_type": "stream",
          "name": "stdout",
          "text": [
            "0     2\n",
            "1     4\n",
            "2     6\n",
            "3     8\n",
            "4    10\n",
            "dtype: int64\n",
            "['a', 'b', 'c', 'd', 'e']\n",
            "a     2\n",
            "b     4\n",
            "c     6\n",
            "d     8\n",
            "e    10\n",
            "dtype: int64\n",
            "{'a': 1, 'b': 2, 'c': 3}\n",
            "a    1\n",
            "b    2\n",
            "c    3\n",
            "dtype: int64\n",
            "1\n"
          ]
        }
      ]
    },
    {
      "cell_type": "code",
      "source": [
        "#################################\n",
        "## Pandas DataFrames I\n",
        "## A Data Frame is a two - dimensional size, mutable and potentially heterogeneous tabular data structure\n",
        "## with labeled axes (rows and columns).This can be thought of as a dictionary-like container for Series objects.\n",
        "## A data frame is the primary Pandas data structure.\n",
        "#################################\n",
        " \n",
        "import pandas as pd\n",
        "data = [['Dan', 30, 40000], ['John', 40, 50000],\n",
        "        ['Helen', 35, 60000], ['Marry', 29, 58000]]\n",
        " \n",
        " \n",
        "## Creting a Pandas DataFrame\n",
        "## No. of columns must match the no. of columns or it returns error\n",
        "df = pd.DataFrame(data, columns=['Name', 'Age', 'Salary'])\n",
        "print(df)\n",
        "#  Name   Age    Salary\n",
        "# 0    Dan    30 40000\n",
        "# 1    John   40 50000\n",
        "# 2    Helen  35 60000\n",
        "# 3    Marry  29 58000\n",
        " \n",
        "type(df), type(df['Name'])  # => (pandas.core.frame.DataFrame, pandas.core.series.Series)\n",
        " \n",
        "## Returning the no. of rows and columns in the dataframe\n",
        "print(df.shape)   # => (4, 3)\n",
        " \n",
        "## Returning a column\n",
        "## We access a values in a column like a value of dictionary key\n",
        "df['Name']\n",
        "df.Name  ## Alternative syntax\n",
        "# 0      Dan\n",
        "# 1     John\n",
        "# 2    Helen\n",
        "# 3    Marry\n",
        "# Name: Name, dtype: object\n",
        " \n",
        "## Returning more columns\n",
        "df[['Name', 'Salary']]\n",
        "# Name Salary\n",
        "# 0    Dan    40000\n",
        "# 1    John   50000\n",
        "# 2    Helen  60000\n",
        "# 3    Marry  58000\n",
        " \n",
        "## Adding a new column\n",
        "df['Phone'] = ['11111', '22222', '33333', '44444']\n",
        " \n",
        "## Dropping Rows and Columns\n",
        "# Dropping row at index 2. The second argument is axis. 0 means rows and 1 means columns\n",
        "df.drop(2, 0)\n",
        " \n",
        "## Dropping column 'Age'\n",
        "## It doesn't modify the data frame, just returns a new modified data frame\n",
        "df.drop('Age', axis=1)\n",
        " \n",
        "## Dropping column 'Age' in-place (modifies the dataframe)\n",
        "df.drop('Age', axis=1, inplace=True)\n",
        " \n",
        " \n",
        "## Renaming Columns\n",
        "df.rename(columns={'Name': 'First Name', 'Salary': 'Annual Salary'}, inplace=True)\n",
        " \n",
        "### Selecting Rows\n",
        "data = [['Dan', 30, 40000], ['John', 40, 50000],\n",
        "        ['Helen', 35, 60000], ['Marry', 29, 58000]]\n",
        "df = pd.DataFrame(data, columns=['Name', 'Age', 'Salary'])\n",
        "#  Name   Age    Salary\n",
        "# 0    Dan    30 40000\n",
        "# 1    John   40 50000\n",
        "# 2    Helen  35 60000\n",
        "# 3    Marry  29 58000\n",
        " \n",
        "#Returning the entry at index 0\n",
        "df.loc[0]\n",
        "# Name        Dan\n",
        "# Age          30\n",
        "# Salary    40000\n",
        "# Name: 0, dtype: object\n",
        " \n",
        "## The first argument is the label or the index of the row and the second is the column name\n",
        "df.loc[1, 'Name']  # => 'John'\n",
        "type(df.loc[0])  # => pandas.core.series.Series\n",
        " \n",
        " \n",
        "## Reading and Returning rows between index 0 and 2 included\n",
        "df.loc[0:2]\n",
        " \n",
        "# Returning entries at index 0, 1, 2, 3 and only some columns. Take care at the syntax!!!\n",
        "df.loc[[0,1,3], ['Name', 'Annual Salary']]\n",
        "df.loc[0:2, ['Name', 'Mobile Phone']]\n",
        " \n",
        "## Returning all rows but only some columns\n",
        "df.loc[:, ['Name', 'Annual Salary']]\n",
        " \n",
        "## Returns the row at position 0 (even if the data frame is indexed by strings ar something else, not numbers)\n",
        "## Indexes start from zero\n",
        "df.iloc[0]\n",
        "# Name        Dan\n",
        "# Age          30\n",
        "# Salary    40000\n",
        "# Name: 0, dtype: object\n",
        " \n",
        " \n",
        "df.iloc[0, 1]  # returns the value at index 0 (row 0) and column at index 1 which is the age\n",
        " \n",
        "df.iloc[0:3]   # from zero to three excluded, all columns\n",
        " \n",
        "df.iloc[3,0:2] # row at index 3, columns 0-2\n",
        " \n",
        "df.iloc[[1,3],0:2]  # rows 1-3 excluded, column 0-2 excluded\n",
        " \n",
        "## Returning a random row\n",
        "df.sample()\n",
        " \n",
        "## Returning 2 random rows\n",
        "df.sample(n=2)\n",
        " \n",
        "# Returning a random 20% fraction\n",
        "df.sample(frac=0.2)\n",
        " \n",
        " \n",
        "## Creating a Python Dictionary from 2 DataFrame columns\n",
        "dict(zip(df['Name'], df['Age']))"
      ],
      "metadata": {
        "id": "9WIGpb-wpBAy"
      },
      "execution_count": null,
      "outputs": []
    },
    {
      "cell_type": "code",
      "source": [
        "#################################\n",
        "## Pandas DataFrames\n",
        "## Filtering Datasets\n",
        "#################################\n",
        " \n",
        "## Importing pandas and create a data frame\n",
        "import pandas as pd\n",
        "data = [['Dan', 30, 40000], ['John', 40, 50000], ['Helen', 35, 60000], ['Marry', 29, 58000]]\n",
        " \n",
        "#no. of columns must match the no of columns or error\n",
        "df = pd.DataFrame(data, columns=['Name', 'Age', 'Salary'])\n",
        " \n",
        "## Returning a Series of Booleans, True for each row where salary is less than 50000\n",
        "df['Salary'] < 50000 # we see how the last 2 rows met our condition\n",
        " \n",
        "# 0    False\n",
        "# 1    False\n",
        "# 2     True\n",
        "# 3     True\n",
        "# Name: Salary, dtype: bool\n",
        " \n",
        "## Selecting and returning all rows where salary is less than 50000. This is a condition based on a column.\n",
        "df[df['Salary']< 50000 ]\n",
        " \n",
        "## Using the loc[] method with the same result\n",
        "df[ df.loc[:, 'Salary']< 50000 ]\n",
        "#  Name   Age    Salary\n",
        "# 0    Dan    30 40000\n",
        " \n",
        "## maximum and minimum of all values in a column.\n",
        "df['Salary'].max()  # => 60000\n",
        "df['Age'].min()     # => 29\n",
        " \n",
        "## idxmax() returns the index of the row where the Salary column has the maximum value.\n",
        "r = df['Salary'].idxmax()\n",
        "print(r)        # => 2\n",
        " \n",
        "df.iloc[r]\n",
        "# Name      Helen\n",
        "# Age          35\n",
        "# Salary    60000\n",
        "# Name: 2, dtype: object\n",
        " \n",
        " \n",
        "## Changing the default index and use another column as index\n",
        "df.set_index('Salary', inplace=True)\n",
        "print(df)\n",
        "# Name Age\n",
        "# Salary\n",
        "# 40000    Dan    30\n",
        "# 50000    John   40\n",
        "# 60000    Helen  35\n",
        "# 58000    Marry  29\n",
        " \n",
        "## The index column doesn't count when getting a column using its index\n",
        "df.iloc[0, 0]       # => 'Dan'\n",
        " \n",
        "## If you want to get and return a value using df.loc[] by key, you use the new key which is Salary\n",
        "df.loc[40000, 'Age']    # => 30\n",
        " \n",
        " \n",
        "## Resetting the index to its initial value\n",
        "df.reset_index(inplace=True)\n",
        " \n",
        "## Checking on multiple conditions. AND Aperator\n",
        "df[(df['Salary'] > 50000) & (df['Age'] > 30)]\n",
        "#  Salary Name   Age\n",
        "# 2    60000  Helen  35\n",
        " \n",
        "## Using the OR Operator\n",
        "df[(df['Salary'] > 50000) | (df['Age'] < 30)]\n",
        "# Salary   Name   Age\n",
        "# 2    60000  Helen  35\n",
        "# 3    58000  Marry  29\n",
        " \n",
        " \n",
        "## Returning values that fall within a specific range.\n",
        "df[df['Salary'].between(45000, 59000)] #the arguments are inclusive\n",
        "#  Salary Name   Age\n",
        "# 1    50000  John   40\n",
        "# 3    58000  Marry  29"
      ],
      "metadata": {
        "id": "cxCRWPYFpah0",
        "colab": {
          "base_uri": "https://localhost:8080/",
          "height": 234
        },
        "outputId": "a595821a-de8e-4351-9498-db34f2ed7c07"
      },
      "execution_count": 1,
      "outputs": [
        {
          "output_type": "stream",
          "name": "stdout",
          "text": [
            "2\n",
            "         Name  Age\n",
            "Salary            \n",
            "40000     Dan   30\n",
            "50000    John   40\n",
            "60000   Helen   35\n",
            "58000   Marry   29\n"
          ]
        },
        {
          "output_type": "execute_result",
          "data": {
            "text/plain": [
              "   Salary   Name  Age\n",
              "1   50000   John   40\n",
              "3   58000  Marry   29"
            ],
            "text/html": [
              "\n",
              "  <div id=\"df-c6ceaef5-8990-4b75-831d-3e1bce48a6f9\">\n",
              "    <div class=\"colab-df-container\">\n",
              "      <div>\n",
              "<style scoped>\n",
              "    .dataframe tbody tr th:only-of-type {\n",
              "        vertical-align: middle;\n",
              "    }\n",
              "\n",
              "    .dataframe tbody tr th {\n",
              "        vertical-align: top;\n",
              "    }\n",
              "\n",
              "    .dataframe thead th {\n",
              "        text-align: right;\n",
              "    }\n",
              "</style>\n",
              "<table border=\"1\" class=\"dataframe\">\n",
              "  <thead>\n",
              "    <tr style=\"text-align: right;\">\n",
              "      <th></th>\n",
              "      <th>Salary</th>\n",
              "      <th>Name</th>\n",
              "      <th>Age</th>\n",
              "    </tr>\n",
              "  </thead>\n",
              "  <tbody>\n",
              "    <tr>\n",
              "      <th>1</th>\n",
              "      <td>50000</td>\n",
              "      <td>John</td>\n",
              "      <td>40</td>\n",
              "    </tr>\n",
              "    <tr>\n",
              "      <th>3</th>\n",
              "      <td>58000</td>\n",
              "      <td>Marry</td>\n",
              "      <td>29</td>\n",
              "    </tr>\n",
              "  </tbody>\n",
              "</table>\n",
              "</div>\n",
              "      <button class=\"colab-df-convert\" onclick=\"convertToInteractive('df-c6ceaef5-8990-4b75-831d-3e1bce48a6f9')\"\n",
              "              title=\"Convert this dataframe to an interactive table.\"\n",
              "              style=\"display:none;\">\n",
              "        \n",
              "  <svg xmlns=\"http://www.w3.org/2000/svg\" height=\"24px\"viewBox=\"0 0 24 24\"\n",
              "       width=\"24px\">\n",
              "    <path d=\"M0 0h24v24H0V0z\" fill=\"none\"/>\n",
              "    <path d=\"M18.56 5.44l.94 2.06.94-2.06 2.06-.94-2.06-.94-.94-2.06-.94 2.06-2.06.94zm-11 1L8.5 8.5l.94-2.06 2.06-.94-2.06-.94L8.5 2.5l-.94 2.06-2.06.94zm10 10l.94 2.06.94-2.06 2.06-.94-2.06-.94-.94-2.06-.94 2.06-2.06.94z\"/><path d=\"M17.41 7.96l-1.37-1.37c-.4-.4-.92-.59-1.43-.59-.52 0-1.04.2-1.43.59L10.3 9.45l-7.72 7.72c-.78.78-.78 2.05 0 2.83L4 21.41c.39.39.9.59 1.41.59.51 0 1.02-.2 1.41-.59l7.78-7.78 2.81-2.81c.8-.78.8-2.07 0-2.86zM5.41 20L4 18.59l7.72-7.72 1.47 1.35L5.41 20z\"/>\n",
              "  </svg>\n",
              "      </button>\n",
              "      \n",
              "  <style>\n",
              "    .colab-df-container {\n",
              "      display:flex;\n",
              "      flex-wrap:wrap;\n",
              "      gap: 12px;\n",
              "    }\n",
              "\n",
              "    .colab-df-convert {\n",
              "      background-color: #E8F0FE;\n",
              "      border: none;\n",
              "      border-radius: 50%;\n",
              "      cursor: pointer;\n",
              "      display: none;\n",
              "      fill: #1967D2;\n",
              "      height: 32px;\n",
              "      padding: 0 0 0 0;\n",
              "      width: 32px;\n",
              "    }\n",
              "\n",
              "    .colab-df-convert:hover {\n",
              "      background-color: #E2EBFA;\n",
              "      box-shadow: 0px 1px 2px rgba(60, 64, 67, 0.3), 0px 1px 3px 1px rgba(60, 64, 67, 0.15);\n",
              "      fill: #174EA6;\n",
              "    }\n",
              "\n",
              "    [theme=dark] .colab-df-convert {\n",
              "      background-color: #3B4455;\n",
              "      fill: #D2E3FC;\n",
              "    }\n",
              "\n",
              "    [theme=dark] .colab-df-convert:hover {\n",
              "      background-color: #434B5C;\n",
              "      box-shadow: 0px 1px 3px 1px rgba(0, 0, 0, 0.15);\n",
              "      filter: drop-shadow(0px 1px 2px rgba(0, 0, 0, 0.3));\n",
              "      fill: #FFFFFF;\n",
              "    }\n",
              "  </style>\n",
              "\n",
              "      <script>\n",
              "        const buttonEl =\n",
              "          document.querySelector('#df-c6ceaef5-8990-4b75-831d-3e1bce48a6f9 button.colab-df-convert');\n",
              "        buttonEl.style.display =\n",
              "          google.colab.kernel.accessAllowed ? 'block' : 'none';\n",
              "\n",
              "        async function convertToInteractive(key) {\n",
              "          const element = document.querySelector('#df-c6ceaef5-8990-4b75-831d-3e1bce48a6f9');\n",
              "          const dataTable =\n",
              "            await google.colab.kernel.invokeFunction('convertToInteractive',\n",
              "                                                     [key], {});\n",
              "          if (!dataTable) return;\n",
              "\n",
              "          const docLinkHtml = 'Like what you see? Visit the ' +\n",
              "            '<a target=\"_blank\" href=https://colab.research.google.com/notebooks/data_table.ipynb>data table notebook</a>'\n",
              "            + ' to learn more about interactive tables.';\n",
              "          element.innerHTML = '';\n",
              "          dataTable['output_type'] = 'display_data';\n",
              "          await google.colab.output.renderOutput(dataTable, element);\n",
              "          const docLink = document.createElement('div');\n",
              "          docLink.innerHTML = docLinkHtml;\n",
              "          element.appendChild(docLink);\n",
              "        }\n",
              "      </script>\n",
              "    </div>\n",
              "  </div>\n",
              "  "
            ]
          },
          "metadata": {},
          "execution_count": 1
        }
      ]
    },
    {
      "cell_type": "code",
      "source": [
        "#################################\n",
        "## Pandas - Reading CSV Files\n",
        "#################################\n",
        " \n",
        " \n",
        "import pandas as pd\n",
        "df = pd.read_csv('countries_of_the_world.csv', delimiter=',') # The countries_of_the_world.csv is attached to this lecture\n",
        " \n",
        " \n",
        "## A concise summary of this data frame\n",
        "df.info()\n",
        " \n",
        "## Setting display options\n",
        "pd.set_option('display.max_rows', 100)\n",
        "pd.set_option('display.max_columns', 50)\n",
        "pd.set_option('display.width', 1000)\n",
        " \n",
        " \n",
        "df.head()   # => first 5 rows\n",
        "df.head(10) # => first 10 rows\n",
        " \n",
        "## Some filtering\n",
        "df[df['Population'] > 100_000_000][['Country', 'Population', 'Area (sq. mi.)']]\n",
        " \n",
        "## Sorting data\n",
        "df[df['Population'] > 100_000_000][['Country', 'Population', 'Area (sq. mi.)']].sort_values('Population',\n",
        "                                                                                            ascending=False )\n",
        " \n",
        " \n",
        "x = df['GDP ($ per capita)'].idxmax()\n",
        "df.iloc[x]\n",
        " \n",
        " \n",
        "## Select all countries in either Estearn Europe or Western Europe and sorting by population in descending order.\n",
        "region = df['Region'].str.strip().isin(['EASTERN EUROPE', 'WESTERN EUROPE']) #this is a boolean series\n",
        "df[region].sort_values('Population', ascending=False)\n",
        " \n",
        "## The n largest countries by Population\n",
        "df.nlargest(3, 'Population')\n",
        " \n",
        "df.nlargest(5, 'GDP ($ per capita)')\n",
        " \n",
        "df.nlargest(n=2, columns='Birthrate')\n",
        " \n",
        "## The n smallest countries by Area\n",
        "df.nsmallest(5, 'Area (sq. mi.)')"
      ],
      "metadata": {
        "id": "JCG_54MWHr3S"
      },
      "execution_count": null,
      "outputs": []
    }
  ]
}